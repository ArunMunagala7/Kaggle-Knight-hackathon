{
 "cells": [
  {
   "cell_type": "code",
   "execution_count": 1,
   "id": "4e95ad37",
   "metadata": {
    "_cell_guid": "b1076dfc-b9ad-4769-8c92-a6c4dae69d19",
    "_uuid": "8f2839f25d086af736a60e9eeb907d3b93b6e0e5",
    "execution": {
     "iopub.execute_input": "2023-01-06T08:40:11.797713Z",
     "iopub.status.busy": "2023-01-06T08:40:11.797213Z",
     "iopub.status.idle": "2023-01-06T08:40:11.810280Z",
     "shell.execute_reply": "2023-01-06T08:40:11.809492Z"
    },
    "papermill": {
     "duration": 0.024709,
     "end_time": "2023-01-06T08:40:11.812207",
     "exception": false,
     "start_time": "2023-01-06T08:40:11.787498",
     "status": "completed"
    },
    "tags": []
   },
   "outputs": [
    {
     "name": "stdout",
     "output_type": "stream",
     "text": [
      "/kaggle/input/prometeo23-pre-event-ml/sample_submission.csv\n",
      "/kaggle/input/prometeo23-pre-event-ml/train.csv\n",
      "/kaggle/input/prometeo23-pre-event-ml/test.csv\n"
     ]
    }
   ],
   "source": [
    "# This Python 3 environment comes with many helpful analytics libraries installed\n",
    "# It is defined by the kaggle/python Docker image: https://github.com/kaggle/docker-python\n",
    "# For example, here's several helpful packages to load\n",
    "\n",
    "import numpy as np # linear algebra\n",
    "import pandas as pd # data processing, CSV file I/O (e.g. pd.read_csv)\n",
    "\n",
    "# Input data files are available in the read-only \"../input/\" directory\n",
    "# For example, running this (by clicking run or pressing Shift+Enter) will list all files under the input directory\n",
    "\n",
    "import os\n",
    "for dirname, _, filenames in os.walk('/kaggle/input'):\n",
    "    for filename in filenames:\n",
    "        print(os.path.join(dirname, filename))\n",
    "\n",
    "# You can write up to 20GB to the current directory (/kaggle/working/) that gets preserved as output when you create a version using \"Save & Run All\" \n",
    "# You can also write temporary files to /kaggle/temp/, but they won't be saved outside of the current session"
   ]
  },
  {
   "cell_type": "code",
   "execution_count": 2,
   "id": "fe238081",
   "metadata": {
    "execution": {
     "iopub.execute_input": "2023-01-06T08:40:11.827343Z",
     "iopub.status.busy": "2023-01-06T08:40:11.827008Z",
     "iopub.status.idle": "2023-01-06T08:40:23.502840Z",
     "shell.execute_reply": "2023-01-06T08:40:23.501697Z"
    },
    "papermill": {
     "duration": 11.685688,
     "end_time": "2023-01-06T08:40:23.504867",
     "exception": false,
     "start_time": "2023-01-06T08:40:11.819179",
     "status": "completed"
    },
    "tags": []
   },
   "outputs": [
    {
     "data": {
      "text/html": [
       "<div>\n",
       "<style scoped>\n",
       "    .dataframe tbody tr th:only-of-type {\n",
       "        vertical-align: middle;\n",
       "    }\n",
       "\n",
       "    .dataframe tbody tr th {\n",
       "        vertical-align: top;\n",
       "    }\n",
       "\n",
       "    .dataframe thead th {\n",
       "        text-align: right;\n",
       "    }\n",
       "</style>\n",
       "<table border=\"1\" class=\"dataframe\">\n",
       "  <thead>\n",
       "    <tr style=\"text-align: right;\">\n",
       "      <th></th>\n",
       "      <th>f_0</th>\n",
       "      <th>f_1</th>\n",
       "      <th>f_2</th>\n",
       "      <th>f_3</th>\n",
       "      <th>f_4</th>\n",
       "      <th>f_5</th>\n",
       "      <th>f_6</th>\n",
       "      <th>f_7</th>\n",
       "      <th>f_8</th>\n",
       "      <th>f_9</th>\n",
       "      <th>...</th>\n",
       "      <th>f_759</th>\n",
       "      <th>f_760</th>\n",
       "      <th>f_761</th>\n",
       "      <th>f_762</th>\n",
       "      <th>f_763</th>\n",
       "      <th>f_764</th>\n",
       "      <th>f_765</th>\n",
       "      <th>f_766</th>\n",
       "      <th>f_767</th>\n",
       "      <th>label</th>\n",
       "    </tr>\n",
       "  </thead>\n",
       "  <tbody>\n",
       "    <tr>\n",
       "      <th>0</th>\n",
       "      <td>55.391998</td>\n",
       "      <td>402.842010</td>\n",
       "      <td>1179.939941</td>\n",
       "      <td>137.306000</td>\n",
       "      <td>275.936005</td>\n",
       "      <td>-668.432983</td>\n",
       "      <td>738.448975</td>\n",
       "      <td>509.286987</td>\n",
       "      <td>413.082001</td>\n",
       "      <td>-1350.576050</td>\n",
       "      <td>...</td>\n",
       "      <td>-697.203979</td>\n",
       "      <td>-219.283005</td>\n",
       "      <td>225.966003</td>\n",
       "      <td>-43.695000</td>\n",
       "      <td>626.716980</td>\n",
       "      <td>-295.596985</td>\n",
       "      <td>-635.940979</td>\n",
       "      <td>31.915001</td>\n",
       "      <td>158.291000</td>\n",
       "      <td>4</td>\n",
       "    </tr>\n",
       "    <tr>\n",
       "      <th>1</th>\n",
       "      <td>498.306000</td>\n",
       "      <td>118.342003</td>\n",
       "      <td>1222.817993</td>\n",
       "      <td>646.617004</td>\n",
       "      <td>746.257019</td>\n",
       "      <td>-473.803986</td>\n",
       "      <td>-11.617000</td>\n",
       "      <td>-16.693001</td>\n",
       "      <td>269.397003</td>\n",
       "      <td>-613.716003</td>\n",
       "      <td>...</td>\n",
       "      <td>-288.542999</td>\n",
       "      <td>-441.739990</td>\n",
       "      <td>-406.356995</td>\n",
       "      <td>174.936996</td>\n",
       "      <td>532.174011</td>\n",
       "      <td>-443.278992</td>\n",
       "      <td>-68.603996</td>\n",
       "      <td>-493.657013</td>\n",
       "      <td>-368.730011</td>\n",
       "      <td>1</td>\n",
       "    </tr>\n",
       "    <tr>\n",
       "      <th>2</th>\n",
       "      <td>1465.275024</td>\n",
       "      <td>-2211.415039</td>\n",
       "      <td>2463.522949</td>\n",
       "      <td>945.344971</td>\n",
       "      <td>922.330994</td>\n",
       "      <td>338.187988</td>\n",
       "      <td>-1548.826050</td>\n",
       "      <td>-818.586975</td>\n",
       "      <td>-1007.841003</td>\n",
       "      <td>79.605003</td>\n",
       "      <td>...</td>\n",
       "      <td>-507.450012</td>\n",
       "      <td>1626.469971</td>\n",
       "      <td>-1210.922974</td>\n",
       "      <td>4531.459961</td>\n",
       "      <td>-2801.270020</td>\n",
       "      <td>2071.193115</td>\n",
       "      <td>-99.113998</td>\n",
       "      <td>-475.681000</td>\n",
       "      <td>2455.382080</td>\n",
       "      <td>3</td>\n",
       "    </tr>\n",
       "    <tr>\n",
       "      <th>3</th>\n",
       "      <td>-480.721008</td>\n",
       "      <td>-200.492996</td>\n",
       "      <td>994.544983</td>\n",
       "      <td>429.501007</td>\n",
       "      <td>603.341980</td>\n",
       "      <td>335.571991</td>\n",
       "      <td>-789.293030</td>\n",
       "      <td>315.600006</td>\n",
       "      <td>79.110001</td>\n",
       "      <td>-700.228027</td>\n",
       "      <td>...</td>\n",
       "      <td>190.117996</td>\n",
       "      <td>-141.376999</td>\n",
       "      <td>-158.606995</td>\n",
       "      <td>789.737000</td>\n",
       "      <td>-157.804993</td>\n",
       "      <td>-241.746994</td>\n",
       "      <td>-488.445007</td>\n",
       "      <td>209.561005</td>\n",
       "      <td>-415.536987</td>\n",
       "      <td>4</td>\n",
       "    </tr>\n",
       "    <tr>\n",
       "      <th>4</th>\n",
       "      <td>259.115997</td>\n",
       "      <td>-71.842003</td>\n",
       "      <td>489.447998</td>\n",
       "      <td>23.549999</td>\n",
       "      <td>543.088989</td>\n",
       "      <td>-119.539001</td>\n",
       "      <td>-93.567001</td>\n",
       "      <td>55.488998</td>\n",
       "      <td>-235.072998</td>\n",
       "      <td>-773.299011</td>\n",
       "      <td>...</td>\n",
       "      <td>225.546005</td>\n",
       "      <td>-258.687988</td>\n",
       "      <td>-591.017029</td>\n",
       "      <td>359.621002</td>\n",
       "      <td>316.252014</td>\n",
       "      <td>-309.529999</td>\n",
       "      <td>200.304993</td>\n",
       "      <td>-167.130005</td>\n",
       "      <td>44.182999</td>\n",
       "      <td>4</td>\n",
       "    </tr>\n",
       "  </tbody>\n",
       "</table>\n",
       "<p>5 rows × 769 columns</p>\n",
       "</div>"
      ],
      "text/plain": [
       "           f_0          f_1          f_2         f_3         f_4         f_5  \\\n",
       "0    55.391998   402.842010  1179.939941  137.306000  275.936005 -668.432983   \n",
       "1   498.306000   118.342003  1222.817993  646.617004  746.257019 -473.803986   \n",
       "2  1465.275024 -2211.415039  2463.522949  945.344971  922.330994  338.187988   \n",
       "3  -480.721008  -200.492996   994.544983  429.501007  603.341980  335.571991   \n",
       "4   259.115997   -71.842003   489.447998   23.549999  543.088989 -119.539001   \n",
       "\n",
       "           f_6         f_7          f_8          f_9  ...       f_759  \\\n",
       "0   738.448975  509.286987   413.082001 -1350.576050  ... -697.203979   \n",
       "1   -11.617000  -16.693001   269.397003  -613.716003  ... -288.542999   \n",
       "2 -1548.826050 -818.586975 -1007.841003    79.605003  ... -507.450012   \n",
       "3  -789.293030  315.600006    79.110001  -700.228027  ...  190.117996   \n",
       "4   -93.567001   55.488998  -235.072998  -773.299011  ...  225.546005   \n",
       "\n",
       "         f_760        f_761        f_762        f_763        f_764  \\\n",
       "0  -219.283005   225.966003   -43.695000   626.716980  -295.596985   \n",
       "1  -441.739990  -406.356995   174.936996   532.174011  -443.278992   \n",
       "2  1626.469971 -1210.922974  4531.459961 -2801.270020  2071.193115   \n",
       "3  -141.376999  -158.606995   789.737000  -157.804993  -241.746994   \n",
       "4  -258.687988  -591.017029   359.621002   316.252014  -309.529999   \n",
       "\n",
       "        f_765       f_766        f_767  label  \n",
       "0 -635.940979   31.915001   158.291000      4  \n",
       "1  -68.603996 -493.657013  -368.730011      1  \n",
       "2  -99.113998 -475.681000  2455.382080      3  \n",
       "3 -488.445007  209.561005  -415.536987      4  \n",
       "4  200.304993 -167.130005    44.182999      4  \n",
       "\n",
       "[5 rows x 769 columns]"
      ]
     },
     "execution_count": 2,
     "metadata": {},
     "output_type": "execute_result"
    }
   ],
   "source": [
    "train_loc='/kaggle/input/prometeo23-pre-event-ml/train.csv'\n",
    "train_data=pd.read_csv(train_loc)\n",
    "train_data.head()"
   ]
  },
  {
   "cell_type": "markdown",
   "id": "5850b643",
   "metadata": {
    "papermill": {
     "duration": 0.006639,
     "end_time": "2023-01-06T08:40:23.518726",
     "exception": false,
     "start_time": "2023-01-06T08:40:23.512087",
     "status": "completed"
    },
    "tags": []
   },
   "source": [
    "importing test data"
   ]
  },
  {
   "cell_type": "code",
   "execution_count": 3,
   "id": "e4fb473c",
   "metadata": {
    "execution": {
     "iopub.execute_input": "2023-01-06T08:40:23.533765Z",
     "iopub.status.busy": "2023-01-06T08:40:23.533427Z",
     "iopub.status.idle": "2023-01-06T08:40:26.146844Z",
     "shell.execute_reply": "2023-01-06T08:40:26.145899Z"
    },
    "papermill": {
     "duration": 2.623164,
     "end_time": "2023-01-06T08:40:26.148650",
     "exception": false,
     "start_time": "2023-01-06T08:40:23.525486",
     "status": "completed"
    },
    "tags": []
   },
   "outputs": [
    {
     "data": {
      "text/html": [
       "<div>\n",
       "<style scoped>\n",
       "    .dataframe tbody tr th:only-of-type {\n",
       "        vertical-align: middle;\n",
       "    }\n",
       "\n",
       "    .dataframe tbody tr th {\n",
       "        vertical-align: top;\n",
       "    }\n",
       "\n",
       "    .dataframe thead th {\n",
       "        text-align: right;\n",
       "    }\n",
       "</style>\n",
       "<table border=\"1\" class=\"dataframe\">\n",
       "  <thead>\n",
       "    <tr style=\"text-align: right;\">\n",
       "      <th></th>\n",
       "      <th>f_0</th>\n",
       "      <th>f_1</th>\n",
       "      <th>f_2</th>\n",
       "      <th>f_3</th>\n",
       "      <th>f_4</th>\n",
       "      <th>f_5</th>\n",
       "      <th>f_6</th>\n",
       "      <th>f_7</th>\n",
       "      <th>f_8</th>\n",
       "      <th>f_9</th>\n",
       "      <th>...</th>\n",
       "      <th>f_758</th>\n",
       "      <th>f_759</th>\n",
       "      <th>f_760</th>\n",
       "      <th>f_761</th>\n",
       "      <th>f_762</th>\n",
       "      <th>f_763</th>\n",
       "      <th>f_764</th>\n",
       "      <th>f_765</th>\n",
       "      <th>f_766</th>\n",
       "      <th>f_767</th>\n",
       "    </tr>\n",
       "  </thead>\n",
       "  <tbody>\n",
       "    <tr>\n",
       "      <th>0</th>\n",
       "      <td>-588.812012</td>\n",
       "      <td>-16.459999</td>\n",
       "      <td>585.155029</td>\n",
       "      <td>407.606995</td>\n",
       "      <td>-10.286000</td>\n",
       "      <td>-84.586998</td>\n",
       "      <td>404.765991</td>\n",
       "      <td>271.266998</td>\n",
       "      <td>499.578003</td>\n",
       "      <td>-1278.270020</td>\n",
       "      <td>...</td>\n",
       "      <td>-661.101013</td>\n",
       "      <td>-581.062012</td>\n",
       "      <td>-915.862000</td>\n",
       "      <td>-15.428000</td>\n",
       "      <td>-123.609001</td>\n",
       "      <td>-44.327000</td>\n",
       "      <td>607.567017</td>\n",
       "      <td>-1553.897949</td>\n",
       "      <td>-312.118011</td>\n",
       "      <td>-1065.124023</td>\n",
       "    </tr>\n",
       "    <tr>\n",
       "      <th>1</th>\n",
       "      <td>2494.957031</td>\n",
       "      <td>-202.628998</td>\n",
       "      <td>2453.219971</td>\n",
       "      <td>180.735992</td>\n",
       "      <td>329.468994</td>\n",
       "      <td>250.464996</td>\n",
       "      <td>1946.031006</td>\n",
       "      <td>3399.147949</td>\n",
       "      <td>441.165985</td>\n",
       "      <td>-817.734985</td>\n",
       "      <td>...</td>\n",
       "      <td>252.505997</td>\n",
       "      <td>-1641.519043</td>\n",
       "      <td>-1040.286011</td>\n",
       "      <td>723.328979</td>\n",
       "      <td>1057.093994</td>\n",
       "      <td>-892.531006</td>\n",
       "      <td>-215.003006</td>\n",
       "      <td>1309.060059</td>\n",
       "      <td>-575.366028</td>\n",
       "      <td>-1667.469971</td>\n",
       "    </tr>\n",
       "    <tr>\n",
       "      <th>2</th>\n",
       "      <td>9.581000</td>\n",
       "      <td>-917.840027</td>\n",
       "      <td>707.869995</td>\n",
       "      <td>205.690994</td>\n",
       "      <td>767.721985</td>\n",
       "      <td>-133.733002</td>\n",
       "      <td>316.574005</td>\n",
       "      <td>187.778000</td>\n",
       "      <td>-874.216980</td>\n",
       "      <td>-273.199005</td>\n",
       "      <td>...</td>\n",
       "      <td>-113.867996</td>\n",
       "      <td>-285.209015</td>\n",
       "      <td>299.352997</td>\n",
       "      <td>-333.828003</td>\n",
       "      <td>98.253998</td>\n",
       "      <td>231.095993</td>\n",
       "      <td>162.904007</td>\n",
       "      <td>-453.291992</td>\n",
       "      <td>-38.993999</td>\n",
       "      <td>100.320999</td>\n",
       "    </tr>\n",
       "    <tr>\n",
       "      <th>3</th>\n",
       "      <td>528.770996</td>\n",
       "      <td>-4.656000</td>\n",
       "      <td>779.922974</td>\n",
       "      <td>176.306000</td>\n",
       "      <td>295.033997</td>\n",
       "      <td>-474.942993</td>\n",
       "      <td>443.114014</td>\n",
       "      <td>295.628998</td>\n",
       "      <td>219.356995</td>\n",
       "      <td>-855.742004</td>\n",
       "      <td>...</td>\n",
       "      <td>388.722992</td>\n",
       "      <td>-406.528992</td>\n",
       "      <td>-317.867004</td>\n",
       "      <td>51.375999</td>\n",
       "      <td>436.625000</td>\n",
       "      <td>233.684006</td>\n",
       "      <td>-644.229004</td>\n",
       "      <td>-416.923004</td>\n",
       "      <td>-410.556000</td>\n",
       "      <td>516.400024</td>\n",
       "    </tr>\n",
       "    <tr>\n",
       "      <th>4</th>\n",
       "      <td>4105.824219</td>\n",
       "      <td>1456.322998</td>\n",
       "      <td>3224.325928</td>\n",
       "      <td>1181.749023</td>\n",
       "      <td>3312.511963</td>\n",
       "      <td>2905.216064</td>\n",
       "      <td>705.135010</td>\n",
       "      <td>3758.070068</td>\n",
       "      <td>-1874.987061</td>\n",
       "      <td>-3637.200928</td>\n",
       "      <td>...</td>\n",
       "      <td>1427.248047</td>\n",
       "      <td>-2808.204102</td>\n",
       "      <td>-1510.807007</td>\n",
       "      <td>-170.334000</td>\n",
       "      <td>3416.754883</td>\n",
       "      <td>-2807.773926</td>\n",
       "      <td>-968.242004</td>\n",
       "      <td>-3440.810059</td>\n",
       "      <td>794.588989</td>\n",
       "      <td>-461.559998</td>\n",
       "    </tr>\n",
       "  </tbody>\n",
       "</table>\n",
       "<p>5 rows × 768 columns</p>\n",
       "</div>"
      ],
      "text/plain": [
       "           f_0          f_1          f_2          f_3          f_4  \\\n",
       "0  -588.812012   -16.459999   585.155029   407.606995   -10.286000   \n",
       "1  2494.957031  -202.628998  2453.219971   180.735992   329.468994   \n",
       "2     9.581000  -917.840027   707.869995   205.690994   767.721985   \n",
       "3   528.770996    -4.656000   779.922974   176.306000   295.033997   \n",
       "4  4105.824219  1456.322998  3224.325928  1181.749023  3312.511963   \n",
       "\n",
       "           f_5          f_6          f_7          f_8          f_9  ...  \\\n",
       "0   -84.586998   404.765991   271.266998   499.578003 -1278.270020  ...   \n",
       "1   250.464996  1946.031006  3399.147949   441.165985  -817.734985  ...   \n",
       "2  -133.733002   316.574005   187.778000  -874.216980  -273.199005  ...   \n",
       "3  -474.942993   443.114014   295.628998   219.356995  -855.742004  ...   \n",
       "4  2905.216064   705.135010  3758.070068 -1874.987061 -3637.200928  ...   \n",
       "\n",
       "         f_758        f_759        f_760       f_761        f_762  \\\n",
       "0  -661.101013  -581.062012  -915.862000  -15.428000  -123.609001   \n",
       "1   252.505997 -1641.519043 -1040.286011  723.328979  1057.093994   \n",
       "2  -113.867996  -285.209015   299.352997 -333.828003    98.253998   \n",
       "3   388.722992  -406.528992  -317.867004   51.375999   436.625000   \n",
       "4  1427.248047 -2808.204102 -1510.807007 -170.334000  3416.754883   \n",
       "\n",
       "         f_763       f_764        f_765       f_766        f_767  \n",
       "0   -44.327000  607.567017 -1553.897949 -312.118011 -1065.124023  \n",
       "1  -892.531006 -215.003006  1309.060059 -575.366028 -1667.469971  \n",
       "2   231.095993  162.904007  -453.291992  -38.993999   100.320999  \n",
       "3   233.684006 -644.229004  -416.923004 -410.556000   516.400024  \n",
       "4 -2807.773926 -968.242004 -3440.810059  794.588989  -461.559998  \n",
       "\n",
       "[5 rows x 768 columns]"
      ]
     },
     "execution_count": 3,
     "metadata": {},
     "output_type": "execute_result"
    }
   ],
   "source": [
    "test_loc='/kaggle/input/prometeo23-pre-event-ml/test.csv'\n",
    "test_data=pd.read_csv(test_loc)\n",
    "test_data.head()"
   ]
  },
  {
   "cell_type": "markdown",
   "id": "fe37a984",
   "metadata": {
    "papermill": {
     "duration": 0.006838,
     "end_time": "2023-01-06T08:40:26.162854",
     "exception": false,
     "start_time": "2023-01-06T08:40:26.156016",
     "status": "completed"
    },
    "tags": []
   },
   "source": [
    "checking the shape/no of features of the training data"
   ]
  },
  {
   "cell_type": "code",
   "execution_count": 4,
   "id": "da4379fb",
   "metadata": {
    "execution": {
     "iopub.execute_input": "2023-01-06T08:40:26.180599Z",
     "iopub.status.busy": "2023-01-06T08:40:26.180055Z",
     "iopub.status.idle": "2023-01-06T08:40:26.186440Z",
     "shell.execute_reply": "2023-01-06T08:40:26.185322Z"
    },
    "papermill": {
     "duration": 0.01743,
     "end_time": "2023-01-06T08:40:26.188882",
     "exception": false,
     "start_time": "2023-01-06T08:40:26.171452",
     "status": "completed"
    },
    "tags": []
   },
   "outputs": [
    {
     "data": {
      "text/plain": [
       "(36455, 769)"
      ]
     },
     "execution_count": 4,
     "metadata": {},
     "output_type": "execute_result"
    }
   ],
   "source": [
    "train_data.shape"
   ]
  },
  {
   "cell_type": "code",
   "execution_count": 5,
   "id": "38fdc81c",
   "metadata": {
    "execution": {
     "iopub.execute_input": "2023-01-06T08:40:26.205735Z",
     "iopub.status.busy": "2023-01-06T08:40:26.205401Z",
     "iopub.status.idle": "2023-01-06T08:40:26.211670Z",
     "shell.execute_reply": "2023-01-06T08:40:26.210531Z"
    },
    "papermill": {
     "duration": 0.017162,
     "end_time": "2023-01-06T08:40:26.214018",
     "exception": false,
     "start_time": "2023-01-06T08:40:26.196856",
     "status": "completed"
    },
    "tags": []
   },
   "outputs": [
    {
     "data": {
      "text/plain": [
       "Index(['f_0', 'f_1', 'f_2', 'f_3', 'f_4', 'f_5', 'f_6', 'f_7', 'f_8', 'f_9',\n",
       "       ...\n",
       "       'f_759', 'f_760', 'f_761', 'f_762', 'f_763', 'f_764', 'f_765', 'f_766',\n",
       "       'f_767', 'label'],\n",
       "      dtype='object', length=769)"
      ]
     },
     "execution_count": 5,
     "metadata": {},
     "output_type": "execute_result"
    }
   ],
   "source": [
    "train_data.columns"
   ]
  },
  {
   "cell_type": "markdown",
   "id": "be53dbe5",
   "metadata": {
    "papermill": {
     "duration": 0.007019,
     "end_time": "2023-01-06T08:40:26.228716",
     "exception": false,
     "start_time": "2023-01-06T08:40:26.221697",
     "status": "completed"
    },
    "tags": []
   },
   "source": [
    "checking for null values"
   ]
  },
  {
   "cell_type": "code",
   "execution_count": 6,
   "id": "3ce0ece5",
   "metadata": {
    "execution": {
     "iopub.execute_input": "2023-01-06T08:40:26.244779Z",
     "iopub.status.busy": "2023-01-06T08:40:26.244435Z",
     "iopub.status.idle": "2023-01-06T08:40:26.282273Z",
     "shell.execute_reply": "2023-01-06T08:40:26.281316Z"
    },
    "papermill": {
     "duration": 0.048887,
     "end_time": "2023-01-06T08:40:26.284858",
     "exception": false,
     "start_time": "2023-01-06T08:40:26.235971",
     "status": "completed"
    },
    "tags": []
   },
   "outputs": [
    {
     "data": {
      "text/plain": [
       "0"
      ]
     },
     "execution_count": 6,
     "metadata": {},
     "output_type": "execute_result"
    }
   ],
   "source": [
    "train_data.isna().sum().sum()"
   ]
  },
  {
   "cell_type": "markdown",
   "id": "66716bfc",
   "metadata": {
    "papermill": {
     "duration": 0.007297,
     "end_time": "2023-01-06T08:40:26.300134",
     "exception": false,
     "start_time": "2023-01-06T08:40:26.292837",
     "status": "completed"
    },
    "tags": []
   },
   "source": [
    "splitting into input and target features"
   ]
  },
  {
   "cell_type": "code",
   "execution_count": 7,
   "id": "1c1236dc",
   "metadata": {
    "execution": {
     "iopub.execute_input": "2023-01-06T08:40:26.317293Z",
     "iopub.status.busy": "2023-01-06T08:40:26.316948Z",
     "iopub.status.idle": "2023-01-06T08:40:26.352634Z",
     "shell.execute_reply": "2023-01-06T08:40:26.351353Z"
    },
    "papermill": {
     "duration": 0.046305,
     "end_time": "2023-01-06T08:40:26.354501",
     "exception": false,
     "start_time": "2023-01-06T08:40:26.308196",
     "status": "completed"
    },
    "tags": []
   },
   "outputs": [],
   "source": [
    "X=train_data.iloc[:,0:-1]\n",
    "y=train_data.iloc[:,-1]"
   ]
  },
  {
   "cell_type": "code",
   "execution_count": 8,
   "id": "61d10cc6",
   "metadata": {
    "execution": {
     "iopub.execute_input": "2023-01-06T08:40:26.370906Z",
     "iopub.status.busy": "2023-01-06T08:40:26.370584Z",
     "iopub.status.idle": "2023-01-06T08:40:26.390993Z",
     "shell.execute_reply": "2023-01-06T08:40:26.390090Z"
    },
    "papermill": {
     "duration": 0.030628,
     "end_time": "2023-01-06T08:40:26.392755",
     "exception": false,
     "start_time": "2023-01-06T08:40:26.362127",
     "status": "completed"
    },
    "tags": []
   },
   "outputs": [
    {
     "data": {
      "text/html": [
       "<div>\n",
       "<style scoped>\n",
       "    .dataframe tbody tr th:only-of-type {\n",
       "        vertical-align: middle;\n",
       "    }\n",
       "\n",
       "    .dataframe tbody tr th {\n",
       "        vertical-align: top;\n",
       "    }\n",
       "\n",
       "    .dataframe thead th {\n",
       "        text-align: right;\n",
       "    }\n",
       "</style>\n",
       "<table border=\"1\" class=\"dataframe\">\n",
       "  <thead>\n",
       "    <tr style=\"text-align: right;\">\n",
       "      <th></th>\n",
       "      <th>f_0</th>\n",
       "      <th>f_1</th>\n",
       "      <th>f_2</th>\n",
       "      <th>f_3</th>\n",
       "      <th>f_4</th>\n",
       "      <th>f_5</th>\n",
       "      <th>f_6</th>\n",
       "      <th>f_7</th>\n",
       "      <th>f_8</th>\n",
       "      <th>f_9</th>\n",
       "      <th>...</th>\n",
       "      <th>f_758</th>\n",
       "      <th>f_759</th>\n",
       "      <th>f_760</th>\n",
       "      <th>f_761</th>\n",
       "      <th>f_762</th>\n",
       "      <th>f_763</th>\n",
       "      <th>f_764</th>\n",
       "      <th>f_765</th>\n",
       "      <th>f_766</th>\n",
       "      <th>f_767</th>\n",
       "    </tr>\n",
       "  </thead>\n",
       "  <tbody>\n",
       "    <tr>\n",
       "      <th>0</th>\n",
       "      <td>55.391998</td>\n",
       "      <td>402.842010</td>\n",
       "      <td>1179.939941</td>\n",
       "      <td>137.306000</td>\n",
       "      <td>275.936005</td>\n",
       "      <td>-668.432983</td>\n",
       "      <td>738.448975</td>\n",
       "      <td>509.286987</td>\n",
       "      <td>413.082001</td>\n",
       "      <td>-1350.576050</td>\n",
       "      <td>...</td>\n",
       "      <td>225.628006</td>\n",
       "      <td>-697.203979</td>\n",
       "      <td>-219.283005</td>\n",
       "      <td>225.966003</td>\n",
       "      <td>-43.695000</td>\n",
       "      <td>626.716980</td>\n",
       "      <td>-295.596985</td>\n",
       "      <td>-635.940979</td>\n",
       "      <td>31.915001</td>\n",
       "      <td>158.291000</td>\n",
       "    </tr>\n",
       "    <tr>\n",
       "      <th>1</th>\n",
       "      <td>498.306000</td>\n",
       "      <td>118.342003</td>\n",
       "      <td>1222.817993</td>\n",
       "      <td>646.617004</td>\n",
       "      <td>746.257019</td>\n",
       "      <td>-473.803986</td>\n",
       "      <td>-11.617000</td>\n",
       "      <td>-16.693001</td>\n",
       "      <td>269.397003</td>\n",
       "      <td>-613.716003</td>\n",
       "      <td>...</td>\n",
       "      <td>668.473999</td>\n",
       "      <td>-288.542999</td>\n",
       "      <td>-441.739990</td>\n",
       "      <td>-406.356995</td>\n",
       "      <td>174.936996</td>\n",
       "      <td>532.174011</td>\n",
       "      <td>-443.278992</td>\n",
       "      <td>-68.603996</td>\n",
       "      <td>-493.657013</td>\n",
       "      <td>-368.730011</td>\n",
       "    </tr>\n",
       "    <tr>\n",
       "      <th>2</th>\n",
       "      <td>1465.275024</td>\n",
       "      <td>-2211.415039</td>\n",
       "      <td>2463.522949</td>\n",
       "      <td>945.344971</td>\n",
       "      <td>922.330994</td>\n",
       "      <td>338.187988</td>\n",
       "      <td>-1548.826050</td>\n",
       "      <td>-818.586975</td>\n",
       "      <td>-1007.841003</td>\n",
       "      <td>79.605003</td>\n",
       "      <td>...</td>\n",
       "      <td>868.348022</td>\n",
       "      <td>-507.450012</td>\n",
       "      <td>1626.469971</td>\n",
       "      <td>-1210.922974</td>\n",
       "      <td>4531.459961</td>\n",
       "      <td>-2801.270020</td>\n",
       "      <td>2071.193115</td>\n",
       "      <td>-99.113998</td>\n",
       "      <td>-475.681000</td>\n",
       "      <td>2455.382080</td>\n",
       "    </tr>\n",
       "    <tr>\n",
       "      <th>3</th>\n",
       "      <td>-480.721008</td>\n",
       "      <td>-200.492996</td>\n",
       "      <td>994.544983</td>\n",
       "      <td>429.501007</td>\n",
       "      <td>603.341980</td>\n",
       "      <td>335.571991</td>\n",
       "      <td>-789.293030</td>\n",
       "      <td>315.600006</td>\n",
       "      <td>79.110001</td>\n",
       "      <td>-700.228027</td>\n",
       "      <td>...</td>\n",
       "      <td>93.406998</td>\n",
       "      <td>190.117996</td>\n",
       "      <td>-141.376999</td>\n",
       "      <td>-158.606995</td>\n",
       "      <td>789.737000</td>\n",
       "      <td>-157.804993</td>\n",
       "      <td>-241.746994</td>\n",
       "      <td>-488.445007</td>\n",
       "      <td>209.561005</td>\n",
       "      <td>-415.536987</td>\n",
       "    </tr>\n",
       "    <tr>\n",
       "      <th>4</th>\n",
       "      <td>259.115997</td>\n",
       "      <td>-71.842003</td>\n",
       "      <td>489.447998</td>\n",
       "      <td>23.549999</td>\n",
       "      <td>543.088989</td>\n",
       "      <td>-119.539001</td>\n",
       "      <td>-93.567001</td>\n",
       "      <td>55.488998</td>\n",
       "      <td>-235.072998</td>\n",
       "      <td>-773.299011</td>\n",
       "      <td>...</td>\n",
       "      <td>-150.707001</td>\n",
       "      <td>225.546005</td>\n",
       "      <td>-258.687988</td>\n",
       "      <td>-591.017029</td>\n",
       "      <td>359.621002</td>\n",
       "      <td>316.252014</td>\n",
       "      <td>-309.529999</td>\n",
       "      <td>200.304993</td>\n",
       "      <td>-167.130005</td>\n",
       "      <td>44.182999</td>\n",
       "    </tr>\n",
       "  </tbody>\n",
       "</table>\n",
       "<p>5 rows × 768 columns</p>\n",
       "</div>"
      ],
      "text/plain": [
       "           f_0          f_1          f_2         f_3         f_4         f_5  \\\n",
       "0    55.391998   402.842010  1179.939941  137.306000  275.936005 -668.432983   \n",
       "1   498.306000   118.342003  1222.817993  646.617004  746.257019 -473.803986   \n",
       "2  1465.275024 -2211.415039  2463.522949  945.344971  922.330994  338.187988   \n",
       "3  -480.721008  -200.492996   994.544983  429.501007  603.341980  335.571991   \n",
       "4   259.115997   -71.842003   489.447998   23.549999  543.088989 -119.539001   \n",
       "\n",
       "           f_6         f_7          f_8          f_9  ...       f_758  \\\n",
       "0   738.448975  509.286987   413.082001 -1350.576050  ...  225.628006   \n",
       "1   -11.617000  -16.693001   269.397003  -613.716003  ...  668.473999   \n",
       "2 -1548.826050 -818.586975 -1007.841003    79.605003  ...  868.348022   \n",
       "3  -789.293030  315.600006    79.110001  -700.228027  ...   93.406998   \n",
       "4   -93.567001   55.488998  -235.072998  -773.299011  ... -150.707001   \n",
       "\n",
       "        f_759        f_760        f_761        f_762        f_763  \\\n",
       "0 -697.203979  -219.283005   225.966003   -43.695000   626.716980   \n",
       "1 -288.542999  -441.739990  -406.356995   174.936996   532.174011   \n",
       "2 -507.450012  1626.469971 -1210.922974  4531.459961 -2801.270020   \n",
       "3  190.117996  -141.376999  -158.606995   789.737000  -157.804993   \n",
       "4  225.546005  -258.687988  -591.017029   359.621002   316.252014   \n",
       "\n",
       "         f_764       f_765       f_766        f_767  \n",
       "0  -295.596985 -635.940979   31.915001   158.291000  \n",
       "1  -443.278992  -68.603996 -493.657013  -368.730011  \n",
       "2  2071.193115  -99.113998 -475.681000  2455.382080  \n",
       "3  -241.746994 -488.445007  209.561005  -415.536987  \n",
       "4  -309.529999  200.304993 -167.130005    44.182999  \n",
       "\n",
       "[5 rows x 768 columns]"
      ]
     },
     "execution_count": 8,
     "metadata": {},
     "output_type": "execute_result"
    }
   ],
   "source": [
    "X.head()"
   ]
  },
  {
   "cell_type": "code",
   "execution_count": 9,
   "id": "14bcb00f",
   "metadata": {
    "execution": {
     "iopub.execute_input": "2023-01-06T08:40:26.410188Z",
     "iopub.status.busy": "2023-01-06T08:40:26.409832Z",
     "iopub.status.idle": "2023-01-06T08:40:26.415998Z",
     "shell.execute_reply": "2023-01-06T08:40:26.415096Z"
    },
    "papermill": {
     "duration": 0.016905,
     "end_time": "2023-01-06T08:40:26.417683",
     "exception": false,
     "start_time": "2023-01-06T08:40:26.400778",
     "status": "completed"
    },
    "tags": []
   },
   "outputs": [
    {
     "data": {
      "text/plain": [
       "0    4\n",
       "1    1\n",
       "2    3\n",
       "3    4\n",
       "4    4\n",
       "Name: label, dtype: int64"
      ]
     },
     "execution_count": 9,
     "metadata": {},
     "output_type": "execute_result"
    }
   ],
   "source": [
    "y.head()"
   ]
  },
  {
   "cell_type": "markdown",
   "id": "fc61b84c",
   "metadata": {
    "papermill": {
     "duration": 0.007659,
     "end_time": "2023-01-06T08:40:26.433262",
     "exception": false,
     "start_time": "2023-01-06T08:40:26.425603",
     "status": "completed"
    },
    "tags": []
   },
   "source": [
    "saving test data"
   ]
  },
  {
   "cell_type": "code",
   "execution_count": 10,
   "id": "c4df6e9f",
   "metadata": {
    "execution": {
     "iopub.execute_input": "2023-01-06T08:40:26.451009Z",
     "iopub.status.busy": "2023-01-06T08:40:26.450655Z",
     "iopub.status.idle": "2023-01-06T08:40:26.480245Z",
     "shell.execute_reply": "2023-01-06T08:40:26.478569Z"
    },
    "papermill": {
     "duration": 0.041422,
     "end_time": "2023-01-06T08:40:26.482580",
     "exception": false,
     "start_time": "2023-01-06T08:40:26.441158",
     "status": "completed"
    },
    "tags": []
   },
   "outputs": [
    {
     "data": {
      "text/html": [
       "<div>\n",
       "<style scoped>\n",
       "    .dataframe tbody tr th:only-of-type {\n",
       "        vertical-align: middle;\n",
       "    }\n",
       "\n",
       "    .dataframe tbody tr th {\n",
       "        vertical-align: top;\n",
       "    }\n",
       "\n",
       "    .dataframe thead th {\n",
       "        text-align: right;\n",
       "    }\n",
       "</style>\n",
       "<table border=\"1\" class=\"dataframe\">\n",
       "  <thead>\n",
       "    <tr style=\"text-align: right;\">\n",
       "      <th></th>\n",
       "      <th>f_0</th>\n",
       "      <th>f_1</th>\n",
       "      <th>f_2</th>\n",
       "      <th>f_3</th>\n",
       "      <th>f_4</th>\n",
       "      <th>f_5</th>\n",
       "      <th>f_6</th>\n",
       "      <th>f_7</th>\n",
       "      <th>f_8</th>\n",
       "      <th>f_9</th>\n",
       "      <th>...</th>\n",
       "      <th>f_758</th>\n",
       "      <th>f_759</th>\n",
       "      <th>f_760</th>\n",
       "      <th>f_761</th>\n",
       "      <th>f_762</th>\n",
       "      <th>f_763</th>\n",
       "      <th>f_764</th>\n",
       "      <th>f_765</th>\n",
       "      <th>f_766</th>\n",
       "      <th>f_767</th>\n",
       "    </tr>\n",
       "  </thead>\n",
       "  <tbody>\n",
       "    <tr>\n",
       "      <th>0</th>\n",
       "      <td>-588.812012</td>\n",
       "      <td>-16.459999</td>\n",
       "      <td>585.155029</td>\n",
       "      <td>407.606995</td>\n",
       "      <td>-10.286000</td>\n",
       "      <td>-84.586998</td>\n",
       "      <td>404.765991</td>\n",
       "      <td>271.266998</td>\n",
       "      <td>499.578003</td>\n",
       "      <td>-1278.270020</td>\n",
       "      <td>...</td>\n",
       "      <td>-661.101013</td>\n",
       "      <td>-581.062012</td>\n",
       "      <td>-915.862000</td>\n",
       "      <td>-15.428000</td>\n",
       "      <td>-123.609001</td>\n",
       "      <td>-44.327000</td>\n",
       "      <td>607.567017</td>\n",
       "      <td>-1553.897949</td>\n",
       "      <td>-312.118011</td>\n",
       "      <td>-1065.124023</td>\n",
       "    </tr>\n",
       "    <tr>\n",
       "      <th>1</th>\n",
       "      <td>2494.957031</td>\n",
       "      <td>-202.628998</td>\n",
       "      <td>2453.219971</td>\n",
       "      <td>180.735992</td>\n",
       "      <td>329.468994</td>\n",
       "      <td>250.464996</td>\n",
       "      <td>1946.031006</td>\n",
       "      <td>3399.147949</td>\n",
       "      <td>441.165985</td>\n",
       "      <td>-817.734985</td>\n",
       "      <td>...</td>\n",
       "      <td>252.505997</td>\n",
       "      <td>-1641.519043</td>\n",
       "      <td>-1040.286011</td>\n",
       "      <td>723.328979</td>\n",
       "      <td>1057.093994</td>\n",
       "      <td>-892.531006</td>\n",
       "      <td>-215.003006</td>\n",
       "      <td>1309.060059</td>\n",
       "      <td>-575.366028</td>\n",
       "      <td>-1667.469971</td>\n",
       "    </tr>\n",
       "    <tr>\n",
       "      <th>2</th>\n",
       "      <td>9.581000</td>\n",
       "      <td>-917.840027</td>\n",
       "      <td>707.869995</td>\n",
       "      <td>205.690994</td>\n",
       "      <td>767.721985</td>\n",
       "      <td>-133.733002</td>\n",
       "      <td>316.574005</td>\n",
       "      <td>187.778000</td>\n",
       "      <td>-874.216980</td>\n",
       "      <td>-273.199005</td>\n",
       "      <td>...</td>\n",
       "      <td>-113.867996</td>\n",
       "      <td>-285.209015</td>\n",
       "      <td>299.352997</td>\n",
       "      <td>-333.828003</td>\n",
       "      <td>98.253998</td>\n",
       "      <td>231.095993</td>\n",
       "      <td>162.904007</td>\n",
       "      <td>-453.291992</td>\n",
       "      <td>-38.993999</td>\n",
       "      <td>100.320999</td>\n",
       "    </tr>\n",
       "    <tr>\n",
       "      <th>3</th>\n",
       "      <td>528.770996</td>\n",
       "      <td>-4.656000</td>\n",
       "      <td>779.922974</td>\n",
       "      <td>176.306000</td>\n",
       "      <td>295.033997</td>\n",
       "      <td>-474.942993</td>\n",
       "      <td>443.114014</td>\n",
       "      <td>295.628998</td>\n",
       "      <td>219.356995</td>\n",
       "      <td>-855.742004</td>\n",
       "      <td>...</td>\n",
       "      <td>388.722992</td>\n",
       "      <td>-406.528992</td>\n",
       "      <td>-317.867004</td>\n",
       "      <td>51.375999</td>\n",
       "      <td>436.625000</td>\n",
       "      <td>233.684006</td>\n",
       "      <td>-644.229004</td>\n",
       "      <td>-416.923004</td>\n",
       "      <td>-410.556000</td>\n",
       "      <td>516.400024</td>\n",
       "    </tr>\n",
       "    <tr>\n",
       "      <th>4</th>\n",
       "      <td>4105.824219</td>\n",
       "      <td>1456.322998</td>\n",
       "      <td>3224.325928</td>\n",
       "      <td>1181.749023</td>\n",
       "      <td>3312.511963</td>\n",
       "      <td>2905.216064</td>\n",
       "      <td>705.135010</td>\n",
       "      <td>3758.070068</td>\n",
       "      <td>-1874.987061</td>\n",
       "      <td>-3637.200928</td>\n",
       "      <td>...</td>\n",
       "      <td>1427.248047</td>\n",
       "      <td>-2808.204102</td>\n",
       "      <td>-1510.807007</td>\n",
       "      <td>-170.334000</td>\n",
       "      <td>3416.754883</td>\n",
       "      <td>-2807.773926</td>\n",
       "      <td>-968.242004</td>\n",
       "      <td>-3440.810059</td>\n",
       "      <td>794.588989</td>\n",
       "      <td>-461.559998</td>\n",
       "    </tr>\n",
       "  </tbody>\n",
       "</table>\n",
       "<p>5 rows × 768 columns</p>\n",
       "</div>"
      ],
      "text/plain": [
       "           f_0          f_1          f_2          f_3          f_4  \\\n",
       "0  -588.812012   -16.459999   585.155029   407.606995   -10.286000   \n",
       "1  2494.957031  -202.628998  2453.219971   180.735992   329.468994   \n",
       "2     9.581000  -917.840027   707.869995   205.690994   767.721985   \n",
       "3   528.770996    -4.656000   779.922974   176.306000   295.033997   \n",
       "4  4105.824219  1456.322998  3224.325928  1181.749023  3312.511963   \n",
       "\n",
       "           f_5          f_6          f_7          f_8          f_9  ...  \\\n",
       "0   -84.586998   404.765991   271.266998   499.578003 -1278.270020  ...   \n",
       "1   250.464996  1946.031006  3399.147949   441.165985  -817.734985  ...   \n",
       "2  -133.733002   316.574005   187.778000  -874.216980  -273.199005  ...   \n",
       "3  -474.942993   443.114014   295.628998   219.356995  -855.742004  ...   \n",
       "4  2905.216064   705.135010  3758.070068 -1874.987061 -3637.200928  ...   \n",
       "\n",
       "         f_758        f_759        f_760       f_761        f_762  \\\n",
       "0  -661.101013  -581.062012  -915.862000  -15.428000  -123.609001   \n",
       "1   252.505997 -1641.519043 -1040.286011  723.328979  1057.093994   \n",
       "2  -113.867996  -285.209015   299.352997 -333.828003    98.253998   \n",
       "3   388.722992  -406.528992  -317.867004   51.375999   436.625000   \n",
       "4  1427.248047 -2808.204102 -1510.807007 -170.334000  3416.754883   \n",
       "\n",
       "         f_763       f_764        f_765       f_766        f_767  \n",
       "0   -44.327000  607.567017 -1553.897949 -312.118011 -1065.124023  \n",
       "1  -892.531006 -215.003006  1309.060059 -575.366028 -1667.469971  \n",
       "2   231.095993  162.904007  -453.291992  -38.993999   100.320999  \n",
       "3   233.684006 -644.229004  -416.923004 -410.556000   516.400024  \n",
       "4 -2807.773926 -968.242004 -3440.810059  794.588989  -461.559998  \n",
       "\n",
       "[5 rows x 768 columns]"
      ]
     },
     "execution_count": 10,
     "metadata": {},
     "output_type": "execute_result"
    }
   ],
   "source": [
    "X_test=test_data.copy()\n",
    "X_test.head()"
   ]
  },
  {
   "cell_type": "markdown",
   "id": "6b3ee7ab",
   "metadata": {
    "papermill": {
     "duration": 0.008636,
     "end_time": "2023-01-06T08:40:26.499599",
     "exception": false,
     "start_time": "2023-01-06T08:40:26.490963",
     "status": "completed"
    },
    "tags": []
   },
   "source": [
    "scaling the data using MinMaxScaling"
   ]
  },
  {
   "cell_type": "code",
   "execution_count": 11,
   "id": "07bf6115",
   "metadata": {
    "execution": {
     "iopub.execute_input": "2023-01-06T08:40:26.518153Z",
     "iopub.status.busy": "2023-01-06T08:40:26.517801Z",
     "iopub.status.idle": "2023-01-06T08:40:27.534782Z",
     "shell.execute_reply": "2023-01-06T08:40:27.533101Z"
    },
    "papermill": {
     "duration": 1.029022,
     "end_time": "2023-01-06T08:40:27.536819",
     "exception": false,
     "start_time": "2023-01-06T08:40:26.507797",
     "status": "completed"
    },
    "tags": []
   },
   "outputs": [
    {
     "name": "stdout",
     "output_type": "stream",
     "text": [
      "[[0.60023851 0.6267913  0.34201027 ... 0.44135792 0.3651723  0.43490345]\n",
      " [0.61227908 0.6160183  0.34315086 ... 0.45996804 0.35084152 0.41276741]\n",
      " [0.63856604 0.52779873 0.37615464 ... 0.45896723 0.35133167 0.53138631]\n",
      " ...\n",
      " [0.57419148 0.57496719 0.33319375 ... 0.44225366 0.35429832 0.4917535 ]\n",
      " [0.61858791 0.60263183 0.34939503 ... 0.45034944 0.36486762 0.42921954]\n",
      " [0.61992736 0.58253366 0.37855084 ... 0.43893653 0.34968109 0.43360033]]\n"
     ]
    }
   ],
   "source": [
    "from sklearn.preprocessing import MinMaxScaler\n",
    "scaler = MinMaxScaler()\n",
    "scaler.fit(X)\n",
    "X=scaler.transform(X)\n",
    "X_test=scaler.transform(X_test)\n",
    "print(X)"
   ]
  },
  {
   "cell_type": "markdown",
   "id": "059a8cef",
   "metadata": {
    "papermill": {
     "duration": 0.008078,
     "end_time": "2023-01-06T08:40:27.553217",
     "exception": false,
     "start_time": "2023-01-06T08:40:27.545139",
     "status": "completed"
    },
    "tags": []
   },
   "source": [
    "time to use PCA to analyse the variance. For this notebook we will use PCA without SMOTE"
   ]
  },
  {
   "cell_type": "code",
   "execution_count": 12,
   "id": "00014766",
   "metadata": {
    "execution": {
     "iopub.execute_input": "2023-01-06T08:40:27.571165Z",
     "iopub.status.busy": "2023-01-06T08:40:27.570317Z",
     "iopub.status.idle": "2023-01-06T08:40:30.834785Z",
     "shell.execute_reply": "2023-01-06T08:40:30.834083Z"
    },
    "papermill": {
     "duration": 3.275667,
     "end_time": "2023-01-06T08:40:30.836845",
     "exception": false,
     "start_time": "2023-01-06T08:40:27.561178",
     "status": "completed"
    },
    "tags": []
   },
   "outputs": [
    {
     "data": {
      "text/plain": [
       "PCA()"
      ]
     },
     "execution_count": 12,
     "metadata": {},
     "output_type": "execute_result"
    }
   ],
   "source": [
    "from sklearn.decomposition import PCA\n",
    "pca = PCA(n_components=None)\n",
    "pca.fit(X)"
   ]
  },
  {
   "cell_type": "markdown",
   "id": "88423241",
   "metadata": {
    "papermill": {
     "duration": 0.009846,
     "end_time": "2023-01-06T08:40:30.857664",
     "exception": false,
     "start_time": "2023-01-06T08:40:30.847818",
     "status": "completed"
    },
    "tags": []
   },
   "source": [
    "We have successfully fitted the PCA on all independent variables. Let’s now extract explained_variance and explained_varience_ratio which are ordered lists starting from most significant features to least."
   ]
  },
  {
   "cell_type": "code",
   "execution_count": 13,
   "id": "87896f9c",
   "metadata": {
    "execution": {
     "iopub.execute_input": "2023-01-06T08:40:30.875721Z",
     "iopub.status.busy": "2023-01-06T08:40:30.875421Z",
     "iopub.status.idle": "2023-01-06T08:40:30.887481Z",
     "shell.execute_reply": "2023-01-06T08:40:30.886719Z"
    },
    "papermill": {
     "duration": 0.023344,
     "end_time": "2023-01-06T08:40:30.889246",
     "exception": false,
     "start_time": "2023-01-06T08:40:30.865902",
     "status": "completed"
    },
    "tags": []
   },
   "outputs": [
    {
     "data": {
      "text/plain": [
       "array([1.61711301e-01, 3.94044511e-02, 3.37128457e-02, 2.69662614e-02,\n",
       "       2.27519835e-02, 2.08753645e-02, 1.47752993e-02, 1.40678251e-02,\n",
       "       1.22281425e-02, 1.08946859e-02, 9.54842304e-03, 9.10890526e-03,\n",
       "       8.14469938e-03, 7.79912082e-03, 7.49290945e-03, 6.91114886e-03,\n",
       "       6.59726728e-03, 6.39416279e-03, 6.06945384e-03, 5.74554705e-03,\n",
       "       5.38793033e-03, 5.08605526e-03, 4.87173554e-03, 4.78257612e-03,\n",
       "       4.57746964e-03, 4.47799117e-03, 4.37239190e-03, 4.13437571e-03,\n",
       "       4.00573072e-03, 3.99964821e-03, 3.83969357e-03, 3.74530360e-03,\n",
       "       3.62707860e-03, 3.40625790e-03, 3.27246338e-03, 3.12685638e-03,\n",
       "       3.10065593e-03, 2.98461249e-03, 2.92768267e-03, 2.89282828e-03,\n",
       "       2.74079129e-03, 2.62024412e-03, 2.58034529e-03, 2.53829474e-03,\n",
       "       2.47675708e-03, 2.45070529e-03, 2.40415668e-03, 2.32572198e-03,\n",
       "       2.27361753e-03, 2.25384213e-03, 2.17924706e-03, 2.11535004e-03,\n",
       "       2.10348950e-03, 2.07497960e-03, 2.00185315e-03, 1.97767165e-03,\n",
       "       1.96518427e-03, 1.89686357e-03, 1.86775161e-03, 1.85612284e-03,\n",
       "       1.83363244e-03, 1.78235912e-03, 1.73739963e-03, 1.73530689e-03,\n",
       "       1.70183759e-03, 1.64582234e-03, 1.63613194e-03, 1.62505244e-03,\n",
       "       1.60001202e-03, 1.58085146e-03, 1.53504630e-03, 1.51169009e-03,\n",
       "       1.50087892e-03, 1.48272443e-03, 1.44668515e-03, 1.41642426e-03,\n",
       "       1.39145029e-03, 1.38007817e-03, 1.34763403e-03, 1.33101325e-03,\n",
       "       1.31428205e-03, 1.28951599e-03, 1.27647192e-03, 1.26336493e-03,\n",
       "       1.25397723e-03, 1.24114038e-03, 1.20884006e-03, 1.19979087e-03,\n",
       "       1.17581651e-03, 1.17025057e-03, 1.14191172e-03, 1.12037880e-03,\n",
       "       1.11070510e-03, 1.10422003e-03, 1.08849107e-03, 1.07891859e-03,\n",
       "       1.06343552e-03, 1.04765026e-03, 1.04197201e-03, 1.02153662e-03,\n",
       "       1.01312285e-03, 9.96031309e-04, 9.87491995e-04, 9.77889278e-04,\n",
       "       9.60068402e-04, 9.38993055e-04, 9.33308266e-04, 9.24956468e-04,\n",
       "       9.08753655e-04, 9.06454032e-04, 8.96823799e-04, 8.84675139e-04,\n",
       "       8.71943774e-04, 8.59334031e-04, 8.56307453e-04, 8.47154915e-04,\n",
       "       8.37008360e-04, 8.33954443e-04, 8.26404081e-04, 8.06346382e-04,\n",
       "       8.03026015e-04, 7.94688879e-04, 7.77127082e-04, 7.70420290e-04,\n",
       "       7.65153261e-04, 7.57009847e-04, 7.41108665e-04, 7.38464260e-04,\n",
       "       7.24097364e-04, 7.18044478e-04, 7.12717000e-04, 6.98767868e-04,\n",
       "       6.93405137e-04, 6.87819653e-04, 6.82210671e-04, 6.75855354e-04,\n",
       "       6.60769948e-04, 6.57509102e-04, 6.53283738e-04, 6.45689344e-04,\n",
       "       6.43411203e-04, 6.38868240e-04, 6.30977397e-04, 6.27949069e-04,\n",
       "       6.22460637e-04, 6.11947816e-04, 6.03878131e-04, 5.99678926e-04,\n",
       "       5.94219330e-04, 5.91809279e-04, 5.83358451e-04, 5.78154041e-04,\n",
       "       5.76234769e-04, 5.66043448e-04, 5.60110098e-04, 5.48344093e-04,\n",
       "       5.44249006e-04, 5.41138673e-04, 5.35810750e-04, 5.31825321e-04,\n",
       "       5.29540673e-04, 5.21276120e-04, 5.13670396e-04, 5.05952661e-04,\n",
       "       5.03763999e-04, 4.97295278e-04, 4.95015027e-04, 4.93482503e-04,\n",
       "       4.85303419e-04, 4.82728485e-04, 4.81436954e-04, 4.77691720e-04,\n",
       "       4.71903364e-04, 4.69865183e-04, 4.64534686e-04, 4.59468821e-04,\n",
       "       4.54314052e-04, 4.52119419e-04, 4.43500986e-04, 4.41696038e-04,\n",
       "       4.39070139e-04, 4.35729293e-04, 4.34268689e-04, 4.33665360e-04,\n",
       "       4.27023181e-04, 4.21093016e-04, 4.13210787e-04, 4.09010807e-04,\n",
       "       4.06738588e-04, 4.03378076e-04, 4.00862904e-04, 3.97379539e-04,\n",
       "       3.92095106e-04, 3.89261315e-04, 3.87259102e-04, 3.86535327e-04,\n",
       "       3.79431353e-04, 3.77234680e-04, 3.74422474e-04, 3.69984632e-04,\n",
       "       3.69466973e-04, 3.67257327e-04, 3.64944614e-04, 3.61016464e-04,\n",
       "       3.57462224e-04, 3.54305549e-04, 3.51577373e-04, 3.50703444e-04,\n",
       "       3.44884914e-04, 3.42883802e-04, 3.42217381e-04, 3.39668477e-04,\n",
       "       3.36551149e-04, 3.32892554e-04, 3.32709642e-04, 3.29643924e-04,\n",
       "       3.24762001e-04, 3.23687461e-04, 3.18599174e-04, 3.17283930e-04,\n",
       "       3.13535393e-04, 3.13206446e-04, 3.10390720e-04, 3.08331688e-04,\n",
       "       3.04869729e-04, 3.04111643e-04, 3.01102449e-04, 2.97410886e-04,\n",
       "       2.96343889e-04, 2.92254876e-04, 2.90170710e-04, 2.88444854e-04,\n",
       "       2.85287421e-04, 2.84361360e-04, 2.83248002e-04, 2.79586265e-04,\n",
       "       2.78364222e-04, 2.76661997e-04, 2.74805146e-04, 2.73310844e-04,\n",
       "       2.69623944e-04, 2.68823463e-04, 2.66444796e-04, 2.63623008e-04,\n",
       "       2.62883324e-04, 2.59846722e-04, 2.57844955e-04, 2.57098144e-04,\n",
       "       2.55959283e-04, 2.55039617e-04, 2.50763206e-04, 2.48861459e-04,\n",
       "       2.46688314e-04, 2.45402899e-04, 2.45067676e-04, 2.42364868e-04,\n",
       "       2.40398900e-04, 2.39078473e-04, 2.37870625e-04, 2.37265679e-04,\n",
       "       2.35096607e-04, 2.32148975e-04, 2.31398118e-04, 2.28998983e-04,\n",
       "       2.27767861e-04, 2.26787243e-04, 2.25490799e-04, 2.22809431e-04,\n",
       "       2.21924694e-04, 2.20036093e-04, 2.19062862e-04, 2.17844972e-04,\n",
       "       2.17191844e-04, 2.15244194e-04, 2.14514110e-04, 2.13490585e-04,\n",
       "       2.10751344e-04, 2.08702334e-04, 2.07976993e-04, 2.06975033e-04,\n",
       "       2.04773363e-04, 2.03018778e-04, 2.02714371e-04, 2.01336376e-04,\n",
       "       2.00566274e-04, 1.99582958e-04, 1.97575788e-04, 1.96512282e-04,\n",
       "       1.94720035e-04, 1.94382690e-04, 1.92269531e-04, 1.90411885e-04,\n",
       "       1.88505423e-04, 1.87866114e-04, 1.87002346e-04, 1.86177117e-04,\n",
       "       1.85022179e-04, 1.83430360e-04, 1.82715907e-04, 1.81469873e-04,\n",
       "       1.79808971e-04, 1.79067983e-04, 1.77278815e-04, 1.76895148e-04,\n",
       "       1.76501147e-04, 1.75342075e-04, 1.73695956e-04, 1.73006997e-04,\n",
       "       1.71272522e-04, 1.69739306e-04, 1.69445128e-04, 1.68753660e-04,\n",
       "       1.67233791e-04, 1.66233716e-04, 1.65270756e-04, 1.63448769e-04,\n",
       "       1.62812987e-04, 1.62429492e-04, 1.61415560e-04, 1.59445578e-04,\n",
       "       1.58891453e-04, 1.58475714e-04, 1.57477085e-04, 1.57186224e-04,\n",
       "       1.55250487e-04, 1.54858420e-04, 1.54544774e-04, 1.53273036e-04,\n",
       "       1.52577310e-04, 1.51545908e-04, 1.50909483e-04, 1.48882497e-04,\n",
       "       1.48724655e-04, 1.47031638e-04, 1.45406616e-04, 1.44948462e-04,\n",
       "       1.44895976e-04, 1.43384663e-04, 1.43259407e-04, 1.42554824e-04,\n",
       "       1.41950443e-04, 1.41320518e-04, 1.40788638e-04, 1.40482231e-04,\n",
       "       1.38705549e-04, 1.37838703e-04, 1.36525419e-04, 1.36152942e-04,\n",
       "       1.35772260e-04, 1.34393674e-04, 1.34031280e-04, 1.33301905e-04,\n",
       "       1.32540042e-04, 1.32086192e-04, 1.31280647e-04, 1.30476543e-04,\n",
       "       1.29211215e-04, 1.28459394e-04, 1.27841103e-04, 1.27187069e-04,\n",
       "       1.26210687e-04, 1.25422324e-04, 1.25103516e-04, 1.23837810e-04,\n",
       "       1.23573747e-04, 1.22906968e-04, 1.22839758e-04, 1.21730566e-04,\n",
       "       1.20656262e-04, 1.20433916e-04, 1.19396160e-04, 1.19299855e-04,\n",
       "       1.18862813e-04, 1.17890175e-04, 1.17796954e-04, 1.16958422e-04,\n",
       "       1.16102542e-04, 1.14980185e-04, 1.14454683e-04, 1.14189909e-04,\n",
       "       1.13852501e-04, 1.13137053e-04, 1.12458904e-04, 1.11927078e-04,\n",
       "       1.10882449e-04, 1.10558534e-04, 1.10112929e-04, 1.09476429e-04,\n",
       "       1.08935430e-04, 1.08526399e-04, 1.07189649e-04, 1.06719647e-04,\n",
       "       1.06239693e-04, 1.05490747e-04, 1.05188131e-04, 1.04739551e-04,\n",
       "       1.04432589e-04, 1.03760738e-04, 1.03292725e-04, 1.02970062e-04,\n",
       "       1.02509556e-04, 1.02015031e-04, 1.01422485e-04, 1.01024026e-04,\n",
       "       1.00621032e-04, 9.96502584e-05, 9.91445029e-05, 9.91269804e-05,\n",
       "       9.85871949e-05, 9.82756705e-05, 9.76754139e-05, 9.71635906e-05,\n",
       "       9.70678441e-05, 9.61784310e-05, 9.60769611e-05, 9.47535543e-05,\n",
       "       9.43164990e-05, 9.39851732e-05, 9.31671610e-05, 9.30115905e-05,\n",
       "       9.29415750e-05, 9.18755578e-05, 9.17175046e-05, 9.13605851e-05,\n",
       "       9.12197338e-05, 9.05188551e-05, 9.02122767e-05, 8.95289534e-05,\n",
       "       8.90931620e-05, 8.88944061e-05, 8.82956644e-05, 8.78176995e-05,\n",
       "       8.68735102e-05, 8.66490888e-05, 8.63267152e-05, 8.61791858e-05,\n",
       "       8.54044618e-05, 8.50894434e-05, 8.49081867e-05, 8.42636239e-05,\n",
       "       8.41161573e-05, 8.36948289e-05, 8.33250385e-05, 8.30285444e-05,\n",
       "       8.18884524e-05, 8.13540276e-05, 8.12168126e-05, 8.07194553e-05,\n",
       "       8.04288991e-05, 7.99948337e-05, 7.96750385e-05, 7.94781702e-05,\n",
       "       7.84481090e-05, 7.81925226e-05, 7.79916622e-05, 7.75258271e-05,\n",
       "       7.74619023e-05, 7.67988293e-05, 7.65141316e-05, 7.61895275e-05,\n",
       "       7.56557823e-05, 7.51639345e-05, 7.47605603e-05, 7.44413396e-05,\n",
       "       7.42879934e-05, 7.42373317e-05, 7.32360222e-05, 7.31478617e-05,\n",
       "       7.28881167e-05, 7.25546189e-05, 7.20770762e-05, 7.19024568e-05,\n",
       "       7.15974055e-05, 7.13512129e-05, 7.10276705e-05, 7.06723933e-05,\n",
       "       7.04374874e-05, 6.99165056e-05, 6.96233993e-05, 6.90750688e-05,\n",
       "       6.87274115e-05, 6.85761954e-05, 6.85100535e-05, 6.81340860e-05,\n",
       "       6.79535978e-05, 6.78209162e-05, 6.72200233e-05, 6.69511841e-05,\n",
       "       6.67469086e-05, 6.65413502e-05, 6.57652403e-05, 6.53861082e-05,\n",
       "       6.52445376e-05, 6.49051406e-05, 6.43889879e-05, 6.41884941e-05,\n",
       "       6.40034484e-05, 6.38764425e-05, 6.33860113e-05, 6.28986918e-05,\n",
       "       6.27052377e-05, 6.22325216e-05, 6.21628434e-05, 6.16281133e-05,\n",
       "       6.14021714e-05, 6.11731012e-05, 6.08311835e-05, 6.06894297e-05,\n",
       "       6.03823499e-05, 5.99266858e-05, 5.97070695e-05, 5.95939013e-05,\n",
       "       5.93039896e-05, 5.90352800e-05, 5.89571662e-05, 5.86661759e-05,\n",
       "       5.80000507e-05, 5.75310998e-05, 5.71191426e-05, 5.69596654e-05,\n",
       "       5.66518762e-05, 5.64914351e-05, 5.62613933e-05, 5.60306133e-05,\n",
       "       5.57030729e-05, 5.55818881e-05, 5.49211555e-05, 5.48180959e-05,\n",
       "       5.46023509e-05, 5.44219491e-05, 5.40499709e-05, 5.38111622e-05,\n",
       "       5.36362531e-05, 5.32272009e-05, 5.28101087e-05, 5.25714456e-05,\n",
       "       5.25049192e-05, 5.22521800e-05, 5.19238171e-05, 5.17966299e-05,\n",
       "       5.13955255e-05, 5.12528738e-05, 5.09686499e-05, 5.09423126e-05,\n",
       "       5.06944910e-05, 5.03775753e-05, 5.01722688e-05, 5.01003879e-05,\n",
       "       4.97471050e-05, 4.95604736e-05, 4.92552674e-05, 4.88251378e-05,\n",
       "       4.86344721e-05, 4.83849126e-05, 4.81794980e-05, 4.80316354e-05,\n",
       "       4.78691866e-05, 4.75393545e-05, 4.73974729e-05, 4.70291186e-05,\n",
       "       4.67948447e-05, 4.65063254e-05, 4.61896539e-05, 4.60608561e-05,\n",
       "       4.56696800e-05, 4.53451573e-05, 4.52208190e-05, 4.51951293e-05,\n",
       "       4.49298974e-05, 4.47270364e-05, 4.45754028e-05, 4.44256990e-05,\n",
       "       4.42597582e-05, 4.41125082e-05, 4.36889973e-05, 4.35958070e-05,\n",
       "       4.32802127e-05, 4.31595525e-05, 4.30242968e-05, 4.27309692e-05,\n",
       "       4.25547234e-05, 4.22086886e-05, 4.20573923e-05, 4.17595861e-05,\n",
       "       4.17017370e-05, 4.12071608e-05, 4.09980905e-05, 4.08403764e-05,\n",
       "       4.07170380e-05, 4.06784146e-05, 4.03838387e-05, 4.00328548e-05,\n",
       "       3.99067214e-05, 3.96591113e-05, 3.95612362e-05, 3.94712285e-05,\n",
       "       3.93188803e-05, 3.87760122e-05, 3.86794255e-05, 3.86448150e-05,\n",
       "       3.84472784e-05, 3.81617938e-05, 3.79911346e-05, 3.79124894e-05,\n",
       "       3.76557986e-05, 3.75665952e-05, 3.74475145e-05, 3.68729481e-05,\n",
       "       3.68596475e-05, 3.67554616e-05, 3.64056671e-05, 3.63252139e-05,\n",
       "       3.62551146e-05, 3.61008708e-05, 3.57438263e-05, 3.56137801e-05,\n",
       "       3.54722016e-05, 3.52855441e-05, 3.50580068e-05, 3.49444189e-05,\n",
       "       3.47336415e-05, 3.46356423e-05, 3.42643584e-05, 3.42600733e-05,\n",
       "       3.39615018e-05, 3.39313266e-05, 3.38488010e-05, 3.34946700e-05,\n",
       "       3.34550192e-05, 3.32587914e-05, 3.31630354e-05, 3.30239272e-05,\n",
       "       3.29402156e-05, 3.27067375e-05, 3.26017128e-05, 3.23585442e-05,\n",
       "       3.21706767e-05, 3.20766675e-05, 3.18251432e-05, 3.16719340e-05,\n",
       "       3.14686284e-05, 3.12507601e-05, 3.11784228e-05, 3.10602126e-05,\n",
       "       3.06706535e-05, 3.05944767e-05, 3.04799746e-05, 3.03757007e-05,\n",
       "       3.01182786e-05, 3.00394507e-05, 2.98797371e-05, 2.96696792e-05,\n",
       "       2.94281534e-05, 2.93193165e-05, 2.92524761e-05, 2.91120777e-05,\n",
       "       2.88729285e-05, 2.85587765e-05, 2.84922047e-05, 2.83490579e-05,\n",
       "       2.82545955e-05, 2.81649523e-05, 2.79728021e-05, 2.77233709e-05,\n",
       "       2.75939585e-05, 2.75015148e-05, 2.71680394e-05, 2.71412821e-05,\n",
       "       2.68788431e-05, 2.67591003e-05, 2.67025609e-05, 2.64836929e-05,\n",
       "       2.61868348e-05, 2.61233758e-05, 2.59245009e-05, 2.58314154e-05,\n",
       "       2.57844256e-05, 2.55804392e-05, 2.53938030e-05, 2.51932188e-05,\n",
       "       2.50368429e-05, 2.49495585e-05, 2.45971122e-05, 2.45551441e-05,\n",
       "       2.42981562e-05, 2.41262843e-05, 2.40413181e-05, 2.39730430e-05,\n",
       "       2.38519458e-05, 2.37570163e-05, 2.35741984e-05, 2.34508566e-05,\n",
       "       2.33256739e-05, 2.31641459e-05, 2.30073529e-05, 2.29653887e-05,\n",
       "       2.27624528e-05, 2.26040747e-05, 2.24588111e-05, 2.23345534e-05,\n",
       "       2.22374095e-05, 2.21088535e-05, 2.20946861e-05, 2.17960404e-05,\n",
       "       2.17120402e-05, 2.15372192e-05, 2.13065926e-05, 2.12932700e-05,\n",
       "       2.11387701e-05, 2.09793477e-05, 2.08496700e-05, 2.06530162e-05,\n",
       "       2.05366505e-05, 2.03343468e-05, 2.01761623e-05, 2.00348738e-05,\n",
       "       1.99724918e-05, 1.98666251e-05, 1.97628401e-05, 1.95845348e-05,\n",
       "       1.93601936e-05, 1.92022630e-05, 1.90480861e-05, 1.87617708e-05,\n",
       "       1.87128905e-05, 1.85103317e-05, 1.83728874e-05, 1.83062076e-05,\n",
       "       1.80364486e-05, 1.79120916e-05, 1.78759969e-05, 1.76920063e-05,\n",
       "       1.75538921e-05, 1.74837718e-05, 1.73006467e-05, 1.71497012e-05,\n",
       "       1.69897100e-05, 1.69121120e-05, 1.67656371e-05, 1.64088788e-05,\n",
       "       1.62856425e-05, 1.61838386e-05, 1.58438741e-05, 1.57444591e-05,\n",
       "       1.56141987e-05, 1.54822303e-05, 1.53579953e-05, 1.52517917e-05,\n",
       "       1.50247559e-05, 1.47008366e-05, 1.45878861e-05, 1.43419774e-05,\n",
       "       1.41459551e-05, 1.41034257e-05, 1.39111191e-05, 1.33816552e-05,\n",
       "       1.33186119e-05, 1.28257485e-05, 1.27041813e-05, 1.24523479e-05,\n",
       "       1.22987915e-05, 1.19965561e-05, 1.12323807e-05, 1.05883584e-05,\n",
       "       1.02599802e-05, 8.49662792e-06, 5.88741240e-06, 1.80170275e-07])"
      ]
     },
     "execution_count": 13,
     "metadata": {},
     "output_type": "execute_result"
    }
   ],
   "source": [
    "# features sorted based on eigenvalues\n",
    "pca.explained_variance_  "
   ]
  },
  {
   "cell_type": "markdown",
   "id": "034639b5",
   "metadata": {
    "papermill": {
     "duration": 0.008298,
     "end_time": "2023-01-06T08:40:30.906230",
     "exception": false,
     "start_time": "2023-01-06T08:40:30.897932",
     "status": "completed"
    },
    "tags": []
   },
   "source": [
    "now lets find the percentage"
   ]
  },
  {
   "cell_type": "code",
   "execution_count": 14,
   "id": "b4ba5f63",
   "metadata": {
    "execution": {
     "iopub.execute_input": "2023-01-06T08:40:30.924854Z",
     "iopub.status.busy": "2023-01-06T08:40:30.924549Z",
     "iopub.status.idle": "2023-01-06T08:40:30.936669Z",
     "shell.execute_reply": "2023-01-06T08:40:30.935816Z"
    },
    "papermill": {
     "duration": 0.023616,
     "end_time": "2023-01-06T08:40:30.938326",
     "exception": false,
     "start_time": "2023-01-06T08:40:30.914710",
     "status": "completed"
    },
    "tags": []
   },
   "outputs": [
    {
     "data": {
      "text/plain": [
       "array([2.22210941e-01, 5.41464951e-02, 4.63255389e-02, 3.70549138e-02,\n",
       "       3.12639849e-02, 2.86852828e-02, 2.03030532e-02, 1.93308980e-02,\n",
       "       1.68029509e-02, 1.49706197e-02, 1.31206913e-02, 1.25167406e-02,\n",
       "       1.11918048e-02, 1.07169379e-02, 1.02961664e-02, 9.49675676e-03,\n",
       "       9.06544540e-03, 8.78635519e-03, 8.34016571e-03, 7.89507850e-03,\n",
       "       7.40366976e-03, 6.98885679e-03, 6.69435551e-03, 6.57183965e-03,\n",
       "       6.28999847e-03, 6.15330298e-03, 6.00819678e-03, 5.68113367e-03,\n",
       "       5.50435984e-03, 5.49600174e-03, 5.27620467e-03, 5.14650139e-03,\n",
       "       4.98404591e-03, 4.68061149e-03, 4.49676159e-03, 4.29667992e-03,\n",
       "       4.26067731e-03, 4.10121956e-03, 4.02299108e-03, 3.97509692e-03,\n",
       "       3.76617965e-03, 3.60053322e-03, 3.54570738e-03, 3.48792484e-03,\n",
       "       3.40336463e-03, 3.36756630e-03, 3.30360287e-03, 3.19582407e-03,\n",
       "       3.12422625e-03, 3.09705244e-03, 2.99454978e-03, 2.90674752e-03,\n",
       "       2.89044969e-03, 2.85127363e-03, 2.75078902e-03, 2.71756071e-03,\n",
       "       2.70040154e-03, 2.60652060e-03, 2.56651724e-03, 2.55053790e-03,\n",
       "       2.51963336e-03, 2.44917761e-03, 2.38739781e-03, 2.38452214e-03,\n",
       "       2.33853126e-03, 2.26155951e-03, 2.24824373e-03, 2.23301914e-03,\n",
       "       2.19861057e-03, 2.17228164e-03, 2.10933980e-03, 2.07724553e-03,\n",
       "       2.06238967e-03, 2.03744320e-03, 1.98792085e-03, 1.94633873e-03,\n",
       "       1.91202146e-03, 1.89639479e-03, 1.85181261e-03, 1.82897363e-03,\n",
       "       1.80598294e-03, 1.77195137e-03, 1.75402724e-03, 1.73601664e-03,\n",
       "       1.72311681e-03, 1.70547741e-03, 1.66109285e-03, 1.64865817e-03,\n",
       "       1.61571450e-03, 1.60806622e-03, 1.56912520e-03, 1.53953636e-03,\n",
       "       1.52624352e-03, 1.51733225e-03, 1.49571875e-03, 1.48256500e-03,\n",
       "       1.46128938e-03, 1.43959852e-03, 1.43179592e-03, 1.40371522e-03,\n",
       "       1.39215367e-03, 1.36866782e-03, 1.35693377e-03, 1.34373847e-03,\n",
       "       1.31925043e-03, 1.29029034e-03, 1.28247875e-03, 1.27100237e-03,\n",
       "       1.24873774e-03, 1.24557778e-03, 1.23234467e-03, 1.21565094e-03,\n",
       "       1.19815650e-03, 1.18082918e-03, 1.17667030e-03, 1.16409360e-03,\n",
       "       1.15015100e-03, 1.14595455e-03, 1.13557944e-03, 1.10801773e-03,\n",
       "       1.10345514e-03, 1.09199890e-03, 1.06786687e-03, 1.05865092e-03,\n",
       "       1.05141338e-03, 1.04022334e-03, 1.01837319e-03, 1.01473946e-03,\n",
       "       9.94997600e-04, 9.86680201e-04, 9.79359601e-04, 9.60191802e-04,\n",
       "       9.52822758e-04, 9.45147625e-04, 9.37440204e-04, 9.28707229e-04,\n",
       "       9.07978051e-04, 9.03497252e-04, 8.97691090e-04, 8.87255472e-04,\n",
       "       8.84125030e-04, 8.77882447e-04, 8.67039472e-04, 8.62878183e-04,\n",
       "       8.55336411e-04, 8.40890520e-04, 8.29801793e-04, 8.24031577e-04,\n",
       "       8.16529429e-04, 8.13217728e-04, 8.01605265e-04, 7.94453774e-04,\n",
       "       7.91816462e-04, 7.77812350e-04, 7.69659209e-04, 7.53491290e-04,\n",
       "       7.47864144e-04, 7.43590169e-04, 7.36268957e-04, 7.30792495e-04,\n",
       "       7.27653110e-04, 7.16296612e-04, 7.05845425e-04, 6.95240321e-04,\n",
       "       6.92232834e-04, 6.83344027e-04, 6.80210686e-04, 6.78104811e-04,\n",
       "       6.66865758e-04, 6.63327487e-04, 6.61552766e-04, 6.56406361e-04,\n",
       "       6.48452458e-04, 6.45651749e-04, 6.38327000e-04, 6.31365887e-04,\n",
       "       6.24282609e-04, 6.21266918e-04, 6.09424145e-04, 6.06943927e-04,\n",
       "       6.03335623e-04, 5.98744897e-04, 5.96737850e-04, 5.95908802e-04,\n",
       "       5.86781642e-04, 5.78632876e-04, 5.67801738e-04, 5.62030457e-04,\n",
       "       5.58908152e-04, 5.54290401e-04, 5.50834249e-04, 5.46047683e-04,\n",
       "       5.38786231e-04, 5.34892258e-04, 5.32140975e-04, 5.31146420e-04,\n",
       "       5.21384699e-04, 5.18366204e-04, 5.14501892e-04, 5.08403758e-04,\n",
       "       5.07692432e-04, 5.04656110e-04, 5.01478162e-04, 4.96080408e-04,\n",
       "       4.91196451e-04, 4.86858796e-04, 4.83109951e-04, 4.81909068e-04,\n",
       "       4.73913702e-04, 4.71163931e-04, 4.70248188e-04, 4.66745684e-04,\n",
       "       4.62462098e-04, 4.57434745e-04, 4.57183401e-04, 4.52970732e-04,\n",
       "       4.46262378e-04, 4.44785831e-04, 4.37793906e-04, 4.35986602e-04,\n",
       "       4.30835658e-04, 4.30383645e-04, 4.26514496e-04, 4.23685135e-04,\n",
       "       4.18927984e-04, 4.17886283e-04, 4.13751284e-04, 4.08678629e-04,\n",
       "       4.07212446e-04, 4.01593647e-04, 3.98729750e-04, 3.96358213e-04,\n",
       "       3.92019518e-04, 3.90746998e-04, 3.89217108e-04, 3.84185438e-04,\n",
       "       3.82506203e-04, 3.80167138e-04, 3.77615601e-04, 3.75562249e-04,\n",
       "       3.70496000e-04, 3.69396043e-04, 3.66127466e-04, 3.62249986e-04,\n",
       "       3.61233571e-04, 3.57060911e-04, 3.54310241e-04, 3.53284032e-04,\n",
       "       3.51719100e-04, 3.50455367e-04, 3.44579059e-04, 3.41965828e-04,\n",
       "       3.38979663e-04, 3.37213348e-04, 3.36752710e-04, 3.33038724e-04,\n",
       "       3.30337245e-04, 3.28522819e-04, 3.26863090e-04, 3.26031820e-04,\n",
       "       3.23051252e-04, 3.19000849e-04, 3.17969079e-04, 3.14672377e-04,\n",
       "       3.12980666e-04, 3.11633178e-04, 3.09851706e-04, 3.06167181e-04,\n",
       "       3.04951446e-04, 3.02356279e-04, 3.01018942e-04, 2.99345413e-04,\n",
       "       2.98447936e-04, 2.95771628e-04, 2.94768404e-04, 2.93361957e-04,\n",
       "       2.89597908e-04, 2.86782320e-04, 2.85785612e-04, 2.84408799e-04,\n",
       "       2.81383437e-04, 2.78972424e-04, 2.78554133e-04, 2.76660599e-04,\n",
       "       2.75602386e-04, 2.74251190e-04, 2.71493096e-04, 2.70031709e-04,\n",
       "       2.67568944e-04, 2.67105392e-04, 2.64201656e-04, 2.61649024e-04,\n",
       "       2.59029314e-04, 2.58150826e-04, 2.56963904e-04, 2.55829939e-04,\n",
       "       2.54242915e-04, 2.52055562e-04, 2.51073818e-04, 2.49361615e-04,\n",
       "       2.47079334e-04, 2.46061127e-04, 2.43602593e-04, 2.43075388e-04,\n",
       "       2.42533983e-04, 2.40941278e-04, 2.38679310e-04, 2.37732597e-04,\n",
       "       2.35349218e-04, 2.33242393e-04, 2.32838157e-04, 2.31887996e-04,\n",
       "       2.29799512e-04, 2.28425288e-04, 2.27102064e-04, 2.24598433e-04,\n",
       "       2.23724792e-04, 2.23197822e-04, 2.21804556e-04, 2.19097562e-04,\n",
       "       2.18336128e-04, 2.17764852e-04, 2.16392615e-04, 2.15992936e-04,\n",
       "       2.13332999e-04, 2.12794251e-04, 2.12363264e-04, 2.10615741e-04,\n",
       "       2.09659730e-04, 2.08242458e-04, 2.07367932e-04, 2.04582608e-04,\n",
       "       2.04365714e-04, 2.02039304e-04, 1.99806326e-04, 1.99176767e-04,\n",
       "       1.99104645e-04, 1.97027917e-04, 1.96855801e-04, 1.95887619e-04,\n",
       "       1.95057125e-04, 1.94191531e-04, 1.93460664e-04, 1.93039624e-04,\n",
       "       1.90598248e-04, 1.89407095e-04, 1.87602485e-04, 1.87090656e-04,\n",
       "       1.86567552e-04, 1.84673208e-04, 1.84175235e-04, 1.83172986e-04,\n",
       "       1.82126094e-04, 1.81502448e-04, 1.80395532e-04, 1.79290594e-04,\n",
       "       1.77551881e-04, 1.76518787e-04, 1.75669181e-04, 1.74770459e-04,\n",
       "       1.73428792e-04, 1.72345486e-04, 1.71907405e-04, 1.70168170e-04,\n",
       "       1.69805316e-04, 1.68889081e-04, 1.68796726e-04, 1.67272562e-04,\n",
       "       1.65796338e-04, 1.65490807e-04, 1.64064805e-04, 1.63932470e-04,\n",
       "       1.63331922e-04, 1.61995399e-04, 1.61867301e-04, 1.60715057e-04,\n",
       "       1.59538975e-04, 1.57996719e-04, 1.57274617e-04, 1.56910784e-04,\n",
       "       1.56447146e-04, 1.55464033e-04, 1.54532174e-04, 1.53801380e-04,\n",
       "       1.52365934e-04, 1.51920835e-04, 1.51308519e-04, 1.50433892e-04,\n",
       "       1.49690493e-04, 1.49128435e-04, 1.47291578e-04, 1.46645739e-04,\n",
       "       1.45986223e-04, 1.44957081e-04, 1.44541250e-04, 1.43924846e-04,\n",
       "       1.43503044e-04, 1.42579839e-04, 1.41936732e-04, 1.41493354e-04,\n",
       "       1.40860563e-04, 1.40181026e-04, 1.39366796e-04, 1.38819264e-04,\n",
       "       1.38265501e-04, 1.36931541e-04, 1.36236572e-04, 1.36212494e-04,\n",
       "       1.35470763e-04, 1.35042691e-04, 1.34217865e-04, 1.33514558e-04,\n",
       "       1.33382991e-04, 1.32160829e-04, 1.32021397e-04, 1.30202876e-04,\n",
       "       1.29602309e-04, 1.29147027e-04, 1.28022979e-04, 1.27809206e-04,\n",
       "       1.27712997e-04, 1.26248160e-04, 1.26030975e-04, 1.25540525e-04,\n",
       "       1.25346978e-04, 1.24383886e-04, 1.23962610e-04, 1.23023641e-04,\n",
       "       1.22424810e-04, 1.22151696e-04, 1.21328952e-04, 1.20672170e-04,\n",
       "       1.19374740e-04, 1.19066357e-04, 1.18623377e-04, 1.18420654e-04,\n",
       "       1.17356089e-04, 1.16923215e-04, 1.16674147e-04, 1.15788439e-04,\n",
       "       1.15585802e-04, 1.15006846e-04, 1.14498709e-04, 1.14091290e-04,\n",
       "       1.12524666e-04, 1.11790301e-04, 1.11601751e-04, 1.10918322e-04,\n",
       "       1.10519062e-04, 1.09922604e-04, 1.09483166e-04, 1.09212645e-04,\n",
       "       1.07797216e-04, 1.07446010e-04, 1.07170003e-04, 1.06529889e-04,\n",
       "       1.06442049e-04, 1.05530906e-04, 1.05139697e-04, 1.04693652e-04,\n",
       "       1.03960221e-04, 1.03284362e-04, 1.02730077e-04, 1.02291429e-04,\n",
       "       1.02080713e-04, 1.02011098e-04, 1.00635177e-04, 1.00514034e-04,\n",
       "       1.00157113e-04, 9.96988462e-05, 9.90426446e-05, 9.88026964e-05,\n",
       "       9.83835190e-05, 9.80452205e-05, 9.76006340e-05, 9.71124400e-05,\n",
       "       9.67896508e-05, 9.60737585e-05, 9.56709950e-05, 9.49175223e-05,\n",
       "       9.44397990e-05, 9.42320099e-05, 9.41411229e-05, 9.36244978e-05,\n",
       "       9.33764852e-05, 9.31941645e-05, 9.23684648e-05, 9.19990472e-05,\n",
       "       9.17183479e-05, 9.14358857e-05, 9.03694165e-05, 8.98484431e-05,\n",
       "       8.96539079e-05, 8.91875353e-05, 8.84782789e-05, 8.82027761e-05,\n",
       "       8.79485009e-05, 8.77739793e-05, 8.71000674e-05, 8.64304312e-05,\n",
       "       8.61646019e-05, 8.55150326e-05, 8.54192863e-05, 8.46845023e-05,\n",
       "       8.43740307e-05, 8.40592605e-05, 8.35894240e-05, 8.33946372e-05,\n",
       "       8.29726723e-05, 8.23465346e-05, 8.20447552e-05, 8.18892483e-05,\n",
       "       8.14908745e-05, 8.11216349e-05, 8.10142970e-05, 8.06144411e-05,\n",
       "       7.96991042e-05, 7.90547089e-05, 7.84886297e-05, 7.82694887e-05,\n",
       "       7.78465489e-05, 7.76260834e-05, 7.73099782e-05, 7.69928585e-05,\n",
       "       7.65427782e-05, 7.63762556e-05, 7.54683289e-05, 7.53267124e-05,\n",
       "       7.50302527e-05, 7.47823587e-05, 7.42712156e-05, 7.39430634e-05,\n",
       "       7.37027171e-05, 7.31406297e-05, 7.25674945e-05, 7.22395424e-05,\n",
       "       7.21481271e-05, 7.18008328e-05, 7.13496223e-05, 7.11748517e-05,\n",
       "       7.06236855e-05, 7.04276648e-05, 7.00371068e-05, 7.00009160e-05,\n",
       "       6.96603791e-05, 6.92248986e-05, 6.89427825e-05, 6.88440095e-05,\n",
       "       6.83585559e-05, 6.81021017e-05, 6.76827113e-05, 6.70916612e-05,\n",
       "       6.68296634e-05, 6.64867383e-05, 6.62044738e-05, 6.60012926e-05,\n",
       "       6.57780682e-05, 6.53248390e-05, 6.51298764e-05, 6.46237129e-05,\n",
       "       6.43017921e-05, 6.39053317e-05, 6.34701866e-05, 6.32932028e-05,\n",
       "       6.27556794e-05, 6.23097459e-05, 6.21388900e-05, 6.21035891e-05,\n",
       "       6.17391284e-05, 6.14603728e-05, 6.12520098e-05, 6.10462986e-05,\n",
       "       6.08182758e-05, 6.06159365e-05, 6.00339812e-05, 5.99059264e-05,\n",
       "       5.94722615e-05, 5.93064598e-05, 5.91206020e-05, 5.87175343e-05,\n",
       "       5.84753513e-05, 5.79998575e-05, 5.77919581e-05, 5.73827361e-05,\n",
       "       5.73032444e-05, 5.66236368e-05, 5.63363488e-05, 5.61196305e-05,\n",
       "       5.59501486e-05, 5.58970753e-05, 5.54922923e-05, 5.50099979e-05,\n",
       "       5.48366753e-05, 5.44964290e-05, 5.43619368e-05, 5.42382552e-05,\n",
       "       5.40289104e-05, 5.32829438e-05, 5.31502219e-05, 5.31026629e-05,\n",
       "       5.28312236e-05, 5.24389332e-05, 5.22044267e-05, 5.20963586e-05,\n",
       "       5.17436345e-05, 5.16210580e-05, 5.14574268e-05, 5.06679028e-05,\n",
       "       5.06496262e-05, 5.05064622e-05, 5.00258020e-05, 4.99152496e-05,\n",
       "       4.98189246e-05, 4.96069750e-05, 4.91163525e-05, 4.89376534e-05,\n",
       "       4.87431073e-05, 4.84866172e-05, 4.81739533e-05, 4.80178698e-05,\n",
       "       4.77282361e-05, 4.75935733e-05, 4.70833843e-05, 4.70774960e-05,\n",
       "       4.66672225e-05, 4.66257582e-05, 4.65123579e-05, 4.60257390e-05,\n",
       "       4.59712540e-05, 4.57016133e-05, 4.55700329e-05, 4.53788814e-05,\n",
       "       4.52638515e-05, 4.49430241e-05, 4.47987075e-05, 4.44645643e-05,\n",
       "       4.42064117e-05, 4.40772316e-05, 4.37316067e-05, 4.35210787e-05,\n",
       "       4.32417121e-05, 4.29423347e-05, 4.28429345e-05, 4.26804993e-05,\n",
       "       4.21451978e-05, 4.20405217e-05, 4.18831819e-05, 4.17398969e-05,\n",
       "       4.13861678e-05, 4.12778486e-05, 4.10583828e-05, 4.07697377e-05,\n",
       "       4.04378519e-05, 4.02882969e-05, 4.01964501e-05, 4.00035256e-05,\n",
       "       3.96749057e-05, 3.92432227e-05, 3.91517449e-05, 3.89550439e-05,\n",
       "       3.88252412e-05, 3.87020605e-05, 3.84380228e-05, 3.80952741e-05,\n",
       "       3.79174458e-05, 3.77904169e-05, 3.73321812e-05, 3.72954135e-05,\n",
       "       3.69347904e-05, 3.67702494e-05, 3.66925573e-05, 3.63918061e-05,\n",
       "       3.59838871e-05, 3.58966867e-05, 3.56234084e-05, 3.54954977e-05,\n",
       "       3.54309280e-05, 3.51506260e-05, 3.48941652e-05, 3.46185382e-05,\n",
       "       3.44036588e-05, 3.42837194e-05, 3.37994155e-05, 3.37417462e-05,\n",
       "       3.33886136e-05, 3.31524409e-05, 3.30356870e-05, 3.29418686e-05,\n",
       "       3.27754664e-05, 3.26450218e-05, 3.23938078e-05, 3.22243212e-05,\n",
       "       3.20523050e-05, 3.18303460e-05, 3.16148933e-05, 3.15572294e-05,\n",
       "       3.12783710e-05, 3.10607401e-05, 3.08611303e-05, 3.06903852e-05,\n",
       "       3.05568978e-05, 3.03802462e-05, 3.03607785e-05, 2.99504031e-05,\n",
       "       2.98349767e-05, 2.95947514e-05, 2.92778425e-05, 2.92595355e-05,\n",
       "       2.90472339e-05, 2.88281683e-05, 2.86499753e-05, 2.83797492e-05,\n",
       "       2.82198486e-05, 2.79418587e-05, 2.77244942e-05, 2.75303466e-05,\n",
       "       2.74446262e-05, 2.72991524e-05, 2.71565393e-05, 2.69115262e-05,\n",
       "       2.66032541e-05, 2.63862383e-05, 2.61743805e-05, 2.57809486e-05,\n",
       "       2.57137811e-05, 2.54354408e-05, 2.52465757e-05, 2.51549495e-05,\n",
       "       2.47842679e-05, 2.46133863e-05, 2.45637879e-05, 2.43109625e-05,\n",
       "       2.41211767e-05, 2.40248229e-05, 2.37731868e-05, 2.35657695e-05,\n",
       "       2.33459222e-05, 2.32392931e-05, 2.30380188e-05, 2.25477896e-05,\n",
       "       2.23784480e-05, 2.22385571e-05, 2.17714047e-05, 2.16347965e-05,\n",
       "       2.14558028e-05, 2.12744622e-05, 2.11037483e-05, 2.09578116e-05,\n",
       "       2.06458368e-05, 2.02007325e-05, 2.00455248e-05, 1.97076164e-05,\n",
       "       1.94382580e-05, 1.93798174e-05, 1.91155649e-05, 1.83880173e-05,\n",
       "       1.83013881e-05, 1.76241340e-05, 1.74570859e-05, 1.71110364e-05,\n",
       "       1.69000312e-05, 1.64847232e-05, 1.54346533e-05, 1.45496886e-05,\n",
       "       1.40984572e-05, 1.16753973e-05, 8.09001869e-06, 2.47575810e-07])"
      ]
     },
     "execution_count": 14,
     "metadata": {},
     "output_type": "execute_result"
    }
   ],
   "source": [
    "# Percentage contribution of each feature\n",
    "pca.explained_variance_ratio_"
   ]
  },
  {
   "cell_type": "markdown",
   "id": "ec5bd7f9",
   "metadata": {
    "papermill": {
     "duration": 0.008803,
     "end_time": "2023-01-06T08:40:30.956103",
     "exception": false,
     "start_time": "2023-01-06T08:40:30.947300",
     "status": "completed"
    },
    "tags": []
   },
   "source": [
    "finding the best cumulative sum of features to use"
   ]
  },
  {
   "cell_type": "code",
   "execution_count": 15,
   "id": "1c935c09",
   "metadata": {
    "execution": {
     "iopub.execute_input": "2023-01-06T08:40:30.975872Z",
     "iopub.status.busy": "2023-01-06T08:40:30.975313Z",
     "iopub.status.idle": "2023-01-06T08:40:31.195920Z",
     "shell.execute_reply": "2023-01-06T08:40:31.195090Z"
    },
    "papermill": {
     "duration": 0.232804,
     "end_time": "2023-01-06T08:40:31.197815",
     "exception": false,
     "start_time": "2023-01-06T08:40:30.965011",
     "status": "completed"
    },
    "tags": []
   },
   "outputs": [
    {
     "data": {
      "text/plain": [
       "Text(0.5, 1.0, 'Scree plot')"
      ]
     },
     "execution_count": 15,
     "metadata": {},
     "output_type": "execute_result"
    },
    {
     "data": {
      "image/png": "[encoded data removed]",
      "text/plain": [
       "<Figure size 504x288 with 1 Axes>"
      ]
     },
     "metadata": {
      "needs_background": "light"
     },
     "output_type": "display_data"
    }
   ],
   "source": [
    "import matplotlib.pyplot as plt\n",
    "import numpy as np\n",
    "plt.figure(figsize=(7,4))\n",
    "plt.plot(range(1,769,1),np.cumsum(pca.explained_variance_ratio_))\n",
    "plt.ylabel('Sum of variance ratio')\n",
    "plt.xlabel('Range of components')\n",
    "plt.grid()\n",
    "plt.title('Scree plot')\n"
   ]
  },
  {
   "cell_type": "markdown",
   "id": "f5b19730",
   "metadata": {
    "papermill": {
     "duration": 0.009246,
     "end_time": "2023-01-06T08:40:31.216642",
     "exception": false,
     "start_time": "2023-01-06T08:40:31.207396",
     "status": "completed"
    },
    "tags": []
   },
   "source": [
    "trying to find Range of Comp. at 0.98 variance"
   ]
  },
  {
   "cell_type": "code",
   "execution_count": 16,
   "id": "e6977949",
   "metadata": {
    "execution": {
     "iopub.execute_input": "2023-01-06T08:40:31.237483Z",
     "iopub.status.busy": "2023-01-06T08:40:31.236884Z",
     "iopub.status.idle": "2023-01-06T08:40:31.242454Z",
     "shell.execute_reply": "2023-01-06T08:40:31.241375Z"
    },
    "papermill": {
     "duration": 0.018095,
     "end_time": "2023-01-06T08:40:31.244190",
     "exception": false,
     "start_time": "2023-01-06T08:40:31.226095",
     "status": "completed"
    },
    "tags": []
   },
   "outputs": [
    {
     "name": "stdout",
     "output_type": "stream",
     "text": [
      "427.60462487864226\n"
     ]
    }
   ],
   "source": [
    "x_value = np.interp(0.98,np.cumsum(pca.explained_variance_ratio_), np.arange(1,769,1))\n",
    "print(x_value)"
   ]
  },
  {
   "cell_type": "markdown",
   "id": "abf5cec8",
   "metadata": {
    "papermill": {
     "duration": 0.009268,
     "end_time": "2023-01-06T08:40:31.262966",
     "exception": false,
     "start_time": "2023-01-06T08:40:31.253698",
     "status": "completed"
    },
    "tags": []
   },
   "source": [
    "therefore 427 is the number of features/ or the optimal components with 98 percent variance"
   ]
  },
  {
   "cell_type": "code",
   "execution_count": 17,
   "id": "edacdfe2",
   "metadata": {
    "execution": {
     "iopub.execute_input": "2023-01-06T08:40:31.283549Z",
     "iopub.status.busy": "2023-01-06T08:40:31.282912Z",
     "iopub.status.idle": "2023-01-06T08:40:37.510634Z",
     "shell.execute_reply": "2023-01-06T08:40:37.509292Z"
    },
    "papermill": {
     "duration": 6.240206,
     "end_time": "2023-01-06T08:40:37.512548",
     "exception": false,
     "start_time": "2023-01-06T08:40:31.272342",
     "status": "completed"
    },
    "tags": []
   },
   "outputs": [
    {
     "data": {
      "text/plain": [
       "PCA(n_components=427)"
      ]
     },
     "execution_count": 17,
     "metadata": {},
     "output_type": "execute_result"
    }
   ],
   "source": [
    "pca=PCA(n_components=427)\n",
    "pca.fit(X)"
   ]
  },
  {
   "cell_type": "markdown",
   "id": "40cf9def",
   "metadata": {
    "papermill": {
     "duration": 0.009097,
     "end_time": "2023-01-06T08:40:37.531188",
     "exception": false,
     "start_time": "2023-01-06T08:40:37.522091",
     "status": "completed"
    },
    "tags": []
   },
   "source": [
    "now let us see the cumulative ratio or percentage of these 427 features"
   ]
  },
  {
   "cell_type": "code",
   "execution_count": 18,
   "id": "e2f29b9f",
   "metadata": {
    "execution": {
     "iopub.execute_input": "2023-01-06T08:40:37.551601Z",
     "iopub.status.busy": "2023-01-06T08:40:37.550761Z",
     "iopub.status.idle": "2023-01-06T08:40:37.559788Z",
     "shell.execute_reply": "2023-01-06T08:40:37.559152Z"
    },
    "papermill": {
     "duration": 0.021125,
     "end_time": "2023-01-06T08:40:37.561434",
     "exception": false,
     "start_time": "2023-01-06T08:40:37.540309",
     "status": "completed"
    },
    "tags": []
   },
   "outputs": [
    {
     "data": {
      "text/plain": [
       "array([0.22221094, 0.27635744, 0.32268297, 0.35973789, 0.39100187,\n",
       "       0.41968716, 0.43999021, 0.45932111, 0.47612406, 0.49109468,\n",
       "       0.50421537, 0.51673211, 0.52792391, 0.53864085, 0.54893702,\n",
       "       0.55843378, 0.56749922, 0.57628558, 0.58462574, 0.59252082,\n",
       "       0.59992449, 0.60691335, 0.6136077 , 0.62017954, 0.62646954,\n",
       "       0.63262284, 0.63863104, 0.64431217, 0.64981653, 0.65531254,\n",
       "       0.66058874, 0.66573524, 0.67071929, 0.6753999 , 0.67989666,\n",
       "       0.68419334, 0.68845402, 0.69255524, 0.69657823, 0.70055333,\n",
       "       0.70431951, 0.70792004, 0.71146575, 0.71495367, 0.71835704,\n",
       "       0.7217246 , 0.7250282 , 0.72822403, 0.73134826, 0.73444531,\n",
       "       0.73743986, 0.7403466 , 0.74323705, 0.74608833, 0.74883912,\n",
       "       0.75155668, 0.75425708, 0.7568636 , 0.75943012, 0.76198066,\n",
       "       0.76450029, 0.76694947, 0.76933686, 0.77172139, 0.77405992,\n",
       "       0.77632148, 0.77856972, 0.78080274, 0.78300135, 0.78517363,\n",
       "       0.78728297, 0.78936022, 0.79142261, 0.79346005, 0.79544797,\n",
       "       0.79739431, 0.79930633, 0.80120273, 0.80305454, 0.80488351,\n",
       "       0.8066895 , 0.80846145, 0.81021547, 0.81195149, 0.81367461,\n",
       "       0.81538008, 0.81704118, 0.81868984, 0.82030555, 0.82191362,\n",
       "       0.82348274, 0.82502228, 0.82654852, 0.82806585, 0.82956157,\n",
       "       0.83104414, 0.83250543, 0.83394503, 0.83537682, 0.83678054,\n",
       "       0.83817269, 0.83954136, 0.84089829, 0.84224203, 0.84356128,\n",
       "       0.84485157, 0.84613405, 0.84740505, 0.84865379, 0.84989937,\n",
       "       0.85113171, 0.85234736, 0.85354552, 0.85472635, 0.85590302,\n",
       "       0.85706711, 0.85821726, 0.85936322, 0.8604988 , 0.86160682,\n",
       "       0.86271027, 0.86380227, 0.86487014, 0.86592879, 0.8669802 ,\n",
       "       0.86802042, 0.8690388 , 0.87005354, 0.87104853, 0.87203521,\n",
       "       0.87301457, 0.87397477, 0.87492759, 0.87587274, 0.87681018,\n",
       "       0.87773888, 0.87864686, 0.87955036, 0.88044805, 0.88133531,\n",
       "       0.88221943, 0.88309731, 0.88396435, 0.88482723, 0.88568257,\n",
       "       0.88652346, 0.88735326, 0.88817729, 0.88899382, 0.88980704,\n",
       "       0.89060864, 0.8914031 , 0.89219491, 0.89297273, 0.89374238,\n",
       "       0.89449588, 0.89524374, 0.89598733, 0.8967236 , 0.89745439,\n",
       "       0.89818204, 0.89889834, 0.89960419, 0.90029943, 0.90099166,\n",
       "       0.901675  , 0.90235521, 0.90303332, 0.90370018, 0.90436351,\n",
       "       0.90502506, 0.90568147, 0.90632992, 0.90697557, 0.9076139 ,\n",
       "       0.90824527, 0.90886955, 0.90949082, 0.91010024, 0.91070718,\n",
       "       0.91131052, 0.91190926, 0.912506  , 0.91310191, 0.91368869,\n",
       "       0.91426732, 0.91483513, 0.91539716, 0.91595606, 0.91651035,\n",
       "       0.91706119, 0.91760724, 0.91814602, 0.91868091, 0.91921305,\n",
       "       0.9197442 , 0.92026558, 0.92078395, 0.92129845, 0.92180685,\n",
       "       0.92231455, 0.9228192 , 0.92332068, 0.92381676, 0.92430795,\n",
       "       0.92479481, 0.92527792, 0.92575983, 0.92623374, 0.9267049 ,\n",
       "       0.92717515, 0.92764189, 0.92810436, 0.92856179, 0.92901897,\n",
       "       0.92947194, 0.9299182 , 0.93036298, 0.93080078, 0.93123676,\n",
       "       0.93166759, 0.93209797, 0.93252449, 0.93294817, 0.93336709,\n",
       "       0.93378498, 0.93419872, 0.9346074 , 0.93501461, 0.93541619,\n",
       "       0.93581492, 0.93621127, 0.93660329, 0.93699403, 0.93738324,\n",
       "       0.93776742, 0.93814993, 0.93853009, 0.9389077 , 0.93928326,\n",
       "       0.93965374, 0.94002313, 0.94038925, 0.94075149, 0.94111271,\n",
       "       0.94146977, 0.94182406, 0.94217733, 0.94252904, 0.94287949,\n",
       "       0.94322404, 0.94356598, 0.94390495, 0.94424215, 0.94457889,\n",
       "       0.94491191, 0.94524223, 0.94557074, 0.94589758, 0.94622359,\n",
       "       0.94654662, 0.9468656 , 0.94718353, 0.94749816, 0.94781111,\n",
       "       0.94812272, 0.94843255, 0.94873867, 0.94904359, 0.94934592,\n",
       "       0.94964691, 0.94994623, 0.95024462, 0.95054036, 0.95083509,\n",
       "       0.95112841, 0.95141795, 0.9517047 , 0.95199044, 0.95227479,\n",
       "       0.95255609, 0.952835  , 0.95311349, 0.95339006, 0.95366558,\n",
       "       0.95393979, 0.95421124, 0.95448115, 0.95474866, 0.95501571,\n",
       "       0.95527984, 0.95554138, 0.95580033, 0.95605838, 0.95631527,\n",
       "       0.95657102, 0.95682508, 0.95707705, 0.95732794, 0.95757713,\n",
       "       0.95782407, 0.95807002, 0.95831334, 0.95855626, 0.95879862,\n",
       "       0.9590394 , 0.95927793, 0.95951542, 0.95975052, 0.95998349,\n",
       "       0.96021613, 0.96044776, 0.96067724, 0.96090538, 0.96113223,\n",
       "       0.96135651, 0.96157991, 0.96180284, 0.9620243 , 0.96224315,\n",
       "       0.96246113, 0.96267844, 0.96289451, 0.96311026, 0.96332304,\n",
       "       0.96353547, 0.96374737, 0.9639573 , 0.9641665 , 0.96437396,\n",
       "       0.96458032, 0.96478446, 0.96498849, 0.96518992, 0.96538922,\n",
       "       0.96558786, 0.96578623, 0.9659827 , 0.96617903, 0.96637414,\n",
       "       0.9665686 , 0.96676162, 0.96695438, 0.96714634, 0.96733584,\n",
       "       0.96752459, 0.9677113 , 0.96789766, 0.96808335, 0.96826695,\n",
       "       0.96844996, 0.96863259, 0.96881336, 0.96899387, 0.96917245,\n",
       "       0.96935067, 0.96952731, 0.96970209, 0.96987658, 0.97005004,\n",
       "       0.97022208, 0.9703931 , 0.97056365, 0.9707321 , 0.97089928,\n",
       "       0.97106609, 0.97123225, 0.97139775, 0.97156222, 0.97172648,\n",
       "       0.9718888 , 0.97205053, 0.97221109, 0.97237152, 0.97253036,\n",
       "       0.97268872, 0.9728461 , 0.97300147, 0.97315636, 0.97331091,\n",
       "       0.97346438, 0.97361701, 0.97376948, 0.9739205 , 0.9740708 ,\n",
       "       0.97421965, 0.97436759, 0.97451484, 0.97466141, 0.97480706,\n",
       "       0.97495143, 0.97509403, 0.97523648, 0.97537803, 0.97551844,\n",
       "       0.97565794, 0.97579633, 0.9759344 , 0.97607204, 0.97620891,\n",
       "       0.97634533, 0.97648017, 0.97661342, 0.97674648, 0.97687875,\n",
       "       0.97701065, 0.9771416 , 0.97727175, 0.97740114, 0.97752995,\n",
       "       0.97765728, 0.97778401, 0.97790956, 0.97803389, 0.97815692,\n",
       "       0.97827953, 0.97840137, 0.97852288, 0.97864317, 0.97876266,\n",
       "       0.97888141, 0.97899959, 0.97911723, 0.97923403, 0.97935039,\n",
       "       0.97946501, 0.97957882])"
      ]
     },
     "execution_count": 18,
     "metadata": {},
     "output_type": "execute_result"
    }
   ],
   "source": [
    "pca.explained_variance_ratio_.cumsum()"
   ]
  },
  {
   "cell_type": "markdown",
   "id": "357951b9",
   "metadata": {
    "papermill": {
     "duration": 0.009269,
     "end_time": "2023-01-06T08:40:37.580322",
     "exception": false,
     "start_time": "2023-01-06T08:40:37.571053",
     "status": "completed"
    },
    "tags": []
   },
   "source": [
    "Splitting of the dataset into train and test"
   ]
  },
  {
   "cell_type": "code",
   "execution_count": 19,
   "id": "6ebe0f95",
   "metadata": {
    "execution": {
     "iopub.execute_input": "2023-01-06T08:40:37.600974Z",
     "iopub.status.busy": "2023-01-06T08:40:37.600393Z",
     "iopub.status.idle": "2023-01-06T08:40:37.714017Z",
     "shell.execute_reply": "2023-01-06T08:40:37.713281Z"
    },
    "papermill": {
     "duration": 0.12643,
     "end_time": "2023-01-06T08:40:37.716119",
     "exception": false,
     "start_time": "2023-01-06T08:40:37.589689",
     "status": "completed"
    },
    "tags": []
   },
   "outputs": [],
   "source": [
    "#from sklearn.ensemble import RandomForestClassifier\n",
    "#model=RandomForestClassifier(n_estimators=250,max_depth=5,random_state=1)\n",
    "from xgboost import XGBClassifier\n",
    "model=XGBClassifier(n_estimators=600)"
   ]
  },
  {
   "cell_type": "markdown",
   "id": "cc836571",
   "metadata": {
    "papermill": {
     "duration": 0.009927,
     "end_time": "2023-01-06T08:40:37.736477",
     "exception": false,
     "start_time": "2023-01-06T08:40:37.726550",
     "status": "completed"
    },
    "tags": []
   },
   "source": [
    "fitting the model to the dataset"
   ]
  },
  {
   "cell_type": "code",
   "execution_count": 20,
   "id": "218737fb",
   "metadata": {
    "execution": {
     "iopub.execute_input": "2023-01-06T08:40:37.757603Z",
     "iopub.status.busy": "2023-01-06T08:40:37.756947Z",
     "iopub.status.idle": "2023-01-06T10:05:30.858431Z",
     "shell.execute_reply": "2023-01-06T10:05:30.857626Z"
    },
    "papermill": {
     "duration": 5093.114557,
     "end_time": "2023-01-06T10:05:30.860638",
     "exception": false,
     "start_time": "2023-01-06T08:40:37.746081",
     "status": "completed"
    },
    "tags": []
   },
   "outputs": [],
   "source": [
    "model.fit(X,y)\n",
    "# Making predictions with the trained model\n",
    "y_pred = model.predict(X_test)"
   ]
  },
  {
   "cell_type": "markdown",
   "id": "cce89fe3",
   "metadata": {
    "papermill": {
     "duration": 0.009664,
     "end_time": "2023-01-06T10:05:30.880939",
     "exception": false,
     "start_time": "2023-01-06T10:05:30.871275",
     "status": "completed"
    },
    "tags": []
   },
   "source": [
    "time to submit predictions"
   ]
  },
  {
   "cell_type": "code",
   "execution_count": 21,
   "id": "419c4634",
   "metadata": {
    "execution": {
     "iopub.execute_input": "2023-01-06T10:05:30.902419Z",
     "iopub.status.busy": "2023-01-06T10:05:30.901828Z",
     "iopub.status.idle": "2023-01-06T10:05:30.920750Z",
     "shell.execute_reply": "2023-01-06T10:05:30.919504Z"
    },
    "papermill": {
     "duration": 0.032408,
     "end_time": "2023-01-06T10:05:30.923117",
     "exception": false,
     "start_time": "2023-01-06T10:05:30.890709",
     "status": "completed"
    },
    "tags": []
   },
   "outputs": [
    {
     "name": "stdout",
     "output_type": "stream",
     "text": [
      "Submission saved!\n"
     ]
    }
   ],
   "source": [
    "output=pd.DataFrame({'Id':test_data.index,'Predicted':y_pred})\n",
    "output.to_csv('submission.csv',index=False)\n",
    "print(\"Submission saved!\")"
   ]
  },
  {
   "cell_type": "code",
   "execution_count": null,
   "id": "9987a9d7",
   "metadata": {
    "papermill": {
     "duration": 0.009806,
     "end_time": "2023-01-06T10:05:30.943218",
     "exception": false,
     "start_time": "2023-01-06T10:05:30.933412",
     "status": "completed"
    },
    "tags": []
   },
   "outputs": [],
   "source": []
  }
 ],
 "metadata": {
  "kernelspec": {
   "display_name": "Python 3",
   "language": "python",
   "name": "python3"
  },
  "language_info": {
   "codemirror_mode": {
    "name": "ipython",
    "version": 3
   },
   "file_extension": ".py",
   "mimetype": "text/x-python",
   "name": "python",
   "nbconvert_exporter": "python",
   "pygments_lexer": "ipython3",
   "version": "3.7.12"
  },
  "papermill": {
   "default_parameters": {},
   "duration": 5126.813917,
   "end_time": "2023-01-06T10:05:31.682775",
   "environment_variables": {},
   "exception": null,
   "input_path": "__notebook__.ipynb",
   "output_path": "__notebook__.ipynb",
   "parameters": {},
   "start_time": "2023-01-06T08:40:04.868858",
   "version": "2.3.4"
  }
 },
 "nbformat": 4,
 "nbformat_minor": 5
}
