{
 "cells": [
  {
   "cell_type": "code",
   "execution_count": 1,
   "id": "69c7da1c",
   "metadata": {
    "_cell_guid": "b1076dfc-b9ad-4769-8c92-a6c4dae69d19",
    "_uuid": "8f2839f25d086af736a60e9eeb907d3b93b6e0e5",
    "execution": {
     "iopub.execute_input": "2023-01-04T09:20:29.317514Z",
     "iopub.status.busy": "2023-01-04T09:20:29.316794Z",
     "iopub.status.idle": "2023-01-04T09:20:29.335543Z",
     "shell.execute_reply": "2023-01-04T09:20:29.333650Z"
    },
    "papermill": {
     "duration": 0.031855,
     "end_time": "2023-01-04T09:20:29.338571",
     "exception": false,
     "start_time": "2023-01-04T09:20:29.306716",
     "status": "completed"
    },
    "tags": []
   },
   "outputs": [
    {
     "name": "stdout",
     "output_type": "stream",
     "text": [
      "/kaggle/input/prometeo23-pre-event-ml/sample_submission.csv\n",
      "/kaggle/input/prometeo23-pre-event-ml/train.csv\n",
      "/kaggle/input/prometeo23-pre-event-ml/test.csv\n"
     ]
    }
   ],
   "source": [
    "# This Python 3 environment comes with many helpful analytics libraries installed\n",
    "# It is defined by the kaggle/python Docker image: https://github.com/kaggle/docker-python\n",
    "# For example, here's several helpful packages to load\n",
    "\n",
    "import numpy as np # linear algebra\n",
    "import pandas as pd # data processing, CSV file I/O (e.g. pd.read_csv)\n",
    "\n",
    "# Input data files are available in the read-only \"../input/\" directory\n",
    "# For example, running this (by clicking run or pressing Shift+Enter) will list all files under the input directory\n",
    "\n",
    "import os\n",
    "for dirname, _, filenames in os.walk('/kaggle/input'):\n",
    "    for filename in filenames:\n",
    "        print(os.path.join(dirname, filename))\n",
    "\n",
    "# You can write up to 20GB to the current directory (/kaggle/working/) that gets preserved as output when you create a version using \"Save & Run All\" \n",
    "# You can also write temporary files to /kaggle/temp/, but they won't be saved outside of the current session"
   ]
  },
  {
   "cell_type": "code",
   "execution_count": 2,
   "id": "cbba0d98",
   "metadata": {
    "execution": {
     "iopub.execute_input": "2023-01-04T09:20:29.355379Z",
     "iopub.status.busy": "2023-01-04T09:20:29.354549Z",
     "iopub.status.idle": "2023-01-04T09:20:42.012335Z",
     "shell.execute_reply": "2023-01-04T09:20:42.011133Z"
    },
    "papermill": {
     "duration": 12.668866,
     "end_time": "2023-01-04T09:20:42.014782",
     "exception": false,
     "start_time": "2023-01-04T09:20:29.345916",
     "status": "completed"
    },
    "tags": []
   },
   "outputs": [
    {
     "data": {
      "text/html": [
       "<div>\n",
       "<style scoped>\n",
       "    .dataframe tbody tr th:only-of-type {\n",
       "        vertical-align: middle;\n",
       "    }\n",
       "\n",
       "    .dataframe tbody tr th {\n",
       "        vertical-align: top;\n",
       "    }\n",
       "\n",
       "    .dataframe thead th {\n",
       "        text-align: right;\n",
       "    }\n",
       "</style>\n",
       "<table border=\"1\" class=\"dataframe\">\n",
       "  <thead>\n",
       "    <tr style=\"text-align: right;\">\n",
       "      <th></th>\n",
       "      <th>f_0</th>\n",
       "      <th>f_1</th>\n",
       "      <th>f_2</th>\n",
       "      <th>f_3</th>\n",
       "      <th>f_4</th>\n",
       "      <th>f_5</th>\n",
       "      <th>f_6</th>\n",
       "      <th>f_7</th>\n",
       "      <th>f_8</th>\n",
       "      <th>f_9</th>\n",
       "      <th>...</th>\n",
       "      <th>f_759</th>\n",
       "      <th>f_760</th>\n",
       "      <th>f_761</th>\n",
       "      <th>f_762</th>\n",
       "      <th>f_763</th>\n",
       "      <th>f_764</th>\n",
       "      <th>f_765</th>\n",
       "      <th>f_766</th>\n",
       "      <th>f_767</th>\n",
       "      <th>label</th>\n",
       "    </tr>\n",
       "  </thead>\n",
       "  <tbody>\n",
       "    <tr>\n",
       "      <th>0</th>\n",
       "      <td>55.391998</td>\n",
       "      <td>402.842010</td>\n",
       "      <td>1179.939941</td>\n",
       "      <td>137.306000</td>\n",
       "      <td>275.936005</td>\n",
       "      <td>-668.432983</td>\n",
       "      <td>738.448975</td>\n",
       "      <td>509.286987</td>\n",
       "      <td>413.082001</td>\n",
       "      <td>-1350.576050</td>\n",
       "      <td>...</td>\n",
       "      <td>-697.203979</td>\n",
       "      <td>-219.283005</td>\n",
       "      <td>225.966003</td>\n",
       "      <td>-43.695000</td>\n",
       "      <td>626.716980</td>\n",
       "      <td>-295.596985</td>\n",
       "      <td>-635.940979</td>\n",
       "      <td>31.915001</td>\n",
       "      <td>158.291000</td>\n",
       "      <td>4</td>\n",
       "    </tr>\n",
       "    <tr>\n",
       "      <th>1</th>\n",
       "      <td>498.306000</td>\n",
       "      <td>118.342003</td>\n",
       "      <td>1222.817993</td>\n",
       "      <td>646.617004</td>\n",
       "      <td>746.257019</td>\n",
       "      <td>-473.803986</td>\n",
       "      <td>-11.617000</td>\n",
       "      <td>-16.693001</td>\n",
       "      <td>269.397003</td>\n",
       "      <td>-613.716003</td>\n",
       "      <td>...</td>\n",
       "      <td>-288.542999</td>\n",
       "      <td>-441.739990</td>\n",
       "      <td>-406.356995</td>\n",
       "      <td>174.936996</td>\n",
       "      <td>532.174011</td>\n",
       "      <td>-443.278992</td>\n",
       "      <td>-68.603996</td>\n",
       "      <td>-493.657013</td>\n",
       "      <td>-368.730011</td>\n",
       "      <td>1</td>\n",
       "    </tr>\n",
       "    <tr>\n",
       "      <th>2</th>\n",
       "      <td>1465.275024</td>\n",
       "      <td>-2211.415039</td>\n",
       "      <td>2463.522949</td>\n",
       "      <td>945.344971</td>\n",
       "      <td>922.330994</td>\n",
       "      <td>338.187988</td>\n",
       "      <td>-1548.826050</td>\n",
       "      <td>-818.586975</td>\n",
       "      <td>-1007.841003</td>\n",
       "      <td>79.605003</td>\n",
       "      <td>...</td>\n",
       "      <td>-507.450012</td>\n",
       "      <td>1626.469971</td>\n",
       "      <td>-1210.922974</td>\n",
       "      <td>4531.459961</td>\n",
       "      <td>-2801.270020</td>\n",
       "      <td>2071.193115</td>\n",
       "      <td>-99.113998</td>\n",
       "      <td>-475.681000</td>\n",
       "      <td>2455.382080</td>\n",
       "      <td>3</td>\n",
       "    </tr>\n",
       "    <tr>\n",
       "      <th>3</th>\n",
       "      <td>-480.721008</td>\n",
       "      <td>-200.492996</td>\n",
       "      <td>994.544983</td>\n",
       "      <td>429.501007</td>\n",
       "      <td>603.341980</td>\n",
       "      <td>335.571991</td>\n",
       "      <td>-789.293030</td>\n",
       "      <td>315.600006</td>\n",
       "      <td>79.110001</td>\n",
       "      <td>-700.228027</td>\n",
       "      <td>...</td>\n",
       "      <td>190.117996</td>\n",
       "      <td>-141.376999</td>\n",
       "      <td>-158.606995</td>\n",
       "      <td>789.737000</td>\n",
       "      <td>-157.804993</td>\n",
       "      <td>-241.746994</td>\n",
       "      <td>-488.445007</td>\n",
       "      <td>209.561005</td>\n",
       "      <td>-415.536987</td>\n",
       "      <td>4</td>\n",
       "    </tr>\n",
       "    <tr>\n",
       "      <th>4</th>\n",
       "      <td>259.115997</td>\n",
       "      <td>-71.842003</td>\n",
       "      <td>489.447998</td>\n",
       "      <td>23.549999</td>\n",
       "      <td>543.088989</td>\n",
       "      <td>-119.539001</td>\n",
       "      <td>-93.567001</td>\n",
       "      <td>55.488998</td>\n",
       "      <td>-235.072998</td>\n",
       "      <td>-773.299011</td>\n",
       "      <td>...</td>\n",
       "      <td>225.546005</td>\n",
       "      <td>-258.687988</td>\n",
       "      <td>-591.017029</td>\n",
       "      <td>359.621002</td>\n",
       "      <td>316.252014</td>\n",
       "      <td>-309.529999</td>\n",
       "      <td>200.304993</td>\n",
       "      <td>-167.130005</td>\n",
       "      <td>44.182999</td>\n",
       "      <td>4</td>\n",
       "    </tr>\n",
       "  </tbody>\n",
       "</table>\n",
       "<p>5 rows × 769 columns</p>\n",
       "</div>"
      ],
      "text/plain": [
       "           f_0          f_1          f_2         f_3         f_4         f_5  \\\n",
       "0    55.391998   402.842010  1179.939941  137.306000  275.936005 -668.432983   \n",
       "1   498.306000   118.342003  1222.817993  646.617004  746.257019 -473.803986   \n",
       "2  1465.275024 -2211.415039  2463.522949  945.344971  922.330994  338.187988   \n",
       "3  -480.721008  -200.492996   994.544983  429.501007  603.341980  335.571991   \n",
       "4   259.115997   -71.842003   489.447998   23.549999  543.088989 -119.539001   \n",
       "\n",
       "           f_6         f_7          f_8          f_9  ...       f_759  \\\n",
       "0   738.448975  509.286987   413.082001 -1350.576050  ... -697.203979   \n",
       "1   -11.617000  -16.693001   269.397003  -613.716003  ... -288.542999   \n",
       "2 -1548.826050 -818.586975 -1007.841003    79.605003  ... -507.450012   \n",
       "3  -789.293030  315.600006    79.110001  -700.228027  ...  190.117996   \n",
       "4   -93.567001   55.488998  -235.072998  -773.299011  ...  225.546005   \n",
       "\n",
       "         f_760        f_761        f_762        f_763        f_764  \\\n",
       "0  -219.283005   225.966003   -43.695000   626.716980  -295.596985   \n",
       "1  -441.739990  -406.356995   174.936996   532.174011  -443.278992   \n",
       "2  1626.469971 -1210.922974  4531.459961 -2801.270020  2071.193115   \n",
       "3  -141.376999  -158.606995   789.737000  -157.804993  -241.746994   \n",
       "4  -258.687988  -591.017029   359.621002   316.252014  -309.529999   \n",
       "\n",
       "        f_765       f_766        f_767  label  \n",
       "0 -635.940979   31.915001   158.291000      4  \n",
       "1  -68.603996 -493.657013  -368.730011      1  \n",
       "2  -99.113998 -475.681000  2455.382080      3  \n",
       "3 -488.445007  209.561005  -415.536987      4  \n",
       "4  200.304993 -167.130005    44.182999      4  \n",
       "\n",
       "[5 rows x 769 columns]"
      ]
     },
     "execution_count": 2,
     "metadata": {},
     "output_type": "execute_result"
    }
   ],
   "source": [
    "train_loc='/kaggle/input/prometeo23-pre-event-ml/train.csv'\n",
    "train_data=pd.read_csv(train_loc)\n",
    "train_data.head()"
   ]
  },
  {
   "cell_type": "markdown",
   "id": "0b6e1203",
   "metadata": {
    "papermill": {
     "duration": 0.006657,
     "end_time": "2023-01-04T09:20:42.028737",
     "exception": false,
     "start_time": "2023-01-04T09:20:42.022080",
     "status": "completed"
    },
    "tags": []
   },
   "source": [
    "Saving the training data and target data"
   ]
  },
  {
   "cell_type": "code",
   "execution_count": 3,
   "id": "4ec6b024",
   "metadata": {
    "execution": {
     "iopub.execute_input": "2023-01-04T09:20:42.046849Z",
     "iopub.status.busy": "2023-01-04T09:20:42.045026Z",
     "iopub.status.idle": "2023-01-04T09:20:42.187219Z",
     "shell.execute_reply": "2023-01-04T09:20:42.184940Z"
    },
    "papermill": {
     "duration": 0.153701,
     "end_time": "2023-01-04T09:20:42.189552",
     "exception": false,
     "start_time": "2023-01-04T09:20:42.035851",
     "status": "completed"
    },
    "tags": []
   },
   "outputs": [
    {
     "data": {
      "text/html": [
       "<div>\n",
       "<style scoped>\n",
       "    .dataframe tbody tr th:only-of-type {\n",
       "        vertical-align: middle;\n",
       "    }\n",
       "\n",
       "    .dataframe tbody tr th {\n",
       "        vertical-align: top;\n",
       "    }\n",
       "\n",
       "    .dataframe thead th {\n",
       "        text-align: right;\n",
       "    }\n",
       "</style>\n",
       "<table border=\"1\" class=\"dataframe\">\n",
       "  <thead>\n",
       "    <tr style=\"text-align: right;\">\n",
       "      <th></th>\n",
       "      <th>f_0</th>\n",
       "      <th>f_1</th>\n",
       "      <th>f_2</th>\n",
       "      <th>f_3</th>\n",
       "      <th>f_4</th>\n",
       "      <th>f_5</th>\n",
       "      <th>f_6</th>\n",
       "      <th>f_7</th>\n",
       "      <th>f_8</th>\n",
       "      <th>f_9</th>\n",
       "      <th>...</th>\n",
       "      <th>f_758</th>\n",
       "      <th>f_759</th>\n",
       "      <th>f_760</th>\n",
       "      <th>f_761</th>\n",
       "      <th>f_762</th>\n",
       "      <th>f_763</th>\n",
       "      <th>f_764</th>\n",
       "      <th>f_765</th>\n",
       "      <th>f_766</th>\n",
       "      <th>f_767</th>\n",
       "    </tr>\n",
       "  </thead>\n",
       "  <tbody>\n",
       "    <tr>\n",
       "      <th>0</th>\n",
       "      <td>55.391998</td>\n",
       "      <td>402.842010</td>\n",
       "      <td>1179.939941</td>\n",
       "      <td>137.306000</td>\n",
       "      <td>275.936005</td>\n",
       "      <td>-668.432983</td>\n",
       "      <td>738.448975</td>\n",
       "      <td>509.286987</td>\n",
       "      <td>413.082001</td>\n",
       "      <td>-1350.576050</td>\n",
       "      <td>...</td>\n",
       "      <td>225.628006</td>\n",
       "      <td>-697.203979</td>\n",
       "      <td>-219.283005</td>\n",
       "      <td>225.966003</td>\n",
       "      <td>-43.695000</td>\n",
       "      <td>626.716980</td>\n",
       "      <td>-295.596985</td>\n",
       "      <td>-635.940979</td>\n",
       "      <td>31.915001</td>\n",
       "      <td>158.291000</td>\n",
       "    </tr>\n",
       "    <tr>\n",
       "      <th>1</th>\n",
       "      <td>498.306000</td>\n",
       "      <td>118.342003</td>\n",
       "      <td>1222.817993</td>\n",
       "      <td>646.617004</td>\n",
       "      <td>746.257019</td>\n",
       "      <td>-473.803986</td>\n",
       "      <td>-11.617000</td>\n",
       "      <td>-16.693001</td>\n",
       "      <td>269.397003</td>\n",
       "      <td>-613.716003</td>\n",
       "      <td>...</td>\n",
       "      <td>668.473999</td>\n",
       "      <td>-288.542999</td>\n",
       "      <td>-441.739990</td>\n",
       "      <td>-406.356995</td>\n",
       "      <td>174.936996</td>\n",
       "      <td>532.174011</td>\n",
       "      <td>-443.278992</td>\n",
       "      <td>-68.603996</td>\n",
       "      <td>-493.657013</td>\n",
       "      <td>-368.730011</td>\n",
       "    </tr>\n",
       "    <tr>\n",
       "      <th>2</th>\n",
       "      <td>1465.275024</td>\n",
       "      <td>-2211.415039</td>\n",
       "      <td>2463.522949</td>\n",
       "      <td>945.344971</td>\n",
       "      <td>922.330994</td>\n",
       "      <td>338.187988</td>\n",
       "      <td>-1548.826050</td>\n",
       "      <td>-818.586975</td>\n",
       "      <td>-1007.841003</td>\n",
       "      <td>79.605003</td>\n",
       "      <td>...</td>\n",
       "      <td>868.348022</td>\n",
       "      <td>-507.450012</td>\n",
       "      <td>1626.469971</td>\n",
       "      <td>-1210.922974</td>\n",
       "      <td>4531.459961</td>\n",
       "      <td>-2801.270020</td>\n",
       "      <td>2071.193115</td>\n",
       "      <td>-99.113998</td>\n",
       "      <td>-475.681000</td>\n",
       "      <td>2455.382080</td>\n",
       "    </tr>\n",
       "    <tr>\n",
       "      <th>3</th>\n",
       "      <td>-480.721008</td>\n",
       "      <td>-200.492996</td>\n",
       "      <td>994.544983</td>\n",
       "      <td>429.501007</td>\n",
       "      <td>603.341980</td>\n",
       "      <td>335.571991</td>\n",
       "      <td>-789.293030</td>\n",
       "      <td>315.600006</td>\n",
       "      <td>79.110001</td>\n",
       "      <td>-700.228027</td>\n",
       "      <td>...</td>\n",
       "      <td>93.406998</td>\n",
       "      <td>190.117996</td>\n",
       "      <td>-141.376999</td>\n",
       "      <td>-158.606995</td>\n",
       "      <td>789.737000</td>\n",
       "      <td>-157.804993</td>\n",
       "      <td>-241.746994</td>\n",
       "      <td>-488.445007</td>\n",
       "      <td>209.561005</td>\n",
       "      <td>-415.536987</td>\n",
       "    </tr>\n",
       "    <tr>\n",
       "      <th>4</th>\n",
       "      <td>259.115997</td>\n",
       "      <td>-71.842003</td>\n",
       "      <td>489.447998</td>\n",
       "      <td>23.549999</td>\n",
       "      <td>543.088989</td>\n",
       "      <td>-119.539001</td>\n",
       "      <td>-93.567001</td>\n",
       "      <td>55.488998</td>\n",
       "      <td>-235.072998</td>\n",
       "      <td>-773.299011</td>\n",
       "      <td>...</td>\n",
       "      <td>-150.707001</td>\n",
       "      <td>225.546005</td>\n",
       "      <td>-258.687988</td>\n",
       "      <td>-591.017029</td>\n",
       "      <td>359.621002</td>\n",
       "      <td>316.252014</td>\n",
       "      <td>-309.529999</td>\n",
       "      <td>200.304993</td>\n",
       "      <td>-167.130005</td>\n",
       "      <td>44.182999</td>\n",
       "    </tr>\n",
       "  </tbody>\n",
       "</table>\n",
       "<p>5 rows × 768 columns</p>\n",
       "</div>"
      ],
      "text/plain": [
       "           f_0          f_1          f_2         f_3         f_4         f_5  \\\n",
       "0    55.391998   402.842010  1179.939941  137.306000  275.936005 -668.432983   \n",
       "1   498.306000   118.342003  1222.817993  646.617004  746.257019 -473.803986   \n",
       "2  1465.275024 -2211.415039  2463.522949  945.344971  922.330994  338.187988   \n",
       "3  -480.721008  -200.492996   994.544983  429.501007  603.341980  335.571991   \n",
       "4   259.115997   -71.842003   489.447998   23.549999  543.088989 -119.539001   \n",
       "\n",
       "           f_6         f_7          f_8          f_9  ...       f_758  \\\n",
       "0   738.448975  509.286987   413.082001 -1350.576050  ...  225.628006   \n",
       "1   -11.617000  -16.693001   269.397003  -613.716003  ...  668.473999   \n",
       "2 -1548.826050 -818.586975 -1007.841003    79.605003  ...  868.348022   \n",
       "3  -789.293030  315.600006    79.110001  -700.228027  ...   93.406998   \n",
       "4   -93.567001   55.488998  -235.072998  -773.299011  ... -150.707001   \n",
       "\n",
       "        f_759        f_760        f_761        f_762        f_763  \\\n",
       "0 -697.203979  -219.283005   225.966003   -43.695000   626.716980   \n",
       "1 -288.542999  -441.739990  -406.356995   174.936996   532.174011   \n",
       "2 -507.450012  1626.469971 -1210.922974  4531.459961 -2801.270020   \n",
       "3  190.117996  -141.376999  -158.606995   789.737000  -157.804993   \n",
       "4  225.546005  -258.687988  -591.017029   359.621002   316.252014   \n",
       "\n",
       "         f_764       f_765       f_766        f_767  \n",
       "0  -295.596985 -635.940979   31.915001   158.291000  \n",
       "1  -443.278992  -68.603996 -493.657013  -368.730011  \n",
       "2  2071.193115  -99.113998 -475.681000  2455.382080  \n",
       "3  -241.746994 -488.445007  209.561005  -415.536987  \n",
       "4  -309.529999  200.304993 -167.130005    44.182999  \n",
       "\n",
       "[5 rows x 768 columns]"
      ]
     },
     "execution_count": 3,
     "metadata": {},
     "output_type": "execute_result"
    }
   ],
   "source": [
    "X=train_data.copy()\n",
    "y=X['label']\n",
    "X=X.drop(columns=['label'])\n",
    "X.head()"
   ]
  },
  {
   "cell_type": "markdown",
   "id": "756bb2f6",
   "metadata": {
    "papermill": {
     "duration": 0.006655,
     "end_time": "2023-01-04T09:20:42.203503",
     "exception": false,
     "start_time": "2023-01-04T09:20:42.196848",
     "status": "completed"
    },
    "tags": []
   },
   "source": [
    "Making a first sample using 100 random features just too see what happens"
   ]
  },
  {
   "cell_type": "markdown",
   "id": "48722ecf",
   "metadata": {
    "papermill": {
     "duration": 0.006726,
     "end_time": "2023-01-04T09:20:42.219238",
     "exception": false,
     "start_time": "2023-01-04T09:20:42.212512",
     "status": "completed"
    },
    "tags": []
   },
   "source": [
    "using mutual information for the first 100 features"
   ]
  },
  {
   "cell_type": "code",
   "execution_count": 4,
   "id": "2d1a4185",
   "metadata": {
    "execution": {
     "iopub.execute_input": "2023-01-04T09:20:42.235318Z",
     "iopub.status.busy": "2023-01-04T09:20:42.234818Z",
     "iopub.status.idle": "2023-01-04T09:22:28.546557Z",
     "shell.execute_reply": "2023-01-04T09:22:28.545651Z"
    },
    "papermill": {
     "duration": 106.329556,
     "end_time": "2023-01-04T09:22:28.555902",
     "exception": false,
     "start_time": "2023-01-04T09:20:42.226346",
     "status": "completed"
    },
    "tags": []
   },
   "outputs": [
    {
     "data": {
      "text/plain": [
       "f_60     0.050825\n",
       "f_461    0.048575\n",
       "f_109    0.048294\n",
       "f_127    0.048276\n",
       "f_308    0.046157\n",
       "           ...   \n",
       "f_300    0.009042\n",
       "f_243    0.008841\n",
       "f_382    0.006009\n",
       "f_750    0.005235\n",
       "f_551    0.004383\n",
       "Name: MI Scores, Length: 768, dtype: float64"
      ]
     },
     "execution_count": 4,
     "metadata": {},
     "output_type": "execute_result"
    }
   ],
   "source": [
    "from sklearn.feature_selection import mutual_info_classif\n",
    "def make_mi_scores(X, y):\n",
    "    mi_scores = mutual_info_classif(X, y)\n",
    "    mi_scores = pd.Series(mi_scores, name=\"MI Scores\", index=X.columns)\n",
    "    mi_scores = mi_scores.sort_values(ascending=False)\n",
    "    return mi_scores\n",
    "\n",
    "mi_scores = make_mi_scores(X, y)\n",
    "mi_scores[::] "
   ]
  },
  {
   "cell_type": "markdown",
   "id": "7749b34d",
   "metadata": {
    "papermill": {
     "duration": 0.006714,
     "end_time": "2023-01-04T09:22:28.569895",
     "exception": false,
     "start_time": "2023-01-04T09:22:28.563181",
     "status": "completed"
    },
    "tags": []
   },
   "source": [
    "trying plotting all the features to find some sort of elbow in the graph"
   ]
  },
  {
   "cell_type": "code",
   "execution_count": 5,
   "id": "f3a2278d",
   "metadata": {
    "execution": {
     "iopub.execute_input": "2023-01-04T09:22:28.586816Z",
     "iopub.status.busy": "2023-01-04T09:22:28.586296Z",
     "iopub.status.idle": "2023-01-04T09:22:28.597234Z",
     "shell.execute_reply": "2023-01-04T09:22:28.596230Z"
    },
    "papermill": {
     "duration": 0.022206,
     "end_time": "2023-01-04T09:22:28.599301",
     "exception": false,
     "start_time": "2023-01-04T09:22:28.577095",
     "status": "completed"
    },
    "tags": []
   },
   "outputs": [
    {
     "data": {
      "text/plain": [
       "f_60     0.050825\n",
       "f_461    0.048575\n",
       "f_109    0.048294\n",
       "f_127    0.048276\n",
       "f_308    0.046157\n",
       "           ...   \n",
       "f_300    0.009042\n",
       "f_243    0.008841\n",
       "f_382    0.006009\n",
       "f_750    0.005235\n",
       "f_551    0.004383\n",
       "Name: MI Scores, Length: 768, dtype: float64"
      ]
     },
     "execution_count": 5,
     "metadata": {},
     "output_type": "execute_result"
    }
   ],
   "source": [
    "value=mi_scores.iloc[:]\n",
    "value"
   ]
  },
  {
   "cell_type": "code",
   "execution_count": 6,
   "id": "ee8b722a",
   "metadata": {
    "execution": {
     "iopub.execute_input": "2023-01-04T09:22:28.617090Z",
     "iopub.status.busy": "2023-01-04T09:22:28.616458Z",
     "iopub.status.idle": "2023-01-04T09:22:34.485611Z",
     "shell.execute_reply": "2023-01-04T09:22:34.484222Z"
    },
    "papermill": {
     "duration": 5.881291,
     "end_time": "2023-01-04T09:22:34.488381",
     "exception": false,
     "start_time": "2023-01-04T09:22:28.607090",
     "status": "completed"
    },
    "tags": []
   },
   "outputs": [
    {
     "data": {
      "text/plain": [
       "[<matplotlib.lines.Line2D at 0x7f6694f29250>]"
      ]
     },
     "execution_count": 6,
     "metadata": {},
     "output_type": "execute_result"
    },
    {
     "data": {
      "image/png": "[encoded data removed]",
      "text/plain": [
       "<Figure size 432x288 with 1 Axes>"
      ]
     },
     "metadata": {
      "needs_background": "light"
     },
     "output_type": "display_data"
    }
   ],
   "source": [
    "import matplotlib.pyplot as plt\n",
    "plt.plot(mi_scores.index,mi_scores)"
   ]
  },
  {
   "cell_type": "markdown",
   "id": "9cfa7824",
   "metadata": {
    "papermill": {
     "duration": 0.007462,
     "end_time": "2023-01-04T09:22:34.503915",
     "exception": false,
     "start_time": "2023-01-04T09:22:34.496453",
     "status": "completed"
    },
    "tags": []
   },
   "source": [
    "From the graph, it appears to be that the mutual information values start elbowing somewhere around 0.013. Lets select features above that only and see what happens"
   ]
  },
  {
   "cell_type": "code",
   "execution_count": 7,
   "id": "9b841e40",
   "metadata": {
    "execution": {
     "iopub.execute_input": "2023-01-04T09:22:34.521752Z",
     "iopub.status.busy": "2023-01-04T09:22:34.521276Z",
     "iopub.status.idle": "2023-01-04T09:22:34.528880Z",
     "shell.execute_reply": "2023-01-04T09:22:34.526735Z"
    },
    "papermill": {
     "duration": 0.020094,
     "end_time": "2023-01-04T09:22:34.531915",
     "exception": false,
     "start_time": "2023-01-04T09:22:34.511821",
     "status": "completed"
    },
    "tags": []
   },
   "outputs": [],
   "source": [
    "threshold=0.013\n",
    "feature=mi_scores\n",
    "# Find the indexes of the rows where the feature is greater than the threshold\n",
    "indexes = feature[feature > threshold].index\n",
    "\n"
   ]
  },
  {
   "cell_type": "markdown",
   "id": "65221514",
   "metadata": {
    "papermill": {
     "duration": 0.007356,
     "end_time": "2023-01-04T09:22:34.547197",
     "exception": false,
     "start_time": "2023-01-04T09:22:34.539841",
     "status": "completed"
    },
    "tags": []
   },
   "source": [
    "lets view indexes"
   ]
  },
  {
   "cell_type": "code",
   "execution_count": 8,
   "id": "9126e43b",
   "metadata": {
    "execution": {
     "iopub.execute_input": "2023-01-04T09:22:34.564206Z",
     "iopub.status.busy": "2023-01-04T09:22:34.563732Z",
     "iopub.status.idle": "2023-01-04T09:22:34.570773Z",
     "shell.execute_reply": "2023-01-04T09:22:34.569260Z"
    },
    "papermill": {
     "duration": 0.018704,
     "end_time": "2023-01-04T09:22:34.573340",
     "exception": false,
     "start_time": "2023-01-04T09:22:34.554636",
     "status": "completed"
    },
    "tags": []
   },
   "outputs": [
    {
     "name": "stdout",
     "output_type": "stream",
     "text": [
      "Index(['f_60', 'f_461', 'f_109', 'f_127', 'f_308', 'f_523', 'f_688', 'f_520',\n",
      "       'f_533', 'f_672',\n",
      "       ...\n",
      "       'f_137', 'f_668', 'f_303', 'f_666', 'f_271', 'f_264', 'f_284', 'f_492',\n",
      "       'f_638', 'f_277'],\n",
      "      dtype='object', length=747)\n"
     ]
    }
   ],
   "source": [
    "print(indexes)"
   ]
  },
  {
   "cell_type": "code",
   "execution_count": 9,
   "id": "11bc6e2a",
   "metadata": {
    "execution": {
     "iopub.execute_input": "2023-01-04T09:22:34.594784Z",
     "iopub.status.busy": "2023-01-04T09:22:34.593181Z",
     "iopub.status.idle": "2023-01-04T09:22:34.641236Z",
     "shell.execute_reply": "2023-01-04T09:22:34.640248Z"
    },
    "papermill": {
     "duration": 0.060429,
     "end_time": "2023-01-04T09:22:34.643357",
     "exception": false,
     "start_time": "2023-01-04T09:22:34.582928",
     "status": "completed"
    },
    "tags": []
   },
   "outputs": [
    {
     "data": {
      "text/plain": [
       "0"
      ]
     },
     "execution_count": 9,
     "metadata": {},
     "output_type": "execute_result"
    }
   ],
   "source": [
    "X.isnull().sum().sum()"
   ]
  },
  {
   "cell_type": "markdown",
   "id": "53b3bbb6",
   "metadata": {
    "papermill": {
     "duration": 0.007477,
     "end_time": "2023-01-04T09:22:34.658909",
     "exception": false,
     "start_time": "2023-01-04T09:22:34.651432",
     "status": "completed"
    },
    "tags": []
   },
   "source": [
    "lets make an Array for all the data of the selected features"
   ]
  },
  {
   "cell_type": "code",
   "execution_count": 10,
   "id": "798b8674",
   "metadata": {
    "execution": {
     "iopub.execute_input": "2023-01-04T09:22:34.676463Z",
     "iopub.status.busy": "2023-01-04T09:22:34.675984Z",
     "iopub.status.idle": "2023-01-04T09:22:34.749278Z",
     "shell.execute_reply": "2023-01-04T09:22:34.748231Z"
    },
    "papermill": {
     "duration": 0.085672,
     "end_time": "2023-01-04T09:22:34.752215",
     "exception": false,
     "start_time": "2023-01-04T09:22:34.666543",
     "status": "completed"
    },
    "tags": []
   },
   "outputs": [
    {
     "data": {
      "text/html": [
       "<div>\n",
       "<style scoped>\n",
       "    .dataframe tbody tr th:only-of-type {\n",
       "        vertical-align: middle;\n",
       "    }\n",
       "\n",
       "    .dataframe tbody tr th {\n",
       "        vertical-align: top;\n",
       "    }\n",
       "\n",
       "    .dataframe thead th {\n",
       "        text-align: right;\n",
       "    }\n",
       "</style>\n",
       "<table border=\"1\" class=\"dataframe\">\n",
       "  <thead>\n",
       "    <tr style=\"text-align: right;\">\n",
       "      <th></th>\n",
       "      <th>f_60</th>\n",
       "      <th>f_461</th>\n",
       "      <th>f_109</th>\n",
       "      <th>f_127</th>\n",
       "      <th>f_308</th>\n",
       "      <th>f_523</th>\n",
       "      <th>f_688</th>\n",
       "      <th>f_520</th>\n",
       "      <th>f_533</th>\n",
       "      <th>f_672</th>\n",
       "      <th>...</th>\n",
       "      <th>f_137</th>\n",
       "      <th>f_668</th>\n",
       "      <th>f_303</th>\n",
       "      <th>f_666</th>\n",
       "      <th>f_271</th>\n",
       "      <th>f_264</th>\n",
       "      <th>f_284</th>\n",
       "      <th>f_492</th>\n",
       "      <th>f_638</th>\n",
       "      <th>f_277</th>\n",
       "    </tr>\n",
       "  </thead>\n",
       "  <tbody>\n",
       "    <tr>\n",
       "      <th>0</th>\n",
       "      <td>828.049988</td>\n",
       "      <td>489.582001</td>\n",
       "      <td>-116.879997</td>\n",
       "      <td>-392.066986</td>\n",
       "      <td>-16168.739258</td>\n",
       "      <td>-373.229004</td>\n",
       "      <td>51.365002</td>\n",
       "      <td>-735.708984</td>\n",
       "      <td>1045.264038</td>\n",
       "      <td>-124.377998</td>\n",
       "      <td>...</td>\n",
       "      <td>174.322006</td>\n",
       "      <td>-10.466000</td>\n",
       "      <td>416.532013</td>\n",
       "      <td>154.927002</td>\n",
       "      <td>-107.282997</td>\n",
       "      <td>-62.242001</td>\n",
       "      <td>36.798000</td>\n",
       "      <td>694.875977</td>\n",
       "      <td>187.253006</td>\n",
       "      <td>1050.845947</td>\n",
       "    </tr>\n",
       "    <tr>\n",
       "      <th>1</th>\n",
       "      <td>421.903992</td>\n",
       "      <td>-166.809998</td>\n",
       "      <td>594.218018</td>\n",
       "      <td>228.059006</td>\n",
       "      <td>-17380.142578</td>\n",
       "      <td>-541.252991</td>\n",
       "      <td>-75.307999</td>\n",
       "      <td>-988.989990</td>\n",
       "      <td>346.795990</td>\n",
       "      <td>-374.570007</td>\n",
       "      <td>...</td>\n",
       "      <td>-2.812000</td>\n",
       "      <td>70.430000</td>\n",
       "      <td>-128.121994</td>\n",
       "      <td>490.248993</td>\n",
       "      <td>9.329000</td>\n",
       "      <td>110.319000</td>\n",
       "      <td>232.608002</td>\n",
       "      <td>425.292999</td>\n",
       "      <td>399.536011</td>\n",
       "      <td>674.403992</td>\n",
       "    </tr>\n",
       "    <tr>\n",
       "      <th>2</th>\n",
       "      <td>2779.645996</td>\n",
       "      <td>3175.495117</td>\n",
       "      <td>899.195984</td>\n",
       "      <td>-637.229004</td>\n",
       "      <td>-60048.421875</td>\n",
       "      <td>1132.699951</td>\n",
       "      <td>-1846.060059</td>\n",
       "      <td>-237.287003</td>\n",
       "      <td>-414.661987</td>\n",
       "      <td>1420.802002</td>\n",
       "      <td>...</td>\n",
       "      <td>-3187.283936</td>\n",
       "      <td>264.075989</td>\n",
       "      <td>-2573.360107</td>\n",
       "      <td>-184.440994</td>\n",
       "      <td>-206.384003</td>\n",
       "      <td>-1859.307983</td>\n",
       "      <td>1371.255981</td>\n",
       "      <td>-591.833984</td>\n",
       "      <td>-283.148987</td>\n",
       "      <td>4999.910156</td>\n",
       "    </tr>\n",
       "    <tr>\n",
       "      <th>3</th>\n",
       "      <td>91.897003</td>\n",
       "      <td>301.960999</td>\n",
       "      <td>378.205994</td>\n",
       "      <td>381.933990</td>\n",
       "      <td>-13890.825195</td>\n",
       "      <td>-11.322000</td>\n",
       "      <td>-412.826996</td>\n",
       "      <td>-1303.222046</td>\n",
       "      <td>172.488998</td>\n",
       "      <td>-725.739014</td>\n",
       "      <td>...</td>\n",
       "      <td>-331.033997</td>\n",
       "      <td>396.207001</td>\n",
       "      <td>-218.806000</td>\n",
       "      <td>162.341995</td>\n",
       "      <td>221.796005</td>\n",
       "      <td>64.155998</td>\n",
       "      <td>-133.602005</td>\n",
       "      <td>200.660004</td>\n",
       "      <td>212.598007</td>\n",
       "      <td>528.581970</td>\n",
       "    </tr>\n",
       "    <tr>\n",
       "      <th>4</th>\n",
       "      <td>237.194000</td>\n",
       "      <td>-127.736000</td>\n",
       "      <td>194.000000</td>\n",
       "      <td>-141.147995</td>\n",
       "      <td>-13089.805664</td>\n",
       "      <td>222.431000</td>\n",
       "      <td>-460.179993</td>\n",
       "      <td>-232.901993</td>\n",
       "      <td>786.668030</td>\n",
       "      <td>-689.236023</td>\n",
       "      <td>...</td>\n",
       "      <td>97.295998</td>\n",
       "      <td>252.703995</td>\n",
       "      <td>44.305000</td>\n",
       "      <td>68.355003</td>\n",
       "      <td>342.134003</td>\n",
       "      <td>277.377014</td>\n",
       "      <td>-300.266998</td>\n",
       "      <td>-36.682999</td>\n",
       "      <td>-146.753006</td>\n",
       "      <td>162.063995</td>\n",
       "    </tr>\n",
       "  </tbody>\n",
       "</table>\n",
       "<p>5 rows × 747 columns</p>\n",
       "</div>"
      ],
      "text/plain": [
       "          f_60        f_461       f_109       f_127         f_308  \\\n",
       "0   828.049988   489.582001 -116.879997 -392.066986 -16168.739258   \n",
       "1   421.903992  -166.809998  594.218018  228.059006 -17380.142578   \n",
       "2  2779.645996  3175.495117  899.195984 -637.229004 -60048.421875   \n",
       "3    91.897003   301.960999  378.205994  381.933990 -13890.825195   \n",
       "4   237.194000  -127.736000  194.000000 -141.147995 -13089.805664   \n",
       "\n",
       "         f_523        f_688        f_520        f_533        f_672  ...  \\\n",
       "0  -373.229004    51.365002  -735.708984  1045.264038  -124.377998  ...   \n",
       "1  -541.252991   -75.307999  -988.989990   346.795990  -374.570007  ...   \n",
       "2  1132.699951 -1846.060059  -237.287003  -414.661987  1420.802002  ...   \n",
       "3   -11.322000  -412.826996 -1303.222046   172.488998  -725.739014  ...   \n",
       "4   222.431000  -460.179993  -232.901993   786.668030  -689.236023  ...   \n",
       "\n",
       "         f_137       f_668        f_303       f_666       f_271        f_264  \\\n",
       "0   174.322006  -10.466000   416.532013  154.927002 -107.282997   -62.242001   \n",
       "1    -2.812000   70.430000  -128.121994  490.248993    9.329000   110.319000   \n",
       "2 -3187.283936  264.075989 -2573.360107 -184.440994 -206.384003 -1859.307983   \n",
       "3  -331.033997  396.207001  -218.806000  162.341995  221.796005    64.155998   \n",
       "4    97.295998  252.703995    44.305000   68.355003  342.134003   277.377014   \n",
       "\n",
       "         f_284       f_492       f_638        f_277  \n",
       "0    36.798000  694.875977  187.253006  1050.845947  \n",
       "1   232.608002  425.292999  399.536011   674.403992  \n",
       "2  1371.255981 -591.833984 -283.148987  4999.910156  \n",
       "3  -133.602005  200.660004  212.598007   528.581970  \n",
       "4  -300.266998  -36.682999 -146.753006   162.063995  \n",
       "\n",
       "[5 rows x 747 columns]"
      ]
     },
     "execution_count": 10,
     "metadata": {},
     "output_type": "execute_result"
    }
   ],
   "source": [
    "X_selected=X[indexes]\n",
    "X_selected.head()"
   ]
  },
  {
   "cell_type": "markdown",
   "id": "0b495770",
   "metadata": {
    "papermill": {
     "duration": 0.008045,
     "end_time": "2023-01-04T09:22:34.769095",
     "exception": false,
     "start_time": "2023-01-04T09:22:34.761050",
     "status": "completed"
    },
    "tags": []
   },
   "source": [
    "importing some important features for modelling"
   ]
  },
  {
   "cell_type": "code",
   "execution_count": 11,
   "id": "35463939",
   "metadata": {
    "execution": {
     "iopub.execute_input": "2023-01-04T09:22:34.788699Z",
     "iopub.status.busy": "2023-01-04T09:22:34.788203Z",
     "iopub.status.idle": "2023-01-04T09:22:34.900834Z",
     "shell.execute_reply": "2023-01-04T09:22:34.898510Z"
    },
    "papermill": {
     "duration": 0.126764,
     "end_time": "2023-01-04T09:22:34.904326",
     "exception": false,
     "start_time": "2023-01-04T09:22:34.777562",
     "status": "completed"
    },
    "tags": []
   },
   "outputs": [],
   "source": [
    "from sklearn.model_selection import train_test_split\n",
    "from sklearn.ensemble import RandomForestClassifier\n",
    "from sklearn.svm import SVC\n",
    "SVM_classifier = SVC(kernel = 'linear', random_state = 0)"
   ]
  },
  {
   "cell_type": "code",
   "execution_count": 12,
   "id": "a2b68c52",
   "metadata": {
    "execution": {
     "iopub.execute_input": "2023-01-04T09:22:34.924419Z",
     "iopub.status.busy": "2023-01-04T09:22:34.923840Z",
     "iopub.status.idle": "2023-01-04T09:22:35.164088Z",
     "shell.execute_reply": "2023-01-04T09:22:35.162457Z"
    },
    "papermill": {
     "duration": 0.254266,
     "end_time": "2023-01-04T09:22:35.167362",
     "exception": false,
     "start_time": "2023-01-04T09:22:34.913096",
     "status": "completed"
    },
    "tags": []
   },
   "outputs": [],
   "source": [
    "X_train,X_test,y_train,y_test=train_test_split(X_selected,y,train_size=0.8,test_size=0.2,random_state=1)"
   ]
  },
  {
   "cell_type": "markdown",
   "id": "be1879fb",
   "metadata": {
    "papermill": {
     "duration": 0.007561,
     "end_time": "2023-01-04T09:22:35.183338",
     "exception": false,
     "start_time": "2023-01-04T09:22:35.175777",
     "status": "completed"
    },
    "tags": []
   },
   "source": [
    "Scaling"
   ]
  },
  {
   "cell_type": "code",
   "execution_count": 13,
   "id": "3916db9a",
   "metadata": {
    "execution": {
     "iopub.execute_input": "2023-01-04T09:22:35.201019Z",
     "iopub.status.busy": "2023-01-04T09:22:35.200574Z",
     "iopub.status.idle": "2023-01-04T09:22:35.492305Z",
     "shell.execute_reply": "2023-01-04T09:22:35.490474Z"
    },
    "papermill": {
     "duration": 0.304482,
     "end_time": "2023-01-04T09:22:35.495504",
     "exception": false,
     "start_time": "2023-01-04T09:22:35.191022",
     "status": "completed"
    },
    "tags": []
   },
   "outputs": [],
   "source": [
    "from sklearn.preprocessing import StandardScaler\n",
    "sc = StandardScaler()\n",
    "X_train = sc.fit_transform(X_train)\n",
    "X_test = sc.transform(X_test)"
   ]
  },
  {
   "cell_type": "markdown",
   "id": "e9d00976",
   "metadata": {
    "papermill": {
     "duration": 0.008086,
     "end_time": "2023-01-04T09:22:35.512020",
     "exception": false,
     "start_time": "2023-01-04T09:22:35.503934",
     "status": "completed"
    },
    "tags": []
   },
   "source": [
    "creating a RandomForest Model"
   ]
  },
  {
   "cell_type": "code",
   "execution_count": 14,
   "id": "dc00f06f",
   "metadata": {
    "execution": {
     "iopub.execute_input": "2023-01-04T09:22:35.531214Z",
     "iopub.status.busy": "2023-01-04T09:22:35.530722Z",
     "iopub.status.idle": "2023-01-04T09:22:35.663379Z",
     "shell.execute_reply": "2023-01-04T09:22:35.661081Z"
    },
    "papermill": {
     "duration": 0.147183,
     "end_time": "2023-01-04T09:22:35.667898",
     "exception": false,
     "start_time": "2023-01-04T09:22:35.520715",
     "status": "completed"
    },
    "tags": []
   },
   "outputs": [],
   "source": [
    "from xgboost import XGBClassifier\n",
    "model=RandomForestClassifier(n_estimators=250,max_depth=5,random_state=1)\n",
    "modelxg=XGBClassifier(n_estimators=500)\n"
   ]
  },
  {
   "cell_type": "markdown",
   "id": "1ab1deee",
   "metadata": {
    "papermill": {
     "duration": 0.008596,
     "end_time": "2023-01-04T09:22:35.685356",
     "exception": false,
     "start_time": "2023-01-04T09:22:35.676760",
     "status": "completed"
    },
    "tags": []
   },
   "source": [
    "defining and fitting a model"
   ]
  },
  {
   "cell_type": "code",
   "execution_count": 15,
   "id": "f3646649",
   "metadata": {
    "execution": {
     "iopub.execute_input": "2023-01-04T09:22:35.706660Z",
     "iopub.status.busy": "2023-01-04T09:22:35.706039Z",
     "iopub.status.idle": "2023-01-04T09:24:03.548251Z",
     "shell.execute_reply": "2023-01-04T09:24:03.547192Z"
    },
    "papermill": {
     "duration": 87.864585,
     "end_time": "2023-01-04T09:24:03.559508",
     "exception": false,
     "start_time": "2023-01-04T09:22:35.694923",
     "status": "completed"
    },
    "tags": []
   },
   "outputs": [
    {
     "data": {
      "text/plain": [
       "RandomForestClassifier(max_depth=5, n_estimators=250, random_state=1)"
      ]
     },
     "execution_count": 15,
     "metadata": {},
     "output_type": "execute_result"
    }
   ],
   "source": [
    "#model=RandomForestClassifier(n_estimators=250,max_depth=5,random_state=1)\n",
    "#SVM_classifier.fit(X_train,y_train)\n",
    "model.fit(X_train,y_train)"
   ]
  },
  {
   "cell_type": "markdown",
   "id": "9f927fec",
   "metadata": {
    "papermill": {
     "duration": 0.007688,
     "end_time": "2023-01-04T09:24:03.575318",
     "exception": false,
     "start_time": "2023-01-04T09:24:03.567630",
     "status": "completed"
    },
    "tags": []
   },
   "source": [
    "obtaining predictions from said model"
   ]
  },
  {
   "cell_type": "code",
   "execution_count": 16,
   "id": "9422eedf",
   "metadata": {
    "execution": {
     "iopub.execute_input": "2023-01-04T09:24:03.594422Z",
     "iopub.status.busy": "2023-01-04T09:24:03.593559Z",
     "iopub.status.idle": "2023-01-04T09:24:03.795612Z",
     "shell.execute_reply": "2023-01-04T09:24:03.794219Z"
    },
    "papermill": {
     "duration": 0.214954,
     "end_time": "2023-01-04T09:24:03.798520",
     "exception": false,
     "start_time": "2023-01-04T09:24:03.583566",
     "status": "completed"
    },
    "tags": []
   },
   "outputs": [],
   "source": [
    "predictions=model.predict(X_test)"
   ]
  },
  {
   "cell_type": "markdown",
   "id": "ba7f4da7",
   "metadata": {
    "papermill": {
     "duration": 0.007817,
     "end_time": "2023-01-04T09:24:03.814733",
     "exception": false,
     "start_time": "2023-01-04T09:24:03.806916",
     "status": "completed"
    },
    "tags": []
   },
   "source": [
    "using basic accuracy to figure out model accuracy\n"
   ]
  },
  {
   "cell_type": "code",
   "execution_count": 17,
   "id": "9262b05b",
   "metadata": {
    "execution": {
     "iopub.execute_input": "2023-01-04T09:24:03.832938Z",
     "iopub.status.busy": "2023-01-04T09:24:03.832456Z",
     "iopub.status.idle": "2023-01-04T09:24:03.841903Z",
     "shell.execute_reply": "2023-01-04T09:24:03.838783Z"
    },
    "papermill": {
     "duration": 0.021772,
     "end_time": "2023-01-04T09:24:03.844521",
     "exception": false,
     "start_time": "2023-01-04T09:24:03.822749",
     "status": "completed"
    },
    "tags": []
   },
   "outputs": [
    {
     "name": "stdout",
     "output_type": "stream",
     "text": [
      "0.34083116170621314\n"
     ]
    }
   ],
   "source": [
    "from sklearn.metrics import accuracy_score\n",
    "\n",
    "# Calculate the accuracy of the model\n",
    "accuracy = accuracy_score(y_test,predictions)\n",
    "\n",
    "print(accuracy)"
   ]
  },
  {
   "cell_type": "code",
   "execution_count": null,
   "id": "40d830d8",
   "metadata": {
    "papermill": {
     "duration": 0.008034,
     "end_time": "2023-01-04T09:24:03.861134",
     "exception": false,
     "start_time": "2023-01-04T09:24:03.853100",
     "status": "completed"
    },
    "tags": []
   },
   "outputs": [],
   "source": []
  },
  {
   "cell_type": "code",
   "execution_count": null,
   "id": "c5fbbb67",
   "metadata": {
    "papermill": {
     "duration": 0.00789,
     "end_time": "2023-01-04T09:24:03.877312",
     "exception": false,
     "start_time": "2023-01-04T09:24:03.869422",
     "status": "completed"
    },
    "tags": []
   },
   "outputs": [],
   "source": []
  },
  {
   "cell_type": "code",
   "execution_count": null,
   "id": "8b6eb708",
   "metadata": {
    "papermill": {
     "duration": 0.007715,
     "end_time": "2023-01-04T09:24:03.893266",
     "exception": false,
     "start_time": "2023-01-04T09:24:03.885551",
     "status": "completed"
    },
    "tags": []
   },
   "outputs": [],
   "source": []
  },
  {
   "cell_type": "code",
   "execution_count": null,
   "id": "19308dbe",
   "metadata": {
    "papermill": {
     "duration": 0.007819,
     "end_time": "2023-01-04T09:24:03.909302",
     "exception": false,
     "start_time": "2023-01-04T09:24:03.901483",
     "status": "completed"
    },
    "tags": []
   },
   "outputs": [],
   "source": []
  }
 ],
 "metadata": {
  "kernelspec": {
   "display_name": "Python 3",
   "language": "python",
   "name": "python3"
  },
  "language_info": {
   "codemirror_mode": {
    "name": "ipython",
    "version": 3
   },
   "file_extension": ".py",
   "mimetype": "text/x-python",
   "name": "python",
   "nbconvert_exporter": "python",
   "pygments_lexer": "ipython3",
   "version": "3.7.12"
  },
  "papermill": {
   "default_parameters": {},
   "duration": 224.444967,
   "end_time": "2023-01-04T09:24:05.244141",
   "environment_variables": {},
   "exception": null,
   "input_path": "__notebook__.ipynb",
   "output_path": "__notebook__.ipynb",
   "parameters": {},
   "start_time": "2023-01-04T09:20:20.799174",
   "version": "2.3.4"
  }
 },
 "nbformat": 4,
 "nbformat_minor": 5
}
