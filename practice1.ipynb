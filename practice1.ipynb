{
 "cells": [
  {
   "cell_type": "code",
   "execution_count": 1,
   "id": "37a350ae",
   "metadata": {
    "_cell_guid": "b1076dfc-b9ad-4769-8c92-a6c4dae69d19",
    "_uuid": "8f2839f25d086af736a60e9eeb907d3b93b6e0e5",
    "execution": {
     "iopub.execute_input": "2023-01-04T09:21:02.918813Z",
     "iopub.status.busy": "2023-01-04T09:21:02.918329Z",
     "iopub.status.idle": "2023-01-04T09:21:02.938256Z",
     "shell.execute_reply": "2023-01-04T09:21:02.936749Z"
    },
    "papermill": {
     "duration": 0.03317,
     "end_time": "2023-01-04T09:21:02.941605",
     "exception": false,
     "start_time": "2023-01-04T09:21:02.908435",
     "status": "completed"
    },
    "tags": []
   },
   "outputs": [
    {
     "name": "stdout",
     "output_type": "stream",
     "text": [
      "/kaggle/input/prometeo23-pre-event-ml/sample_submission.csv\n",
      "/kaggle/input/prometeo23-pre-event-ml/train.csv\n",
      "/kaggle/input/prometeo23-pre-event-ml/test.csv\n"
     ]
    }
   ],
   "source": [
    "# This Python 3 environment comes with many helpful analytics libraries installed\n",
    "# It is defined by the kaggle/python Docker image: https://github.com/kaggle/docker-python\n",
    "# For example, here's several helpful packages to load\n",
    "\n",
    "import numpy as np # linear algebra\n",
    "import pandas as pd # data processing, CSV file I/O (e.g. pd.read_csv)\n",
    "\n",
    "# Input data files are available in the read-only \"../input/\" directory\n",
    "# For example, running this (by clicking run or pressing Shift+Enter) will list all files under the input directory\n",
    "\n",
    "import os\n",
    "for dirname, _, filenames in os.walk('/kaggle/input'):\n",
    "    for filename in filenames:\n",
    "        print(os.path.join(dirname, filename))\n",
    "\n",
    "# You can write up to 20GB to the current directory (/kaggle/working/) that gets preserved as output when you create a version using \"Save & Run All\" \n",
    "# You can also write temporary files to /kaggle/temp/, but they won't be saved outside of the current session"
   ]
  },
  {
   "cell_type": "code",
   "execution_count": null,
   "id": "514d731a",
   "metadata": {
    "papermill": {
     "duration": 0.006252,
     "end_time": "2023-01-04T09:21:02.955278",
     "exception": false,
     "start_time": "2023-01-04T09:21:02.949026",
     "status": "completed"
    },
    "tags": []
   },
   "outputs": [],
   "source": []
  },
  {
   "cell_type": "code",
   "execution_count": 2,
   "id": "7c373ddd",
   "metadata": {
    "execution": {
     "iopub.execute_input": "2023-01-04T09:21:02.970416Z",
     "iopub.status.busy": "2023-01-04T09:21:02.969658Z",
     "iopub.status.idle": "2023-01-04T09:21:16.658579Z",
     "shell.execute_reply": "2023-01-04T09:21:16.657193Z"
    },
    "papermill": {
     "duration": 13.699694,
     "end_time": "2023-01-04T09:21:16.661513",
     "exception": false,
     "start_time": "2023-01-04T09:21:02.961819",
     "status": "completed"
    },
    "tags": []
   },
   "outputs": [
    {
     "data": {
      "text/html": [
       "<div>\n",
       "<style scoped>\n",
       "    .dataframe tbody tr th:only-of-type {\n",
       "        vertical-align: middle;\n",
       "    }\n",
       "\n",
       "    .dataframe tbody tr th {\n",
       "        vertical-align: top;\n",
       "    }\n",
       "\n",
       "    .dataframe thead th {\n",
       "        text-align: right;\n",
       "    }\n",
       "</style>\n",
       "<table border=\"1\" class=\"dataframe\">\n",
       "  <thead>\n",
       "    <tr style=\"text-align: right;\">\n",
       "      <th></th>\n",
       "      <th>f_0</th>\n",
       "      <th>f_1</th>\n",
       "      <th>f_2</th>\n",
       "      <th>f_3</th>\n",
       "      <th>f_4</th>\n",
       "      <th>f_5</th>\n",
       "      <th>f_6</th>\n",
       "      <th>f_7</th>\n",
       "      <th>f_8</th>\n",
       "      <th>f_9</th>\n",
       "      <th>...</th>\n",
       "      <th>f_759</th>\n",
       "      <th>f_760</th>\n",
       "      <th>f_761</th>\n",
       "      <th>f_762</th>\n",
       "      <th>f_763</th>\n",
       "      <th>f_764</th>\n",
       "      <th>f_765</th>\n",
       "      <th>f_766</th>\n",
       "      <th>f_767</th>\n",
       "      <th>label</th>\n",
       "    </tr>\n",
       "  </thead>\n",
       "  <tbody>\n",
       "    <tr>\n",
       "      <th>0</th>\n",
       "      <td>55.391998</td>\n",
       "      <td>402.842010</td>\n",
       "      <td>1179.939941</td>\n",
       "      <td>137.306000</td>\n",
       "      <td>275.936005</td>\n",
       "      <td>-668.432983</td>\n",
       "      <td>738.448975</td>\n",
       "      <td>509.286987</td>\n",
       "      <td>413.082001</td>\n",
       "      <td>-1350.576050</td>\n",
       "      <td>...</td>\n",
       "      <td>-697.203979</td>\n",
       "      <td>-219.283005</td>\n",
       "      <td>225.966003</td>\n",
       "      <td>-43.695000</td>\n",
       "      <td>626.716980</td>\n",
       "      <td>-295.596985</td>\n",
       "      <td>-635.940979</td>\n",
       "      <td>31.915001</td>\n",
       "      <td>158.291000</td>\n",
       "      <td>4</td>\n",
       "    </tr>\n",
       "    <tr>\n",
       "      <th>1</th>\n",
       "      <td>498.306000</td>\n",
       "      <td>118.342003</td>\n",
       "      <td>1222.817993</td>\n",
       "      <td>646.617004</td>\n",
       "      <td>746.257019</td>\n",
       "      <td>-473.803986</td>\n",
       "      <td>-11.617000</td>\n",
       "      <td>-16.693001</td>\n",
       "      <td>269.397003</td>\n",
       "      <td>-613.716003</td>\n",
       "      <td>...</td>\n",
       "      <td>-288.542999</td>\n",
       "      <td>-441.739990</td>\n",
       "      <td>-406.356995</td>\n",
       "      <td>174.936996</td>\n",
       "      <td>532.174011</td>\n",
       "      <td>-443.278992</td>\n",
       "      <td>-68.603996</td>\n",
       "      <td>-493.657013</td>\n",
       "      <td>-368.730011</td>\n",
       "      <td>1</td>\n",
       "    </tr>\n",
       "    <tr>\n",
       "      <th>2</th>\n",
       "      <td>1465.275024</td>\n",
       "      <td>-2211.415039</td>\n",
       "      <td>2463.522949</td>\n",
       "      <td>945.344971</td>\n",
       "      <td>922.330994</td>\n",
       "      <td>338.187988</td>\n",
       "      <td>-1548.826050</td>\n",
       "      <td>-818.586975</td>\n",
       "      <td>-1007.841003</td>\n",
       "      <td>79.605003</td>\n",
       "      <td>...</td>\n",
       "      <td>-507.450012</td>\n",
       "      <td>1626.469971</td>\n",
       "      <td>-1210.922974</td>\n",
       "      <td>4531.459961</td>\n",
       "      <td>-2801.270020</td>\n",
       "      <td>2071.193115</td>\n",
       "      <td>-99.113998</td>\n",
       "      <td>-475.681000</td>\n",
       "      <td>2455.382080</td>\n",
       "      <td>3</td>\n",
       "    </tr>\n",
       "    <tr>\n",
       "      <th>3</th>\n",
       "      <td>-480.721008</td>\n",
       "      <td>-200.492996</td>\n",
       "      <td>994.544983</td>\n",
       "      <td>429.501007</td>\n",
       "      <td>603.341980</td>\n",
       "      <td>335.571991</td>\n",
       "      <td>-789.293030</td>\n",
       "      <td>315.600006</td>\n",
       "      <td>79.110001</td>\n",
       "      <td>-700.228027</td>\n",
       "      <td>...</td>\n",
       "      <td>190.117996</td>\n",
       "      <td>-141.376999</td>\n",
       "      <td>-158.606995</td>\n",
       "      <td>789.737000</td>\n",
       "      <td>-157.804993</td>\n",
       "      <td>-241.746994</td>\n",
       "      <td>-488.445007</td>\n",
       "      <td>209.561005</td>\n",
       "      <td>-415.536987</td>\n",
       "      <td>4</td>\n",
       "    </tr>\n",
       "    <tr>\n",
       "      <th>4</th>\n",
       "      <td>259.115997</td>\n",
       "      <td>-71.842003</td>\n",
       "      <td>489.447998</td>\n",
       "      <td>23.549999</td>\n",
       "      <td>543.088989</td>\n",
       "      <td>-119.539001</td>\n",
       "      <td>-93.567001</td>\n",
       "      <td>55.488998</td>\n",
       "      <td>-235.072998</td>\n",
       "      <td>-773.299011</td>\n",
       "      <td>...</td>\n",
       "      <td>225.546005</td>\n",
       "      <td>-258.687988</td>\n",
       "      <td>-591.017029</td>\n",
       "      <td>359.621002</td>\n",
       "      <td>316.252014</td>\n",
       "      <td>-309.529999</td>\n",
       "      <td>200.304993</td>\n",
       "      <td>-167.130005</td>\n",
       "      <td>44.182999</td>\n",
       "      <td>4</td>\n",
       "    </tr>\n",
       "  </tbody>\n",
       "</table>\n",
       "<p>5 rows × 769 columns</p>\n",
       "</div>"
      ],
      "text/plain": [
       "           f_0          f_1          f_2         f_3         f_4         f_5  \\\n",
       "0    55.391998   402.842010  1179.939941  137.306000  275.936005 -668.432983   \n",
       "1   498.306000   118.342003  1222.817993  646.617004  746.257019 -473.803986   \n",
       "2  1465.275024 -2211.415039  2463.522949  945.344971  922.330994  338.187988   \n",
       "3  -480.721008  -200.492996   994.544983  429.501007  603.341980  335.571991   \n",
       "4   259.115997   -71.842003   489.447998   23.549999  543.088989 -119.539001   \n",
       "\n",
       "           f_6         f_7          f_8          f_9  ...       f_759  \\\n",
       "0   738.448975  509.286987   413.082001 -1350.576050  ... -697.203979   \n",
       "1   -11.617000  -16.693001   269.397003  -613.716003  ... -288.542999   \n",
       "2 -1548.826050 -818.586975 -1007.841003    79.605003  ... -507.450012   \n",
       "3  -789.293030  315.600006    79.110001  -700.228027  ...  190.117996   \n",
       "4   -93.567001   55.488998  -235.072998  -773.299011  ...  225.546005   \n",
       "\n",
       "         f_760        f_761        f_762        f_763        f_764  \\\n",
       "0  -219.283005   225.966003   -43.695000   626.716980  -295.596985   \n",
       "1  -441.739990  -406.356995   174.936996   532.174011  -443.278992   \n",
       "2  1626.469971 -1210.922974  4531.459961 -2801.270020  2071.193115   \n",
       "3  -141.376999  -158.606995   789.737000  -157.804993  -241.746994   \n",
       "4  -258.687988  -591.017029   359.621002   316.252014  -309.529999   \n",
       "\n",
       "        f_765       f_766        f_767  label  \n",
       "0 -635.940979   31.915001   158.291000      4  \n",
       "1  -68.603996 -493.657013  -368.730011      1  \n",
       "2  -99.113998 -475.681000  2455.382080      3  \n",
       "3 -488.445007  209.561005  -415.536987      4  \n",
       "4  200.304993 -167.130005    44.182999      4  \n",
       "\n",
       "[5 rows x 769 columns]"
      ]
     },
     "execution_count": 2,
     "metadata": {},
     "output_type": "execute_result"
    }
   ],
   "source": [
    "train_loc='/kaggle/input/prometeo23-pre-event-ml/train.csv'\n",
    "train_data=pd.read_csv(train_loc)\n",
    "train_data.head()"
   ]
  },
  {
   "cell_type": "markdown",
   "id": "40af3cc8",
   "metadata": {
    "papermill": {
     "duration": 0.007183,
     "end_time": "2023-01-04T09:21:16.676179",
     "exception": false,
     "start_time": "2023-01-04T09:21:16.668996",
     "status": "completed"
    },
    "tags": []
   },
   "source": [
    "Saving the training data and target data"
   ]
  },
  {
   "cell_type": "code",
   "execution_count": 3,
   "id": "c9cca161",
   "metadata": {
    "execution": {
     "iopub.execute_input": "2023-01-04T09:21:16.692251Z",
     "iopub.status.busy": "2023-01-04T09:21:16.691830Z",
     "iopub.status.idle": "2023-01-04T09:21:16.925023Z",
     "shell.execute_reply": "2023-01-04T09:21:16.923775Z"
    },
    "papermill": {
     "duration": 0.2445,
     "end_time": "2023-01-04T09:21:16.927827",
     "exception": false,
     "start_time": "2023-01-04T09:21:16.683327",
     "status": "completed"
    },
    "tags": []
   },
   "outputs": [
    {
     "data": {
      "text/html": [
       "<div>\n",
       "<style scoped>\n",
       "    .dataframe tbody tr th:only-of-type {\n",
       "        vertical-align: middle;\n",
       "    }\n",
       "\n",
       "    .dataframe tbody tr th {\n",
       "        vertical-align: top;\n",
       "    }\n",
       "\n",
       "    .dataframe thead th {\n",
       "        text-align: right;\n",
       "    }\n",
       "</style>\n",
       "<table border=\"1\" class=\"dataframe\">\n",
       "  <thead>\n",
       "    <tr style=\"text-align: right;\">\n",
       "      <th></th>\n",
       "      <th>f_0</th>\n",
       "      <th>f_1</th>\n",
       "      <th>f_2</th>\n",
       "      <th>f_3</th>\n",
       "      <th>f_4</th>\n",
       "      <th>f_5</th>\n",
       "      <th>f_6</th>\n",
       "      <th>f_7</th>\n",
       "      <th>f_8</th>\n",
       "      <th>f_9</th>\n",
       "      <th>...</th>\n",
       "      <th>f_758</th>\n",
       "      <th>f_759</th>\n",
       "      <th>f_760</th>\n",
       "      <th>f_761</th>\n",
       "      <th>f_762</th>\n",
       "      <th>f_763</th>\n",
       "      <th>f_764</th>\n",
       "      <th>f_765</th>\n",
       "      <th>f_766</th>\n",
       "      <th>f_767</th>\n",
       "    </tr>\n",
       "  </thead>\n",
       "  <tbody>\n",
       "    <tr>\n",
       "      <th>0</th>\n",
       "      <td>55.391998</td>\n",
       "      <td>402.842010</td>\n",
       "      <td>1179.939941</td>\n",
       "      <td>137.306000</td>\n",
       "      <td>275.936005</td>\n",
       "      <td>-668.432983</td>\n",
       "      <td>738.448975</td>\n",
       "      <td>509.286987</td>\n",
       "      <td>413.082001</td>\n",
       "      <td>-1350.576050</td>\n",
       "      <td>...</td>\n",
       "      <td>225.628006</td>\n",
       "      <td>-697.203979</td>\n",
       "      <td>-219.283005</td>\n",
       "      <td>225.966003</td>\n",
       "      <td>-43.695000</td>\n",
       "      <td>626.716980</td>\n",
       "      <td>-295.596985</td>\n",
       "      <td>-635.940979</td>\n",
       "      <td>31.915001</td>\n",
       "      <td>158.291000</td>\n",
       "    </tr>\n",
       "    <tr>\n",
       "      <th>1</th>\n",
       "      <td>498.306000</td>\n",
       "      <td>118.342003</td>\n",
       "      <td>1222.817993</td>\n",
       "      <td>646.617004</td>\n",
       "      <td>746.257019</td>\n",
       "      <td>-473.803986</td>\n",
       "      <td>-11.617000</td>\n",
       "      <td>-16.693001</td>\n",
       "      <td>269.397003</td>\n",
       "      <td>-613.716003</td>\n",
       "      <td>...</td>\n",
       "      <td>668.473999</td>\n",
       "      <td>-288.542999</td>\n",
       "      <td>-441.739990</td>\n",
       "      <td>-406.356995</td>\n",
       "      <td>174.936996</td>\n",
       "      <td>532.174011</td>\n",
       "      <td>-443.278992</td>\n",
       "      <td>-68.603996</td>\n",
       "      <td>-493.657013</td>\n",
       "      <td>-368.730011</td>\n",
       "    </tr>\n",
       "    <tr>\n",
       "      <th>2</th>\n",
       "      <td>1465.275024</td>\n",
       "      <td>-2211.415039</td>\n",
       "      <td>2463.522949</td>\n",
       "      <td>945.344971</td>\n",
       "      <td>922.330994</td>\n",
       "      <td>338.187988</td>\n",
       "      <td>-1548.826050</td>\n",
       "      <td>-818.586975</td>\n",
       "      <td>-1007.841003</td>\n",
       "      <td>79.605003</td>\n",
       "      <td>...</td>\n",
       "      <td>868.348022</td>\n",
       "      <td>-507.450012</td>\n",
       "      <td>1626.469971</td>\n",
       "      <td>-1210.922974</td>\n",
       "      <td>4531.459961</td>\n",
       "      <td>-2801.270020</td>\n",
       "      <td>2071.193115</td>\n",
       "      <td>-99.113998</td>\n",
       "      <td>-475.681000</td>\n",
       "      <td>2455.382080</td>\n",
       "    </tr>\n",
       "    <tr>\n",
       "      <th>3</th>\n",
       "      <td>-480.721008</td>\n",
       "      <td>-200.492996</td>\n",
       "      <td>994.544983</td>\n",
       "      <td>429.501007</td>\n",
       "      <td>603.341980</td>\n",
       "      <td>335.571991</td>\n",
       "      <td>-789.293030</td>\n",
       "      <td>315.600006</td>\n",
       "      <td>79.110001</td>\n",
       "      <td>-700.228027</td>\n",
       "      <td>...</td>\n",
       "      <td>93.406998</td>\n",
       "      <td>190.117996</td>\n",
       "      <td>-141.376999</td>\n",
       "      <td>-158.606995</td>\n",
       "      <td>789.737000</td>\n",
       "      <td>-157.804993</td>\n",
       "      <td>-241.746994</td>\n",
       "      <td>-488.445007</td>\n",
       "      <td>209.561005</td>\n",
       "      <td>-415.536987</td>\n",
       "    </tr>\n",
       "    <tr>\n",
       "      <th>4</th>\n",
       "      <td>259.115997</td>\n",
       "      <td>-71.842003</td>\n",
       "      <td>489.447998</td>\n",
       "      <td>23.549999</td>\n",
       "      <td>543.088989</td>\n",
       "      <td>-119.539001</td>\n",
       "      <td>-93.567001</td>\n",
       "      <td>55.488998</td>\n",
       "      <td>-235.072998</td>\n",
       "      <td>-773.299011</td>\n",
       "      <td>...</td>\n",
       "      <td>-150.707001</td>\n",
       "      <td>225.546005</td>\n",
       "      <td>-258.687988</td>\n",
       "      <td>-591.017029</td>\n",
       "      <td>359.621002</td>\n",
       "      <td>316.252014</td>\n",
       "      <td>-309.529999</td>\n",
       "      <td>200.304993</td>\n",
       "      <td>-167.130005</td>\n",
       "      <td>44.182999</td>\n",
       "    </tr>\n",
       "  </tbody>\n",
       "</table>\n",
       "<p>5 rows × 768 columns</p>\n",
       "</div>"
      ],
      "text/plain": [
       "           f_0          f_1          f_2         f_3         f_4         f_5  \\\n",
       "0    55.391998   402.842010  1179.939941  137.306000  275.936005 -668.432983   \n",
       "1   498.306000   118.342003  1222.817993  646.617004  746.257019 -473.803986   \n",
       "2  1465.275024 -2211.415039  2463.522949  945.344971  922.330994  338.187988   \n",
       "3  -480.721008  -200.492996   994.544983  429.501007  603.341980  335.571991   \n",
       "4   259.115997   -71.842003   489.447998   23.549999  543.088989 -119.539001   \n",
       "\n",
       "           f_6         f_7          f_8          f_9  ...       f_758  \\\n",
       "0   738.448975  509.286987   413.082001 -1350.576050  ...  225.628006   \n",
       "1   -11.617000  -16.693001   269.397003  -613.716003  ...  668.473999   \n",
       "2 -1548.826050 -818.586975 -1007.841003    79.605003  ...  868.348022   \n",
       "3  -789.293030  315.600006    79.110001  -700.228027  ...   93.406998   \n",
       "4   -93.567001   55.488998  -235.072998  -773.299011  ... -150.707001   \n",
       "\n",
       "        f_759        f_760        f_761        f_762        f_763  \\\n",
       "0 -697.203979  -219.283005   225.966003   -43.695000   626.716980   \n",
       "1 -288.542999  -441.739990  -406.356995   174.936996   532.174011   \n",
       "2 -507.450012  1626.469971 -1210.922974  4531.459961 -2801.270020   \n",
       "3  190.117996  -141.376999  -158.606995   789.737000  -157.804993   \n",
       "4  225.546005  -258.687988  -591.017029   359.621002   316.252014   \n",
       "\n",
       "         f_764       f_765       f_766        f_767  \n",
       "0  -295.596985 -635.940979   31.915001   158.291000  \n",
       "1  -443.278992  -68.603996 -493.657013  -368.730011  \n",
       "2  2071.193115  -99.113998 -475.681000  2455.382080  \n",
       "3  -241.746994 -488.445007  209.561005  -415.536987  \n",
       "4  -309.529999  200.304993 -167.130005    44.182999  \n",
       "\n",
       "[5 rows x 768 columns]"
      ]
     },
     "execution_count": 3,
     "metadata": {},
     "output_type": "execute_result"
    }
   ],
   "source": [
    "X=train_data.copy()\n",
    "y=X['label']\n",
    "X=X.drop(columns=['label'])\n",
    "X.head()"
   ]
  },
  {
   "cell_type": "markdown",
   "id": "6f82d29b",
   "metadata": {
    "papermill": {
     "duration": 0.007153,
     "end_time": "2023-01-04T09:21:16.942965",
     "exception": false,
     "start_time": "2023-01-04T09:21:16.935812",
     "status": "completed"
    },
    "tags": []
   },
   "source": [
    "Making a first sample using 100 random features just too see what happens"
   ]
  },
  {
   "cell_type": "code",
   "execution_count": 4,
   "id": "cc90b02b",
   "metadata": {
    "execution": {
     "iopub.execute_input": "2023-01-04T09:21:16.961281Z",
     "iopub.status.busy": "2023-01-04T09:21:16.960857Z",
     "iopub.status.idle": "2023-01-04T09:21:16.987688Z",
     "shell.execute_reply": "2023-01-04T09:21:16.986325Z"
    },
    "papermill": {
     "duration": 0.040028,
     "end_time": "2023-01-04T09:21:16.990441",
     "exception": false,
     "start_time": "2023-01-04T09:21:16.950413",
     "status": "completed"
    },
    "tags": []
   },
   "outputs": [
    {
     "data": {
      "text/html": [
       "<div>\n",
       "<style scoped>\n",
       "    .dataframe tbody tr th:only-of-type {\n",
       "        vertical-align: middle;\n",
       "    }\n",
       "\n",
       "    .dataframe tbody tr th {\n",
       "        vertical-align: top;\n",
       "    }\n",
       "\n",
       "    .dataframe thead th {\n",
       "        text-align: right;\n",
       "    }\n",
       "</style>\n",
       "<table border=\"1\" class=\"dataframe\">\n",
       "  <thead>\n",
       "    <tr style=\"text-align: right;\">\n",
       "      <th></th>\n",
       "      <th>f_0</th>\n",
       "      <th>f_1</th>\n",
       "      <th>f_2</th>\n",
       "      <th>f_3</th>\n",
       "      <th>f_4</th>\n",
       "      <th>f_5</th>\n",
       "      <th>f_6</th>\n",
       "      <th>f_7</th>\n",
       "      <th>f_8</th>\n",
       "      <th>f_9</th>\n",
       "      <th>...</th>\n",
       "      <th>f_758</th>\n",
       "      <th>f_759</th>\n",
       "      <th>f_760</th>\n",
       "      <th>f_761</th>\n",
       "      <th>f_762</th>\n",
       "      <th>f_763</th>\n",
       "      <th>f_764</th>\n",
       "      <th>f_765</th>\n",
       "      <th>f_766</th>\n",
       "      <th>f_767</th>\n",
       "    </tr>\n",
       "  </thead>\n",
       "  <tbody>\n",
       "    <tr>\n",
       "      <th>0</th>\n",
       "      <td>55.391998</td>\n",
       "      <td>402.842010</td>\n",
       "      <td>1179.939941</td>\n",
       "      <td>137.306000</td>\n",
       "      <td>275.936005</td>\n",
       "      <td>-668.432983</td>\n",
       "      <td>738.448975</td>\n",
       "      <td>509.286987</td>\n",
       "      <td>413.082001</td>\n",
       "      <td>-1350.576050</td>\n",
       "      <td>...</td>\n",
       "      <td>225.628006</td>\n",
       "      <td>-697.203979</td>\n",
       "      <td>-219.283005</td>\n",
       "      <td>225.966003</td>\n",
       "      <td>-43.695000</td>\n",
       "      <td>626.716980</td>\n",
       "      <td>-295.596985</td>\n",
       "      <td>-635.940979</td>\n",
       "      <td>31.915001</td>\n",
       "      <td>158.291000</td>\n",
       "    </tr>\n",
       "    <tr>\n",
       "      <th>1</th>\n",
       "      <td>498.306000</td>\n",
       "      <td>118.342003</td>\n",
       "      <td>1222.817993</td>\n",
       "      <td>646.617004</td>\n",
       "      <td>746.257019</td>\n",
       "      <td>-473.803986</td>\n",
       "      <td>-11.617000</td>\n",
       "      <td>-16.693001</td>\n",
       "      <td>269.397003</td>\n",
       "      <td>-613.716003</td>\n",
       "      <td>...</td>\n",
       "      <td>668.473999</td>\n",
       "      <td>-288.542999</td>\n",
       "      <td>-441.739990</td>\n",
       "      <td>-406.356995</td>\n",
       "      <td>174.936996</td>\n",
       "      <td>532.174011</td>\n",
       "      <td>-443.278992</td>\n",
       "      <td>-68.603996</td>\n",
       "      <td>-493.657013</td>\n",
       "      <td>-368.730011</td>\n",
       "    </tr>\n",
       "    <tr>\n",
       "      <th>2</th>\n",
       "      <td>1465.275024</td>\n",
       "      <td>-2211.415039</td>\n",
       "      <td>2463.522949</td>\n",
       "      <td>945.344971</td>\n",
       "      <td>922.330994</td>\n",
       "      <td>338.187988</td>\n",
       "      <td>-1548.826050</td>\n",
       "      <td>-818.586975</td>\n",
       "      <td>-1007.841003</td>\n",
       "      <td>79.605003</td>\n",
       "      <td>...</td>\n",
       "      <td>868.348022</td>\n",
       "      <td>-507.450012</td>\n",
       "      <td>1626.469971</td>\n",
       "      <td>-1210.922974</td>\n",
       "      <td>4531.459961</td>\n",
       "      <td>-2801.270020</td>\n",
       "      <td>2071.193115</td>\n",
       "      <td>-99.113998</td>\n",
       "      <td>-475.681000</td>\n",
       "      <td>2455.382080</td>\n",
       "    </tr>\n",
       "    <tr>\n",
       "      <th>3</th>\n",
       "      <td>-480.721008</td>\n",
       "      <td>-200.492996</td>\n",
       "      <td>994.544983</td>\n",
       "      <td>429.501007</td>\n",
       "      <td>603.341980</td>\n",
       "      <td>335.571991</td>\n",
       "      <td>-789.293030</td>\n",
       "      <td>315.600006</td>\n",
       "      <td>79.110001</td>\n",
       "      <td>-700.228027</td>\n",
       "      <td>...</td>\n",
       "      <td>93.406998</td>\n",
       "      <td>190.117996</td>\n",
       "      <td>-141.376999</td>\n",
       "      <td>-158.606995</td>\n",
       "      <td>789.737000</td>\n",
       "      <td>-157.804993</td>\n",
       "      <td>-241.746994</td>\n",
       "      <td>-488.445007</td>\n",
       "      <td>209.561005</td>\n",
       "      <td>-415.536987</td>\n",
       "    </tr>\n",
       "    <tr>\n",
       "      <th>4</th>\n",
       "      <td>259.115997</td>\n",
       "      <td>-71.842003</td>\n",
       "      <td>489.447998</td>\n",
       "      <td>23.549999</td>\n",
       "      <td>543.088989</td>\n",
       "      <td>-119.539001</td>\n",
       "      <td>-93.567001</td>\n",
       "      <td>55.488998</td>\n",
       "      <td>-235.072998</td>\n",
       "      <td>-773.299011</td>\n",
       "      <td>...</td>\n",
       "      <td>-150.707001</td>\n",
       "      <td>225.546005</td>\n",
       "      <td>-258.687988</td>\n",
       "      <td>-591.017029</td>\n",
       "      <td>359.621002</td>\n",
       "      <td>316.252014</td>\n",
       "      <td>-309.529999</td>\n",
       "      <td>200.304993</td>\n",
       "      <td>-167.130005</td>\n",
       "      <td>44.182999</td>\n",
       "    </tr>\n",
       "  </tbody>\n",
       "</table>\n",
       "<p>5 rows × 768 columns</p>\n",
       "</div>"
      ],
      "text/plain": [
       "           f_0          f_1          f_2         f_3         f_4         f_5  \\\n",
       "0    55.391998   402.842010  1179.939941  137.306000  275.936005 -668.432983   \n",
       "1   498.306000   118.342003  1222.817993  646.617004  746.257019 -473.803986   \n",
       "2  1465.275024 -2211.415039  2463.522949  945.344971  922.330994  338.187988   \n",
       "3  -480.721008  -200.492996   994.544983  429.501007  603.341980  335.571991   \n",
       "4   259.115997   -71.842003   489.447998   23.549999  543.088989 -119.539001   \n",
       "\n",
       "           f_6         f_7          f_8          f_9  ...       f_758  \\\n",
       "0   738.448975  509.286987   413.082001 -1350.576050  ...  225.628006   \n",
       "1   -11.617000  -16.693001   269.397003  -613.716003  ...  668.473999   \n",
       "2 -1548.826050 -818.586975 -1007.841003    79.605003  ...  868.348022   \n",
       "3  -789.293030  315.600006    79.110001  -700.228027  ...   93.406998   \n",
       "4   -93.567001   55.488998  -235.072998  -773.299011  ... -150.707001   \n",
       "\n",
       "        f_759        f_760        f_761        f_762        f_763  \\\n",
       "0 -697.203979  -219.283005   225.966003   -43.695000   626.716980   \n",
       "1 -288.542999  -441.739990  -406.356995   174.936996   532.174011   \n",
       "2 -507.450012  1626.469971 -1210.922974  4531.459961 -2801.270020   \n",
       "3  190.117996  -141.376999  -158.606995   789.737000  -157.804993   \n",
       "4  225.546005  -258.687988  -591.017029   359.621002   316.252014   \n",
       "\n",
       "         f_764       f_765       f_766        f_767  \n",
       "0  -295.596985 -635.940979   31.915001   158.291000  \n",
       "1  -443.278992  -68.603996 -493.657013  -368.730011  \n",
       "2  2071.193115  -99.113998 -475.681000  2455.382080  \n",
       "3  -241.746994 -488.445007  209.561005  -415.536987  \n",
       "4  -309.529999  200.304993 -167.130005    44.182999  \n",
       "\n",
       "[5 rows x 768 columns]"
      ]
     },
     "execution_count": 4,
     "metadata": {},
     "output_type": "execute_result"
    }
   ],
   "source": [
    "X_sample=X.iloc[0:100]\n",
    "X_sample.head()"
   ]
  },
  {
   "cell_type": "markdown",
   "id": "2f8b7d35",
   "metadata": {
    "papermill": {
     "duration": 0.008089,
     "end_time": "2023-01-04T09:21:17.006547",
     "exception": false,
     "start_time": "2023-01-04T09:21:16.998458",
     "status": "completed"
    },
    "tags": []
   },
   "source": [
    "using mutual information for the first 100 features"
   ]
  },
  {
   "cell_type": "code",
   "execution_count": 5,
   "id": "3a9f711b",
   "metadata": {
    "_kg_hide-input": true,
    "execution": {
     "iopub.execute_input": "2023-01-04T09:21:17.025062Z",
     "iopub.status.busy": "2023-01-04T09:21:17.024390Z",
     "iopub.status.idle": "2023-01-04T09:21:17.035463Z",
     "shell.execute_reply": "2023-01-04T09:21:17.034012Z"
    },
    "papermill": {
     "duration": 0.024367,
     "end_time": "2023-01-04T09:21:17.038802",
     "exception": false,
     "start_time": "2023-01-04T09:21:17.014435",
     "status": "completed"
    },
    "tags": []
   },
   "outputs": [
    {
     "data": {
      "text/plain": [
       "f_0      float64\n",
       "f_1      float64\n",
       "f_2      float64\n",
       "f_3      float64\n",
       "f_4      float64\n",
       "          ...   \n",
       "f_763    float64\n",
       "f_764    float64\n",
       "f_765    float64\n",
       "f_766    float64\n",
       "f_767    float64\n",
       "Length: 768, dtype: object"
      ]
     },
     "execution_count": 5,
     "metadata": {},
     "output_type": "execute_result"
    }
   ],
   "source": [
    "X_sample.dtypes"
   ]
  },
  {
   "cell_type": "code",
   "execution_count": 6,
   "id": "4181d05b",
   "metadata": {
    "execution": {
     "iopub.execute_input": "2023-01-04T09:21:17.059188Z",
     "iopub.status.busy": "2023-01-04T09:21:17.058799Z",
     "iopub.status.idle": "2023-01-04T09:21:21.916801Z",
     "shell.execute_reply": "2023-01-04T09:21:21.915632Z"
    },
    "papermill": {
     "duration": 4.871742,
     "end_time": "2023-01-04T09:21:21.919647",
     "exception": false,
     "start_time": "2023-01-04T09:21:17.047905",
     "status": "completed"
    },
    "tags": []
   },
   "outputs": [
    {
     "data": {
      "text/plain": [
       "f_403    0.246654\n",
       "f_52     0.221238\n",
       "f_126    0.213672\n",
       "f_530    0.199275\n",
       "f_72     0.193039\n",
       "           ...   \n",
       "f_343    0.000000\n",
       "f_342    0.000000\n",
       "f_340    0.000000\n",
       "f_339    0.000000\n",
       "f_384    0.000000\n",
       "Name: MI Scores, Length: 768, dtype: float64"
      ]
     },
     "execution_count": 6,
     "metadata": {},
     "output_type": "execute_result"
    }
   ],
   "source": [
    "from sklearn.feature_selection import mutual_info_classif\n",
    "y=y.iloc[0:100]\n",
    "X=X.iloc[0:100]\n",
    "def make_mi_scores(X, y):\n",
    "    mi_scores = mutual_info_classif(X, y)\n",
    "    mi_scores = pd.Series(mi_scores, name=\"MI Scores\", index=X.columns)\n",
    "    mi_scores = mi_scores.sort_values(ascending=False)\n",
    "    return mi_scores\n",
    "\n",
    "mi_scores = make_mi_scores(X, y)\n",
    "mi_scores[::] "
   ]
  },
  {
   "cell_type": "markdown",
   "id": "d06e32a7",
   "metadata": {
    "papermill": {
     "duration": 0.010148,
     "end_time": "2023-01-04T09:21:21.940308",
     "exception": false,
     "start_time": "2023-01-04T09:21:21.930160",
     "status": "completed"
    },
    "tags": []
   },
   "source": [
    "selecting top 10 features"
   ]
  },
  {
   "cell_type": "code",
   "execution_count": 7,
   "id": "6f4e3b6f",
   "metadata": {
    "execution": {
     "iopub.execute_input": "2023-01-04T09:21:21.958333Z",
     "iopub.status.busy": "2023-01-04T09:21:21.957933Z",
     "iopub.status.idle": "2023-01-04T09:21:21.964135Z",
     "shell.execute_reply": "2023-01-04T09:21:21.962802Z"
    },
    "papermill": {
     "duration": 0.018308,
     "end_time": "2023-01-04T09:21:21.966834",
     "exception": false,
     "start_time": "2023-01-04T09:21:21.948526",
     "status": "completed"
    },
    "tags": []
   },
   "outputs": [],
   "source": [
    "top_10_features =mi_scores.argsort()[-10:][::-1]"
   ]
  },
  {
   "cell_type": "code",
   "execution_count": 8,
   "id": "f9047dad",
   "metadata": {
    "execution": {
     "iopub.execute_input": "2023-01-04T09:21:21.984840Z",
     "iopub.status.busy": "2023-01-04T09:21:21.984428Z",
     "iopub.status.idle": "2023-01-04T09:21:21.994770Z",
     "shell.execute_reply": "2023-01-04T09:21:21.993583Z"
    },
    "papermill": {
     "duration": 0.022257,
     "end_time": "2023-01-04T09:21:21.997277",
     "exception": false,
     "start_time": "2023-01-04T09:21:21.975020",
     "status": "completed"
    },
    "tags": []
   },
   "outputs": [
    {
     "data": {
      "text/plain": [
       "0"
      ]
     },
     "execution_count": 8,
     "metadata": {},
     "output_type": "execute_result"
    }
   ],
   "source": [
    "X.isnull().sum().sum()"
   ]
  },
  {
   "cell_type": "markdown",
   "id": "d9ac24db",
   "metadata": {
    "papermill": {
     "duration": 0.007936,
     "end_time": "2023-01-04T09:21:22.013412",
     "exception": false,
     "start_time": "2023-01-04T09:21:22.005476",
     "status": "completed"
    },
    "tags": []
   },
   "source": [
    "importing some important features for modelling"
   ]
  },
  {
   "cell_type": "code",
   "execution_count": 9,
   "id": "9137116e",
   "metadata": {
    "execution": {
     "iopub.execute_input": "2023-01-04T09:21:22.032223Z",
     "iopub.status.busy": "2023-01-04T09:21:22.031284Z",
     "iopub.status.idle": "2023-01-04T09:21:22.130368Z",
     "shell.execute_reply": "2023-01-04T09:21:22.129149Z"
    },
    "papermill": {
     "duration": 0.111549,
     "end_time": "2023-01-04T09:21:22.133312",
     "exception": false,
     "start_time": "2023-01-04T09:21:22.021763",
     "status": "completed"
    },
    "tags": []
   },
   "outputs": [],
   "source": [
    "from sklearn.model_selection import train_test_split\n",
    "from sklearn.ensemble import RandomForestClassifier\n",
    "from sklearn.svm import SVC\n",
    "SVM_classifier = SVC(kernel = 'linear', random_state = 0)"
   ]
  },
  {
   "cell_type": "code",
   "execution_count": 10,
   "id": "0a526b88",
   "metadata": {
    "execution": {
     "iopub.execute_input": "2023-01-04T09:21:22.152017Z",
     "iopub.status.busy": "2023-01-04T09:21:22.151604Z",
     "iopub.status.idle": "2023-01-04T09:21:22.159199Z",
     "shell.execute_reply": "2023-01-04T09:21:22.158059Z"
    },
    "papermill": {
     "duration": 0.019788,
     "end_time": "2023-01-04T09:21:22.161622",
     "exception": false,
     "start_time": "2023-01-04T09:21:22.141834",
     "status": "completed"
    },
    "tags": []
   },
   "outputs": [
    {
     "data": {
      "text/plain": [
       "f_384    0\n",
       "f_339    1\n",
       "f_340    2\n",
       "f_342    3\n",
       "f_343    4\n",
       "f_344    5\n",
       "f_348    6\n",
       "f_350    7\n",
       "f_355    8\n",
       "f_358    9\n",
       "Name: MI Scores, dtype: int64"
      ]
     },
     "execution_count": 10,
     "metadata": {},
     "output_type": "execute_result"
    }
   ],
   "source": [
    "top_10_features"
   ]
  },
  {
   "cell_type": "code",
   "execution_count": 11,
   "id": "59e50be1",
   "metadata": {
    "execution": {
     "iopub.execute_input": "2023-01-04T09:21:22.179768Z",
     "iopub.status.busy": "2023-01-04T09:21:22.179303Z",
     "iopub.status.idle": "2023-01-04T09:21:22.186287Z",
     "shell.execute_reply": "2023-01-04T09:21:22.185037Z"
    },
    "papermill": {
     "duration": 0.018548,
     "end_time": "2023-01-04T09:21:22.188494",
     "exception": false,
     "start_time": "2023-01-04T09:21:22.169946",
     "status": "completed"
    },
    "tags": []
   },
   "outputs": [],
   "source": [
    "features=['f_384','f_339','f_340','f_342',    \n",
    "'f_343',   \n",
    "'f_344',   \n",
    "#'f_348',    \n",
    "#'f_350',   \n",
    "#'f_355',    \n",
    "'f_358']\n",
    "X_final=X_sample[features]"
   ]
  },
  {
   "cell_type": "code",
   "execution_count": 12,
   "id": "9a18e1ad",
   "metadata": {
    "execution": {
     "iopub.execute_input": "2023-01-04T09:21:22.206639Z",
     "iopub.status.busy": "2023-01-04T09:21:22.206203Z",
     "iopub.status.idle": "2023-01-04T09:21:22.213870Z",
     "shell.execute_reply": "2023-01-04T09:21:22.212699Z"
    },
    "papermill": {
     "duration": 0.019552,
     "end_time": "2023-01-04T09:21:22.216340",
     "exception": false,
     "start_time": "2023-01-04T09:21:22.196788",
     "status": "completed"
    },
    "tags": []
   },
   "outputs": [],
   "source": [
    "X_train,X_test,y_train,y_test=train_test_split(X_final,y,train_size=0.8,test_size=0.2,random_state=1)"
   ]
  },
  {
   "cell_type": "markdown",
   "id": "e629e455",
   "metadata": {
    "papermill": {
     "duration": 0.009308,
     "end_time": "2023-01-04T09:21:22.233926",
     "exception": false,
     "start_time": "2023-01-04T09:21:22.224618",
     "status": "completed"
    },
    "tags": []
   },
   "source": [
    "Scaling"
   ]
  },
  {
   "cell_type": "code",
   "execution_count": 13,
   "id": "497436a1",
   "metadata": {
    "execution": {
     "iopub.execute_input": "2023-01-04T09:21:22.254253Z",
     "iopub.status.busy": "2023-01-04T09:21:22.253133Z",
     "iopub.status.idle": "2023-01-04T09:21:22.262972Z",
     "shell.execute_reply": "2023-01-04T09:21:22.262042Z"
    },
    "papermill": {
     "duration": 0.021478,
     "end_time": "2023-01-04T09:21:22.265405",
     "exception": false,
     "start_time": "2023-01-04T09:21:22.243927",
     "status": "completed"
    },
    "tags": []
   },
   "outputs": [],
   "source": [
    "from sklearn.preprocessing import StandardScaler\n",
    "sc = StandardScaler()\n",
    "X_train = sc.fit_transform(X_train)\n",
    "X_test = sc.transform(X_test)"
   ]
  },
  {
   "cell_type": "markdown",
   "id": "060205a0",
   "metadata": {
    "papermill": {
     "duration": 0.00772,
     "end_time": "2023-01-04T09:21:22.281472",
     "exception": false,
     "start_time": "2023-01-04T09:21:22.273752",
     "status": "completed"
    },
    "tags": []
   },
   "source": [
    "defining and fitting a model"
   ]
  },
  {
   "cell_type": "code",
   "execution_count": 14,
   "id": "22daaf36",
   "metadata": {
    "execution": {
     "iopub.execute_input": "2023-01-04T09:21:22.300483Z",
     "iopub.status.busy": "2023-01-04T09:21:22.299755Z",
     "iopub.status.idle": "2023-01-04T09:21:22.661865Z",
     "shell.execute_reply": "2023-01-04T09:21:22.660863Z"
    },
    "papermill": {
     "duration": 0.374444,
     "end_time": "2023-01-04T09:21:22.664217",
     "exception": false,
     "start_time": "2023-01-04T09:21:22.289773",
     "status": "completed"
    },
    "tags": []
   },
   "outputs": [
    {
     "data": {
      "text/plain": [
       "RandomForestClassifier(max_depth=5, n_estimators=250, random_state=1)"
      ]
     },
     "execution_count": 14,
     "metadata": {},
     "output_type": "execute_result"
    }
   ],
   "source": [
    "model=RandomForestClassifier(n_estimators=250,max_depth=5,random_state=1)\n",
    "#SVM_classifier.fit(X_train,y_train)\n",
    "model.fit(X_train,y_train)"
   ]
  },
  {
   "cell_type": "markdown",
   "id": "2fcf7061",
   "metadata": {
    "papermill": {
     "duration": 0.008124,
     "end_time": "2023-01-04T09:21:22.680886",
     "exception": false,
     "start_time": "2023-01-04T09:21:22.672762",
     "status": "completed"
    },
    "tags": []
   },
   "source": [
    "obtaining predictions from said model"
   ]
  },
  {
   "cell_type": "code",
   "execution_count": 15,
   "id": "30bd036b",
   "metadata": {
    "execution": {
     "iopub.execute_input": "2023-01-04T09:21:22.699428Z",
     "iopub.status.busy": "2023-01-04T09:21:22.699045Z",
     "iopub.status.idle": "2023-01-04T09:21:22.736198Z",
     "shell.execute_reply": "2023-01-04T09:21:22.734852Z"
    },
    "papermill": {
     "duration": 0.049797,
     "end_time": "2023-01-04T09:21:22.739036",
     "exception": false,
     "start_time": "2023-01-04T09:21:22.689239",
     "status": "completed"
    },
    "tags": []
   },
   "outputs": [],
   "source": [
    "#predictions=SVM_classifier.predict(X_test)\n",
    "predictions=model.predict(X_test)"
   ]
  },
  {
   "cell_type": "markdown",
   "id": "363c6e21",
   "metadata": {
    "papermill": {
     "duration": 0.008294,
     "end_time": "2023-01-04T09:21:22.756095",
     "exception": false,
     "start_time": "2023-01-04T09:21:22.747801",
     "status": "completed"
    },
    "tags": []
   },
   "source": [
    "using basic accuracy to figure out model accuracy\n"
   ]
  },
  {
   "cell_type": "code",
   "execution_count": 16,
   "id": "200a9156",
   "metadata": {
    "execution": {
     "iopub.execute_input": "2023-01-04T09:21:22.775085Z",
     "iopub.status.busy": "2023-01-04T09:21:22.774651Z",
     "iopub.status.idle": "2023-01-04T09:21:22.781451Z",
     "shell.execute_reply": "2023-01-04T09:21:22.779944Z"
    },
    "papermill": {
     "duration": 0.020304,
     "end_time": "2023-01-04T09:21:22.784605",
     "exception": false,
     "start_time": "2023-01-04T09:21:22.764301",
     "status": "completed"
    },
    "tags": []
   },
   "outputs": [
    {
     "name": "stdout",
     "output_type": "stream",
     "text": [
      "0.2\n"
     ]
    }
   ],
   "source": [
    "from sklearn.metrics import accuracy_score\n",
    "\n",
    "# Calculate the accuracy of the model\n",
    "accuracy = accuracy_score(y_test,predictions)\n",
    "\n",
    "print(accuracy)"
   ]
  },
  {
   "cell_type": "code",
   "execution_count": null,
   "id": "3ba3a985",
   "metadata": {
    "papermill": {
     "duration": 0.008009,
     "end_time": "2023-01-04T09:21:22.801132",
     "exception": false,
     "start_time": "2023-01-04T09:21:22.793123",
     "status": "completed"
    },
    "tags": []
   },
   "outputs": [],
   "source": []
  },
  {
   "cell_type": "code",
   "execution_count": null,
   "id": "21ce0a65",
   "metadata": {
    "papermill": {
     "duration": 0.007749,
     "end_time": "2023-01-04T09:21:22.817037",
     "exception": false,
     "start_time": "2023-01-04T09:21:22.809288",
     "status": "completed"
    },
    "tags": []
   },
   "outputs": [],
   "source": []
  },
  {
   "cell_type": "code",
   "execution_count": null,
   "id": "c595baf4",
   "metadata": {
    "papermill": {
     "duration": 0.007801,
     "end_time": "2023-01-04T09:21:22.833028",
     "exception": false,
     "start_time": "2023-01-04T09:21:22.825227",
     "status": "completed"
    },
    "tags": []
   },
   "outputs": [],
   "source": []
  },
  {
   "cell_type": "code",
   "execution_count": null,
   "id": "6c2750fd",
   "metadata": {
    "papermill": {
     "duration": 0.007888,
     "end_time": "2023-01-04T09:21:22.849007",
     "exception": false,
     "start_time": "2023-01-04T09:21:22.841119",
     "status": "completed"
    },
    "tags": []
   },
   "outputs": [],
   "source": []
  }
 ],
 "metadata": {
  "kernelspec": {
   "display_name": "Python 3",
   "language": "python",
   "name": "python3"
  },
  "language_info": {
   "codemirror_mode": {
    "name": "ipython",
    "version": 3
   },
   "file_extension": ".py",
   "mimetype": "text/x-python",
   "name": "python",
   "nbconvert_exporter": "python",
   "pygments_lexer": "ipython3",
   "version": "3.7.12"
  },
  "papermill": {
   "default_parameters": {},
   "duration": 30.029105,
   "end_time": "2023-01-04T09:21:23.680528",
   "environment_variables": {},
   "exception": null,
   "input_path": "__notebook__.ipynb",
   "output_path": "__notebook__.ipynb",
   "parameters": {},
   "start_time": "2023-01-04T09:20:53.651423",
   "version": "2.3.4"
  }
 },
 "nbformat": 4,
 "nbformat_minor": 5
}
