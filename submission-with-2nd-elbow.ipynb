{
 "cells": [
  {
   "cell_type": "code",
   "execution_count": 1,
   "id": "a1b592cb",
   "metadata": {
    "_cell_guid": "b1076dfc-b9ad-4769-8c92-a6c4dae69d19",
    "_uuid": "8f2839f25d086af736a60e9eeb907d3b93b6e0e5",
    "execution": {
     "iopub.execute_input": "2023-01-04T16:42:31.272109Z",
     "iopub.status.busy": "2023-01-04T16:42:31.270853Z",
     "iopub.status.idle": "2023-01-04T16:42:31.289162Z",
     "shell.execute_reply": "2023-01-04T16:42:31.288122Z"
    },
    "papermill": {
     "duration": 0.034096,
     "end_time": "2023-01-04T16:42:31.292554",
     "exception": false,
     "start_time": "2023-01-04T16:42:31.258458",
     "status": "completed"
    },
    "tags": []
   },
   "outputs": [
    {
     "name": "stdout",
     "output_type": "stream",
     "text": [
      "/kaggle/input/prometeo23-pre-event-ml/sample_submission.csv\n",
      "/kaggle/input/prometeo23-pre-event-ml/train.csv\n",
      "/kaggle/input/prometeo23-pre-event-ml/test.csv\n"
     ]
    }
   ],
   "source": [
    "# This Python 3 environment comes with many helpful analytics libraries installed\n",
    "# It is defined by the kaggle/python Docker image: https://github.com/kaggle/docker-python\n",
    "# For example, here's several helpful packages to load\n",
    "\n",
    "import numpy as np # linear algebra\n",
    "import pandas as pd # data processing, CSV file I/O (e.g. pd.read_csv)\n",
    "\n",
    "# Input data files are available in the read-only \"../input/\" directory\n",
    "# For example, running this (by clicking run or pressing Shift+Enter) will list all files under the input directory\n",
    "\n",
    "import os\n",
    "for dirname, _, filenames in os.walk('/kaggle/input'):\n",
    "    for filename in filenames:\n",
    "        print(os.path.join(dirname, filename))\n",
    "\n",
    "# You can write up to 20GB to the current directory (/kaggle/working/) that gets preserved as output when you create a version using \"Save & Run All\" \n",
    "# You can also write temporary files to /kaggle/temp/, but they won't be saved outside of the current session"
   ]
  },
  {
   "cell_type": "code",
   "execution_count": 2,
   "id": "5b25a513",
   "metadata": {
    "execution": {
     "iopub.execute_input": "2023-01-04T16:42:31.312810Z",
     "iopub.status.busy": "2023-01-04T16:42:31.311973Z",
     "iopub.status.idle": "2023-01-04T16:42:45.174217Z",
     "shell.execute_reply": "2023-01-04T16:42:45.173280Z"
    },
    "papermill": {
     "duration": 13.875358,
     "end_time": "2023-01-04T16:42:45.176627",
     "exception": false,
     "start_time": "2023-01-04T16:42:31.301269",
     "status": "completed"
    },
    "tags": []
   },
   "outputs": [
    {
     "data": {
      "text/html": [
       "<div>\n",
       "<style scoped>\n",
       "    .dataframe tbody tr th:only-of-type {\n",
       "        vertical-align: middle;\n",
       "    }\n",
       "\n",
       "    .dataframe tbody tr th {\n",
       "        vertical-align: top;\n",
       "    }\n",
       "\n",
       "    .dataframe thead th {\n",
       "        text-align: right;\n",
       "    }\n",
       "</style>\n",
       "<table border=\"1\" class=\"dataframe\">\n",
       "  <thead>\n",
       "    <tr style=\"text-align: right;\">\n",
       "      <th></th>\n",
       "      <th>f_0</th>\n",
       "      <th>f_1</th>\n",
       "      <th>f_2</th>\n",
       "      <th>f_3</th>\n",
       "      <th>f_4</th>\n",
       "      <th>f_5</th>\n",
       "      <th>f_6</th>\n",
       "      <th>f_7</th>\n",
       "      <th>f_8</th>\n",
       "      <th>f_9</th>\n",
       "      <th>...</th>\n",
       "      <th>f_759</th>\n",
       "      <th>f_760</th>\n",
       "      <th>f_761</th>\n",
       "      <th>f_762</th>\n",
       "      <th>f_763</th>\n",
       "      <th>f_764</th>\n",
       "      <th>f_765</th>\n",
       "      <th>f_766</th>\n",
       "      <th>f_767</th>\n",
       "      <th>label</th>\n",
       "    </tr>\n",
       "  </thead>\n",
       "  <tbody>\n",
       "    <tr>\n",
       "      <th>0</th>\n",
       "      <td>55.391998</td>\n",
       "      <td>402.842010</td>\n",
       "      <td>1179.939941</td>\n",
       "      <td>137.306000</td>\n",
       "      <td>275.936005</td>\n",
       "      <td>-668.432983</td>\n",
       "      <td>738.448975</td>\n",
       "      <td>509.286987</td>\n",
       "      <td>413.082001</td>\n",
       "      <td>-1350.576050</td>\n",
       "      <td>...</td>\n",
       "      <td>-697.203979</td>\n",
       "      <td>-219.283005</td>\n",
       "      <td>225.966003</td>\n",
       "      <td>-43.695000</td>\n",
       "      <td>626.716980</td>\n",
       "      <td>-295.596985</td>\n",
       "      <td>-635.940979</td>\n",
       "      <td>31.915001</td>\n",
       "      <td>158.291000</td>\n",
       "      <td>4</td>\n",
       "    </tr>\n",
       "    <tr>\n",
       "      <th>1</th>\n",
       "      <td>498.306000</td>\n",
       "      <td>118.342003</td>\n",
       "      <td>1222.817993</td>\n",
       "      <td>646.617004</td>\n",
       "      <td>746.257019</td>\n",
       "      <td>-473.803986</td>\n",
       "      <td>-11.617000</td>\n",
       "      <td>-16.693001</td>\n",
       "      <td>269.397003</td>\n",
       "      <td>-613.716003</td>\n",
       "      <td>...</td>\n",
       "      <td>-288.542999</td>\n",
       "      <td>-441.739990</td>\n",
       "      <td>-406.356995</td>\n",
       "      <td>174.936996</td>\n",
       "      <td>532.174011</td>\n",
       "      <td>-443.278992</td>\n",
       "      <td>-68.603996</td>\n",
       "      <td>-493.657013</td>\n",
       "      <td>-368.730011</td>\n",
       "      <td>1</td>\n",
       "    </tr>\n",
       "    <tr>\n",
       "      <th>2</th>\n",
       "      <td>1465.275024</td>\n",
       "      <td>-2211.415039</td>\n",
       "      <td>2463.522949</td>\n",
       "      <td>945.344971</td>\n",
       "      <td>922.330994</td>\n",
       "      <td>338.187988</td>\n",
       "      <td>-1548.826050</td>\n",
       "      <td>-818.586975</td>\n",
       "      <td>-1007.841003</td>\n",
       "      <td>79.605003</td>\n",
       "      <td>...</td>\n",
       "      <td>-507.450012</td>\n",
       "      <td>1626.469971</td>\n",
       "      <td>-1210.922974</td>\n",
       "      <td>4531.459961</td>\n",
       "      <td>-2801.270020</td>\n",
       "      <td>2071.193115</td>\n",
       "      <td>-99.113998</td>\n",
       "      <td>-475.681000</td>\n",
       "      <td>2455.382080</td>\n",
       "      <td>3</td>\n",
       "    </tr>\n",
       "    <tr>\n",
       "      <th>3</th>\n",
       "      <td>-480.721008</td>\n",
       "      <td>-200.492996</td>\n",
       "      <td>994.544983</td>\n",
       "      <td>429.501007</td>\n",
       "      <td>603.341980</td>\n",
       "      <td>335.571991</td>\n",
       "      <td>-789.293030</td>\n",
       "      <td>315.600006</td>\n",
       "      <td>79.110001</td>\n",
       "      <td>-700.228027</td>\n",
       "      <td>...</td>\n",
       "      <td>190.117996</td>\n",
       "      <td>-141.376999</td>\n",
       "      <td>-158.606995</td>\n",
       "      <td>789.737000</td>\n",
       "      <td>-157.804993</td>\n",
       "      <td>-241.746994</td>\n",
       "      <td>-488.445007</td>\n",
       "      <td>209.561005</td>\n",
       "      <td>-415.536987</td>\n",
       "      <td>4</td>\n",
       "    </tr>\n",
       "    <tr>\n",
       "      <th>4</th>\n",
       "      <td>259.115997</td>\n",
       "      <td>-71.842003</td>\n",
       "      <td>489.447998</td>\n",
       "      <td>23.549999</td>\n",
       "      <td>543.088989</td>\n",
       "      <td>-119.539001</td>\n",
       "      <td>-93.567001</td>\n",
       "      <td>55.488998</td>\n",
       "      <td>-235.072998</td>\n",
       "      <td>-773.299011</td>\n",
       "      <td>...</td>\n",
       "      <td>225.546005</td>\n",
       "      <td>-258.687988</td>\n",
       "      <td>-591.017029</td>\n",
       "      <td>359.621002</td>\n",
       "      <td>316.252014</td>\n",
       "      <td>-309.529999</td>\n",
       "      <td>200.304993</td>\n",
       "      <td>-167.130005</td>\n",
       "      <td>44.182999</td>\n",
       "      <td>4</td>\n",
       "    </tr>\n",
       "  </tbody>\n",
       "</table>\n",
       "<p>5 rows × 769 columns</p>\n",
       "</div>"
      ],
      "text/plain": [
       "           f_0          f_1          f_2         f_3         f_4         f_5  \\\n",
       "0    55.391998   402.842010  1179.939941  137.306000  275.936005 -668.432983   \n",
       "1   498.306000   118.342003  1222.817993  646.617004  746.257019 -473.803986   \n",
       "2  1465.275024 -2211.415039  2463.522949  945.344971  922.330994  338.187988   \n",
       "3  -480.721008  -200.492996   994.544983  429.501007  603.341980  335.571991   \n",
       "4   259.115997   -71.842003   489.447998   23.549999  543.088989 -119.539001   \n",
       "\n",
       "           f_6         f_7          f_8          f_9  ...       f_759  \\\n",
       "0   738.448975  509.286987   413.082001 -1350.576050  ... -697.203979   \n",
       "1   -11.617000  -16.693001   269.397003  -613.716003  ... -288.542999   \n",
       "2 -1548.826050 -818.586975 -1007.841003    79.605003  ... -507.450012   \n",
       "3  -789.293030  315.600006    79.110001  -700.228027  ...  190.117996   \n",
       "4   -93.567001   55.488998  -235.072998  -773.299011  ...  225.546005   \n",
       "\n",
       "         f_760        f_761        f_762        f_763        f_764  \\\n",
       "0  -219.283005   225.966003   -43.695000   626.716980  -295.596985   \n",
       "1  -441.739990  -406.356995   174.936996   532.174011  -443.278992   \n",
       "2  1626.469971 -1210.922974  4531.459961 -2801.270020  2071.193115   \n",
       "3  -141.376999  -158.606995   789.737000  -157.804993  -241.746994   \n",
       "4  -258.687988  -591.017029   359.621002   316.252014  -309.529999   \n",
       "\n",
       "        f_765       f_766        f_767  label  \n",
       "0 -635.940979   31.915001   158.291000      4  \n",
       "1  -68.603996 -493.657013  -368.730011      1  \n",
       "2  -99.113998 -475.681000  2455.382080      3  \n",
       "3 -488.445007  209.561005  -415.536987      4  \n",
       "4  200.304993 -167.130005    44.182999      4  \n",
       "\n",
       "[5 rows x 769 columns]"
      ]
     },
     "execution_count": 2,
     "metadata": {},
     "output_type": "execute_result"
    }
   ],
   "source": [
    "train_loc='/kaggle/input/prometeo23-pre-event-ml/train.csv'\n",
    "train_data=pd.read_csv(train_loc)\n",
    "train_data.head()"
   ]
  },
  {
   "cell_type": "markdown",
   "id": "d8d88977",
   "metadata": {
    "papermill": {
     "duration": 0.008057,
     "end_time": "2023-01-04T16:42:45.193168",
     "exception": false,
     "start_time": "2023-01-04T16:42:45.185111",
     "status": "completed"
    },
    "tags": []
   },
   "source": [
    "importing test data"
   ]
  },
  {
   "cell_type": "code",
   "execution_count": 3,
   "id": "6381dc94",
   "metadata": {
    "execution": {
     "iopub.execute_input": "2023-01-04T16:42:45.212796Z",
     "iopub.status.busy": "2023-01-04T16:42:45.212134Z",
     "iopub.status.idle": "2023-01-04T16:42:48.540185Z",
     "shell.execute_reply": "2023-01-04T16:42:48.538707Z"
    },
    "papermill": {
     "duration": 3.341348,
     "end_time": "2023-01-04T16:42:48.543058",
     "exception": false,
     "start_time": "2023-01-04T16:42:45.201710",
     "status": "completed"
    },
    "tags": []
   },
   "outputs": [
    {
     "data": {
      "text/html": [
       "<div>\n",
       "<style scoped>\n",
       "    .dataframe tbody tr th:only-of-type {\n",
       "        vertical-align: middle;\n",
       "    }\n",
       "\n",
       "    .dataframe tbody tr th {\n",
       "        vertical-align: top;\n",
       "    }\n",
       "\n",
       "    .dataframe thead th {\n",
       "        text-align: right;\n",
       "    }\n",
       "</style>\n",
       "<table border=\"1\" class=\"dataframe\">\n",
       "  <thead>\n",
       "    <tr style=\"text-align: right;\">\n",
       "      <th></th>\n",
       "      <th>f_0</th>\n",
       "      <th>f_1</th>\n",
       "      <th>f_2</th>\n",
       "      <th>f_3</th>\n",
       "      <th>f_4</th>\n",
       "      <th>f_5</th>\n",
       "      <th>f_6</th>\n",
       "      <th>f_7</th>\n",
       "      <th>f_8</th>\n",
       "      <th>f_9</th>\n",
       "      <th>...</th>\n",
       "      <th>f_758</th>\n",
       "      <th>f_759</th>\n",
       "      <th>f_760</th>\n",
       "      <th>f_761</th>\n",
       "      <th>f_762</th>\n",
       "      <th>f_763</th>\n",
       "      <th>f_764</th>\n",
       "      <th>f_765</th>\n",
       "      <th>f_766</th>\n",
       "      <th>f_767</th>\n",
       "    </tr>\n",
       "  </thead>\n",
       "  <tbody>\n",
       "    <tr>\n",
       "      <th>0</th>\n",
       "      <td>-588.812012</td>\n",
       "      <td>-16.459999</td>\n",
       "      <td>585.155029</td>\n",
       "      <td>407.606995</td>\n",
       "      <td>-10.286000</td>\n",
       "      <td>-84.586998</td>\n",
       "      <td>404.765991</td>\n",
       "      <td>271.266998</td>\n",
       "      <td>499.578003</td>\n",
       "      <td>-1278.270020</td>\n",
       "      <td>...</td>\n",
       "      <td>-661.101013</td>\n",
       "      <td>-581.062012</td>\n",
       "      <td>-915.862000</td>\n",
       "      <td>-15.428000</td>\n",
       "      <td>-123.609001</td>\n",
       "      <td>-44.327000</td>\n",
       "      <td>607.567017</td>\n",
       "      <td>-1553.897949</td>\n",
       "      <td>-312.118011</td>\n",
       "      <td>-1065.124023</td>\n",
       "    </tr>\n",
       "    <tr>\n",
       "      <th>1</th>\n",
       "      <td>2494.957031</td>\n",
       "      <td>-202.628998</td>\n",
       "      <td>2453.219971</td>\n",
       "      <td>180.735992</td>\n",
       "      <td>329.468994</td>\n",
       "      <td>250.464996</td>\n",
       "      <td>1946.031006</td>\n",
       "      <td>3399.147949</td>\n",
       "      <td>441.165985</td>\n",
       "      <td>-817.734985</td>\n",
       "      <td>...</td>\n",
       "      <td>252.505997</td>\n",
       "      <td>-1641.519043</td>\n",
       "      <td>-1040.286011</td>\n",
       "      <td>723.328979</td>\n",
       "      <td>1057.093994</td>\n",
       "      <td>-892.531006</td>\n",
       "      <td>-215.003006</td>\n",
       "      <td>1309.060059</td>\n",
       "      <td>-575.366028</td>\n",
       "      <td>-1667.469971</td>\n",
       "    </tr>\n",
       "    <tr>\n",
       "      <th>2</th>\n",
       "      <td>9.581000</td>\n",
       "      <td>-917.840027</td>\n",
       "      <td>707.869995</td>\n",
       "      <td>205.690994</td>\n",
       "      <td>767.721985</td>\n",
       "      <td>-133.733002</td>\n",
       "      <td>316.574005</td>\n",
       "      <td>187.778000</td>\n",
       "      <td>-874.216980</td>\n",
       "      <td>-273.199005</td>\n",
       "      <td>...</td>\n",
       "      <td>-113.867996</td>\n",
       "      <td>-285.209015</td>\n",
       "      <td>299.352997</td>\n",
       "      <td>-333.828003</td>\n",
       "      <td>98.253998</td>\n",
       "      <td>231.095993</td>\n",
       "      <td>162.904007</td>\n",
       "      <td>-453.291992</td>\n",
       "      <td>-38.993999</td>\n",
       "      <td>100.320999</td>\n",
       "    </tr>\n",
       "    <tr>\n",
       "      <th>3</th>\n",
       "      <td>528.770996</td>\n",
       "      <td>-4.656000</td>\n",
       "      <td>779.922974</td>\n",
       "      <td>176.306000</td>\n",
       "      <td>295.033997</td>\n",
       "      <td>-474.942993</td>\n",
       "      <td>443.114014</td>\n",
       "      <td>295.628998</td>\n",
       "      <td>219.356995</td>\n",
       "      <td>-855.742004</td>\n",
       "      <td>...</td>\n",
       "      <td>388.722992</td>\n",
       "      <td>-406.528992</td>\n",
       "      <td>-317.867004</td>\n",
       "      <td>51.375999</td>\n",
       "      <td>436.625000</td>\n",
       "      <td>233.684006</td>\n",
       "      <td>-644.229004</td>\n",
       "      <td>-416.923004</td>\n",
       "      <td>-410.556000</td>\n",
       "      <td>516.400024</td>\n",
       "    </tr>\n",
       "    <tr>\n",
       "      <th>4</th>\n",
       "      <td>4105.824219</td>\n",
       "      <td>1456.322998</td>\n",
       "      <td>3224.325928</td>\n",
       "      <td>1181.749023</td>\n",
       "      <td>3312.511963</td>\n",
       "      <td>2905.216064</td>\n",
       "      <td>705.135010</td>\n",
       "      <td>3758.070068</td>\n",
       "      <td>-1874.987061</td>\n",
       "      <td>-3637.200928</td>\n",
       "      <td>...</td>\n",
       "      <td>1427.248047</td>\n",
       "      <td>-2808.204102</td>\n",
       "      <td>-1510.807007</td>\n",
       "      <td>-170.334000</td>\n",
       "      <td>3416.754883</td>\n",
       "      <td>-2807.773926</td>\n",
       "      <td>-968.242004</td>\n",
       "      <td>-3440.810059</td>\n",
       "      <td>794.588989</td>\n",
       "      <td>-461.559998</td>\n",
       "    </tr>\n",
       "  </tbody>\n",
       "</table>\n",
       "<p>5 rows × 768 columns</p>\n",
       "</div>"
      ],
      "text/plain": [
       "           f_0          f_1          f_2          f_3          f_4  \\\n",
       "0  -588.812012   -16.459999   585.155029   407.606995   -10.286000   \n",
       "1  2494.957031  -202.628998  2453.219971   180.735992   329.468994   \n",
       "2     9.581000  -917.840027   707.869995   205.690994   767.721985   \n",
       "3   528.770996    -4.656000   779.922974   176.306000   295.033997   \n",
       "4  4105.824219  1456.322998  3224.325928  1181.749023  3312.511963   \n",
       "\n",
       "           f_5          f_6          f_7          f_8          f_9  ...  \\\n",
       "0   -84.586998   404.765991   271.266998   499.578003 -1278.270020  ...   \n",
       "1   250.464996  1946.031006  3399.147949   441.165985  -817.734985  ...   \n",
       "2  -133.733002   316.574005   187.778000  -874.216980  -273.199005  ...   \n",
       "3  -474.942993   443.114014   295.628998   219.356995  -855.742004  ...   \n",
       "4  2905.216064   705.135010  3758.070068 -1874.987061 -3637.200928  ...   \n",
       "\n",
       "         f_758        f_759        f_760       f_761        f_762  \\\n",
       "0  -661.101013  -581.062012  -915.862000  -15.428000  -123.609001   \n",
       "1   252.505997 -1641.519043 -1040.286011  723.328979  1057.093994   \n",
       "2  -113.867996  -285.209015   299.352997 -333.828003    98.253998   \n",
       "3   388.722992  -406.528992  -317.867004   51.375999   436.625000   \n",
       "4  1427.248047 -2808.204102 -1510.807007 -170.334000  3416.754883   \n",
       "\n",
       "         f_763       f_764        f_765       f_766        f_767  \n",
       "0   -44.327000  607.567017 -1553.897949 -312.118011 -1065.124023  \n",
       "1  -892.531006 -215.003006  1309.060059 -575.366028 -1667.469971  \n",
       "2   231.095993  162.904007  -453.291992  -38.993999   100.320999  \n",
       "3   233.684006 -644.229004  -416.923004 -410.556000   516.400024  \n",
       "4 -2807.773926 -968.242004 -3440.810059  794.588989  -461.559998  \n",
       "\n",
       "[5 rows x 768 columns]"
      ]
     },
     "execution_count": 3,
     "metadata": {},
     "output_type": "execute_result"
    }
   ],
   "source": [
    "test_loc='/kaggle/input/prometeo23-pre-event-ml/test.csv'\n",
    "test_data=pd.read_csv(test_loc)\n",
    "test_data.head()"
   ]
  },
  {
   "cell_type": "markdown",
   "id": "2938bf8c",
   "metadata": {
    "papermill": {
     "duration": 0.008443,
     "end_time": "2023-01-04T16:42:48.560312",
     "exception": false,
     "start_time": "2023-01-04T16:42:48.551869",
     "status": "completed"
    },
    "tags": []
   },
   "source": [
    "Saving the training data and target data"
   ]
  },
  {
   "cell_type": "code",
   "execution_count": 4,
   "id": "93568fa4",
   "metadata": {
    "execution": {
     "iopub.execute_input": "2023-01-04T16:42:48.581674Z",
     "iopub.status.busy": "2023-01-04T16:42:48.580951Z",
     "iopub.status.idle": "2023-01-04T16:42:48.820575Z",
     "shell.execute_reply": "2023-01-04T16:42:48.819694Z"
    },
    "papermill": {
     "duration": 0.252303,
     "end_time": "2023-01-04T16:42:48.823012",
     "exception": false,
     "start_time": "2023-01-04T16:42:48.570709",
     "status": "completed"
    },
    "tags": []
   },
   "outputs": [
    {
     "data": {
      "text/html": [
       "<div>\n",
       "<style scoped>\n",
       "    .dataframe tbody tr th:only-of-type {\n",
       "        vertical-align: middle;\n",
       "    }\n",
       "\n",
       "    .dataframe tbody tr th {\n",
       "        vertical-align: top;\n",
       "    }\n",
       "\n",
       "    .dataframe thead th {\n",
       "        text-align: right;\n",
       "    }\n",
       "</style>\n",
       "<table border=\"1\" class=\"dataframe\">\n",
       "  <thead>\n",
       "    <tr style=\"text-align: right;\">\n",
       "      <th></th>\n",
       "      <th>f_0</th>\n",
       "      <th>f_1</th>\n",
       "      <th>f_2</th>\n",
       "      <th>f_3</th>\n",
       "      <th>f_4</th>\n",
       "      <th>f_5</th>\n",
       "      <th>f_6</th>\n",
       "      <th>f_7</th>\n",
       "      <th>f_8</th>\n",
       "      <th>f_9</th>\n",
       "      <th>...</th>\n",
       "      <th>f_758</th>\n",
       "      <th>f_759</th>\n",
       "      <th>f_760</th>\n",
       "      <th>f_761</th>\n",
       "      <th>f_762</th>\n",
       "      <th>f_763</th>\n",
       "      <th>f_764</th>\n",
       "      <th>f_765</th>\n",
       "      <th>f_766</th>\n",
       "      <th>f_767</th>\n",
       "    </tr>\n",
       "  </thead>\n",
       "  <tbody>\n",
       "    <tr>\n",
       "      <th>0</th>\n",
       "      <td>55.391998</td>\n",
       "      <td>402.842010</td>\n",
       "      <td>1179.939941</td>\n",
       "      <td>137.306000</td>\n",
       "      <td>275.936005</td>\n",
       "      <td>-668.432983</td>\n",
       "      <td>738.448975</td>\n",
       "      <td>509.286987</td>\n",
       "      <td>413.082001</td>\n",
       "      <td>-1350.576050</td>\n",
       "      <td>...</td>\n",
       "      <td>225.628006</td>\n",
       "      <td>-697.203979</td>\n",
       "      <td>-219.283005</td>\n",
       "      <td>225.966003</td>\n",
       "      <td>-43.695000</td>\n",
       "      <td>626.716980</td>\n",
       "      <td>-295.596985</td>\n",
       "      <td>-635.940979</td>\n",
       "      <td>31.915001</td>\n",
       "      <td>158.291000</td>\n",
       "    </tr>\n",
       "    <tr>\n",
       "      <th>1</th>\n",
       "      <td>498.306000</td>\n",
       "      <td>118.342003</td>\n",
       "      <td>1222.817993</td>\n",
       "      <td>646.617004</td>\n",
       "      <td>746.257019</td>\n",
       "      <td>-473.803986</td>\n",
       "      <td>-11.617000</td>\n",
       "      <td>-16.693001</td>\n",
       "      <td>269.397003</td>\n",
       "      <td>-613.716003</td>\n",
       "      <td>...</td>\n",
       "      <td>668.473999</td>\n",
       "      <td>-288.542999</td>\n",
       "      <td>-441.739990</td>\n",
       "      <td>-406.356995</td>\n",
       "      <td>174.936996</td>\n",
       "      <td>532.174011</td>\n",
       "      <td>-443.278992</td>\n",
       "      <td>-68.603996</td>\n",
       "      <td>-493.657013</td>\n",
       "      <td>-368.730011</td>\n",
       "    </tr>\n",
       "    <tr>\n",
       "      <th>2</th>\n",
       "      <td>1465.275024</td>\n",
       "      <td>-2211.415039</td>\n",
       "      <td>2463.522949</td>\n",
       "      <td>945.344971</td>\n",
       "      <td>922.330994</td>\n",
       "      <td>338.187988</td>\n",
       "      <td>-1548.826050</td>\n",
       "      <td>-818.586975</td>\n",
       "      <td>-1007.841003</td>\n",
       "      <td>79.605003</td>\n",
       "      <td>...</td>\n",
       "      <td>868.348022</td>\n",
       "      <td>-507.450012</td>\n",
       "      <td>1626.469971</td>\n",
       "      <td>-1210.922974</td>\n",
       "      <td>4531.459961</td>\n",
       "      <td>-2801.270020</td>\n",
       "      <td>2071.193115</td>\n",
       "      <td>-99.113998</td>\n",
       "      <td>-475.681000</td>\n",
       "      <td>2455.382080</td>\n",
       "    </tr>\n",
       "    <tr>\n",
       "      <th>3</th>\n",
       "      <td>-480.721008</td>\n",
       "      <td>-200.492996</td>\n",
       "      <td>994.544983</td>\n",
       "      <td>429.501007</td>\n",
       "      <td>603.341980</td>\n",
       "      <td>335.571991</td>\n",
       "      <td>-789.293030</td>\n",
       "      <td>315.600006</td>\n",
       "      <td>79.110001</td>\n",
       "      <td>-700.228027</td>\n",
       "      <td>...</td>\n",
       "      <td>93.406998</td>\n",
       "      <td>190.117996</td>\n",
       "      <td>-141.376999</td>\n",
       "      <td>-158.606995</td>\n",
       "      <td>789.737000</td>\n",
       "      <td>-157.804993</td>\n",
       "      <td>-241.746994</td>\n",
       "      <td>-488.445007</td>\n",
       "      <td>209.561005</td>\n",
       "      <td>-415.536987</td>\n",
       "    </tr>\n",
       "    <tr>\n",
       "      <th>4</th>\n",
       "      <td>259.115997</td>\n",
       "      <td>-71.842003</td>\n",
       "      <td>489.447998</td>\n",
       "      <td>23.549999</td>\n",
       "      <td>543.088989</td>\n",
       "      <td>-119.539001</td>\n",
       "      <td>-93.567001</td>\n",
       "      <td>55.488998</td>\n",
       "      <td>-235.072998</td>\n",
       "      <td>-773.299011</td>\n",
       "      <td>...</td>\n",
       "      <td>-150.707001</td>\n",
       "      <td>225.546005</td>\n",
       "      <td>-258.687988</td>\n",
       "      <td>-591.017029</td>\n",
       "      <td>359.621002</td>\n",
       "      <td>316.252014</td>\n",
       "      <td>-309.529999</td>\n",
       "      <td>200.304993</td>\n",
       "      <td>-167.130005</td>\n",
       "      <td>44.182999</td>\n",
       "    </tr>\n",
       "  </tbody>\n",
       "</table>\n",
       "<p>5 rows × 768 columns</p>\n",
       "</div>"
      ],
      "text/plain": [
       "           f_0          f_1          f_2         f_3         f_4         f_5  \\\n",
       "0    55.391998   402.842010  1179.939941  137.306000  275.936005 -668.432983   \n",
       "1   498.306000   118.342003  1222.817993  646.617004  746.257019 -473.803986   \n",
       "2  1465.275024 -2211.415039  2463.522949  945.344971  922.330994  338.187988   \n",
       "3  -480.721008  -200.492996   994.544983  429.501007  603.341980  335.571991   \n",
       "4   259.115997   -71.842003   489.447998   23.549999  543.088989 -119.539001   \n",
       "\n",
       "           f_6         f_7          f_8          f_9  ...       f_758  \\\n",
       "0   738.448975  509.286987   413.082001 -1350.576050  ...  225.628006   \n",
       "1   -11.617000  -16.693001   269.397003  -613.716003  ...  668.473999   \n",
       "2 -1548.826050 -818.586975 -1007.841003    79.605003  ...  868.348022   \n",
       "3  -789.293030  315.600006    79.110001  -700.228027  ...   93.406998   \n",
       "4   -93.567001   55.488998  -235.072998  -773.299011  ... -150.707001   \n",
       "\n",
       "        f_759        f_760        f_761        f_762        f_763  \\\n",
       "0 -697.203979  -219.283005   225.966003   -43.695000   626.716980   \n",
       "1 -288.542999  -441.739990  -406.356995   174.936996   532.174011   \n",
       "2 -507.450012  1626.469971 -1210.922974  4531.459961 -2801.270020   \n",
       "3  190.117996  -141.376999  -158.606995   789.737000  -157.804993   \n",
       "4  225.546005  -258.687988  -591.017029   359.621002   316.252014   \n",
       "\n",
       "         f_764       f_765       f_766        f_767  \n",
       "0  -295.596985 -635.940979   31.915001   158.291000  \n",
       "1  -443.278992  -68.603996 -493.657013  -368.730011  \n",
       "2  2071.193115  -99.113998 -475.681000  2455.382080  \n",
       "3  -241.746994 -488.445007  209.561005  -415.536987  \n",
       "4  -309.529999  200.304993 -167.130005    44.182999  \n",
       "\n",
       "[5 rows x 768 columns]"
      ]
     },
     "execution_count": 4,
     "metadata": {},
     "output_type": "execute_result"
    }
   ],
   "source": [
    "X=train_data.copy()\n",
    "y=X['label']\n",
    "X=X.drop(columns=['label'])\n",
    "X.head()"
   ]
  },
  {
   "cell_type": "markdown",
   "id": "4c9c3791",
   "metadata": {
    "papermill": {
     "duration": 0.010169,
     "end_time": "2023-01-04T16:42:48.843971",
     "exception": false,
     "start_time": "2023-01-04T16:42:48.833802",
     "status": "completed"
    },
    "tags": []
   },
   "source": [
    "Making a first sample using 100 random features just too see what happens"
   ]
  },
  {
   "cell_type": "markdown",
   "id": "5f30b0e8",
   "metadata": {
    "papermill": {
     "duration": 0.00974,
     "end_time": "2023-01-04T16:42:48.863738",
     "exception": false,
     "start_time": "2023-01-04T16:42:48.853998",
     "status": "completed"
    },
    "tags": []
   },
   "source": [
    "using mutual information for the first 100 features"
   ]
  },
  {
   "cell_type": "code",
   "execution_count": 5,
   "id": "919a7dc9",
   "metadata": {
    "execution": {
     "iopub.execute_input": "2023-01-04T16:42:48.886193Z",
     "iopub.status.busy": "2023-01-04T16:42:48.885445Z",
     "iopub.status.idle": "2023-01-04T16:45:15.902749Z",
     "shell.execute_reply": "2023-01-04T16:45:15.901472Z"
    },
    "papermill": {
     "duration": 147.039318,
     "end_time": "2023-01-04T16:45:15.913381",
     "exception": false,
     "start_time": "2023-01-04T16:42:48.874063",
     "status": "completed"
    },
    "tags": []
   },
   "outputs": [
    {
     "data": {
      "text/plain": [
       "f_60     0.050845\n",
       "f_461    0.048562\n",
       "f_109    0.048323\n",
       "f_127    0.048160\n",
       "f_308    0.046220\n",
       "           ...   \n",
       "f_300    0.009022\n",
       "f_243    0.008766\n",
       "f_382    0.005940\n",
       "f_750    0.005265\n",
       "f_551    0.004368\n",
       "Name: MI Scores, Length: 768, dtype: float64"
      ]
     },
     "execution_count": 5,
     "metadata": {},
     "output_type": "execute_result"
    }
   ],
   "source": [
    "from sklearn.feature_selection import mutual_info_classif\n",
    "def make_mi_scores(X, y):\n",
    "    mi_scores = mutual_info_classif(X, y)\n",
    "    mi_scores = pd.Series(mi_scores, name=\"MI Scores\", index=X.columns)\n",
    "    mi_scores = mi_scores.sort_values(ascending=False)\n",
    "    return mi_scores\n",
    "\n",
    "mi_scores = make_mi_scores(X, y)\n",
    "mi_scores[::] "
   ]
  },
  {
   "cell_type": "markdown",
   "id": "8044f4b4",
   "metadata": {
    "papermill": {
     "duration": 0.008997,
     "end_time": "2023-01-04T16:45:15.931679",
     "exception": false,
     "start_time": "2023-01-04T16:45:15.922682",
     "status": "completed"
    },
    "tags": []
   },
   "source": [
    "trying plotting all the features to find some sort of elbow in the graph"
   ]
  },
  {
   "cell_type": "code",
   "execution_count": 6,
   "id": "c79f6f03",
   "metadata": {
    "execution": {
     "iopub.execute_input": "2023-01-04T16:45:15.952685Z",
     "iopub.status.busy": "2023-01-04T16:45:15.952192Z",
     "iopub.status.idle": "2023-01-04T16:45:15.962524Z",
     "shell.execute_reply": "2023-01-04T16:45:15.961341Z"
    },
    "papermill": {
     "duration": 0.023519,
     "end_time": "2023-01-04T16:45:15.964682",
     "exception": false,
     "start_time": "2023-01-04T16:45:15.941163",
     "status": "completed"
    },
    "tags": []
   },
   "outputs": [
    {
     "data": {
      "text/plain": [
       "f_60     0.050845\n",
       "f_461    0.048562\n",
       "f_109    0.048323\n",
       "f_127    0.048160\n",
       "f_308    0.046220\n",
       "           ...   \n",
       "f_300    0.009022\n",
       "f_243    0.008766\n",
       "f_382    0.005940\n",
       "f_750    0.005265\n",
       "f_551    0.004368\n",
       "Name: MI Scores, Length: 768, dtype: float64"
      ]
     },
     "execution_count": 6,
     "metadata": {},
     "output_type": "execute_result"
    }
   ],
   "source": [
    "value=mi_scores.iloc[:]\n",
    "value"
   ]
  },
  {
   "cell_type": "code",
   "execution_count": 7,
   "id": "6f98ac43",
   "metadata": {
    "execution": {
     "iopub.execute_input": "2023-01-04T16:45:15.985522Z",
     "iopub.status.busy": "2023-01-04T16:45:15.984636Z",
     "iopub.status.idle": "2023-01-04T16:45:22.577908Z",
     "shell.execute_reply": "2023-01-04T16:45:22.576503Z"
    },
    "papermill": {
     "duration": 6.606592,
     "end_time": "2023-01-04T16:45:22.580585",
     "exception": false,
     "start_time": "2023-01-04T16:45:15.973993",
     "status": "completed"
    },
    "tags": []
   },
   "outputs": [
    {
     "data": {
      "image/png": "[encoded data removed]",
      "text/plain": [
       "<Figure size 432x288 with 1 Axes>"
      ]
     },
     "metadata": {
      "needs_background": "light"
     },
     "output_type": "display_data"
    }
   ],
   "source": [
    "import matplotlib.pyplot as plt\n",
    "plt.plot(mi_scores.index,mi_scores)\n",
    "plt.show()"
   ]
  },
  {
   "cell_type": "markdown",
   "id": "221b66d2",
   "metadata": {
    "papermill": {
     "duration": 0.009465,
     "end_time": "2023-01-04T16:45:22.600519",
     "exception": false,
     "start_time": "2023-01-04T16:45:22.591054",
     "status": "completed"
    },
    "tags": []
   },
   "source": [
    "From the graph, it appears to be that the mutual information values start elbowing somewhere around 0.03. Lets select features above that only and see what happens"
   ]
  },
  {
   "cell_type": "code",
   "execution_count": 8,
   "id": "d67c4947",
   "metadata": {
    "execution": {
     "iopub.execute_input": "2023-01-04T16:45:22.621808Z",
     "iopub.status.busy": "2023-01-04T16:45:22.621108Z",
     "iopub.status.idle": "2023-01-04T16:45:22.627321Z",
     "shell.execute_reply": "2023-01-04T16:45:22.626328Z"
    },
    "papermill": {
     "duration": 0.019375,
     "end_time": "2023-01-04T16:45:22.629509",
     "exception": false,
     "start_time": "2023-01-04T16:45:22.610134",
     "status": "completed"
    },
    "tags": []
   },
   "outputs": [],
   "source": [
    "threshold=0.03\n",
    "feature=mi_scores\n",
    "# Find the indexes of the rows where the feature is greater than the threshold\n",
    "indexes = feature[feature > threshold].index\n",
    "\n"
   ]
  },
  {
   "cell_type": "markdown",
   "id": "494e2a88",
   "metadata": {
    "papermill": {
     "duration": 0.00928,
     "end_time": "2023-01-04T16:45:22.648360",
     "exception": false,
     "start_time": "2023-01-04T16:45:22.639080",
     "status": "completed"
    },
    "tags": []
   },
   "source": [
    "lets view indexes"
   ]
  },
  {
   "cell_type": "code",
   "execution_count": 9,
   "id": "2a1da8e9",
   "metadata": {
    "execution": {
     "iopub.execute_input": "2023-01-04T16:45:22.670146Z",
     "iopub.status.busy": "2023-01-04T16:45:22.669502Z",
     "iopub.status.idle": "2023-01-04T16:45:22.675888Z",
     "shell.execute_reply": "2023-01-04T16:45:22.674584Z"
    },
    "papermill": {
     "duration": 0.02122,
     "end_time": "2023-01-04T16:45:22.679195",
     "exception": false,
     "start_time": "2023-01-04T16:45:22.657975",
     "status": "completed"
    },
    "tags": []
   },
   "outputs": [
    {
     "name": "stdout",
     "output_type": "stream",
     "text": [
      "Index(['f_60', 'f_461', 'f_109', 'f_127', 'f_308', 'f_523', 'f_688', 'f_520',\n",
      "       'f_533', 'f_672',\n",
      "       ...\n",
      "       'f_336', 'f_389', 'f_55', 'f_762', 'f_539', 'f_536', 'f_103', 'f_160',\n",
      "       'f_85', 'f_207'],\n",
      "      dtype='object', length=117)\n"
     ]
    }
   ],
   "source": [
    "print(indexes)"
   ]
  },
  {
   "cell_type": "code",
   "execution_count": 10,
   "id": "c60cc40d",
   "metadata": {
    "execution": {
     "iopub.execute_input": "2023-01-04T16:45:22.702002Z",
     "iopub.status.busy": "2023-01-04T16:45:22.701289Z",
     "iopub.status.idle": "2023-01-04T16:45:22.779615Z",
     "shell.execute_reply": "2023-01-04T16:45:22.778309Z"
    },
    "papermill": {
     "duration": 0.093156,
     "end_time": "2023-01-04T16:45:22.782677",
     "exception": false,
     "start_time": "2023-01-04T16:45:22.689521",
     "status": "completed"
    },
    "tags": []
   },
   "outputs": [
    {
     "data": {
      "text/plain": [
       "0"
      ]
     },
     "execution_count": 10,
     "metadata": {},
     "output_type": "execute_result"
    }
   ],
   "source": [
    "X.isnull().sum().sum()"
   ]
  },
  {
   "cell_type": "markdown",
   "id": "7a27a0ad",
   "metadata": {
    "papermill": {
     "duration": 0.009969,
     "end_time": "2023-01-04T16:45:22.802611",
     "exception": false,
     "start_time": "2023-01-04T16:45:22.792642",
     "status": "completed"
    },
    "tags": []
   },
   "source": [
    "lets make an Array for all the data of the selected features for both the train and test dataset"
   ]
  },
  {
   "cell_type": "code",
   "execution_count": 11,
   "id": "d8c1e83c",
   "metadata": {
    "execution": {
     "iopub.execute_input": "2023-01-04T16:45:22.825376Z",
     "iopub.status.busy": "2023-01-04T16:45:22.824682Z",
     "iopub.status.idle": "2023-01-04T16:45:22.867084Z",
     "shell.execute_reply": "2023-01-04T16:45:22.865719Z"
    },
    "papermill": {
     "duration": 0.057189,
     "end_time": "2023-01-04T16:45:22.869956",
     "exception": false,
     "start_time": "2023-01-04T16:45:22.812767",
     "status": "completed"
    },
    "tags": []
   },
   "outputs": [
    {
     "data": {
      "text/html": [
       "<div>\n",
       "<style scoped>\n",
       "    .dataframe tbody tr th:only-of-type {\n",
       "        vertical-align: middle;\n",
       "    }\n",
       "\n",
       "    .dataframe tbody tr th {\n",
       "        vertical-align: top;\n",
       "    }\n",
       "\n",
       "    .dataframe thead th {\n",
       "        text-align: right;\n",
       "    }\n",
       "</style>\n",
       "<table border=\"1\" class=\"dataframe\">\n",
       "  <thead>\n",
       "    <tr style=\"text-align: right;\">\n",
       "      <th></th>\n",
       "      <th>f_60</th>\n",
       "      <th>f_461</th>\n",
       "      <th>f_109</th>\n",
       "      <th>f_127</th>\n",
       "      <th>f_308</th>\n",
       "      <th>f_523</th>\n",
       "      <th>f_688</th>\n",
       "      <th>f_520</th>\n",
       "      <th>f_533</th>\n",
       "      <th>f_672</th>\n",
       "      <th>...</th>\n",
       "      <th>f_336</th>\n",
       "      <th>f_389</th>\n",
       "      <th>f_55</th>\n",
       "      <th>f_762</th>\n",
       "      <th>f_539</th>\n",
       "      <th>f_536</th>\n",
       "      <th>f_103</th>\n",
       "      <th>f_160</th>\n",
       "      <th>f_85</th>\n",
       "      <th>f_207</th>\n",
       "    </tr>\n",
       "  </thead>\n",
       "  <tbody>\n",
       "    <tr>\n",
       "      <th>0</th>\n",
       "      <td>350.971008</td>\n",
       "      <td>-433.502991</td>\n",
       "      <td>486.678986</td>\n",
       "      <td>605.304993</td>\n",
       "      <td>-26187.189453</td>\n",
       "      <td>-667.390015</td>\n",
       "      <td>-272.614990</td>\n",
       "      <td>514.187988</td>\n",
       "      <td>1598.451050</td>\n",
       "      <td>-863.268005</td>\n",
       "      <td>...</td>\n",
       "      <td>-645.749023</td>\n",
       "      <td>1594.796997</td>\n",
       "      <td>461.125000</td>\n",
       "      <td>-123.609001</td>\n",
       "      <td>2087.298096</td>\n",
       "      <td>-154.815002</td>\n",
       "      <td>197.841995</td>\n",
       "      <td>1561.500000</td>\n",
       "      <td>-726.247009</td>\n",
       "      <td>-1895.540039</td>\n",
       "    </tr>\n",
       "    <tr>\n",
       "      <th>1</th>\n",
       "      <td>1913.490967</td>\n",
       "      <td>-482.644989</td>\n",
       "      <td>27.625999</td>\n",
       "      <td>-1437.417969</td>\n",
       "      <td>-52105.609375</td>\n",
       "      <td>-818.591980</td>\n",
       "      <td>-629.237976</td>\n",
       "      <td>617.257996</td>\n",
       "      <td>4787.193848</td>\n",
       "      <td>-2587.675049</td>\n",
       "      <td>...</td>\n",
       "      <td>-2681.446045</td>\n",
       "      <td>1792.260010</td>\n",
       "      <td>965.882996</td>\n",
       "      <td>1057.093994</td>\n",
       "      <td>930.471008</td>\n",
       "      <td>1975.100952</td>\n",
       "      <td>-1144.232056</td>\n",
       "      <td>1310.406006</td>\n",
       "      <td>1444.307007</td>\n",
       "      <td>-1949.532959</td>\n",
       "    </tr>\n",
       "    <tr>\n",
       "      <th>2</th>\n",
       "      <td>998.453979</td>\n",
       "      <td>619.905029</td>\n",
       "      <td>92.448997</td>\n",
       "      <td>-18.423000</td>\n",
       "      <td>-18594.810547</td>\n",
       "      <td>-145.104004</td>\n",
       "      <td>-612.976990</td>\n",
       "      <td>-896.288025</td>\n",
       "      <td>276.600006</td>\n",
       "      <td>-566.439026</td>\n",
       "      <td>...</td>\n",
       "      <td>-282.304993</td>\n",
       "      <td>754.273987</td>\n",
       "      <td>1041.442017</td>\n",
       "      <td>98.253998</td>\n",
       "      <td>-594.624023</td>\n",
       "      <td>503.734009</td>\n",
       "      <td>188.479996</td>\n",
       "      <td>1477.817993</td>\n",
       "      <td>-246.910004</td>\n",
       "      <td>-334.656006</td>\n",
       "    </tr>\n",
       "    <tr>\n",
       "      <th>3</th>\n",
       "      <td>359.234009</td>\n",
       "      <td>181.014008</td>\n",
       "      <td>300.427002</td>\n",
       "      <td>-326.671997</td>\n",
       "      <td>-15903.102539</td>\n",
       "      <td>11.936000</td>\n",
       "      <td>-416.011993</td>\n",
       "      <td>-484.533997</td>\n",
       "      <td>1172.359985</td>\n",
       "      <td>-108.601997</td>\n",
       "      <td>...</td>\n",
       "      <td>-489.467010</td>\n",
       "      <td>-80.026001</td>\n",
       "      <td>422.135986</td>\n",
       "      <td>436.625000</td>\n",
       "      <td>-1145.258057</td>\n",
       "      <td>879.140015</td>\n",
       "      <td>-242.268005</td>\n",
       "      <td>1025.068970</td>\n",
       "      <td>4.328000</td>\n",
       "      <td>-825.560974</td>\n",
       "    </tr>\n",
       "    <tr>\n",
       "      <th>4</th>\n",
       "      <td>7666.731934</td>\n",
       "      <td>4283.335938</td>\n",
       "      <td>-3380.354004</td>\n",
       "      <td>-1619.212036</td>\n",
       "      <td>-84551.437500</td>\n",
       "      <td>-1006.372009</td>\n",
       "      <td>-2668.556885</td>\n",
       "      <td>-4049.656982</td>\n",
       "      <td>2781.697998</td>\n",
       "      <td>2942.708008</td>\n",
       "      <td>...</td>\n",
       "      <td>-6374.029785</td>\n",
       "      <td>500.976990</td>\n",
       "      <td>-1932.595947</td>\n",
       "      <td>3416.754883</td>\n",
       "      <td>4918.591797</td>\n",
       "      <td>2516.094971</td>\n",
       "      <td>1055.456055</td>\n",
       "      <td>3153.271973</td>\n",
       "      <td>-2652.792969</td>\n",
       "      <td>38.082001</td>\n",
       "    </tr>\n",
       "  </tbody>\n",
       "</table>\n",
       "<p>5 rows × 117 columns</p>\n",
       "</div>"
      ],
      "text/plain": [
       "          f_60        f_461        f_109        f_127         f_308  \\\n",
       "0   350.971008  -433.502991   486.678986   605.304993 -26187.189453   \n",
       "1  1913.490967  -482.644989    27.625999 -1437.417969 -52105.609375   \n",
       "2   998.453979   619.905029    92.448997   -18.423000 -18594.810547   \n",
       "3   359.234009   181.014008   300.427002  -326.671997 -15903.102539   \n",
       "4  7666.731934  4283.335938 -3380.354004 -1619.212036 -84551.437500   \n",
       "\n",
       "         f_523        f_688        f_520        f_533        f_672  ...  \\\n",
       "0  -667.390015  -272.614990   514.187988  1598.451050  -863.268005  ...   \n",
       "1  -818.591980  -629.237976   617.257996  4787.193848 -2587.675049  ...   \n",
       "2  -145.104004  -612.976990  -896.288025   276.600006  -566.439026  ...   \n",
       "3    11.936000  -416.011993  -484.533997  1172.359985  -108.601997  ...   \n",
       "4 -1006.372009 -2668.556885 -4049.656982  2781.697998  2942.708008  ...   \n",
       "\n",
       "         f_336        f_389         f_55        f_762        f_539  \\\n",
       "0  -645.749023  1594.796997   461.125000  -123.609001  2087.298096   \n",
       "1 -2681.446045  1792.260010   965.882996  1057.093994   930.471008   \n",
       "2  -282.304993   754.273987  1041.442017    98.253998  -594.624023   \n",
       "3  -489.467010   -80.026001   422.135986   436.625000 -1145.258057   \n",
       "4 -6374.029785   500.976990 -1932.595947  3416.754883  4918.591797   \n",
       "\n",
       "         f_536        f_103        f_160         f_85        f_207  \n",
       "0  -154.815002   197.841995  1561.500000  -726.247009 -1895.540039  \n",
       "1  1975.100952 -1144.232056  1310.406006  1444.307007 -1949.532959  \n",
       "2   503.734009   188.479996  1477.817993  -246.910004  -334.656006  \n",
       "3   879.140015  -242.268005  1025.068970     4.328000  -825.560974  \n",
       "4  2516.094971  1055.456055  3153.271973 -2652.792969    38.082001  \n",
       "\n",
       "[5 rows x 117 columns]"
      ]
     },
     "execution_count": 11,
     "metadata": {},
     "output_type": "execute_result"
    }
   ],
   "source": [
    "X_selected=X[indexes]\n",
    "X_selected.head()\n",
    "X_test_selected=test_data[indexes]\n",
    "X_test_selected.head()"
   ]
  },
  {
   "cell_type": "markdown",
   "id": "47cdcb56",
   "metadata": {
    "papermill": {
     "duration": 0.009931,
     "end_time": "2023-01-04T16:45:22.890123",
     "exception": false,
     "start_time": "2023-01-04T16:45:22.880192",
     "status": "completed"
    },
    "tags": []
   },
   "source": [
    "importing some important features for modelling"
   ]
  },
  {
   "cell_type": "code",
   "execution_count": 12,
   "id": "b73f6bdc",
   "metadata": {
    "execution": {
     "iopub.execute_input": "2023-01-04T16:45:22.913598Z",
     "iopub.status.busy": "2023-01-04T16:45:22.913178Z",
     "iopub.status.idle": "2023-01-04T16:45:23.042291Z",
     "shell.execute_reply": "2023-01-04T16:45:23.040835Z"
    },
    "papermill": {
     "duration": 0.144459,
     "end_time": "2023-01-04T16:45:23.045771",
     "exception": false,
     "start_time": "2023-01-04T16:45:22.901312",
     "status": "completed"
    },
    "tags": []
   },
   "outputs": [],
   "source": [
    "from sklearn.model_selection import train_test_split\n",
    "from sklearn.ensemble import RandomForestClassifier\n",
    "from sklearn.svm import SVC\n",
    "SVM_classifier = SVC(kernel = 'linear', random_state = 0)"
   ]
  },
  {
   "cell_type": "markdown",
   "id": "11106c88",
   "metadata": {
    "papermill": {
     "duration": 0.009826,
     "end_time": "2023-01-04T16:45:23.065853",
     "exception": false,
     "start_time": "2023-01-04T16:45:23.056027",
     "status": "completed"
    },
    "tags": []
   },
   "source": [
    "fitting the model directly to the entire train data"
   ]
  },
  {
   "cell_type": "code",
   "execution_count": null,
   "id": "8c1b9488",
   "metadata": {
    "papermill": {
     "duration": 0.009802,
     "end_time": "2023-01-04T16:45:23.085860",
     "exception": false,
     "start_time": "2023-01-04T16:45:23.076058",
     "status": "completed"
    },
    "tags": []
   },
   "outputs": [],
   "source": []
  },
  {
   "cell_type": "markdown",
   "id": "cb32651f",
   "metadata": {
    "papermill": {
     "duration": 0.009795,
     "end_time": "2023-01-04T16:45:23.105905",
     "exception": false,
     "start_time": "2023-01-04T16:45:23.096110",
     "status": "completed"
    },
    "tags": []
   },
   "source": [
    "Scaling"
   ]
  },
  {
   "cell_type": "code",
   "execution_count": 13,
   "id": "791fd87e",
   "metadata": {
    "execution": {
     "iopub.execute_input": "2023-01-04T16:45:23.128027Z",
     "iopub.status.busy": "2023-01-04T16:45:23.127639Z",
     "iopub.status.idle": "2023-01-04T16:45:23.209986Z",
     "shell.execute_reply": "2023-01-04T16:45:23.208906Z"
    },
    "papermill": {
     "duration": 0.096738,
     "end_time": "2023-01-04T16:45:23.212809",
     "exception": false,
     "start_time": "2023-01-04T16:45:23.116071",
     "status": "completed"
    },
    "tags": []
   },
   "outputs": [],
   "source": [
    "from sklearn.preprocessing import StandardScaler\n",
    "sc = StandardScaler()\n",
    "X_train = sc.fit_transform(X_selected)\n",
    "X_test = sc.transform(X_test_selected)"
   ]
  },
  {
   "cell_type": "markdown",
   "id": "3d5aba03",
   "metadata": {
    "papermill": {
     "duration": 0.00966,
     "end_time": "2023-01-04T16:45:23.232692",
     "exception": false,
     "start_time": "2023-01-04T16:45:23.223032",
     "status": "completed"
    },
    "tags": []
   },
   "source": [
    "creating a RandomForest Model"
   ]
  },
  {
   "cell_type": "code",
   "execution_count": 14,
   "id": "fcf280fd",
   "metadata": {
    "execution": {
     "iopub.execute_input": "2023-01-04T16:45:23.255864Z",
     "iopub.status.busy": "2023-01-04T16:45:23.254616Z",
     "iopub.status.idle": "2023-01-04T16:45:23.375672Z",
     "shell.execute_reply": "2023-01-04T16:45:23.374584Z"
    },
    "papermill": {
     "duration": 0.135707,
     "end_time": "2023-01-04T16:45:23.378831",
     "exception": false,
     "start_time": "2023-01-04T16:45:23.243124",
     "status": "completed"
    },
    "tags": []
   },
   "outputs": [],
   "source": [
    "from xgboost import XGBClassifier\n",
    "model=RandomForestClassifier(n_estimators=250,max_depth=5,random_state=1)\n",
    "modelxg=XGBClassifier(n_estimators=500)\n"
   ]
  },
  {
   "cell_type": "markdown",
   "id": "c9b9e5b9",
   "metadata": {
    "papermill": {
     "duration": 0.009927,
     "end_time": "2023-01-04T16:45:23.399555",
     "exception": false,
     "start_time": "2023-01-04T16:45:23.389628",
     "status": "completed"
    },
    "tags": []
   },
   "source": [
    "defining and fitting a model"
   ]
  },
  {
   "cell_type": "code",
   "execution_count": 15,
   "id": "34ea932e",
   "metadata": {
    "execution": {
     "iopub.execute_input": "2023-01-04T16:45:23.421896Z",
     "iopub.status.busy": "2023-01-04T16:45:23.421060Z",
     "iopub.status.idle": "2023-01-04T16:46:09.949100Z",
     "shell.execute_reply": "2023-01-04T16:46:09.947754Z"
    },
    "papermill": {
     "duration": 46.552733,
     "end_time": "2023-01-04T16:46:09.962330",
     "exception": false,
     "start_time": "2023-01-04T16:45:23.409597",
     "status": "completed"
    },
    "tags": []
   },
   "outputs": [
    {
     "data": {
      "text/plain": [
       "RandomForestClassifier(max_depth=5, n_estimators=250, random_state=1)"
      ]
     },
     "execution_count": 15,
     "metadata": {},
     "output_type": "execute_result"
    }
   ],
   "source": [
    "#model=RandomForestClassifier(n_estimators=250,max_depth=5,random_state=1)\n",
    "#SVM_classifier.fit(X_train,y_train)\n",
    "model.fit(X_train,y)"
   ]
  },
  {
   "cell_type": "markdown",
   "id": "5673fc4f",
   "metadata": {
    "papermill": {
     "duration": 0.010228,
     "end_time": "2023-01-04T16:46:09.983498",
     "exception": false,
     "start_time": "2023-01-04T16:46:09.973270",
     "status": "completed"
    },
    "tags": []
   },
   "source": [
    "obtaining predictions from said model"
   ]
  },
  {
   "cell_type": "code",
   "execution_count": 16,
   "id": "bb76688b",
   "metadata": {
    "execution": {
     "iopub.execute_input": "2023-01-04T16:46:10.007123Z",
     "iopub.status.busy": "2023-01-04T16:46:10.006701Z",
     "iopub.status.idle": "2023-01-04T16:46:10.293960Z",
     "shell.execute_reply": "2023-01-04T16:46:10.292491Z"
    },
    "papermill": {
     "duration": 0.30317,
     "end_time": "2023-01-04T16:46:10.296962",
     "exception": false,
     "start_time": "2023-01-04T16:46:09.993792",
     "status": "completed"
    },
    "tags": []
   },
   "outputs": [],
   "source": [
    "predictions=model.predict(X_test)"
   ]
  },
  {
   "cell_type": "markdown",
   "id": "63d06275",
   "metadata": {
    "papermill": {
     "duration": 0.010955,
     "end_time": "2023-01-04T16:46:10.318207",
     "exception": false,
     "start_time": "2023-01-04T16:46:10.307252",
     "status": "completed"
    },
    "tags": []
   },
   "source": [
    "checking where Id is located"
   ]
  },
  {
   "cell_type": "code",
   "execution_count": 17,
   "id": "f4bcedf9",
   "metadata": {
    "execution": {
     "iopub.execute_input": "2023-01-04T16:46:10.341577Z",
     "iopub.status.busy": "2023-01-04T16:46:10.341128Z",
     "iopub.status.idle": "2023-01-04T16:46:10.348917Z",
     "shell.execute_reply": "2023-01-04T16:46:10.347505Z"
    },
    "papermill": {
     "duration": 0.022984,
     "end_time": "2023-01-04T16:46:10.351862",
     "exception": false,
     "start_time": "2023-01-04T16:46:10.328878",
     "status": "completed"
    },
    "tags": []
   },
   "outputs": [
    {
     "data": {
      "text/plain": [
       "RangeIndex(start=0, stop=8500, step=1)"
      ]
     },
     "execution_count": 17,
     "metadata": {},
     "output_type": "execute_result"
    }
   ],
   "source": [
    "test_data.index"
   ]
  },
  {
   "cell_type": "markdown",
   "id": "3b54799e",
   "metadata": {
    "papermill": {
     "duration": 0.010699,
     "end_time": "2023-01-04T16:46:10.373074",
     "exception": false,
     "start_time": "2023-01-04T16:46:10.362375",
     "status": "completed"
    },
    "tags": []
   },
   "source": [
    "Submitting a submission using predictions we obtained through model"
   ]
  },
  {
   "cell_type": "code",
   "execution_count": 18,
   "id": "f7d06c6e",
   "metadata": {
    "execution": {
     "iopub.execute_input": "2023-01-04T16:46:10.396554Z",
     "iopub.status.busy": "2023-01-04T16:46:10.396110Z",
     "iopub.status.idle": "2023-01-04T16:46:10.416118Z",
     "shell.execute_reply": "2023-01-04T16:46:10.414856Z"
    },
    "papermill": {
     "duration": 0.034952,
     "end_time": "2023-01-04T16:46:10.419082",
     "exception": false,
     "start_time": "2023-01-04T16:46:10.384130",
     "status": "completed"
    },
    "tags": []
   },
   "outputs": [
    {
     "name": "stdout",
     "output_type": "stream",
     "text": [
      "Submission saved!\n"
     ]
    }
   ],
   "source": [
    "output=pd.DataFrame({'Id':test_data.index,'Predicted':predictions})\n",
    "output.to_csv('submission.csv',index=False)\n",
    "print(\"Submission saved!\")"
   ]
  },
  {
   "cell_type": "code",
   "execution_count": 19,
   "id": "e3203c6a",
   "metadata": {
    "execution": {
     "iopub.execute_input": "2023-01-04T16:46:10.442250Z",
     "iopub.status.busy": "2023-01-04T16:46:10.441805Z",
     "iopub.status.idle": "2023-01-04T16:46:10.453071Z",
     "shell.execute_reply": "2023-01-04T16:46:10.451571Z"
    },
    "papermill": {
     "duration": 0.026317,
     "end_time": "2023-01-04T16:46:10.455967",
     "exception": false,
     "start_time": "2023-01-04T16:46:10.429650",
     "status": "completed"
    },
    "tags": []
   },
   "outputs": [
    {
     "data": {
      "text/html": [
       "<div>\n",
       "<style scoped>\n",
       "    .dataframe tbody tr th:only-of-type {\n",
       "        vertical-align: middle;\n",
       "    }\n",
       "\n",
       "    .dataframe tbody tr th {\n",
       "        vertical-align: top;\n",
       "    }\n",
       "\n",
       "    .dataframe thead th {\n",
       "        text-align: right;\n",
       "    }\n",
       "</style>\n",
       "<table border=\"1\" class=\"dataframe\">\n",
       "  <thead>\n",
       "    <tr style=\"text-align: right;\">\n",
       "      <th></th>\n",
       "      <th>Id</th>\n",
       "      <th>Predicted</th>\n",
       "    </tr>\n",
       "  </thead>\n",
       "  <tbody>\n",
       "    <tr>\n",
       "      <th>0</th>\n",
       "      <td>0</td>\n",
       "      <td>4</td>\n",
       "    </tr>\n",
       "    <tr>\n",
       "      <th>1</th>\n",
       "      <td>1</td>\n",
       "      <td>3</td>\n",
       "    </tr>\n",
       "    <tr>\n",
       "      <th>2</th>\n",
       "      <td>2</td>\n",
       "      <td>2</td>\n",
       "    </tr>\n",
       "    <tr>\n",
       "      <th>3</th>\n",
       "      <td>3</td>\n",
       "      <td>4</td>\n",
       "    </tr>\n",
       "    <tr>\n",
       "      <th>4</th>\n",
       "      <td>4</td>\n",
       "      <td>3</td>\n",
       "    </tr>\n",
       "  </tbody>\n",
       "</table>\n",
       "</div>"
      ],
      "text/plain": [
       "   Id  Predicted\n",
       "0   0          4\n",
       "1   1          3\n",
       "2   2          2\n",
       "3   3          4\n",
       "4   4          3"
      ]
     },
     "execution_count": 19,
     "metadata": {},
     "output_type": "execute_result"
    }
   ],
   "source": [
    "output.head()"
   ]
  },
  {
   "cell_type": "code",
   "execution_count": null,
   "id": "4ac33452",
   "metadata": {
    "papermill": {
     "duration": 0.010227,
     "end_time": "2023-01-04T16:46:10.477226",
     "exception": false,
     "start_time": "2023-01-04T16:46:10.466999",
     "status": "completed"
    },
    "tags": []
   },
   "outputs": [],
   "source": []
  },
  {
   "cell_type": "code",
   "execution_count": null,
   "id": "baad7835",
   "metadata": {
    "papermill": {
     "duration": 0.011072,
     "end_time": "2023-01-04T16:46:10.498795",
     "exception": false,
     "start_time": "2023-01-04T16:46:10.487723",
     "status": "completed"
    },
    "tags": []
   },
   "outputs": [],
   "source": []
  }
 ],
 "metadata": {
  "kernelspec": {
   "display_name": "Python 3",
   "language": "python",
   "name": "python3"
  },
  "language_info": {
   "codemirror_mode": {
    "name": "ipython",
    "version": 3
   },
   "file_extension": ".py",
   "mimetype": "text/x-python",
   "name": "python",
   "nbconvert_exporter": "python",
   "pygments_lexer": "ipython3",
   "version": "3.7.12"
  },
  "papermill": {
   "default_parameters": {},
   "duration": 230.9351,
   "end_time": "2023-01-04T16:46:11.534946",
   "environment_variables": {},
   "exception": null,
   "input_path": "__notebook__.ipynb",
   "output_path": "__notebook__.ipynb",
   "parameters": {},
   "start_time": "2023-01-04T16:42:20.599846",
   "version": "2.3.4"
  }
 },
 "nbformat": 4,
 "nbformat_minor": 5
}
