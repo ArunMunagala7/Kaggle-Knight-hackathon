{
 "cells": [
  {
   "cell_type": "code",
   "execution_count": 1,
   "id": "4cd890a4",
   "metadata": {
    "_cell_guid": "b1076dfc-b9ad-4769-8c92-a6c4dae69d19",
    "_uuid": "8f2839f25d086af736a60e9eeb907d3b93b6e0e5",
    "execution": {
     "iopub.execute_input": "2023-01-05T20:46:15.440541Z",
     "iopub.status.busy": "2023-01-05T20:46:15.439791Z",
     "iopub.status.idle": "2023-01-05T20:46:15.459467Z",
     "shell.execute_reply": "2023-01-05T20:46:15.457629Z"
    },
    "papermill": {
     "duration": 0.035437,
     "end_time": "2023-01-05T20:46:15.462775",
     "exception": false,
     "start_time": "2023-01-05T20:46:15.427338",
     "status": "completed"
    },
    "tags": []
   },
   "outputs": [
    {
     "name": "stdout",
     "output_type": "stream",
     "text": [
      "/kaggle/input/prometeo23-pre-event-ml/sample_submission.csv\n",
      "/kaggle/input/prometeo23-pre-event-ml/train.csv\n",
      "/kaggle/input/prometeo23-pre-event-ml/test.csv\n"
     ]
    }
   ],
   "source": [
    "# This Python 3 environment comes with many helpful analytics libraries installed\n",
    "# It is defined by the kaggle/python Docker image: https://github.com/kaggle/docker-python\n",
    "# For example, here's several helpful packages to load\n",
    "\n",
    "import numpy as np # linear algebra\n",
    "import pandas as pd # data processing, CSV file I/O (e.g. pd.read_csv)\n",
    "\n",
    "# Input data files are available in the read-only \"../input/\" directory\n",
    "# For example, running this (by clicking run or pressing Shift+Enter) will list all files under the input directory\n",
    "\n",
    "import os\n",
    "for dirname, _, filenames in os.walk('/kaggle/input'):\n",
    "    for filename in filenames:\n",
    "        print(os.path.join(dirname, filename))\n",
    "\n",
    "# You can write up to 20GB to the current directory (/kaggle/working/) that gets preserved as output when you create a version using \"Save & Run All\" \n",
    "# You can also write temporary files to /kaggle/temp/, but they won't be saved outside of the current session"
   ]
  },
  {
   "cell_type": "code",
   "execution_count": 2,
   "id": "e2b0af31",
   "metadata": {
    "execution": {
     "iopub.execute_input": "2023-01-05T20:46:15.483569Z",
     "iopub.status.busy": "2023-01-05T20:46:15.483039Z",
     "iopub.status.idle": "2023-01-05T20:46:30.037638Z",
     "shell.execute_reply": "2023-01-05T20:46:30.036193Z"
    },
    "papermill": {
     "duration": 14.568656,
     "end_time": "2023-01-05T20:46:30.040499",
     "exception": false,
     "start_time": "2023-01-05T20:46:15.471843",
     "status": "completed"
    },
    "tags": []
   },
   "outputs": [
    {
     "data": {
      "text/html": [
       "<div>\n",
       "<style scoped>\n",
       "    .dataframe tbody tr th:only-of-type {\n",
       "        vertical-align: middle;\n",
       "    }\n",
       "\n",
       "    .dataframe tbody tr th {\n",
       "        vertical-align: top;\n",
       "    }\n",
       "\n",
       "    .dataframe thead th {\n",
       "        text-align: right;\n",
       "    }\n",
       "</style>\n",
       "<table border=\"1\" class=\"dataframe\">\n",
       "  <thead>\n",
       "    <tr style=\"text-align: right;\">\n",
       "      <th></th>\n",
       "      <th>f_0</th>\n",
       "      <th>f_1</th>\n",
       "      <th>f_2</th>\n",
       "      <th>f_3</th>\n",
       "      <th>f_4</th>\n",
       "      <th>f_5</th>\n",
       "      <th>f_6</th>\n",
       "      <th>f_7</th>\n",
       "      <th>f_8</th>\n",
       "      <th>f_9</th>\n",
       "      <th>...</th>\n",
       "      <th>f_759</th>\n",
       "      <th>f_760</th>\n",
       "      <th>f_761</th>\n",
       "      <th>f_762</th>\n",
       "      <th>f_763</th>\n",
       "      <th>f_764</th>\n",
       "      <th>f_765</th>\n",
       "      <th>f_766</th>\n",
       "      <th>f_767</th>\n",
       "      <th>label</th>\n",
       "    </tr>\n",
       "  </thead>\n",
       "  <tbody>\n",
       "    <tr>\n",
       "      <th>0</th>\n",
       "      <td>55.391998</td>\n",
       "      <td>402.842010</td>\n",
       "      <td>1179.939941</td>\n",
       "      <td>137.306000</td>\n",
       "      <td>275.936005</td>\n",
       "      <td>-668.432983</td>\n",
       "      <td>738.448975</td>\n",
       "      <td>509.286987</td>\n",
       "      <td>413.082001</td>\n",
       "      <td>-1350.576050</td>\n",
       "      <td>...</td>\n",
       "      <td>-697.203979</td>\n",
       "      <td>-219.283005</td>\n",
       "      <td>225.966003</td>\n",
       "      <td>-43.695000</td>\n",
       "      <td>626.716980</td>\n",
       "      <td>-295.596985</td>\n",
       "      <td>-635.940979</td>\n",
       "      <td>31.915001</td>\n",
       "      <td>158.291000</td>\n",
       "      <td>4</td>\n",
       "    </tr>\n",
       "    <tr>\n",
       "      <th>1</th>\n",
       "      <td>498.306000</td>\n",
       "      <td>118.342003</td>\n",
       "      <td>1222.817993</td>\n",
       "      <td>646.617004</td>\n",
       "      <td>746.257019</td>\n",
       "      <td>-473.803986</td>\n",
       "      <td>-11.617000</td>\n",
       "      <td>-16.693001</td>\n",
       "      <td>269.397003</td>\n",
       "      <td>-613.716003</td>\n",
       "      <td>...</td>\n",
       "      <td>-288.542999</td>\n",
       "      <td>-441.739990</td>\n",
       "      <td>-406.356995</td>\n",
       "      <td>174.936996</td>\n",
       "      <td>532.174011</td>\n",
       "      <td>-443.278992</td>\n",
       "      <td>-68.603996</td>\n",
       "      <td>-493.657013</td>\n",
       "      <td>-368.730011</td>\n",
       "      <td>1</td>\n",
       "    </tr>\n",
       "    <tr>\n",
       "      <th>2</th>\n",
       "      <td>1465.275024</td>\n",
       "      <td>-2211.415039</td>\n",
       "      <td>2463.522949</td>\n",
       "      <td>945.344971</td>\n",
       "      <td>922.330994</td>\n",
       "      <td>338.187988</td>\n",
       "      <td>-1548.826050</td>\n",
       "      <td>-818.586975</td>\n",
       "      <td>-1007.841003</td>\n",
       "      <td>79.605003</td>\n",
       "      <td>...</td>\n",
       "      <td>-507.450012</td>\n",
       "      <td>1626.469971</td>\n",
       "      <td>-1210.922974</td>\n",
       "      <td>4531.459961</td>\n",
       "      <td>-2801.270020</td>\n",
       "      <td>2071.193115</td>\n",
       "      <td>-99.113998</td>\n",
       "      <td>-475.681000</td>\n",
       "      <td>2455.382080</td>\n",
       "      <td>3</td>\n",
       "    </tr>\n",
       "    <tr>\n",
       "      <th>3</th>\n",
       "      <td>-480.721008</td>\n",
       "      <td>-200.492996</td>\n",
       "      <td>994.544983</td>\n",
       "      <td>429.501007</td>\n",
       "      <td>603.341980</td>\n",
       "      <td>335.571991</td>\n",
       "      <td>-789.293030</td>\n",
       "      <td>315.600006</td>\n",
       "      <td>79.110001</td>\n",
       "      <td>-700.228027</td>\n",
       "      <td>...</td>\n",
       "      <td>190.117996</td>\n",
       "      <td>-141.376999</td>\n",
       "      <td>-158.606995</td>\n",
       "      <td>789.737000</td>\n",
       "      <td>-157.804993</td>\n",
       "      <td>-241.746994</td>\n",
       "      <td>-488.445007</td>\n",
       "      <td>209.561005</td>\n",
       "      <td>-415.536987</td>\n",
       "      <td>4</td>\n",
       "    </tr>\n",
       "    <tr>\n",
       "      <th>4</th>\n",
       "      <td>259.115997</td>\n",
       "      <td>-71.842003</td>\n",
       "      <td>489.447998</td>\n",
       "      <td>23.549999</td>\n",
       "      <td>543.088989</td>\n",
       "      <td>-119.539001</td>\n",
       "      <td>-93.567001</td>\n",
       "      <td>55.488998</td>\n",
       "      <td>-235.072998</td>\n",
       "      <td>-773.299011</td>\n",
       "      <td>...</td>\n",
       "      <td>225.546005</td>\n",
       "      <td>-258.687988</td>\n",
       "      <td>-591.017029</td>\n",
       "      <td>359.621002</td>\n",
       "      <td>316.252014</td>\n",
       "      <td>-309.529999</td>\n",
       "      <td>200.304993</td>\n",
       "      <td>-167.130005</td>\n",
       "      <td>44.182999</td>\n",
       "      <td>4</td>\n",
       "    </tr>\n",
       "  </tbody>\n",
       "</table>\n",
       "<p>5 rows × 769 columns</p>\n",
       "</div>"
      ],
      "text/plain": [
       "           f_0          f_1          f_2         f_3         f_4         f_5  \\\n",
       "0    55.391998   402.842010  1179.939941  137.306000  275.936005 -668.432983   \n",
       "1   498.306000   118.342003  1222.817993  646.617004  746.257019 -473.803986   \n",
       "2  1465.275024 -2211.415039  2463.522949  945.344971  922.330994  338.187988   \n",
       "3  -480.721008  -200.492996   994.544983  429.501007  603.341980  335.571991   \n",
       "4   259.115997   -71.842003   489.447998   23.549999  543.088989 -119.539001   \n",
       "\n",
       "           f_6         f_7          f_8          f_9  ...       f_759  \\\n",
       "0   738.448975  509.286987   413.082001 -1350.576050  ... -697.203979   \n",
       "1   -11.617000  -16.693001   269.397003  -613.716003  ... -288.542999   \n",
       "2 -1548.826050 -818.586975 -1007.841003    79.605003  ... -507.450012   \n",
       "3  -789.293030  315.600006    79.110001  -700.228027  ...  190.117996   \n",
       "4   -93.567001   55.488998  -235.072998  -773.299011  ...  225.546005   \n",
       "\n",
       "         f_760        f_761        f_762        f_763        f_764  \\\n",
       "0  -219.283005   225.966003   -43.695000   626.716980  -295.596985   \n",
       "1  -441.739990  -406.356995   174.936996   532.174011  -443.278992   \n",
       "2  1626.469971 -1210.922974  4531.459961 -2801.270020  2071.193115   \n",
       "3  -141.376999  -158.606995   789.737000  -157.804993  -241.746994   \n",
       "4  -258.687988  -591.017029   359.621002   316.252014  -309.529999   \n",
       "\n",
       "        f_765       f_766        f_767  label  \n",
       "0 -635.940979   31.915001   158.291000      4  \n",
       "1  -68.603996 -493.657013  -368.730011      1  \n",
       "2  -99.113998 -475.681000  2455.382080      3  \n",
       "3 -488.445007  209.561005  -415.536987      4  \n",
       "4  200.304993 -167.130005    44.182999      4  \n",
       "\n",
       "[5 rows x 769 columns]"
      ]
     },
     "execution_count": 2,
     "metadata": {},
     "output_type": "execute_result"
    }
   ],
   "source": [
    "train_loc='/kaggle/input/prometeo23-pre-event-ml/train.csv'\n",
    "train_data=pd.read_csv(train_loc)\n",
    "train_data.head()"
   ]
  },
  {
   "cell_type": "markdown",
   "id": "adb0b09a",
   "metadata": {
    "papermill": {
     "duration": 0.00828,
     "end_time": "2023-01-05T20:46:30.057390",
     "exception": false,
     "start_time": "2023-01-05T20:46:30.049110",
     "status": "completed"
    },
    "tags": []
   },
   "source": [
    "importing test data"
   ]
  },
  {
   "cell_type": "code",
   "execution_count": 3,
   "id": "e2e50986",
   "metadata": {
    "execution": {
     "iopub.execute_input": "2023-01-05T20:46:30.080495Z",
     "iopub.status.busy": "2023-01-05T20:46:30.080017Z",
     "iopub.status.idle": "2023-01-05T20:46:33.673050Z",
     "shell.execute_reply": "2023-01-05T20:46:33.671296Z"
    },
    "papermill": {
     "duration": 3.608164,
     "end_time": "2023-01-05T20:46:33.676554",
     "exception": false,
     "start_time": "2023-01-05T20:46:30.068390",
     "status": "completed"
    },
    "tags": []
   },
   "outputs": [
    {
     "data": {
      "text/html": [
       "<div>\n",
       "<style scoped>\n",
       "    .dataframe tbody tr th:only-of-type {\n",
       "        vertical-align: middle;\n",
       "    }\n",
       "\n",
       "    .dataframe tbody tr th {\n",
       "        vertical-align: top;\n",
       "    }\n",
       "\n",
       "    .dataframe thead th {\n",
       "        text-align: right;\n",
       "    }\n",
       "</style>\n",
       "<table border=\"1\" class=\"dataframe\">\n",
       "  <thead>\n",
       "    <tr style=\"text-align: right;\">\n",
       "      <th></th>\n",
       "      <th>f_0</th>\n",
       "      <th>f_1</th>\n",
       "      <th>f_2</th>\n",
       "      <th>f_3</th>\n",
       "      <th>f_4</th>\n",
       "      <th>f_5</th>\n",
       "      <th>f_6</th>\n",
       "      <th>f_7</th>\n",
       "      <th>f_8</th>\n",
       "      <th>f_9</th>\n",
       "      <th>...</th>\n",
       "      <th>f_758</th>\n",
       "      <th>f_759</th>\n",
       "      <th>f_760</th>\n",
       "      <th>f_761</th>\n",
       "      <th>f_762</th>\n",
       "      <th>f_763</th>\n",
       "      <th>f_764</th>\n",
       "      <th>f_765</th>\n",
       "      <th>f_766</th>\n",
       "      <th>f_767</th>\n",
       "    </tr>\n",
       "  </thead>\n",
       "  <tbody>\n",
       "    <tr>\n",
       "      <th>0</th>\n",
       "      <td>-588.812012</td>\n",
       "      <td>-16.459999</td>\n",
       "      <td>585.155029</td>\n",
       "      <td>407.606995</td>\n",
       "      <td>-10.286000</td>\n",
       "      <td>-84.586998</td>\n",
       "      <td>404.765991</td>\n",
       "      <td>271.266998</td>\n",
       "      <td>499.578003</td>\n",
       "      <td>-1278.270020</td>\n",
       "      <td>...</td>\n",
       "      <td>-661.101013</td>\n",
       "      <td>-581.062012</td>\n",
       "      <td>-915.862000</td>\n",
       "      <td>-15.428000</td>\n",
       "      <td>-123.609001</td>\n",
       "      <td>-44.327000</td>\n",
       "      <td>607.567017</td>\n",
       "      <td>-1553.897949</td>\n",
       "      <td>-312.118011</td>\n",
       "      <td>-1065.124023</td>\n",
       "    </tr>\n",
       "    <tr>\n",
       "      <th>1</th>\n",
       "      <td>2494.957031</td>\n",
       "      <td>-202.628998</td>\n",
       "      <td>2453.219971</td>\n",
       "      <td>180.735992</td>\n",
       "      <td>329.468994</td>\n",
       "      <td>250.464996</td>\n",
       "      <td>1946.031006</td>\n",
       "      <td>3399.147949</td>\n",
       "      <td>441.165985</td>\n",
       "      <td>-817.734985</td>\n",
       "      <td>...</td>\n",
       "      <td>252.505997</td>\n",
       "      <td>-1641.519043</td>\n",
       "      <td>-1040.286011</td>\n",
       "      <td>723.328979</td>\n",
       "      <td>1057.093994</td>\n",
       "      <td>-892.531006</td>\n",
       "      <td>-215.003006</td>\n",
       "      <td>1309.060059</td>\n",
       "      <td>-575.366028</td>\n",
       "      <td>-1667.469971</td>\n",
       "    </tr>\n",
       "    <tr>\n",
       "      <th>2</th>\n",
       "      <td>9.581000</td>\n",
       "      <td>-917.840027</td>\n",
       "      <td>707.869995</td>\n",
       "      <td>205.690994</td>\n",
       "      <td>767.721985</td>\n",
       "      <td>-133.733002</td>\n",
       "      <td>316.574005</td>\n",
       "      <td>187.778000</td>\n",
       "      <td>-874.216980</td>\n",
       "      <td>-273.199005</td>\n",
       "      <td>...</td>\n",
       "      <td>-113.867996</td>\n",
       "      <td>-285.209015</td>\n",
       "      <td>299.352997</td>\n",
       "      <td>-333.828003</td>\n",
       "      <td>98.253998</td>\n",
       "      <td>231.095993</td>\n",
       "      <td>162.904007</td>\n",
       "      <td>-453.291992</td>\n",
       "      <td>-38.993999</td>\n",
       "      <td>100.320999</td>\n",
       "    </tr>\n",
       "    <tr>\n",
       "      <th>3</th>\n",
       "      <td>528.770996</td>\n",
       "      <td>-4.656000</td>\n",
       "      <td>779.922974</td>\n",
       "      <td>176.306000</td>\n",
       "      <td>295.033997</td>\n",
       "      <td>-474.942993</td>\n",
       "      <td>443.114014</td>\n",
       "      <td>295.628998</td>\n",
       "      <td>219.356995</td>\n",
       "      <td>-855.742004</td>\n",
       "      <td>...</td>\n",
       "      <td>388.722992</td>\n",
       "      <td>-406.528992</td>\n",
       "      <td>-317.867004</td>\n",
       "      <td>51.375999</td>\n",
       "      <td>436.625000</td>\n",
       "      <td>233.684006</td>\n",
       "      <td>-644.229004</td>\n",
       "      <td>-416.923004</td>\n",
       "      <td>-410.556000</td>\n",
       "      <td>516.400024</td>\n",
       "    </tr>\n",
       "    <tr>\n",
       "      <th>4</th>\n",
       "      <td>4105.824219</td>\n",
       "      <td>1456.322998</td>\n",
       "      <td>3224.325928</td>\n",
       "      <td>1181.749023</td>\n",
       "      <td>3312.511963</td>\n",
       "      <td>2905.216064</td>\n",
       "      <td>705.135010</td>\n",
       "      <td>3758.070068</td>\n",
       "      <td>-1874.987061</td>\n",
       "      <td>-3637.200928</td>\n",
       "      <td>...</td>\n",
       "      <td>1427.248047</td>\n",
       "      <td>-2808.204102</td>\n",
       "      <td>-1510.807007</td>\n",
       "      <td>-170.334000</td>\n",
       "      <td>3416.754883</td>\n",
       "      <td>-2807.773926</td>\n",
       "      <td>-968.242004</td>\n",
       "      <td>-3440.810059</td>\n",
       "      <td>794.588989</td>\n",
       "      <td>-461.559998</td>\n",
       "    </tr>\n",
       "  </tbody>\n",
       "</table>\n",
       "<p>5 rows × 768 columns</p>\n",
       "</div>"
      ],
      "text/plain": [
       "           f_0          f_1          f_2          f_3          f_4  \\\n",
       "0  -588.812012   -16.459999   585.155029   407.606995   -10.286000   \n",
       "1  2494.957031  -202.628998  2453.219971   180.735992   329.468994   \n",
       "2     9.581000  -917.840027   707.869995   205.690994   767.721985   \n",
       "3   528.770996    -4.656000   779.922974   176.306000   295.033997   \n",
       "4  4105.824219  1456.322998  3224.325928  1181.749023  3312.511963   \n",
       "\n",
       "           f_5          f_6          f_7          f_8          f_9  ...  \\\n",
       "0   -84.586998   404.765991   271.266998   499.578003 -1278.270020  ...   \n",
       "1   250.464996  1946.031006  3399.147949   441.165985  -817.734985  ...   \n",
       "2  -133.733002   316.574005   187.778000  -874.216980  -273.199005  ...   \n",
       "3  -474.942993   443.114014   295.628998   219.356995  -855.742004  ...   \n",
       "4  2905.216064   705.135010  3758.070068 -1874.987061 -3637.200928  ...   \n",
       "\n",
       "         f_758        f_759        f_760       f_761        f_762  \\\n",
       "0  -661.101013  -581.062012  -915.862000  -15.428000  -123.609001   \n",
       "1   252.505997 -1641.519043 -1040.286011  723.328979  1057.093994   \n",
       "2  -113.867996  -285.209015   299.352997 -333.828003    98.253998   \n",
       "3   388.722992  -406.528992  -317.867004   51.375999   436.625000   \n",
       "4  1427.248047 -2808.204102 -1510.807007 -170.334000  3416.754883   \n",
       "\n",
       "         f_763       f_764        f_765       f_766        f_767  \n",
       "0   -44.327000  607.567017 -1553.897949 -312.118011 -1065.124023  \n",
       "1  -892.531006 -215.003006  1309.060059 -575.366028 -1667.469971  \n",
       "2   231.095993  162.904007  -453.291992  -38.993999   100.320999  \n",
       "3   233.684006 -644.229004  -416.923004 -410.556000   516.400024  \n",
       "4 -2807.773926 -968.242004 -3440.810059  794.588989  -461.559998  \n",
       "\n",
       "[5 rows x 768 columns]"
      ]
     },
     "execution_count": 3,
     "metadata": {},
     "output_type": "execute_result"
    }
   ],
   "source": [
    "test_loc='/kaggle/input/prometeo23-pre-event-ml/test.csv'\n",
    "test_data=pd.read_csv(test_loc)\n",
    "test_data.head()"
   ]
  },
  {
   "cell_type": "markdown",
   "id": "e616d75d",
   "metadata": {
    "papermill": {
     "duration": 0.008449,
     "end_time": "2023-01-05T20:46:33.694574",
     "exception": false,
     "start_time": "2023-01-05T20:46:33.686125",
     "status": "completed"
    },
    "tags": []
   },
   "source": [
    "Saving the training data and target data"
   ]
  },
  {
   "cell_type": "code",
   "execution_count": 4,
   "id": "01e2f99c",
   "metadata": {
    "execution": {
     "iopub.execute_input": "2023-01-05T20:46:33.718058Z",
     "iopub.status.busy": "2023-01-05T20:46:33.717025Z",
     "iopub.status.idle": "2023-01-05T20:46:33.940144Z",
     "shell.execute_reply": "2023-01-05T20:46:33.938869Z"
    },
    "papermill": {
     "duration": 0.237596,
     "end_time": "2023-01-05T20:46:33.943075",
     "exception": false,
     "start_time": "2023-01-05T20:46:33.705479",
     "status": "completed"
    },
    "tags": []
   },
   "outputs": [
    {
     "data": {
      "text/html": [
       "<div>\n",
       "<style scoped>\n",
       "    .dataframe tbody tr th:only-of-type {\n",
       "        vertical-align: middle;\n",
       "    }\n",
       "\n",
       "    .dataframe tbody tr th {\n",
       "        vertical-align: top;\n",
       "    }\n",
       "\n",
       "    .dataframe thead th {\n",
       "        text-align: right;\n",
       "    }\n",
       "</style>\n",
       "<table border=\"1\" class=\"dataframe\">\n",
       "  <thead>\n",
       "    <tr style=\"text-align: right;\">\n",
       "      <th></th>\n",
       "      <th>f_0</th>\n",
       "      <th>f_1</th>\n",
       "      <th>f_2</th>\n",
       "      <th>f_3</th>\n",
       "      <th>f_4</th>\n",
       "      <th>f_5</th>\n",
       "      <th>f_6</th>\n",
       "      <th>f_7</th>\n",
       "      <th>f_8</th>\n",
       "      <th>f_9</th>\n",
       "      <th>...</th>\n",
       "      <th>f_758</th>\n",
       "      <th>f_759</th>\n",
       "      <th>f_760</th>\n",
       "      <th>f_761</th>\n",
       "      <th>f_762</th>\n",
       "      <th>f_763</th>\n",
       "      <th>f_764</th>\n",
       "      <th>f_765</th>\n",
       "      <th>f_766</th>\n",
       "      <th>f_767</th>\n",
       "    </tr>\n",
       "  </thead>\n",
       "  <tbody>\n",
       "    <tr>\n",
       "      <th>0</th>\n",
       "      <td>55.391998</td>\n",
       "      <td>402.842010</td>\n",
       "      <td>1179.939941</td>\n",
       "      <td>137.306000</td>\n",
       "      <td>275.936005</td>\n",
       "      <td>-668.432983</td>\n",
       "      <td>738.448975</td>\n",
       "      <td>509.286987</td>\n",
       "      <td>413.082001</td>\n",
       "      <td>-1350.576050</td>\n",
       "      <td>...</td>\n",
       "      <td>225.628006</td>\n",
       "      <td>-697.203979</td>\n",
       "      <td>-219.283005</td>\n",
       "      <td>225.966003</td>\n",
       "      <td>-43.695000</td>\n",
       "      <td>626.716980</td>\n",
       "      <td>-295.596985</td>\n",
       "      <td>-635.940979</td>\n",
       "      <td>31.915001</td>\n",
       "      <td>158.291000</td>\n",
       "    </tr>\n",
       "    <tr>\n",
       "      <th>1</th>\n",
       "      <td>498.306000</td>\n",
       "      <td>118.342003</td>\n",
       "      <td>1222.817993</td>\n",
       "      <td>646.617004</td>\n",
       "      <td>746.257019</td>\n",
       "      <td>-473.803986</td>\n",
       "      <td>-11.617000</td>\n",
       "      <td>-16.693001</td>\n",
       "      <td>269.397003</td>\n",
       "      <td>-613.716003</td>\n",
       "      <td>...</td>\n",
       "      <td>668.473999</td>\n",
       "      <td>-288.542999</td>\n",
       "      <td>-441.739990</td>\n",
       "      <td>-406.356995</td>\n",
       "      <td>174.936996</td>\n",
       "      <td>532.174011</td>\n",
       "      <td>-443.278992</td>\n",
       "      <td>-68.603996</td>\n",
       "      <td>-493.657013</td>\n",
       "      <td>-368.730011</td>\n",
       "    </tr>\n",
       "    <tr>\n",
       "      <th>2</th>\n",
       "      <td>1465.275024</td>\n",
       "      <td>-2211.415039</td>\n",
       "      <td>2463.522949</td>\n",
       "      <td>945.344971</td>\n",
       "      <td>922.330994</td>\n",
       "      <td>338.187988</td>\n",
       "      <td>-1548.826050</td>\n",
       "      <td>-818.586975</td>\n",
       "      <td>-1007.841003</td>\n",
       "      <td>79.605003</td>\n",
       "      <td>...</td>\n",
       "      <td>868.348022</td>\n",
       "      <td>-507.450012</td>\n",
       "      <td>1626.469971</td>\n",
       "      <td>-1210.922974</td>\n",
       "      <td>4531.459961</td>\n",
       "      <td>-2801.270020</td>\n",
       "      <td>2071.193115</td>\n",
       "      <td>-99.113998</td>\n",
       "      <td>-475.681000</td>\n",
       "      <td>2455.382080</td>\n",
       "    </tr>\n",
       "    <tr>\n",
       "      <th>3</th>\n",
       "      <td>-480.721008</td>\n",
       "      <td>-200.492996</td>\n",
       "      <td>994.544983</td>\n",
       "      <td>429.501007</td>\n",
       "      <td>603.341980</td>\n",
       "      <td>335.571991</td>\n",
       "      <td>-789.293030</td>\n",
       "      <td>315.600006</td>\n",
       "      <td>79.110001</td>\n",
       "      <td>-700.228027</td>\n",
       "      <td>...</td>\n",
       "      <td>93.406998</td>\n",
       "      <td>190.117996</td>\n",
       "      <td>-141.376999</td>\n",
       "      <td>-158.606995</td>\n",
       "      <td>789.737000</td>\n",
       "      <td>-157.804993</td>\n",
       "      <td>-241.746994</td>\n",
       "      <td>-488.445007</td>\n",
       "      <td>209.561005</td>\n",
       "      <td>-415.536987</td>\n",
       "    </tr>\n",
       "    <tr>\n",
       "      <th>4</th>\n",
       "      <td>259.115997</td>\n",
       "      <td>-71.842003</td>\n",
       "      <td>489.447998</td>\n",
       "      <td>23.549999</td>\n",
       "      <td>543.088989</td>\n",
       "      <td>-119.539001</td>\n",
       "      <td>-93.567001</td>\n",
       "      <td>55.488998</td>\n",
       "      <td>-235.072998</td>\n",
       "      <td>-773.299011</td>\n",
       "      <td>...</td>\n",
       "      <td>-150.707001</td>\n",
       "      <td>225.546005</td>\n",
       "      <td>-258.687988</td>\n",
       "      <td>-591.017029</td>\n",
       "      <td>359.621002</td>\n",
       "      <td>316.252014</td>\n",
       "      <td>-309.529999</td>\n",
       "      <td>200.304993</td>\n",
       "      <td>-167.130005</td>\n",
       "      <td>44.182999</td>\n",
       "    </tr>\n",
       "  </tbody>\n",
       "</table>\n",
       "<p>5 rows × 768 columns</p>\n",
       "</div>"
      ],
      "text/plain": [
       "           f_0          f_1          f_2         f_3         f_4         f_5  \\\n",
       "0    55.391998   402.842010  1179.939941  137.306000  275.936005 -668.432983   \n",
       "1   498.306000   118.342003  1222.817993  646.617004  746.257019 -473.803986   \n",
       "2  1465.275024 -2211.415039  2463.522949  945.344971  922.330994  338.187988   \n",
       "3  -480.721008  -200.492996   994.544983  429.501007  603.341980  335.571991   \n",
       "4   259.115997   -71.842003   489.447998   23.549999  543.088989 -119.539001   \n",
       "\n",
       "           f_6         f_7          f_8          f_9  ...       f_758  \\\n",
       "0   738.448975  509.286987   413.082001 -1350.576050  ...  225.628006   \n",
       "1   -11.617000  -16.693001   269.397003  -613.716003  ...  668.473999   \n",
       "2 -1548.826050 -818.586975 -1007.841003    79.605003  ...  868.348022   \n",
       "3  -789.293030  315.600006    79.110001  -700.228027  ...   93.406998   \n",
       "4   -93.567001   55.488998  -235.072998  -773.299011  ... -150.707001   \n",
       "\n",
       "        f_759        f_760        f_761        f_762        f_763  \\\n",
       "0 -697.203979  -219.283005   225.966003   -43.695000   626.716980   \n",
       "1 -288.542999  -441.739990  -406.356995   174.936996   532.174011   \n",
       "2 -507.450012  1626.469971 -1210.922974  4531.459961 -2801.270020   \n",
       "3  190.117996  -141.376999  -158.606995   789.737000  -157.804993   \n",
       "4  225.546005  -258.687988  -591.017029   359.621002   316.252014   \n",
       "\n",
       "         f_764       f_765       f_766        f_767  \n",
       "0  -295.596985 -635.940979   31.915001   158.291000  \n",
       "1  -443.278992  -68.603996 -493.657013  -368.730011  \n",
       "2  2071.193115  -99.113998 -475.681000  2455.382080  \n",
       "3  -241.746994 -488.445007  209.561005  -415.536987  \n",
       "4  -309.529999  200.304993 -167.130005    44.182999  \n",
       "\n",
       "[5 rows x 768 columns]"
      ]
     },
     "execution_count": 4,
     "metadata": {},
     "output_type": "execute_result"
    }
   ],
   "source": [
    "X=train_data.copy()\n",
    "y=X['label']\n",
    "X=X.drop(columns=['label'])\n",
    "X.head()"
   ]
  },
  {
   "cell_type": "markdown",
   "id": "1f8a690f",
   "metadata": {
    "papermill": {
     "duration": 0.009091,
     "end_time": "2023-01-05T20:46:33.962292",
     "exception": false,
     "start_time": "2023-01-05T20:46:33.953201",
     "status": "completed"
    },
    "tags": []
   },
   "source": [
    "Making a first sample using 100 random features just too see what happens"
   ]
  },
  {
   "cell_type": "markdown",
   "id": "7b1cbdd9",
   "metadata": {
    "papermill": {
     "duration": 0.010068,
     "end_time": "2023-01-05T20:46:33.983072",
     "exception": false,
     "start_time": "2023-01-05T20:46:33.973004",
     "status": "completed"
    },
    "tags": []
   },
   "source": [
    "using mutual information for the first 100 features"
   ]
  },
  {
   "cell_type": "code",
   "execution_count": 5,
   "id": "07987f36",
   "metadata": {
    "execution": {
     "iopub.execute_input": "2023-01-05T20:46:34.006634Z",
     "iopub.status.busy": "2023-01-05T20:46:34.004935Z",
     "iopub.status.idle": "2023-01-05T20:49:02.455980Z",
     "shell.execute_reply": "2023-01-05T20:49:02.454704Z"
    },
    "papermill": {
     "duration": 148.474637,
     "end_time": "2023-01-05T20:49:02.467617",
     "exception": false,
     "start_time": "2023-01-05T20:46:33.992980",
     "status": "completed"
    },
    "tags": []
   },
   "outputs": [
    {
     "data": {
      "text/plain": [
       "f_60     0.050846\n",
       "f_461    0.048557\n",
       "f_109    0.048302\n",
       "f_127    0.048243\n",
       "f_308    0.046188\n",
       "           ...   \n",
       "f_300    0.008978\n",
       "f_243    0.008782\n",
       "f_382    0.005961\n",
       "f_750    0.005210\n",
       "f_551    0.004372\n",
       "Name: MI Scores, Length: 768, dtype: float64"
      ]
     },
     "execution_count": 5,
     "metadata": {},
     "output_type": "execute_result"
    }
   ],
   "source": [
    "from sklearn.feature_selection import mutual_info_classif\n",
    "def make_mi_scores(X, y):\n",
    "    mi_scores = mutual_info_classif(X, y)\n",
    "    mi_scores = pd.Series(mi_scores, name=\"MI Scores\", index=X.columns)\n",
    "    mi_scores = mi_scores.sort_values(ascending=False)\n",
    "    return mi_scores\n",
    "\n",
    "mi_scores = make_mi_scores(X, y)\n",
    "mi_scores[::] "
   ]
  },
  {
   "cell_type": "markdown",
   "id": "5180a6b6",
   "metadata": {
    "papermill": {
     "duration": 0.009219,
     "end_time": "2023-01-05T20:49:02.486282",
     "exception": false,
     "start_time": "2023-01-05T20:49:02.477063",
     "status": "completed"
    },
    "tags": []
   },
   "source": [
    "trying plotting all the features to find some sort of elbow in the graph"
   ]
  },
  {
   "cell_type": "code",
   "execution_count": 6,
   "id": "40a6e423",
   "metadata": {
    "execution": {
     "iopub.execute_input": "2023-01-05T20:49:02.508501Z",
     "iopub.status.busy": "2023-01-05T20:49:02.507878Z",
     "iopub.status.idle": "2023-01-05T20:49:02.518728Z",
     "shell.execute_reply": "2023-01-05T20:49:02.516917Z"
    },
    "papermill": {
     "duration": 0.026174,
     "end_time": "2023-01-05T20:49:02.521721",
     "exception": false,
     "start_time": "2023-01-05T20:49:02.495547",
     "status": "completed"
    },
    "tags": []
   },
   "outputs": [
    {
     "data": {
      "text/plain": [
       "f_60     0.050846\n",
       "f_461    0.048557\n",
       "f_109    0.048302\n",
       "f_127    0.048243\n",
       "f_308    0.046188\n",
       "           ...   \n",
       "f_300    0.008978\n",
       "f_243    0.008782\n",
       "f_382    0.005961\n",
       "f_750    0.005210\n",
       "f_551    0.004372\n",
       "Name: MI Scores, Length: 768, dtype: float64"
      ]
     },
     "execution_count": 6,
     "metadata": {},
     "output_type": "execute_result"
    }
   ],
   "source": [
    "value=mi_scores.iloc[:]\n",
    "value"
   ]
  },
  {
   "cell_type": "code",
   "execution_count": 7,
   "id": "94ae6bda",
   "metadata": {
    "execution": {
     "iopub.execute_input": "2023-01-05T20:49:02.544052Z",
     "iopub.status.busy": "2023-01-05T20:49:02.543007Z",
     "iopub.status.idle": "2023-01-05T20:49:09.396502Z",
     "shell.execute_reply": "2023-01-05T20:49:09.394623Z"
    },
    "papermill": {
     "duration": 6.867632,
     "end_time": "2023-01-05T20:49:09.399401",
     "exception": false,
     "start_time": "2023-01-05T20:49:02.531769",
     "status": "completed"
    },
    "tags": []
   },
   "outputs": [
    {
     "data": {
      "image/png": "[encoded data removed]",
      "text/plain": [
       "<Figure size 432x288 with 1 Axes>"
      ]
     },
     "metadata": {
      "needs_background": "light"
     },
     "output_type": "display_data"
    }
   ],
   "source": [
    "import matplotlib.pyplot as plt\n",
    "plt.plot(mi_scores.index,mi_scores)\n",
    "plt.show()"
   ]
  },
  {
   "cell_type": "markdown",
   "id": "4d2b8908",
   "metadata": {
    "papermill": {
     "duration": 0.010281,
     "end_time": "2023-01-05T20:49:09.419409",
     "exception": false,
     "start_time": "2023-01-05T20:49:09.409128",
     "status": "completed"
    },
    "tags": []
   },
   "source": [
    "From the graph, it appears to be that the mutual information values start elbowing somewhere around 0.03. Lets select features above that only and see what happens"
   ]
  },
  {
   "cell_type": "code",
   "execution_count": 8,
   "id": "8933988a",
   "metadata": {
    "execution": {
     "iopub.execute_input": "2023-01-05T20:49:09.440604Z",
     "iopub.status.busy": "2023-01-05T20:49:09.440112Z",
     "iopub.status.idle": "2023-01-05T20:49:09.447895Z",
     "shell.execute_reply": "2023-01-05T20:49:09.446082Z"
    },
    "papermill": {
     "duration": 0.022292,
     "end_time": "2023-01-05T20:49:09.451214",
     "exception": false,
     "start_time": "2023-01-05T20:49:09.428922",
     "status": "completed"
    },
    "tags": []
   },
   "outputs": [],
   "source": [
    "threshold=0.03\n",
    "feature=mi_scores\n",
    "# Find the indexes of the rows where the feature is greater than the threshold\n",
    "indexes = feature[feature > threshold].index\n",
    "\n"
   ]
  },
  {
   "cell_type": "markdown",
   "id": "a96084f1",
   "metadata": {
    "papermill": {
     "duration": 0.009891,
     "end_time": "2023-01-05T20:49:09.471416",
     "exception": false,
     "start_time": "2023-01-05T20:49:09.461525",
     "status": "completed"
    },
    "tags": []
   },
   "source": [
    "lets view indexes"
   ]
  },
  {
   "cell_type": "code",
   "execution_count": 9,
   "id": "61346650",
   "metadata": {
    "execution": {
     "iopub.execute_input": "2023-01-05T20:49:09.493180Z",
     "iopub.status.busy": "2023-01-05T20:49:09.492745Z",
     "iopub.status.idle": "2023-01-05T20:49:09.499541Z",
     "shell.execute_reply": "2023-01-05T20:49:09.498114Z"
    },
    "papermill": {
     "duration": 0.0213,
     "end_time": "2023-01-05T20:49:09.502863",
     "exception": false,
     "start_time": "2023-01-05T20:49:09.481563",
     "status": "completed"
    },
    "tags": []
   },
   "outputs": [
    {
     "name": "stdout",
     "output_type": "stream",
     "text": [
      "Index(['f_60', 'f_461', 'f_109', 'f_127', 'f_308', 'f_523', 'f_688', 'f_520',\n",
      "       'f_533', 'f_672',\n",
      "       ...\n",
      "       'f_336', 'f_746', 'f_389', 'f_762', 'f_55', 'f_103', 'f_85', 'f_536',\n",
      "       'f_539', 'f_160'],\n",
      "      dtype='object', length=116)\n"
     ]
    }
   ],
   "source": [
    "print(indexes)"
   ]
  },
  {
   "cell_type": "code",
   "execution_count": 10,
   "id": "4b91029f",
   "metadata": {
    "execution": {
     "iopub.execute_input": "2023-01-05T20:49:09.526017Z",
     "iopub.status.busy": "2023-01-05T20:49:09.525586Z",
     "iopub.status.idle": "2023-01-05T20:49:09.595782Z",
     "shell.execute_reply": "2023-01-05T20:49:09.594789Z"
    },
    "papermill": {
     "duration": 0.085553,
     "end_time": "2023-01-05T20:49:09.598313",
     "exception": false,
     "start_time": "2023-01-05T20:49:09.512760",
     "status": "completed"
    },
    "tags": []
   },
   "outputs": [
    {
     "data": {
      "text/plain": [
       "0"
      ]
     },
     "execution_count": 10,
     "metadata": {},
     "output_type": "execute_result"
    }
   ],
   "source": [
    "X.isnull().sum().sum()"
   ]
  },
  {
   "cell_type": "markdown",
   "id": "0c7b002a",
   "metadata": {
    "papermill": {
     "duration": 0.010792,
     "end_time": "2023-01-05T20:49:09.619122",
     "exception": false,
     "start_time": "2023-01-05T20:49:09.608330",
     "status": "completed"
    },
    "tags": []
   },
   "source": [
    "lets make an Array for all the data of the selected features for both the train and test dataset"
   ]
  },
  {
   "cell_type": "code",
   "execution_count": 11,
   "id": "6e36cc28",
   "metadata": {
    "execution": {
     "iopub.execute_input": "2023-01-05T20:49:09.642304Z",
     "iopub.status.busy": "2023-01-05T20:49:09.641705Z",
     "iopub.status.idle": "2023-01-05T20:49:09.693949Z",
     "shell.execute_reply": "2023-01-05T20:49:09.692667Z"
    },
    "papermill": {
     "duration": 0.066544,
     "end_time": "2023-01-05T20:49:09.696596",
     "exception": false,
     "start_time": "2023-01-05T20:49:09.630052",
     "status": "completed"
    },
    "tags": []
   },
   "outputs": [
    {
     "data": {
      "text/html": [
       "<div>\n",
       "<style scoped>\n",
       "    .dataframe tbody tr th:only-of-type {\n",
       "        vertical-align: middle;\n",
       "    }\n",
       "\n",
       "    .dataframe tbody tr th {\n",
       "        vertical-align: top;\n",
       "    }\n",
       "\n",
       "    .dataframe thead th {\n",
       "        text-align: right;\n",
       "    }\n",
       "</style>\n",
       "<table border=\"1\" class=\"dataframe\">\n",
       "  <thead>\n",
       "    <tr style=\"text-align: right;\">\n",
       "      <th></th>\n",
       "      <th>f_60</th>\n",
       "      <th>f_461</th>\n",
       "      <th>f_109</th>\n",
       "      <th>f_127</th>\n",
       "      <th>f_308</th>\n",
       "      <th>f_523</th>\n",
       "      <th>f_688</th>\n",
       "      <th>f_520</th>\n",
       "      <th>f_533</th>\n",
       "      <th>f_672</th>\n",
       "      <th>...</th>\n",
       "      <th>f_336</th>\n",
       "      <th>f_746</th>\n",
       "      <th>f_389</th>\n",
       "      <th>f_762</th>\n",
       "      <th>f_55</th>\n",
       "      <th>f_103</th>\n",
       "      <th>f_85</th>\n",
       "      <th>f_536</th>\n",
       "      <th>f_539</th>\n",
       "      <th>f_160</th>\n",
       "    </tr>\n",
       "  </thead>\n",
       "  <tbody>\n",
       "    <tr>\n",
       "      <th>0</th>\n",
       "      <td>350.971008</td>\n",
       "      <td>-433.502991</td>\n",
       "      <td>486.678986</td>\n",
       "      <td>605.304993</td>\n",
       "      <td>-26187.189453</td>\n",
       "      <td>-667.390015</td>\n",
       "      <td>-272.614990</td>\n",
       "      <td>514.187988</td>\n",
       "      <td>1598.451050</td>\n",
       "      <td>-863.268005</td>\n",
       "      <td>...</td>\n",
       "      <td>-645.749023</td>\n",
       "      <td>1165.307007</td>\n",
       "      <td>1594.796997</td>\n",
       "      <td>-123.609001</td>\n",
       "      <td>461.125000</td>\n",
       "      <td>197.841995</td>\n",
       "      <td>-726.247009</td>\n",
       "      <td>-154.815002</td>\n",
       "      <td>2087.298096</td>\n",
       "      <td>1561.500000</td>\n",
       "    </tr>\n",
       "    <tr>\n",
       "      <th>1</th>\n",
       "      <td>1913.490967</td>\n",
       "      <td>-482.644989</td>\n",
       "      <td>27.625999</td>\n",
       "      <td>-1437.417969</td>\n",
       "      <td>-52105.609375</td>\n",
       "      <td>-818.591980</td>\n",
       "      <td>-629.237976</td>\n",
       "      <td>617.257996</td>\n",
       "      <td>4787.193848</td>\n",
       "      <td>-2587.675049</td>\n",
       "      <td>...</td>\n",
       "      <td>-2681.446045</td>\n",
       "      <td>1326.588013</td>\n",
       "      <td>1792.260010</td>\n",
       "      <td>1057.093994</td>\n",
       "      <td>965.882996</td>\n",
       "      <td>-1144.232056</td>\n",
       "      <td>1444.307007</td>\n",
       "      <td>1975.100952</td>\n",
       "      <td>930.471008</td>\n",
       "      <td>1310.406006</td>\n",
       "    </tr>\n",
       "    <tr>\n",
       "      <th>2</th>\n",
       "      <td>998.453979</td>\n",
       "      <td>619.905029</td>\n",
       "      <td>92.448997</td>\n",
       "      <td>-18.423000</td>\n",
       "      <td>-18594.810547</td>\n",
       "      <td>-145.104004</td>\n",
       "      <td>-612.976990</td>\n",
       "      <td>-896.288025</td>\n",
       "      <td>276.600006</td>\n",
       "      <td>-566.439026</td>\n",
       "      <td>...</td>\n",
       "      <td>-282.304993</td>\n",
       "      <td>96.261002</td>\n",
       "      <td>754.273987</td>\n",
       "      <td>98.253998</td>\n",
       "      <td>1041.442017</td>\n",
       "      <td>188.479996</td>\n",
       "      <td>-246.910004</td>\n",
       "      <td>503.734009</td>\n",
       "      <td>-594.624023</td>\n",
       "      <td>1477.817993</td>\n",
       "    </tr>\n",
       "    <tr>\n",
       "      <th>3</th>\n",
       "      <td>359.234009</td>\n",
       "      <td>181.014008</td>\n",
       "      <td>300.427002</td>\n",
       "      <td>-326.671997</td>\n",
       "      <td>-15903.102539</td>\n",
       "      <td>11.936000</td>\n",
       "      <td>-416.011993</td>\n",
       "      <td>-484.533997</td>\n",
       "      <td>1172.359985</td>\n",
       "      <td>-108.601997</td>\n",
       "      <td>...</td>\n",
       "      <td>-489.467010</td>\n",
       "      <td>103.403999</td>\n",
       "      <td>-80.026001</td>\n",
       "      <td>436.625000</td>\n",
       "      <td>422.135986</td>\n",
       "      <td>-242.268005</td>\n",
       "      <td>4.328000</td>\n",
       "      <td>879.140015</td>\n",
       "      <td>-1145.258057</td>\n",
       "      <td>1025.068970</td>\n",
       "    </tr>\n",
       "    <tr>\n",
       "      <th>4</th>\n",
       "      <td>7666.731934</td>\n",
       "      <td>4283.335938</td>\n",
       "      <td>-3380.354004</td>\n",
       "      <td>-1619.212036</td>\n",
       "      <td>-84551.437500</td>\n",
       "      <td>-1006.372009</td>\n",
       "      <td>-2668.556885</td>\n",
       "      <td>-4049.656982</td>\n",
       "      <td>2781.697998</td>\n",
       "      <td>2942.708008</td>\n",
       "      <td>...</td>\n",
       "      <td>-6374.029785</td>\n",
       "      <td>-3403.003906</td>\n",
       "      <td>500.976990</td>\n",
       "      <td>3416.754883</td>\n",
       "      <td>-1932.595947</td>\n",
       "      <td>1055.456055</td>\n",
       "      <td>-2652.792969</td>\n",
       "      <td>2516.094971</td>\n",
       "      <td>4918.591797</td>\n",
       "      <td>3153.271973</td>\n",
       "    </tr>\n",
       "  </tbody>\n",
       "</table>\n",
       "<p>5 rows × 116 columns</p>\n",
       "</div>"
      ],
      "text/plain": [
       "          f_60        f_461        f_109        f_127         f_308  \\\n",
       "0   350.971008  -433.502991   486.678986   605.304993 -26187.189453   \n",
       "1  1913.490967  -482.644989    27.625999 -1437.417969 -52105.609375   \n",
       "2   998.453979   619.905029    92.448997   -18.423000 -18594.810547   \n",
       "3   359.234009   181.014008   300.427002  -326.671997 -15903.102539   \n",
       "4  7666.731934  4283.335938 -3380.354004 -1619.212036 -84551.437500   \n",
       "\n",
       "         f_523        f_688        f_520        f_533        f_672  ...  \\\n",
       "0  -667.390015  -272.614990   514.187988  1598.451050  -863.268005  ...   \n",
       "1  -818.591980  -629.237976   617.257996  4787.193848 -2587.675049  ...   \n",
       "2  -145.104004  -612.976990  -896.288025   276.600006  -566.439026  ...   \n",
       "3    11.936000  -416.011993  -484.533997  1172.359985  -108.601997  ...   \n",
       "4 -1006.372009 -2668.556885 -4049.656982  2781.697998  2942.708008  ...   \n",
       "\n",
       "         f_336        f_746        f_389        f_762         f_55  \\\n",
       "0  -645.749023  1165.307007  1594.796997  -123.609001   461.125000   \n",
       "1 -2681.446045  1326.588013  1792.260010  1057.093994   965.882996   \n",
       "2  -282.304993    96.261002   754.273987    98.253998  1041.442017   \n",
       "3  -489.467010   103.403999   -80.026001   436.625000   422.135986   \n",
       "4 -6374.029785 -3403.003906   500.976990  3416.754883 -1932.595947   \n",
       "\n",
       "         f_103         f_85        f_536        f_539        f_160  \n",
       "0   197.841995  -726.247009  -154.815002  2087.298096  1561.500000  \n",
       "1 -1144.232056  1444.307007  1975.100952   930.471008  1310.406006  \n",
       "2   188.479996  -246.910004   503.734009  -594.624023  1477.817993  \n",
       "3  -242.268005     4.328000   879.140015 -1145.258057  1025.068970  \n",
       "4  1055.456055 -2652.792969  2516.094971  4918.591797  3153.271973  \n",
       "\n",
       "[5 rows x 116 columns]"
      ]
     },
     "execution_count": 11,
     "metadata": {},
     "output_type": "execute_result"
    }
   ],
   "source": [
    "X_selected=X[indexes]\n",
    "X_selected.head()\n",
    "X_test_selected=test_data[indexes]\n",
    "X_test_selected.head()"
   ]
  },
  {
   "cell_type": "markdown",
   "id": "13887303",
   "metadata": {
    "papermill": {
     "duration": 0.009818,
     "end_time": "2023-01-05T20:49:09.717448",
     "exception": false,
     "start_time": "2023-01-05T20:49:09.707630",
     "status": "completed"
    },
    "tags": []
   },
   "source": [
    "importing some important features for modelling"
   ]
  },
  {
   "cell_type": "code",
   "execution_count": 12,
   "id": "7f61636e",
   "metadata": {
    "execution": {
     "iopub.execute_input": "2023-01-05T20:49:09.741106Z",
     "iopub.status.busy": "2023-01-05T20:49:09.740047Z",
     "iopub.status.idle": "2023-01-05T20:49:09.852996Z",
     "shell.execute_reply": "2023-01-05T20:49:09.851635Z"
    },
    "papermill": {
     "duration": 0.128024,
     "end_time": "2023-01-05T20:49:09.856025",
     "exception": false,
     "start_time": "2023-01-05T20:49:09.728001",
     "status": "completed"
    },
    "tags": []
   },
   "outputs": [],
   "source": [
    "from sklearn.model_selection import train_test_split\n",
    "from sklearn.ensemble import RandomForestClassifier\n",
    "from sklearn.svm import SVC\n",
    "SVM_classifier = SVC(kernel = 'linear', random_state = 0)"
   ]
  },
  {
   "cell_type": "markdown",
   "id": "0f3e6d57",
   "metadata": {
    "papermill": {
     "duration": 0.009727,
     "end_time": "2023-01-05T20:49:09.876020",
     "exception": false,
     "start_time": "2023-01-05T20:49:09.866293",
     "status": "completed"
    },
    "tags": []
   },
   "source": [
    "fitting the model directly to the entire train data"
   ]
  },
  {
   "cell_type": "code",
   "execution_count": null,
   "id": "32379c37",
   "metadata": {
    "papermill": {
     "duration": 0.009893,
     "end_time": "2023-01-05T20:49:09.897460",
     "exception": false,
     "start_time": "2023-01-05T20:49:09.887567",
     "status": "completed"
    },
    "tags": []
   },
   "outputs": [],
   "source": []
  },
  {
   "cell_type": "markdown",
   "id": "a0d304de",
   "metadata": {
    "papermill": {
     "duration": 0.010673,
     "end_time": "2023-01-05T20:49:09.918326",
     "exception": false,
     "start_time": "2023-01-05T20:49:09.907653",
     "status": "completed"
    },
    "tags": []
   },
   "source": [
    "Scaling"
   ]
  },
  {
   "cell_type": "code",
   "execution_count": 13,
   "id": "3c269ada",
   "metadata": {
    "execution": {
     "iopub.execute_input": "2023-01-05T20:49:09.942232Z",
     "iopub.status.busy": "2023-01-05T20:49:09.941635Z",
     "iopub.status.idle": "2023-01-05T20:49:10.026988Z",
     "shell.execute_reply": "2023-01-05T20:49:10.025750Z"
    },
    "papermill": {
     "duration": 0.101157,
     "end_time": "2023-01-05T20:49:10.030127",
     "exception": false,
     "start_time": "2023-01-05T20:49:09.928970",
     "status": "completed"
    },
    "tags": []
   },
   "outputs": [],
   "source": [
    "from sklearn.preprocessing import StandardScaler\n",
    "sc = StandardScaler()\n",
    "X_train = sc.fit_transform(X_selected)\n",
    "X_test = sc.transform(X_test_selected)"
   ]
  },
  {
   "cell_type": "markdown",
   "id": "684d8e9e",
   "metadata": {
    "papermill": {
     "duration": 0.010358,
     "end_time": "2023-01-05T20:49:10.050919",
     "exception": false,
     "start_time": "2023-01-05T20:49:10.040561",
     "status": "completed"
    },
    "tags": []
   },
   "source": [
    "creating a RandomForest Model"
   ]
  },
  {
   "cell_type": "code",
   "execution_count": 14,
   "id": "dcf12bfe",
   "metadata": {
    "execution": {
     "iopub.execute_input": "2023-01-05T20:49:10.073738Z",
     "iopub.status.busy": "2023-01-05T20:49:10.073242Z",
     "iopub.status.idle": "2023-01-05T20:49:10.207778Z",
     "shell.execute_reply": "2023-01-05T20:49:10.205780Z"
    },
    "papermill": {
     "duration": 0.149581,
     "end_time": "2023-01-05T20:49:10.210823",
     "exception": false,
     "start_time": "2023-01-05T20:49:10.061242",
     "status": "completed"
    },
    "tags": []
   },
   "outputs": [],
   "source": [
    "from xgboost import XGBClassifier\n",
    "#model=RandomForestClassifier(n_estimators=250,max_depth=5,random_state=1)\n",
    "model=XGBClassifier(n_estimators=500)\n"
   ]
  },
  {
   "cell_type": "markdown",
   "id": "99d88dd0",
   "metadata": {
    "papermill": {
     "duration": 0.011342,
     "end_time": "2023-01-05T20:49:10.233083",
     "exception": false,
     "start_time": "2023-01-05T20:49:10.221741",
     "status": "completed"
    },
    "tags": []
   },
   "source": [
    "defining and fitting a model"
   ]
  },
  {
   "cell_type": "code",
   "execution_count": 15,
   "id": "8038da20",
   "metadata": {
    "execution": {
     "iopub.execute_input": "2023-01-05T20:49:10.255914Z",
     "iopub.status.busy": "2023-01-05T20:49:10.255482Z",
     "iopub.status.idle": "2023-01-05T21:08:59.650783Z",
     "shell.execute_reply": "2023-01-05T21:08:59.648834Z"
    },
    "papermill": {
     "duration": 1189.420141,
     "end_time": "2023-01-05T21:08:59.663715",
     "exception": false,
     "start_time": "2023-01-05T20:49:10.243574",
     "status": "completed"
    },
    "tags": []
   },
   "outputs": [
    {
     "data": {
      "text/plain": [
       "XGBClassifier(base_score=0.5, booster='gbtree', callbacks=None,\n",
       "              colsample_bylevel=1, colsample_bynode=1, colsample_bytree=1,\n",
       "              early_stopping_rounds=None, enable_categorical=False,\n",
       "              eval_metric=None, gamma=0, gpu_id=-1, grow_policy='depthwise',\n",
       "              importance_type=None, interaction_constraints='',\n",
       "              learning_rate=0.300000012, max_bin=256, max_cat_to_onehot=4,\n",
       "              max_delta_step=0, max_depth=6, max_leaves=0, min_child_weight=1,\n",
       "              missing=nan, monotone_constraints='()', n_estimators=500,\n",
       "              n_jobs=0, num_parallel_tree=1, objective='multi:softprob',\n",
       "              predictor='auto', random_state=0, reg_alpha=0, ...)"
      ]
     },
     "execution_count": 15,
     "metadata": {},
     "output_type": "execute_result"
    }
   ],
   "source": [
    "#model=RandomForestClassifier(n_estimators=250,max_depth=5,random_state=1)\n",
    "#SVM_classifier.fit(X_train,y_train)\n",
    "model.fit(X_train,y)"
   ]
  },
  {
   "cell_type": "markdown",
   "id": "8883b60b",
   "metadata": {
    "papermill": {
     "duration": 0.010168,
     "end_time": "2023-01-05T21:08:59.685664",
     "exception": false,
     "start_time": "2023-01-05T21:08:59.675496",
     "status": "completed"
    },
    "tags": []
   },
   "source": [
    "obtaining predictions from said model"
   ]
  },
  {
   "cell_type": "code",
   "execution_count": 16,
   "id": "1a08f44c",
   "metadata": {
    "execution": {
     "iopub.execute_input": "2023-01-05T21:08:59.709093Z",
     "iopub.status.busy": "2023-01-05T21:08:59.708636Z",
     "iopub.status.idle": "2023-01-05T21:09:00.032036Z",
     "shell.execute_reply": "2023-01-05T21:09:00.030981Z"
    },
    "papermill": {
     "duration": 0.338119,
     "end_time": "2023-01-05T21:09:00.034873",
     "exception": false,
     "start_time": "2023-01-05T21:08:59.696754",
     "status": "completed"
    },
    "tags": []
   },
   "outputs": [],
   "source": [
    "predictions=model.predict(X_test)"
   ]
  },
  {
   "cell_type": "markdown",
   "id": "0229482e",
   "metadata": {
    "papermill": {
     "duration": 0.010004,
     "end_time": "2023-01-05T21:09:00.056911",
     "exception": false,
     "start_time": "2023-01-05T21:09:00.046907",
     "status": "completed"
    },
    "tags": []
   },
   "source": [
    "checking where Id is located"
   ]
  },
  {
   "cell_type": "code",
   "execution_count": 17,
   "id": "516685f3",
   "metadata": {
    "execution": {
     "iopub.execute_input": "2023-01-05T21:09:00.079394Z",
     "iopub.status.busy": "2023-01-05T21:09:00.078940Z",
     "iopub.status.idle": "2023-01-05T21:09:00.086793Z",
     "shell.execute_reply": "2023-01-05T21:09:00.085585Z"
    },
    "papermill": {
     "duration": 0.02215,
     "end_time": "2023-01-05T21:09:00.089279",
     "exception": false,
     "start_time": "2023-01-05T21:09:00.067129",
     "status": "completed"
    },
    "tags": []
   },
   "outputs": [
    {
     "data": {
      "text/plain": [
       "RangeIndex(start=0, stop=8500, step=1)"
      ]
     },
     "execution_count": 17,
     "metadata": {},
     "output_type": "execute_result"
    }
   ],
   "source": [
    "test_data.index"
   ]
  },
  {
   "cell_type": "markdown",
   "id": "36871df3",
   "metadata": {
    "papermill": {
     "duration": 0.010489,
     "end_time": "2023-01-05T21:09:00.110030",
     "exception": false,
     "start_time": "2023-01-05T21:09:00.099541",
     "status": "completed"
    },
    "tags": []
   },
   "source": [
    "Submitting a submission using predictions we obtained through model"
   ]
  },
  {
   "cell_type": "code",
   "execution_count": 18,
   "id": "df507fb6",
   "metadata": {
    "execution": {
     "iopub.execute_input": "2023-01-05T21:09:00.133189Z",
     "iopub.status.busy": "2023-01-05T21:09:00.132400Z",
     "iopub.status.idle": "2023-01-05T21:09:00.153645Z",
     "shell.execute_reply": "2023-01-05T21:09:00.152477Z"
    },
    "papermill": {
     "duration": 0.035611,
     "end_time": "2023-01-05T21:09:00.156152",
     "exception": false,
     "start_time": "2023-01-05T21:09:00.120541",
     "status": "completed"
    },
    "tags": []
   },
   "outputs": [
    {
     "name": "stdout",
     "output_type": "stream",
     "text": [
      "Submission saved!\n"
     ]
    }
   ],
   "source": [
    "output=pd.DataFrame({'Id':test_data.index,'Predicted':predictions})\n",
    "output.to_csv('submission.csv',index=False)\n",
    "print(\"Submission saved!\")"
   ]
  },
  {
   "cell_type": "code",
   "execution_count": 19,
   "id": "5e54c5d3",
   "metadata": {
    "execution": {
     "iopub.execute_input": "2023-01-05T21:09:00.179536Z",
     "iopub.status.busy": "2023-01-05T21:09:00.178765Z",
     "iopub.status.idle": "2023-01-05T21:09:00.190003Z",
     "shell.execute_reply": "2023-01-05T21:09:00.188450Z"
    },
    "papermill": {
     "duration": 0.026303,
     "end_time": "2023-01-05T21:09:00.192990",
     "exception": false,
     "start_time": "2023-01-05T21:09:00.166687",
     "status": "completed"
    },
    "tags": []
   },
   "outputs": [
    {
     "data": {
      "text/html": [
       "<div>\n",
       "<style scoped>\n",
       "    .dataframe tbody tr th:only-of-type {\n",
       "        vertical-align: middle;\n",
       "    }\n",
       "\n",
       "    .dataframe tbody tr th {\n",
       "        vertical-align: top;\n",
       "    }\n",
       "\n",
       "    .dataframe thead th {\n",
       "        text-align: right;\n",
       "    }\n",
       "</style>\n",
       "<table border=\"1\" class=\"dataframe\">\n",
       "  <thead>\n",
       "    <tr style=\"text-align: right;\">\n",
       "      <th></th>\n",
       "      <th>Id</th>\n",
       "      <th>Predicted</th>\n",
       "    </tr>\n",
       "  </thead>\n",
       "  <tbody>\n",
       "    <tr>\n",
       "      <th>0</th>\n",
       "      <td>0</td>\n",
       "      <td>4</td>\n",
       "    </tr>\n",
       "    <tr>\n",
       "      <th>1</th>\n",
       "      <td>1</td>\n",
       "      <td>3</td>\n",
       "    </tr>\n",
       "    <tr>\n",
       "      <th>2</th>\n",
       "      <td>2</td>\n",
       "      <td>2</td>\n",
       "    </tr>\n",
       "    <tr>\n",
       "      <th>3</th>\n",
       "      <td>3</td>\n",
       "      <td>3</td>\n",
       "    </tr>\n",
       "    <tr>\n",
       "      <th>4</th>\n",
       "      <td>4</td>\n",
       "      <td>2</td>\n",
       "    </tr>\n",
       "  </tbody>\n",
       "</table>\n",
       "</div>"
      ],
      "text/plain": [
       "   Id  Predicted\n",
       "0   0          4\n",
       "1   1          3\n",
       "2   2          2\n",
       "3   3          3\n",
       "4   4          2"
      ]
     },
     "execution_count": 19,
     "metadata": {},
     "output_type": "execute_result"
    }
   ],
   "source": [
    "output.head()"
   ]
  },
  {
   "cell_type": "code",
   "execution_count": null,
   "id": "8bd04cd4",
   "metadata": {
    "papermill": {
     "duration": 0.010973,
     "end_time": "2023-01-05T21:09:00.214532",
     "exception": false,
     "start_time": "2023-01-05T21:09:00.203559",
     "status": "completed"
    },
    "tags": []
   },
   "outputs": [],
   "source": []
  },
  {
   "cell_type": "code",
   "execution_count": null,
   "id": "5715c3f6",
   "metadata": {
    "papermill": {
     "duration": 0.011243,
     "end_time": "2023-01-05T21:09:00.236331",
     "exception": false,
     "start_time": "2023-01-05T21:09:00.225088",
     "status": "completed"
    },
    "tags": []
   },
   "outputs": [],
   "source": []
  }
 ],
 "metadata": {
  "kernelspec": {
   "display_name": "Python 3",
   "language": "python",
   "name": "python3"
  },
  "language_info": {
   "codemirror_mode": {
    "name": "ipython",
    "version": 3
   },
   "file_extension": ".py",
   "mimetype": "text/x-python",
   "name": "python",
   "nbconvert_exporter": "python",
   "pygments_lexer": "ipython3",
   "version": "3.7.12"
  },
  "papermill": {
   "default_parameters": {},
   "duration": 1379.022939,
   "end_time": "2023-01-05T21:09:01.276341",
   "environment_variables": {},
   "exception": null,
   "input_path": "__notebook__.ipynb",
   "output_path": "__notebook__.ipynb",
   "parameters": {},
   "start_time": "2023-01-05T20:46:02.253402",
   "version": "2.3.4"
  }
 },
 "nbformat": 4,
 "nbformat_minor": 5
}
