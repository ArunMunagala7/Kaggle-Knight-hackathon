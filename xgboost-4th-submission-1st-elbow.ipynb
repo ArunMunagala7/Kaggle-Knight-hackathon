{
 "cells": [
  {
   "cell_type": "code",
   "execution_count": 1,
   "id": "0101cd80",
   "metadata": {
    "_cell_guid": "b1076dfc-b9ad-4769-8c92-a6c4dae69d19",
    "_uuid": "8f2839f25d086af736a60e9eeb907d3b93b6e0e5",
    "execution": {
     "iopub.execute_input": "2023-01-05T21:12:54.428646Z",
     "iopub.status.busy": "2023-01-05T21:12:54.427955Z",
     "iopub.status.idle": "2023-01-05T21:12:54.441012Z",
     "shell.execute_reply": "2023-01-05T21:12:54.439921Z"
    },
    "papermill": {
     "duration": 0.028,
     "end_time": "2023-01-05T21:12:54.443949",
     "exception": false,
     "start_time": "2023-01-05T21:12:54.415949",
     "status": "completed"
    },
    "tags": []
   },
   "outputs": [
    {
     "name": "stdout",
     "output_type": "stream",
     "text": [
      "/kaggle/input/prometeo23-pre-event-ml/sample_submission.csv\n",
      "/kaggle/input/prometeo23-pre-event-ml/train.csv\n",
      "/kaggle/input/prometeo23-pre-event-ml/test.csv\n"
     ]
    }
   ],
   "source": [
    "# This Python 3 environment comes with many helpful analytics libraries installed\n",
    "# It is defined by the kaggle/python Docker image: https://github.com/kaggle/docker-python\n",
    "# For example, here's several helpful packages to load\n",
    "\n",
    "import numpy as np # linear algebra\n",
    "import pandas as pd # data processing, CSV file I/O (e.g. pd.read_csv)\n",
    "\n",
    "# Input data files are available in the read-only \"../input/\" directory\n",
    "# For example, running this (by clicking run or pressing Shift+Enter) will list all files under the input directory\n",
    "\n",
    "import os\n",
    "for dirname, _, filenames in os.walk('/kaggle/input'):\n",
    "    for filename in filenames:\n",
    "        print(os.path.join(dirname, filename))\n",
    "\n",
    "# You can write up to 20GB to the current directory (/kaggle/working/) that gets preserved as output when you create a version using \"Save & Run All\" \n",
    "# You can also write temporary files to /kaggle/temp/, but they won't be saved outside of the current session"
   ]
  },
  {
   "cell_type": "code",
   "execution_count": 2,
   "id": "d3a49eaa",
   "metadata": {
    "execution": {
     "iopub.execute_input": "2023-01-05T21:12:54.462355Z",
     "iopub.status.busy": "2023-01-05T21:12:54.461980Z",
     "iopub.status.idle": "2023-01-05T21:13:08.793033Z",
     "shell.execute_reply": "2023-01-05T21:13:08.791794Z"
    },
    "papermill": {
     "duration": 14.343951,
     "end_time": "2023-01-05T21:13:08.796409",
     "exception": false,
     "start_time": "2023-01-05T21:12:54.452458",
     "status": "completed"
    },
    "tags": []
   },
   "outputs": [
    {
     "data": {
      "text/html": [
       "<div>\n",
       "<style scoped>\n",
       "    .dataframe tbody tr th:only-of-type {\n",
       "        vertical-align: middle;\n",
       "    }\n",
       "\n",
       "    .dataframe tbody tr th {\n",
       "        vertical-align: top;\n",
       "    }\n",
       "\n",
       "    .dataframe thead th {\n",
       "        text-align: right;\n",
       "    }\n",
       "</style>\n",
       "<table border=\"1\" class=\"dataframe\">\n",
       "  <thead>\n",
       "    <tr style=\"text-align: right;\">\n",
       "      <th></th>\n",
       "      <th>f_0</th>\n",
       "      <th>f_1</th>\n",
       "      <th>f_2</th>\n",
       "      <th>f_3</th>\n",
       "      <th>f_4</th>\n",
       "      <th>f_5</th>\n",
       "      <th>f_6</th>\n",
       "      <th>f_7</th>\n",
       "      <th>f_8</th>\n",
       "      <th>f_9</th>\n",
       "      <th>...</th>\n",
       "      <th>f_759</th>\n",
       "      <th>f_760</th>\n",
       "      <th>f_761</th>\n",
       "      <th>f_762</th>\n",
       "      <th>f_763</th>\n",
       "      <th>f_764</th>\n",
       "      <th>f_765</th>\n",
       "      <th>f_766</th>\n",
       "      <th>f_767</th>\n",
       "      <th>label</th>\n",
       "    </tr>\n",
       "  </thead>\n",
       "  <tbody>\n",
       "    <tr>\n",
       "      <th>0</th>\n",
       "      <td>55.391998</td>\n",
       "      <td>402.842010</td>\n",
       "      <td>1179.939941</td>\n",
       "      <td>137.306000</td>\n",
       "      <td>275.936005</td>\n",
       "      <td>-668.432983</td>\n",
       "      <td>738.448975</td>\n",
       "      <td>509.286987</td>\n",
       "      <td>413.082001</td>\n",
       "      <td>-1350.576050</td>\n",
       "      <td>...</td>\n",
       "      <td>-697.203979</td>\n",
       "      <td>-219.283005</td>\n",
       "      <td>225.966003</td>\n",
       "      <td>-43.695000</td>\n",
       "      <td>626.716980</td>\n",
       "      <td>-295.596985</td>\n",
       "      <td>-635.940979</td>\n",
       "      <td>31.915001</td>\n",
       "      <td>158.291000</td>\n",
       "      <td>4</td>\n",
       "    </tr>\n",
       "    <tr>\n",
       "      <th>1</th>\n",
       "      <td>498.306000</td>\n",
       "      <td>118.342003</td>\n",
       "      <td>1222.817993</td>\n",
       "      <td>646.617004</td>\n",
       "      <td>746.257019</td>\n",
       "      <td>-473.803986</td>\n",
       "      <td>-11.617000</td>\n",
       "      <td>-16.693001</td>\n",
       "      <td>269.397003</td>\n",
       "      <td>-613.716003</td>\n",
       "      <td>...</td>\n",
       "      <td>-288.542999</td>\n",
       "      <td>-441.739990</td>\n",
       "      <td>-406.356995</td>\n",
       "      <td>174.936996</td>\n",
       "      <td>532.174011</td>\n",
       "      <td>-443.278992</td>\n",
       "      <td>-68.603996</td>\n",
       "      <td>-493.657013</td>\n",
       "      <td>-368.730011</td>\n",
       "      <td>1</td>\n",
       "    </tr>\n",
       "    <tr>\n",
       "      <th>2</th>\n",
       "      <td>1465.275024</td>\n",
       "      <td>-2211.415039</td>\n",
       "      <td>2463.522949</td>\n",
       "      <td>945.344971</td>\n",
       "      <td>922.330994</td>\n",
       "      <td>338.187988</td>\n",
       "      <td>-1548.826050</td>\n",
       "      <td>-818.586975</td>\n",
       "      <td>-1007.841003</td>\n",
       "      <td>79.605003</td>\n",
       "      <td>...</td>\n",
       "      <td>-507.450012</td>\n",
       "      <td>1626.469971</td>\n",
       "      <td>-1210.922974</td>\n",
       "      <td>4531.459961</td>\n",
       "      <td>-2801.270020</td>\n",
       "      <td>2071.193115</td>\n",
       "      <td>-99.113998</td>\n",
       "      <td>-475.681000</td>\n",
       "      <td>2455.382080</td>\n",
       "      <td>3</td>\n",
       "    </tr>\n",
       "    <tr>\n",
       "      <th>3</th>\n",
       "      <td>-480.721008</td>\n",
       "      <td>-200.492996</td>\n",
       "      <td>994.544983</td>\n",
       "      <td>429.501007</td>\n",
       "      <td>603.341980</td>\n",
       "      <td>335.571991</td>\n",
       "      <td>-789.293030</td>\n",
       "      <td>315.600006</td>\n",
       "      <td>79.110001</td>\n",
       "      <td>-700.228027</td>\n",
       "      <td>...</td>\n",
       "      <td>190.117996</td>\n",
       "      <td>-141.376999</td>\n",
       "      <td>-158.606995</td>\n",
       "      <td>789.737000</td>\n",
       "      <td>-157.804993</td>\n",
       "      <td>-241.746994</td>\n",
       "      <td>-488.445007</td>\n",
       "      <td>209.561005</td>\n",
       "      <td>-415.536987</td>\n",
       "      <td>4</td>\n",
       "    </tr>\n",
       "    <tr>\n",
       "      <th>4</th>\n",
       "      <td>259.115997</td>\n",
       "      <td>-71.842003</td>\n",
       "      <td>489.447998</td>\n",
       "      <td>23.549999</td>\n",
       "      <td>543.088989</td>\n",
       "      <td>-119.539001</td>\n",
       "      <td>-93.567001</td>\n",
       "      <td>55.488998</td>\n",
       "      <td>-235.072998</td>\n",
       "      <td>-773.299011</td>\n",
       "      <td>...</td>\n",
       "      <td>225.546005</td>\n",
       "      <td>-258.687988</td>\n",
       "      <td>-591.017029</td>\n",
       "      <td>359.621002</td>\n",
       "      <td>316.252014</td>\n",
       "      <td>-309.529999</td>\n",
       "      <td>200.304993</td>\n",
       "      <td>-167.130005</td>\n",
       "      <td>44.182999</td>\n",
       "      <td>4</td>\n",
       "    </tr>\n",
       "  </tbody>\n",
       "</table>\n",
       "<p>5 rows × 769 columns</p>\n",
       "</div>"
      ],
      "text/plain": [
       "           f_0          f_1          f_2         f_3         f_4         f_5  \\\n",
       "0    55.391998   402.842010  1179.939941  137.306000  275.936005 -668.432983   \n",
       "1   498.306000   118.342003  1222.817993  646.617004  746.257019 -473.803986   \n",
       "2  1465.275024 -2211.415039  2463.522949  945.344971  922.330994  338.187988   \n",
       "3  -480.721008  -200.492996   994.544983  429.501007  603.341980  335.571991   \n",
       "4   259.115997   -71.842003   489.447998   23.549999  543.088989 -119.539001   \n",
       "\n",
       "           f_6         f_7          f_8          f_9  ...       f_759  \\\n",
       "0   738.448975  509.286987   413.082001 -1350.576050  ... -697.203979   \n",
       "1   -11.617000  -16.693001   269.397003  -613.716003  ... -288.542999   \n",
       "2 -1548.826050 -818.586975 -1007.841003    79.605003  ... -507.450012   \n",
       "3  -789.293030  315.600006    79.110001  -700.228027  ...  190.117996   \n",
       "4   -93.567001   55.488998  -235.072998  -773.299011  ...  225.546005   \n",
       "\n",
       "         f_760        f_761        f_762        f_763        f_764  \\\n",
       "0  -219.283005   225.966003   -43.695000   626.716980  -295.596985   \n",
       "1  -441.739990  -406.356995   174.936996   532.174011  -443.278992   \n",
       "2  1626.469971 -1210.922974  4531.459961 -2801.270020  2071.193115   \n",
       "3  -141.376999  -158.606995   789.737000  -157.804993  -241.746994   \n",
       "4  -258.687988  -591.017029   359.621002   316.252014  -309.529999   \n",
       "\n",
       "        f_765       f_766        f_767  label  \n",
       "0 -635.940979   31.915001   158.291000      4  \n",
       "1  -68.603996 -493.657013  -368.730011      1  \n",
       "2  -99.113998 -475.681000  2455.382080      3  \n",
       "3 -488.445007  209.561005  -415.536987      4  \n",
       "4  200.304993 -167.130005    44.182999      4  \n",
       "\n",
       "[5 rows x 769 columns]"
      ]
     },
     "execution_count": 2,
     "metadata": {},
     "output_type": "execute_result"
    }
   ],
   "source": [
    "train_loc='/kaggle/input/prometeo23-pre-event-ml/train.csv'\n",
    "train_data=pd.read_csv(train_loc)\n",
    "train_data.head()"
   ]
  },
  {
   "cell_type": "markdown",
   "id": "d9ff758d",
   "metadata": {
    "papermill": {
     "duration": 0.008092,
     "end_time": "2023-01-05T21:13:08.813189",
     "exception": false,
     "start_time": "2023-01-05T21:13:08.805097",
     "status": "completed"
    },
    "tags": []
   },
   "source": [
    "importing test data"
   ]
  },
  {
   "cell_type": "code",
   "execution_count": 3,
   "id": "f5d2c2cd",
   "metadata": {
    "execution": {
     "iopub.execute_input": "2023-01-05T21:13:08.832053Z",
     "iopub.status.busy": "2023-01-05T21:13:08.831561Z",
     "iopub.status.idle": "2023-01-05T21:13:12.329332Z",
     "shell.execute_reply": "2023-01-05T21:13:12.327820Z"
    },
    "papermill": {
     "duration": 3.510536,
     "end_time": "2023-01-05T21:13:12.332133",
     "exception": false,
     "start_time": "2023-01-05T21:13:08.821597",
     "status": "completed"
    },
    "tags": []
   },
   "outputs": [
    {
     "data": {
      "text/html": [
       "<div>\n",
       "<style scoped>\n",
       "    .dataframe tbody tr th:only-of-type {\n",
       "        vertical-align: middle;\n",
       "    }\n",
       "\n",
       "    .dataframe tbody tr th {\n",
       "        vertical-align: top;\n",
       "    }\n",
       "\n",
       "    .dataframe thead th {\n",
       "        text-align: right;\n",
       "    }\n",
       "</style>\n",
       "<table border=\"1\" class=\"dataframe\">\n",
       "  <thead>\n",
       "    <tr style=\"text-align: right;\">\n",
       "      <th></th>\n",
       "      <th>f_0</th>\n",
       "      <th>f_1</th>\n",
       "      <th>f_2</th>\n",
       "      <th>f_3</th>\n",
       "      <th>f_4</th>\n",
       "      <th>f_5</th>\n",
       "      <th>f_6</th>\n",
       "      <th>f_7</th>\n",
       "      <th>f_8</th>\n",
       "      <th>f_9</th>\n",
       "      <th>...</th>\n",
       "      <th>f_758</th>\n",
       "      <th>f_759</th>\n",
       "      <th>f_760</th>\n",
       "      <th>f_761</th>\n",
       "      <th>f_762</th>\n",
       "      <th>f_763</th>\n",
       "      <th>f_764</th>\n",
       "      <th>f_765</th>\n",
       "      <th>f_766</th>\n",
       "      <th>f_767</th>\n",
       "    </tr>\n",
       "  </thead>\n",
       "  <tbody>\n",
       "    <tr>\n",
       "      <th>0</th>\n",
       "      <td>-588.812012</td>\n",
       "      <td>-16.459999</td>\n",
       "      <td>585.155029</td>\n",
       "      <td>407.606995</td>\n",
       "      <td>-10.286000</td>\n",
       "      <td>-84.586998</td>\n",
       "      <td>404.765991</td>\n",
       "      <td>271.266998</td>\n",
       "      <td>499.578003</td>\n",
       "      <td>-1278.270020</td>\n",
       "      <td>...</td>\n",
       "      <td>-661.101013</td>\n",
       "      <td>-581.062012</td>\n",
       "      <td>-915.862000</td>\n",
       "      <td>-15.428000</td>\n",
       "      <td>-123.609001</td>\n",
       "      <td>-44.327000</td>\n",
       "      <td>607.567017</td>\n",
       "      <td>-1553.897949</td>\n",
       "      <td>-312.118011</td>\n",
       "      <td>-1065.124023</td>\n",
       "    </tr>\n",
       "    <tr>\n",
       "      <th>1</th>\n",
       "      <td>2494.957031</td>\n",
       "      <td>-202.628998</td>\n",
       "      <td>2453.219971</td>\n",
       "      <td>180.735992</td>\n",
       "      <td>329.468994</td>\n",
       "      <td>250.464996</td>\n",
       "      <td>1946.031006</td>\n",
       "      <td>3399.147949</td>\n",
       "      <td>441.165985</td>\n",
       "      <td>-817.734985</td>\n",
       "      <td>...</td>\n",
       "      <td>252.505997</td>\n",
       "      <td>-1641.519043</td>\n",
       "      <td>-1040.286011</td>\n",
       "      <td>723.328979</td>\n",
       "      <td>1057.093994</td>\n",
       "      <td>-892.531006</td>\n",
       "      <td>-215.003006</td>\n",
       "      <td>1309.060059</td>\n",
       "      <td>-575.366028</td>\n",
       "      <td>-1667.469971</td>\n",
       "    </tr>\n",
       "    <tr>\n",
       "      <th>2</th>\n",
       "      <td>9.581000</td>\n",
       "      <td>-917.840027</td>\n",
       "      <td>707.869995</td>\n",
       "      <td>205.690994</td>\n",
       "      <td>767.721985</td>\n",
       "      <td>-133.733002</td>\n",
       "      <td>316.574005</td>\n",
       "      <td>187.778000</td>\n",
       "      <td>-874.216980</td>\n",
       "      <td>-273.199005</td>\n",
       "      <td>...</td>\n",
       "      <td>-113.867996</td>\n",
       "      <td>-285.209015</td>\n",
       "      <td>299.352997</td>\n",
       "      <td>-333.828003</td>\n",
       "      <td>98.253998</td>\n",
       "      <td>231.095993</td>\n",
       "      <td>162.904007</td>\n",
       "      <td>-453.291992</td>\n",
       "      <td>-38.993999</td>\n",
       "      <td>100.320999</td>\n",
       "    </tr>\n",
       "    <tr>\n",
       "      <th>3</th>\n",
       "      <td>528.770996</td>\n",
       "      <td>-4.656000</td>\n",
       "      <td>779.922974</td>\n",
       "      <td>176.306000</td>\n",
       "      <td>295.033997</td>\n",
       "      <td>-474.942993</td>\n",
       "      <td>443.114014</td>\n",
       "      <td>295.628998</td>\n",
       "      <td>219.356995</td>\n",
       "      <td>-855.742004</td>\n",
       "      <td>...</td>\n",
       "      <td>388.722992</td>\n",
       "      <td>-406.528992</td>\n",
       "      <td>-317.867004</td>\n",
       "      <td>51.375999</td>\n",
       "      <td>436.625000</td>\n",
       "      <td>233.684006</td>\n",
       "      <td>-644.229004</td>\n",
       "      <td>-416.923004</td>\n",
       "      <td>-410.556000</td>\n",
       "      <td>516.400024</td>\n",
       "    </tr>\n",
       "    <tr>\n",
       "      <th>4</th>\n",
       "      <td>4105.824219</td>\n",
       "      <td>1456.322998</td>\n",
       "      <td>3224.325928</td>\n",
       "      <td>1181.749023</td>\n",
       "      <td>3312.511963</td>\n",
       "      <td>2905.216064</td>\n",
       "      <td>705.135010</td>\n",
       "      <td>3758.070068</td>\n",
       "      <td>-1874.987061</td>\n",
       "      <td>-3637.200928</td>\n",
       "      <td>...</td>\n",
       "      <td>1427.248047</td>\n",
       "      <td>-2808.204102</td>\n",
       "      <td>-1510.807007</td>\n",
       "      <td>-170.334000</td>\n",
       "      <td>3416.754883</td>\n",
       "      <td>-2807.773926</td>\n",
       "      <td>-968.242004</td>\n",
       "      <td>-3440.810059</td>\n",
       "      <td>794.588989</td>\n",
       "      <td>-461.559998</td>\n",
       "    </tr>\n",
       "  </tbody>\n",
       "</table>\n",
       "<p>5 rows × 768 columns</p>\n",
       "</div>"
      ],
      "text/plain": [
       "           f_0          f_1          f_2          f_3          f_4  \\\n",
       "0  -588.812012   -16.459999   585.155029   407.606995   -10.286000   \n",
       "1  2494.957031  -202.628998  2453.219971   180.735992   329.468994   \n",
       "2     9.581000  -917.840027   707.869995   205.690994   767.721985   \n",
       "3   528.770996    -4.656000   779.922974   176.306000   295.033997   \n",
       "4  4105.824219  1456.322998  3224.325928  1181.749023  3312.511963   \n",
       "\n",
       "           f_5          f_6          f_7          f_8          f_9  ...  \\\n",
       "0   -84.586998   404.765991   271.266998   499.578003 -1278.270020  ...   \n",
       "1   250.464996  1946.031006  3399.147949   441.165985  -817.734985  ...   \n",
       "2  -133.733002   316.574005   187.778000  -874.216980  -273.199005  ...   \n",
       "3  -474.942993   443.114014   295.628998   219.356995  -855.742004  ...   \n",
       "4  2905.216064   705.135010  3758.070068 -1874.987061 -3637.200928  ...   \n",
       "\n",
       "         f_758        f_759        f_760       f_761        f_762  \\\n",
       "0  -661.101013  -581.062012  -915.862000  -15.428000  -123.609001   \n",
       "1   252.505997 -1641.519043 -1040.286011  723.328979  1057.093994   \n",
       "2  -113.867996  -285.209015   299.352997 -333.828003    98.253998   \n",
       "3   388.722992  -406.528992  -317.867004   51.375999   436.625000   \n",
       "4  1427.248047 -2808.204102 -1510.807007 -170.334000  3416.754883   \n",
       "\n",
       "         f_763       f_764        f_765       f_766        f_767  \n",
       "0   -44.327000  607.567017 -1553.897949 -312.118011 -1065.124023  \n",
       "1  -892.531006 -215.003006  1309.060059 -575.366028 -1667.469971  \n",
       "2   231.095993  162.904007  -453.291992  -38.993999   100.320999  \n",
       "3   233.684006 -644.229004  -416.923004 -410.556000   516.400024  \n",
       "4 -2807.773926 -968.242004 -3440.810059  794.588989  -461.559998  \n",
       "\n",
       "[5 rows x 768 columns]"
      ]
     },
     "execution_count": 3,
     "metadata": {},
     "output_type": "execute_result"
    }
   ],
   "source": [
    "test_loc='/kaggle/input/prometeo23-pre-event-ml/test.csv'\n",
    "test_data=pd.read_csv(test_loc)\n",
    "test_data.head()"
   ]
  },
  {
   "cell_type": "markdown",
   "id": "68aa790f",
   "metadata": {
    "papermill": {
     "duration": 0.008482,
     "end_time": "2023-01-05T21:13:12.349571",
     "exception": false,
     "start_time": "2023-01-05T21:13:12.341089",
     "status": "completed"
    },
    "tags": []
   },
   "source": [
    "Saving the training data and target data"
   ]
  },
  {
   "cell_type": "code",
   "execution_count": 4,
   "id": "0a99fb0f",
   "metadata": {
    "execution": {
     "iopub.execute_input": "2023-01-05T21:13:12.372393Z",
     "iopub.status.busy": "2023-01-05T21:13:12.371301Z",
     "iopub.status.idle": "2023-01-05T21:13:12.629086Z",
     "shell.execute_reply": "2023-01-05T21:13:12.627900Z"
    },
    "papermill": {
     "duration": 0.271046,
     "end_time": "2023-01-05T21:13:12.631831",
     "exception": false,
     "start_time": "2023-01-05T21:13:12.360785",
     "status": "completed"
    },
    "tags": []
   },
   "outputs": [
    {
     "data": {
      "text/html": [
       "<div>\n",
       "<style scoped>\n",
       "    .dataframe tbody tr th:only-of-type {\n",
       "        vertical-align: middle;\n",
       "    }\n",
       "\n",
       "    .dataframe tbody tr th {\n",
       "        vertical-align: top;\n",
       "    }\n",
       "\n",
       "    .dataframe thead th {\n",
       "        text-align: right;\n",
       "    }\n",
       "</style>\n",
       "<table border=\"1\" class=\"dataframe\">\n",
       "  <thead>\n",
       "    <tr style=\"text-align: right;\">\n",
       "      <th></th>\n",
       "      <th>f_0</th>\n",
       "      <th>f_1</th>\n",
       "      <th>f_2</th>\n",
       "      <th>f_3</th>\n",
       "      <th>f_4</th>\n",
       "      <th>f_5</th>\n",
       "      <th>f_6</th>\n",
       "      <th>f_7</th>\n",
       "      <th>f_8</th>\n",
       "      <th>f_9</th>\n",
       "      <th>...</th>\n",
       "      <th>f_758</th>\n",
       "      <th>f_759</th>\n",
       "      <th>f_760</th>\n",
       "      <th>f_761</th>\n",
       "      <th>f_762</th>\n",
       "      <th>f_763</th>\n",
       "      <th>f_764</th>\n",
       "      <th>f_765</th>\n",
       "      <th>f_766</th>\n",
       "      <th>f_767</th>\n",
       "    </tr>\n",
       "  </thead>\n",
       "  <tbody>\n",
       "    <tr>\n",
       "      <th>0</th>\n",
       "      <td>55.391998</td>\n",
       "      <td>402.842010</td>\n",
       "      <td>1179.939941</td>\n",
       "      <td>137.306000</td>\n",
       "      <td>275.936005</td>\n",
       "      <td>-668.432983</td>\n",
       "      <td>738.448975</td>\n",
       "      <td>509.286987</td>\n",
       "      <td>413.082001</td>\n",
       "      <td>-1350.576050</td>\n",
       "      <td>...</td>\n",
       "      <td>225.628006</td>\n",
       "      <td>-697.203979</td>\n",
       "      <td>-219.283005</td>\n",
       "      <td>225.966003</td>\n",
       "      <td>-43.695000</td>\n",
       "      <td>626.716980</td>\n",
       "      <td>-295.596985</td>\n",
       "      <td>-635.940979</td>\n",
       "      <td>31.915001</td>\n",
       "      <td>158.291000</td>\n",
       "    </tr>\n",
       "    <tr>\n",
       "      <th>1</th>\n",
       "      <td>498.306000</td>\n",
       "      <td>118.342003</td>\n",
       "      <td>1222.817993</td>\n",
       "      <td>646.617004</td>\n",
       "      <td>746.257019</td>\n",
       "      <td>-473.803986</td>\n",
       "      <td>-11.617000</td>\n",
       "      <td>-16.693001</td>\n",
       "      <td>269.397003</td>\n",
       "      <td>-613.716003</td>\n",
       "      <td>...</td>\n",
       "      <td>668.473999</td>\n",
       "      <td>-288.542999</td>\n",
       "      <td>-441.739990</td>\n",
       "      <td>-406.356995</td>\n",
       "      <td>174.936996</td>\n",
       "      <td>532.174011</td>\n",
       "      <td>-443.278992</td>\n",
       "      <td>-68.603996</td>\n",
       "      <td>-493.657013</td>\n",
       "      <td>-368.730011</td>\n",
       "    </tr>\n",
       "    <tr>\n",
       "      <th>2</th>\n",
       "      <td>1465.275024</td>\n",
       "      <td>-2211.415039</td>\n",
       "      <td>2463.522949</td>\n",
       "      <td>945.344971</td>\n",
       "      <td>922.330994</td>\n",
       "      <td>338.187988</td>\n",
       "      <td>-1548.826050</td>\n",
       "      <td>-818.586975</td>\n",
       "      <td>-1007.841003</td>\n",
       "      <td>79.605003</td>\n",
       "      <td>...</td>\n",
       "      <td>868.348022</td>\n",
       "      <td>-507.450012</td>\n",
       "      <td>1626.469971</td>\n",
       "      <td>-1210.922974</td>\n",
       "      <td>4531.459961</td>\n",
       "      <td>-2801.270020</td>\n",
       "      <td>2071.193115</td>\n",
       "      <td>-99.113998</td>\n",
       "      <td>-475.681000</td>\n",
       "      <td>2455.382080</td>\n",
       "    </tr>\n",
       "    <tr>\n",
       "      <th>3</th>\n",
       "      <td>-480.721008</td>\n",
       "      <td>-200.492996</td>\n",
       "      <td>994.544983</td>\n",
       "      <td>429.501007</td>\n",
       "      <td>603.341980</td>\n",
       "      <td>335.571991</td>\n",
       "      <td>-789.293030</td>\n",
       "      <td>315.600006</td>\n",
       "      <td>79.110001</td>\n",
       "      <td>-700.228027</td>\n",
       "      <td>...</td>\n",
       "      <td>93.406998</td>\n",
       "      <td>190.117996</td>\n",
       "      <td>-141.376999</td>\n",
       "      <td>-158.606995</td>\n",
       "      <td>789.737000</td>\n",
       "      <td>-157.804993</td>\n",
       "      <td>-241.746994</td>\n",
       "      <td>-488.445007</td>\n",
       "      <td>209.561005</td>\n",
       "      <td>-415.536987</td>\n",
       "    </tr>\n",
       "    <tr>\n",
       "      <th>4</th>\n",
       "      <td>259.115997</td>\n",
       "      <td>-71.842003</td>\n",
       "      <td>489.447998</td>\n",
       "      <td>23.549999</td>\n",
       "      <td>543.088989</td>\n",
       "      <td>-119.539001</td>\n",
       "      <td>-93.567001</td>\n",
       "      <td>55.488998</td>\n",
       "      <td>-235.072998</td>\n",
       "      <td>-773.299011</td>\n",
       "      <td>...</td>\n",
       "      <td>-150.707001</td>\n",
       "      <td>225.546005</td>\n",
       "      <td>-258.687988</td>\n",
       "      <td>-591.017029</td>\n",
       "      <td>359.621002</td>\n",
       "      <td>316.252014</td>\n",
       "      <td>-309.529999</td>\n",
       "      <td>200.304993</td>\n",
       "      <td>-167.130005</td>\n",
       "      <td>44.182999</td>\n",
       "    </tr>\n",
       "  </tbody>\n",
       "</table>\n",
       "<p>5 rows × 768 columns</p>\n",
       "</div>"
      ],
      "text/plain": [
       "           f_0          f_1          f_2         f_3         f_4         f_5  \\\n",
       "0    55.391998   402.842010  1179.939941  137.306000  275.936005 -668.432983   \n",
       "1   498.306000   118.342003  1222.817993  646.617004  746.257019 -473.803986   \n",
       "2  1465.275024 -2211.415039  2463.522949  945.344971  922.330994  338.187988   \n",
       "3  -480.721008  -200.492996   994.544983  429.501007  603.341980  335.571991   \n",
       "4   259.115997   -71.842003   489.447998   23.549999  543.088989 -119.539001   \n",
       "\n",
       "           f_6         f_7          f_8          f_9  ...       f_758  \\\n",
       "0   738.448975  509.286987   413.082001 -1350.576050  ...  225.628006   \n",
       "1   -11.617000  -16.693001   269.397003  -613.716003  ...  668.473999   \n",
       "2 -1548.826050 -818.586975 -1007.841003    79.605003  ...  868.348022   \n",
       "3  -789.293030  315.600006    79.110001  -700.228027  ...   93.406998   \n",
       "4   -93.567001   55.488998  -235.072998  -773.299011  ... -150.707001   \n",
       "\n",
       "        f_759        f_760        f_761        f_762        f_763  \\\n",
       "0 -697.203979  -219.283005   225.966003   -43.695000   626.716980   \n",
       "1 -288.542999  -441.739990  -406.356995   174.936996   532.174011   \n",
       "2 -507.450012  1626.469971 -1210.922974  4531.459961 -2801.270020   \n",
       "3  190.117996  -141.376999  -158.606995   789.737000  -157.804993   \n",
       "4  225.546005  -258.687988  -591.017029   359.621002   316.252014   \n",
       "\n",
       "         f_764       f_765       f_766        f_767  \n",
       "0  -295.596985 -635.940979   31.915001   158.291000  \n",
       "1  -443.278992  -68.603996 -493.657013  -368.730011  \n",
       "2  2071.193115  -99.113998 -475.681000  2455.382080  \n",
       "3  -241.746994 -488.445007  209.561005  -415.536987  \n",
       "4  -309.529999  200.304993 -167.130005    44.182999  \n",
       "\n",
       "[5 rows x 768 columns]"
      ]
     },
     "execution_count": 4,
     "metadata": {},
     "output_type": "execute_result"
    }
   ],
   "source": [
    "X=train_data.copy()\n",
    "y=X['label']\n",
    "X=X.drop(columns=['label'])\n",
    "X.head()"
   ]
  },
  {
   "cell_type": "markdown",
   "id": "dcbb1586",
   "metadata": {
    "papermill": {
     "duration": 0.009016,
     "end_time": "2023-01-05T21:13:12.650429",
     "exception": false,
     "start_time": "2023-01-05T21:13:12.641413",
     "status": "completed"
    },
    "tags": []
   },
   "source": [
    "Making a first sample using 100 random features just too see what happens"
   ]
  },
  {
   "cell_type": "markdown",
   "id": "f2f09192",
   "metadata": {
    "papermill": {
     "duration": 0.009042,
     "end_time": "2023-01-05T21:13:12.668900",
     "exception": false,
     "start_time": "2023-01-05T21:13:12.659858",
     "status": "completed"
    },
    "tags": []
   },
   "source": [
    "using mutual information for the first 100 features"
   ]
  },
  {
   "cell_type": "code",
   "execution_count": 5,
   "id": "ffda77d2",
   "metadata": {
    "execution": {
     "iopub.execute_input": "2023-01-05T21:13:12.689743Z",
     "iopub.status.busy": "2023-01-05T21:13:12.689017Z",
     "iopub.status.idle": "2023-01-05T21:15:37.405393Z",
     "shell.execute_reply": "2023-01-05T21:15:37.403971Z"
    },
    "papermill": {
     "duration": 144.73847,
     "end_time": "2023-01-05T21:15:37.416816",
     "exception": false,
     "start_time": "2023-01-05T21:13:12.678346",
     "status": "completed"
    },
    "tags": []
   },
   "outputs": [
    {
     "data": {
      "text/plain": [
       "f_60     0.050765\n",
       "f_461    0.048468\n",
       "f_127    0.048226\n",
       "f_109    0.048212\n",
       "f_308    0.046195\n",
       "           ...   \n",
       "f_300    0.009066\n",
       "f_243    0.008767\n",
       "f_382    0.006016\n",
       "f_750    0.005222\n",
       "f_551    0.004388\n",
       "Name: MI Scores, Length: 768, dtype: float64"
      ]
     },
     "execution_count": 5,
     "metadata": {},
     "output_type": "execute_result"
    }
   ],
   "source": [
    "from sklearn.feature_selection import mutual_info_classif\n",
    "def make_mi_scores(X, y):\n",
    "    mi_scores = mutual_info_classif(X, y)\n",
    "    mi_scores = pd.Series(mi_scores, name=\"MI Scores\", index=X.columns)\n",
    "    mi_scores = mi_scores.sort_values(ascending=False)\n",
    "    return mi_scores\n",
    "\n",
    "mi_scores = make_mi_scores(X, y)\n",
    "mi_scores[::] "
   ]
  },
  {
   "cell_type": "markdown",
   "id": "3bb00d15",
   "metadata": {
    "papermill": {
     "duration": 0.008688,
     "end_time": "2023-01-05T21:15:37.434363",
     "exception": false,
     "start_time": "2023-01-05T21:15:37.425675",
     "status": "completed"
    },
    "tags": []
   },
   "source": [
    "trying plotting all the features to find some sort of elbow in the graph"
   ]
  },
  {
   "cell_type": "code",
   "execution_count": 6,
   "id": "edc59148",
   "metadata": {
    "execution": {
     "iopub.execute_input": "2023-01-05T21:15:37.454068Z",
     "iopub.status.busy": "2023-01-05T21:15:37.453650Z",
     "iopub.status.idle": "2023-01-05T21:15:37.463438Z",
     "shell.execute_reply": "2023-01-05T21:15:37.462343Z"
    },
    "papermill": {
     "duration": 0.022328,
     "end_time": "2023-01-05T21:15:37.465634",
     "exception": false,
     "start_time": "2023-01-05T21:15:37.443306",
     "status": "completed"
    },
    "tags": []
   },
   "outputs": [
    {
     "data": {
      "text/plain": [
       "f_60     0.050765\n",
       "f_461    0.048468\n",
       "f_127    0.048226\n",
       "f_109    0.048212\n",
       "f_308    0.046195\n",
       "           ...   \n",
       "f_300    0.009066\n",
       "f_243    0.008767\n",
       "f_382    0.006016\n",
       "f_750    0.005222\n",
       "f_551    0.004388\n",
       "Name: MI Scores, Length: 768, dtype: float64"
      ]
     },
     "execution_count": 6,
     "metadata": {},
     "output_type": "execute_result"
    }
   ],
   "source": [
    "value=mi_scores.iloc[:]\n",
    "value"
   ]
  },
  {
   "cell_type": "code",
   "execution_count": 7,
   "id": "fc06b1e1",
   "metadata": {
    "execution": {
     "iopub.execute_input": "2023-01-05T21:15:37.485414Z",
     "iopub.status.busy": "2023-01-05T21:15:37.485037Z",
     "iopub.status.idle": "2023-01-05T21:15:45.655106Z",
     "shell.execute_reply": "2023-01-05T21:15:45.653664Z"
    },
    "papermill": {
     "duration": 8.183238,
     "end_time": "2023-01-05T21:15:45.658005",
     "exception": false,
     "start_time": "2023-01-05T21:15:37.474767",
     "status": "completed"
    },
    "tags": []
   },
   "outputs": [
    {
     "data": {
      "text/plain": [
       "[<matplotlib.lines.Line2D at 0x7f569ecb4fd0>]"
      ]
     },
     "execution_count": 7,
     "metadata": {},
     "output_type": "execute_result"
    },
    {
     "data": {
      "image/png": "[encoded data removed]",
      "text/plain": [
       "<Figure size 432x288 with 1 Axes>"
      ]
     },
     "metadata": {
      "needs_background": "light"
     },
     "output_type": "display_data"
    }
   ],
   "source": [
    "import matplotlib.pyplot as plt\n",
    "plt.plot(mi_scores.index,mi_scores)"
   ]
  },
  {
   "cell_type": "markdown",
   "id": "e9b3ed3d",
   "metadata": {
    "papermill": {
     "duration": 0.009166,
     "end_time": "2023-01-05T21:15:45.677038",
     "exception": false,
     "start_time": "2023-01-05T21:15:45.667872",
     "status": "completed"
    },
    "tags": []
   },
   "source": [
    "From the graph, it appears to be that the mutual information values start elbowing somewhere around 0.013. Lets select features above that only and see what happens"
   ]
  },
  {
   "cell_type": "code",
   "execution_count": 8,
   "id": "b316441e",
   "metadata": {
    "execution": {
     "iopub.execute_input": "2023-01-05T21:15:45.698596Z",
     "iopub.status.busy": "2023-01-05T21:15:45.697914Z",
     "iopub.status.idle": "2023-01-05T21:15:45.703664Z",
     "shell.execute_reply": "2023-01-05T21:15:45.702746Z"
    },
    "papermill": {
     "duration": 0.019373,
     "end_time": "2023-01-05T21:15:45.705892",
     "exception": false,
     "start_time": "2023-01-05T21:15:45.686519",
     "status": "completed"
    },
    "tags": []
   },
   "outputs": [],
   "source": [
    "threshold=0.013\n",
    "feature=mi_scores\n",
    "# Find the indexes of the rows where the feature is greater than the threshold\n",
    "indexes = feature[feature > threshold].index\n",
    "\n"
   ]
  },
  {
   "cell_type": "markdown",
   "id": "a5783f43",
   "metadata": {
    "papermill": {
     "duration": 0.008999,
     "end_time": "2023-01-05T21:15:45.724375",
     "exception": false,
     "start_time": "2023-01-05T21:15:45.715376",
     "status": "completed"
    },
    "tags": []
   },
   "source": [
    "lets view indexes"
   ]
  },
  {
   "cell_type": "code",
   "execution_count": 9,
   "id": "f242441a",
   "metadata": {
    "execution": {
     "iopub.execute_input": "2023-01-05T21:15:45.745522Z",
     "iopub.status.busy": "2023-01-05T21:15:45.744829Z",
     "iopub.status.idle": "2023-01-05T21:15:45.751333Z",
     "shell.execute_reply": "2023-01-05T21:15:45.749812Z"
    },
    "papermill": {
     "duration": 0.020652,
     "end_time": "2023-01-05T21:15:45.754255",
     "exception": false,
     "start_time": "2023-01-05T21:15:45.733603",
     "status": "completed"
    },
    "tags": []
   },
   "outputs": [
    {
     "name": "stdout",
     "output_type": "stream",
     "text": [
      "Index(['f_60', 'f_461', 'f_127', 'f_109', 'f_308', 'f_523', 'f_688', 'f_520',\n",
      "       'f_533', 'f_672',\n",
      "       ...\n",
      "       'f_137', 'f_303', 'f_333', 'f_284', 'f_668', 'f_666', 'f_271', 'f_264',\n",
      "       'f_277', 'f_638'],\n",
      "      dtype='object', length=746)\n"
     ]
    }
   ],
   "source": [
    "print(indexes)"
   ]
  },
  {
   "cell_type": "code",
   "execution_count": 10,
   "id": "34feaf7a",
   "metadata": {
    "execution": {
     "iopub.execute_input": "2023-01-05T21:15:45.775757Z",
     "iopub.status.busy": "2023-01-05T21:15:45.775343Z",
     "iopub.status.idle": "2023-01-05T21:15:45.853671Z",
     "shell.execute_reply": "2023-01-05T21:15:45.852384Z"
    },
    "papermill": {
     "duration": 0.091552,
     "end_time": "2023-01-05T21:15:45.856082",
     "exception": false,
     "start_time": "2023-01-05T21:15:45.764530",
     "status": "completed"
    },
    "tags": []
   },
   "outputs": [
    {
     "data": {
      "text/plain": [
       "0"
      ]
     },
     "execution_count": 10,
     "metadata": {},
     "output_type": "execute_result"
    }
   ],
   "source": [
    "X.isnull().sum().sum()"
   ]
  },
  {
   "cell_type": "markdown",
   "id": "38d1c1ef",
   "metadata": {
    "papermill": {
     "duration": 0.009675,
     "end_time": "2023-01-05T21:15:45.875465",
     "exception": false,
     "start_time": "2023-01-05T21:15:45.865790",
     "status": "completed"
    },
    "tags": []
   },
   "source": [
    "lets make an Array for all the data of the selected features for both the train and test dataset"
   ]
  },
  {
   "cell_type": "code",
   "execution_count": 11,
   "id": "3a04bf45",
   "metadata": {
    "execution": {
     "iopub.execute_input": "2023-01-05T21:15:45.896539Z",
     "iopub.status.busy": "2023-01-05T21:15:45.896153Z",
     "iopub.status.idle": "2023-01-05T21:15:46.011999Z",
     "shell.execute_reply": "2023-01-05T21:15:46.010586Z"
    },
    "papermill": {
     "duration": 0.129403,
     "end_time": "2023-01-05T21:15:46.014680",
     "exception": false,
     "start_time": "2023-01-05T21:15:45.885277",
     "status": "completed"
    },
    "tags": []
   },
   "outputs": [
    {
     "data": {
      "text/html": [
       "<div>\n",
       "<style scoped>\n",
       "    .dataframe tbody tr th:only-of-type {\n",
       "        vertical-align: middle;\n",
       "    }\n",
       "\n",
       "    .dataframe tbody tr th {\n",
       "        vertical-align: top;\n",
       "    }\n",
       "\n",
       "    .dataframe thead th {\n",
       "        text-align: right;\n",
       "    }\n",
       "</style>\n",
       "<table border=\"1\" class=\"dataframe\">\n",
       "  <thead>\n",
       "    <tr style=\"text-align: right;\">\n",
       "      <th></th>\n",
       "      <th>f_60</th>\n",
       "      <th>f_461</th>\n",
       "      <th>f_127</th>\n",
       "      <th>f_109</th>\n",
       "      <th>f_308</th>\n",
       "      <th>f_523</th>\n",
       "      <th>f_688</th>\n",
       "      <th>f_520</th>\n",
       "      <th>f_533</th>\n",
       "      <th>f_672</th>\n",
       "      <th>...</th>\n",
       "      <th>f_137</th>\n",
       "      <th>f_303</th>\n",
       "      <th>f_333</th>\n",
       "      <th>f_284</th>\n",
       "      <th>f_668</th>\n",
       "      <th>f_666</th>\n",
       "      <th>f_271</th>\n",
       "      <th>f_264</th>\n",
       "      <th>f_277</th>\n",
       "      <th>f_638</th>\n",
       "    </tr>\n",
       "  </thead>\n",
       "  <tbody>\n",
       "    <tr>\n",
       "      <th>0</th>\n",
       "      <td>350.971008</td>\n",
       "      <td>-433.502991</td>\n",
       "      <td>605.304993</td>\n",
       "      <td>486.678986</td>\n",
       "      <td>-26187.189453</td>\n",
       "      <td>-667.390015</td>\n",
       "      <td>-272.614990</td>\n",
       "      <td>514.187988</td>\n",
       "      <td>1598.451050</td>\n",
       "      <td>-863.268005</td>\n",
       "      <td>...</td>\n",
       "      <td>-177.561996</td>\n",
       "      <td>-351.092010</td>\n",
       "      <td>1692.566040</td>\n",
       "      <td>271.804993</td>\n",
       "      <td>82.876999</td>\n",
       "      <td>-601.476990</td>\n",
       "      <td>281.057007</td>\n",
       "      <td>-742.689026</td>\n",
       "      <td>1747.819946</td>\n",
       "      <td>188.889999</td>\n",
       "    </tr>\n",
       "    <tr>\n",
       "      <th>1</th>\n",
       "      <td>1913.490967</td>\n",
       "      <td>-482.644989</td>\n",
       "      <td>-1437.417969</td>\n",
       "      <td>27.625999</td>\n",
       "      <td>-52105.609375</td>\n",
       "      <td>-818.591980</td>\n",
       "      <td>-629.237976</td>\n",
       "      <td>617.257996</td>\n",
       "      <td>4787.193848</td>\n",
       "      <td>-2587.675049</td>\n",
       "      <td>...</td>\n",
       "      <td>-40.422001</td>\n",
       "      <td>1028.827026</td>\n",
       "      <td>1945.701050</td>\n",
       "      <td>62.511002</td>\n",
       "      <td>881.296997</td>\n",
       "      <td>-1593.639038</td>\n",
       "      <td>747.461975</td>\n",
       "      <td>217.205002</td>\n",
       "      <td>737.338013</td>\n",
       "      <td>-1038.723999</td>\n",
       "    </tr>\n",
       "    <tr>\n",
       "      <th>2</th>\n",
       "      <td>998.453979</td>\n",
       "      <td>619.905029</td>\n",
       "      <td>-18.423000</td>\n",
       "      <td>92.448997</td>\n",
       "      <td>-18594.810547</td>\n",
       "      <td>-145.104004</td>\n",
       "      <td>-612.976990</td>\n",
       "      <td>-896.288025</td>\n",
       "      <td>276.600006</td>\n",
       "      <td>-566.439026</td>\n",
       "      <td>...</td>\n",
       "      <td>-375.071991</td>\n",
       "      <td>-609.533997</td>\n",
       "      <td>-95.696999</td>\n",
       "      <td>407.746002</td>\n",
       "      <td>-220.184998</td>\n",
       "      <td>627.466003</td>\n",
       "      <td>-471.270996</td>\n",
       "      <td>-702.120972</td>\n",
       "      <td>791.568970</td>\n",
       "      <td>-66.257004</td>\n",
       "    </tr>\n",
       "    <tr>\n",
       "      <th>3</th>\n",
       "      <td>359.234009</td>\n",
       "      <td>181.014008</td>\n",
       "      <td>-326.671997</td>\n",
       "      <td>300.427002</td>\n",
       "      <td>-15903.102539</td>\n",
       "      <td>11.936000</td>\n",
       "      <td>-416.011993</td>\n",
       "      <td>-484.533997</td>\n",
       "      <td>1172.359985</td>\n",
       "      <td>-108.601997</td>\n",
       "      <td>...</td>\n",
       "      <td>113.899002</td>\n",
       "      <td>394.440002</td>\n",
       "      <td>132.787003</td>\n",
       "      <td>72.682999</td>\n",
       "      <td>-140.643997</td>\n",
       "      <td>489.640991</td>\n",
       "      <td>-293.548004</td>\n",
       "      <td>7.283000</td>\n",
       "      <td>1003.343994</td>\n",
       "      <td>146.837006</td>\n",
       "    </tr>\n",
       "    <tr>\n",
       "      <th>4</th>\n",
       "      <td>7666.731934</td>\n",
       "      <td>4283.335938</td>\n",
       "      <td>-1619.212036</td>\n",
       "      <td>-3380.354004</td>\n",
       "      <td>-84551.437500</td>\n",
       "      <td>-1006.372009</td>\n",
       "      <td>-2668.556885</td>\n",
       "      <td>-4049.656982</td>\n",
       "      <td>2781.697998</td>\n",
       "      <td>2942.708008</td>\n",
       "      <td>...</td>\n",
       "      <td>3910.233887</td>\n",
       "      <td>-565.395996</td>\n",
       "      <td>-411.468994</td>\n",
       "      <td>3020.743896</td>\n",
       "      <td>573.719971</td>\n",
       "      <td>1030.496948</td>\n",
       "      <td>-536.570984</td>\n",
       "      <td>1431.508057</td>\n",
       "      <td>1923.182007</td>\n",
       "      <td>-1893.098999</td>\n",
       "    </tr>\n",
       "  </tbody>\n",
       "</table>\n",
       "<p>5 rows × 746 columns</p>\n",
       "</div>"
      ],
      "text/plain": [
       "          f_60        f_461        f_127        f_109         f_308  \\\n",
       "0   350.971008  -433.502991   605.304993   486.678986 -26187.189453   \n",
       "1  1913.490967  -482.644989 -1437.417969    27.625999 -52105.609375   \n",
       "2   998.453979   619.905029   -18.423000    92.448997 -18594.810547   \n",
       "3   359.234009   181.014008  -326.671997   300.427002 -15903.102539   \n",
       "4  7666.731934  4283.335938 -1619.212036 -3380.354004 -84551.437500   \n",
       "\n",
       "         f_523        f_688        f_520        f_533        f_672  ...  \\\n",
       "0  -667.390015  -272.614990   514.187988  1598.451050  -863.268005  ...   \n",
       "1  -818.591980  -629.237976   617.257996  4787.193848 -2587.675049  ...   \n",
       "2  -145.104004  -612.976990  -896.288025   276.600006  -566.439026  ...   \n",
       "3    11.936000  -416.011993  -484.533997  1172.359985  -108.601997  ...   \n",
       "4 -1006.372009 -2668.556885 -4049.656982  2781.697998  2942.708008  ...   \n",
       "\n",
       "         f_137        f_303        f_333        f_284       f_668  \\\n",
       "0  -177.561996  -351.092010  1692.566040   271.804993   82.876999   \n",
       "1   -40.422001  1028.827026  1945.701050    62.511002  881.296997   \n",
       "2  -375.071991  -609.533997   -95.696999   407.746002 -220.184998   \n",
       "3   113.899002   394.440002   132.787003    72.682999 -140.643997   \n",
       "4  3910.233887  -565.395996  -411.468994  3020.743896  573.719971   \n",
       "\n",
       "         f_666       f_271        f_264        f_277        f_638  \n",
       "0  -601.476990  281.057007  -742.689026  1747.819946   188.889999  \n",
       "1 -1593.639038  747.461975   217.205002   737.338013 -1038.723999  \n",
       "2   627.466003 -471.270996  -702.120972   791.568970   -66.257004  \n",
       "3   489.640991 -293.548004     7.283000  1003.343994   146.837006  \n",
       "4  1030.496948 -536.570984  1431.508057  1923.182007 -1893.098999  \n",
       "\n",
       "[5 rows x 746 columns]"
      ]
     },
     "execution_count": 11,
     "metadata": {},
     "output_type": "execute_result"
    }
   ],
   "source": [
    "X_selected=X[indexes]\n",
    "X_selected.head()\n",
    "X_test_selected=test_data[indexes]\n",
    "X_test_selected.head()"
   ]
  },
  {
   "cell_type": "markdown",
   "id": "3f4a772a",
   "metadata": {
    "papermill": {
     "duration": 0.009756,
     "end_time": "2023-01-05T21:15:46.034819",
     "exception": false,
     "start_time": "2023-01-05T21:15:46.025063",
     "status": "completed"
    },
    "tags": []
   },
   "source": [
    "importing some important features for modelling"
   ]
  },
  {
   "cell_type": "code",
   "execution_count": 12,
   "id": "a365e5f6",
   "metadata": {
    "execution": {
     "iopub.execute_input": "2023-01-05T21:15:46.056768Z",
     "iopub.status.busy": "2023-01-05T21:15:46.056336Z",
     "iopub.status.idle": "2023-01-05T21:15:46.149410Z",
     "shell.execute_reply": "2023-01-05T21:15:46.148148Z"
    },
    "papermill": {
     "duration": 0.107486,
     "end_time": "2023-01-05T21:15:46.152418",
     "exception": false,
     "start_time": "2023-01-05T21:15:46.044932",
     "status": "completed"
    },
    "tags": []
   },
   "outputs": [],
   "source": [
    "from sklearn.model_selection import train_test_split\n",
    "from sklearn.ensemble import RandomForestClassifier\n",
    "from sklearn.svm import SVC\n",
    "SVM_classifier = SVC(kernel = 'linear', random_state = 0)"
   ]
  },
  {
   "cell_type": "markdown",
   "id": "ed7600a4",
   "metadata": {
    "papermill": {
     "duration": 0.009652,
     "end_time": "2023-01-05T21:15:46.172486",
     "exception": false,
     "start_time": "2023-01-05T21:15:46.162834",
     "status": "completed"
    },
    "tags": []
   },
   "source": [
    "fitting the model directly to the entire train data"
   ]
  },
  {
   "cell_type": "code",
   "execution_count": null,
   "id": "5a73e618",
   "metadata": {
    "execution": {
     "iopub.execute_input": "2023-01-04T09:17:34.765083Z",
     "iopub.status.busy": "2023-01-04T09:17:34.763804Z",
     "iopub.status.idle": "2023-01-04T09:17:34.999223Z",
     "shell.execute_reply": "2023-01-04T09:17:34.99835Z",
     "shell.execute_reply.started": "2023-01-04T09:17:34.765022Z"
    },
    "papermill": {
     "duration": 0.009798,
     "end_time": "2023-01-05T21:15:46.192437",
     "exception": false,
     "start_time": "2023-01-05T21:15:46.182639",
     "status": "completed"
    },
    "tags": []
   },
   "outputs": [],
   "source": []
  },
  {
   "cell_type": "markdown",
   "id": "48335f4f",
   "metadata": {
    "papermill": {
     "duration": 0.010206,
     "end_time": "2023-01-05T21:15:46.212891",
     "exception": false,
     "start_time": "2023-01-05T21:15:46.202685",
     "status": "completed"
    },
    "tags": []
   },
   "source": [
    "Scaling"
   ]
  },
  {
   "cell_type": "code",
   "execution_count": 13,
   "id": "f2fc4d21",
   "metadata": {
    "execution": {
     "iopub.execute_input": "2023-01-05T21:15:46.235442Z",
     "iopub.status.busy": "2023-01-05T21:15:46.234988Z",
     "iopub.status.idle": "2023-01-05T21:15:46.867217Z",
     "shell.execute_reply": "2023-01-05T21:15:46.866257Z"
    },
    "papermill": {
     "duration": 0.646782,
     "end_time": "2023-01-05T21:15:46.869813",
     "exception": false,
     "start_time": "2023-01-05T21:15:46.223031",
     "status": "completed"
    },
    "tags": []
   },
   "outputs": [],
   "source": [
    "from sklearn.preprocessing import StandardScaler\n",
    "sc = StandardScaler()\n",
    "X_train = sc.fit_transform(X_selected)\n",
    "X_test = sc.transform(X_test_selected)"
   ]
  },
  {
   "cell_type": "markdown",
   "id": "bac2ea46",
   "metadata": {
    "papermill": {
     "duration": 0.009707,
     "end_time": "2023-01-05T21:15:46.889814",
     "exception": false,
     "start_time": "2023-01-05T21:15:46.880107",
     "status": "completed"
    },
    "tags": []
   },
   "source": [
    "creating a RandomForest Model"
   ]
  },
  {
   "cell_type": "code",
   "execution_count": 14,
   "id": "fd16caa3",
   "metadata": {
    "execution": {
     "iopub.execute_input": "2023-01-05T21:15:46.912022Z",
     "iopub.status.busy": "2023-01-05T21:15:46.911538Z",
     "iopub.status.idle": "2023-01-05T21:15:47.017495Z",
     "shell.execute_reply": "2023-01-05T21:15:47.016281Z"
    },
    "papermill": {
     "duration": 0.120791,
     "end_time": "2023-01-05T21:15:47.020599",
     "exception": false,
     "start_time": "2023-01-05T21:15:46.899808",
     "status": "completed"
    },
    "tags": []
   },
   "outputs": [],
   "source": [
    "from xgboost import XGBClassifier\n",
    "#model=RandomForestClassifier(n_estimators=250,max_depth=5,random_state=1)\n",
    "model=XGBClassifier(n_estimators=600)\n"
   ]
  },
  {
   "cell_type": "markdown",
   "id": "ad583ae5",
   "metadata": {
    "papermill": {
     "duration": 0.01014,
     "end_time": "2023-01-05T21:15:47.041469",
     "exception": false,
     "start_time": "2023-01-05T21:15:47.031329",
     "status": "completed"
    },
    "tags": []
   },
   "source": [
    "defining and fitting a model"
   ]
  },
  {
   "cell_type": "code",
   "execution_count": 15,
   "id": "0d7b1968",
   "metadata": {
    "execution": {
     "iopub.execute_input": "2023-01-05T21:15:47.065010Z",
     "iopub.status.busy": "2023-01-05T21:15:47.063814Z",
     "iopub.status.idle": "2023-01-05T23:29:48.165199Z",
     "shell.execute_reply": "2023-01-05T23:29:48.163826Z"
    },
    "papermill": {
     "duration": 8041.126181,
     "end_time": "2023-01-05T23:29:48.178182",
     "exception": false,
     "start_time": "2023-01-05T21:15:47.052001",
     "status": "completed"
    },
    "tags": []
   },
   "outputs": [
    {
     "data": {
      "text/plain": [
       "XGBClassifier(base_score=0.5, booster='gbtree', callbacks=None,\n",
       "              colsample_bylevel=1, colsample_bynode=1, colsample_bytree=1,\n",
       "              early_stopping_rounds=None, enable_categorical=False,\n",
       "              eval_metric=None, gamma=0, gpu_id=-1, grow_policy='depthwise',\n",
       "              importance_type=None, interaction_constraints='',\n",
       "              learning_rate=0.300000012, max_bin=256, max_cat_to_onehot=4,\n",
       "              max_delta_step=0, max_depth=6, max_leaves=0, min_child_weight=1,\n",
       "              missing=nan, monotone_constraints='()', n_estimators=600,\n",
       "              n_jobs=0, num_parallel_tree=1, objective='multi:softprob',\n",
       "              predictor='auto', random_state=0, reg_alpha=0, ...)"
      ]
     },
     "execution_count": 15,
     "metadata": {},
     "output_type": "execute_result"
    }
   ],
   "source": [
    "#model=RandomForestClassifier(n_estimators=250,max_depth=5,random_state=1)\n",
    "#SVM_classifier.fit(X_train,y_train)\n",
    "model.fit(X_train,y)"
   ]
  },
  {
   "cell_type": "markdown",
   "id": "03935ed4",
   "metadata": {
    "papermill": {
     "duration": 0.009945,
     "end_time": "2023-01-05T23:29:48.198250",
     "exception": false,
     "start_time": "2023-01-05T23:29:48.188305",
     "status": "completed"
    },
    "tags": []
   },
   "source": [
    "obtaining predictions from said model"
   ]
  },
  {
   "cell_type": "code",
   "execution_count": 16,
   "id": "bcb2311f",
   "metadata": {
    "execution": {
     "iopub.execute_input": "2023-01-05T23:29:48.221008Z",
     "iopub.status.busy": "2023-01-05T23:29:48.220557Z",
     "iopub.status.idle": "2023-01-05T23:29:48.731967Z",
     "shell.execute_reply": "2023-01-05T23:29:48.730846Z"
    },
    "papermill": {
     "duration": 0.526805,
     "end_time": "2023-01-05T23:29:48.735210",
     "exception": false,
     "start_time": "2023-01-05T23:29:48.208405",
     "status": "completed"
    },
    "tags": []
   },
   "outputs": [],
   "source": [
    "predictions=model.predict(X_test)"
   ]
  },
  {
   "cell_type": "markdown",
   "id": "0124dbff",
   "metadata": {
    "papermill": {
     "duration": 0.011171,
     "end_time": "2023-01-05T23:29:48.758782",
     "exception": false,
     "start_time": "2023-01-05T23:29:48.747611",
     "status": "completed"
    },
    "tags": []
   },
   "source": [
    "checking where Id is located"
   ]
  },
  {
   "cell_type": "code",
   "execution_count": 17,
   "id": "86ccc33c",
   "metadata": {
    "execution": {
     "iopub.execute_input": "2023-01-05T23:29:48.914870Z",
     "iopub.status.busy": "2023-01-05T23:29:48.913331Z",
     "iopub.status.idle": "2023-01-05T23:29:48.921777Z",
     "shell.execute_reply": "2023-01-05T23:29:48.920628Z"
    },
    "papermill": {
     "duration": 0.023057,
     "end_time": "2023-01-05T23:29:48.923989",
     "exception": false,
     "start_time": "2023-01-05T23:29:48.900932",
     "status": "completed"
    },
    "tags": []
   },
   "outputs": [
    {
     "data": {
      "text/plain": [
       "RangeIndex(start=0, stop=8500, step=1)"
      ]
     },
     "execution_count": 17,
     "metadata": {},
     "output_type": "execute_result"
    }
   ],
   "source": [
    "test_data.index"
   ]
  },
  {
   "cell_type": "markdown",
   "id": "906731dd",
   "metadata": {
    "papermill": {
     "duration": 0.010806,
     "end_time": "2023-01-05T23:29:48.945395",
     "exception": false,
     "start_time": "2023-01-05T23:29:48.934589",
     "status": "completed"
    },
    "tags": []
   },
   "source": [
    "Submitting a submission using predictions we obtained through model"
   ]
  },
  {
   "cell_type": "code",
   "execution_count": 18,
   "id": "3681ebe0",
   "metadata": {
    "execution": {
     "iopub.execute_input": "2023-01-05T23:29:48.969128Z",
     "iopub.status.busy": "2023-01-05T23:29:48.968412Z",
     "iopub.status.idle": "2023-01-05T23:29:48.991878Z",
     "shell.execute_reply": "2023-01-05T23:29:48.990656Z"
    },
    "papermill": {
     "duration": 0.038362,
     "end_time": "2023-01-05T23:29:48.994474",
     "exception": false,
     "start_time": "2023-01-05T23:29:48.956112",
     "status": "completed"
    },
    "tags": []
   },
   "outputs": [
    {
     "name": "stdout",
     "output_type": "stream",
     "text": [
      "Submission saved!\n"
     ]
    }
   ],
   "source": [
    "output=pd.DataFrame({'Id':test_data.index,'Predicted':predictions})\n",
    "output.to_csv('submission.csv',index=False)\n",
    "print(\"Submission saved!\")"
   ]
  },
  {
   "cell_type": "code",
   "execution_count": 19,
   "id": "2a5419e3",
   "metadata": {
    "execution": {
     "iopub.execute_input": "2023-01-05T23:29:49.018909Z",
     "iopub.status.busy": "2023-01-05T23:29:49.017853Z",
     "iopub.status.idle": "2023-01-05T23:29:49.028603Z",
     "shell.execute_reply": "2023-01-05T23:29:49.027799Z"
    },
    "papermill": {
     "duration": 0.025683,
     "end_time": "2023-01-05T23:29:49.031262",
     "exception": false,
     "start_time": "2023-01-05T23:29:49.005579",
     "status": "completed"
    },
    "tags": []
   },
   "outputs": [
    {
     "data": {
      "text/html": [
       "<div>\n",
       "<style scoped>\n",
       "    .dataframe tbody tr th:only-of-type {\n",
       "        vertical-align: middle;\n",
       "    }\n",
       "\n",
       "    .dataframe tbody tr th {\n",
       "        vertical-align: top;\n",
       "    }\n",
       "\n",
       "    .dataframe thead th {\n",
       "        text-align: right;\n",
       "    }\n",
       "</style>\n",
       "<table border=\"1\" class=\"dataframe\">\n",
       "  <thead>\n",
       "    <tr style=\"text-align: right;\">\n",
       "      <th></th>\n",
       "      <th>Id</th>\n",
       "      <th>Predicted</th>\n",
       "    </tr>\n",
       "  </thead>\n",
       "  <tbody>\n",
       "    <tr>\n",
       "      <th>0</th>\n",
       "      <td>0</td>\n",
       "      <td>2</td>\n",
       "    </tr>\n",
       "    <tr>\n",
       "      <th>1</th>\n",
       "      <td>1</td>\n",
       "      <td>3</td>\n",
       "    </tr>\n",
       "    <tr>\n",
       "      <th>2</th>\n",
       "      <td>2</td>\n",
       "      <td>0</td>\n",
       "    </tr>\n",
       "    <tr>\n",
       "      <th>3</th>\n",
       "      <td>3</td>\n",
       "      <td>4</td>\n",
       "    </tr>\n",
       "    <tr>\n",
       "      <th>4</th>\n",
       "      <td>4</td>\n",
       "      <td>2</td>\n",
       "    </tr>\n",
       "  </tbody>\n",
       "</table>\n",
       "</div>"
      ],
      "text/plain": [
       "   Id  Predicted\n",
       "0   0          2\n",
       "1   1          3\n",
       "2   2          0\n",
       "3   3          4\n",
       "4   4          2"
      ]
     },
     "execution_count": 19,
     "metadata": {},
     "output_type": "execute_result"
    }
   ],
   "source": [
    "output.head()"
   ]
  },
  {
   "cell_type": "code",
   "execution_count": null,
   "id": "0345056a",
   "metadata": {
    "papermill": {
     "duration": 0.010666,
     "end_time": "2023-01-05T23:29:49.053062",
     "exception": false,
     "start_time": "2023-01-05T23:29:49.042396",
     "status": "completed"
    },
    "tags": []
   },
   "outputs": [],
   "source": []
  },
  {
   "cell_type": "code",
   "execution_count": null,
   "id": "52f50129",
   "metadata": {
    "papermill": {
     "duration": 0.010449,
     "end_time": "2023-01-05T23:29:49.074402",
     "exception": false,
     "start_time": "2023-01-05T23:29:49.063953",
     "status": "completed"
    },
    "tags": []
   },
   "outputs": [],
   "source": []
  }
 ],
 "metadata": {
  "kernelspec": {
   "display_name": "Python 3",
   "language": "python",
   "name": "python3"
  },
  "language_info": {
   "codemirror_mode": {
    "name": "ipython",
    "version": 3
   },
   "file_extension": ".py",
   "mimetype": "text/x-python",
   "name": "python",
   "nbconvert_exporter": "python",
   "pygments_lexer": "ipython3",
   "version": "3.7.12"
  },
  "papermill": {
   "default_parameters": {},
   "duration": 8225.393718,
   "end_time": "2023-01-05T23:29:50.628815",
   "environment_variables": {},
   "exception": null,
   "input_path": "__notebook__.ipynb",
   "output_path": "__notebook__.ipynb",
   "parameters": {},
   "start_time": "2023-01-05T21:12:45.235097",
   "version": "2.3.4"
  }
 },
 "nbformat": 4,
 "nbformat_minor": 5
}
